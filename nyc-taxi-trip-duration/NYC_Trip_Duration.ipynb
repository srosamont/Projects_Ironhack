{
 "cells": [
  {
   "cell_type": "raw",
   "metadata": {},
   "source": [
    "\n",
    "pickup_datetime - date and time when the meter was engaged\n",
    "dropoff_datetime - date and time when the meter was disengaged\n",
    "\n",
    "\n",
    "*fonction pour récuper le quantieme sur chaque fichier . ==>clé commune aux 2 fichiers apres on merge les 2 fichiers\n",
    "*fonction pour retraiter les dates du fichier taxi:\n",
    "*date (splitter en saison, month, jour   , weekend/not weekend. Attention multicolinearrity.\n",
    "* time (bucket matin / aprem/soir/et nuit  à voir plus tard); Split en 24h (prendre l' heure en cours)\n",
    "\n",
    "\n",
    "Rajouter une colonne durée de la course\n",
    "Verifier si la duree entre pickup et le dropoff est pas deconnante\n",
    "1 colonne duree >1 h ou inferieur à 1h???\n",
    "\n",
    "\n",
    "température : farenheint à convertir en degre celsius. Garder la moyenne et verifier si c est cohérent.\n",
    "Pour convertir en degrés Celsius une température donnée en degrés Fahrenheit, il suffit de soustraire 32 et de diviser par 1,8 (9/5 = 1,8) le nombre ainsi obtenu. Pour 50 °F , on obtient : 50 − 32 = 18, puis 18/1,8 = 10 ; donc 50 °F = 10 °C .\n",
    "\n",
    "convertir inch en cm (1inch =2,54cm)\n",
    "\n",
    "*lieu:\n",
    "\n",
    "Model à tester:\n",
    "which features\n",
    "\n",
    "Taxi ride duration.\n",
    "\n",
    "poisson distribution: how many ride will occur within an amount of time\n",
    "Exponentiel distribution : how long the duration will be."
   ]
  },
  {
   "cell_type": "raw",
   "metadata": {},
   "source": [
    "Taxi dataset\n",
    "Codebook / Data fields\n",
    "id - a unique identifier for each trip\n",
    "// vendor_id - a code indicating the provider associated with the trip record\n",
    "pickup_datetime - date and time when the meter was engaged\n",
    "dropoff_datetime - date and time when the meter was disengaged\n",
    "passenger_count - the number of passengers in the vehicle (driver entered value)\n",
    "pickup_longitude - the longitude where the meter was engaged\n",
    "pickup_latitude - the latitude where the meter was engaged\n",
    "dropoff_longitude - the longitude where the meter was disengaged\n",
    "dropoff_latitude - the latitude where the meter was disengaged\n",
    "// store_and_fwd_flag - This flag indicates whether the trip record was held in vehicle memory before sending to the vendor because the vehicle did not have a connection to the server - Y=store and forward; N=not a store and forward trip\n",
    "trip_duration - duration of the trip in seconds\n",
    "\n",
    "Weather dataset\n",
    "Weather data collected from the National Weather Service. It contains the first six months of 2016, for a weather station in central park. It contains for each day the minimum temperature, maximum temperature, average temperature, precipitation, new snow fall, and current snow depth. The temperature is measured in Fahrenheit and the depth is measured in inches. T means that there is a trace of precipitation.\n",
    "\n",
    "The data was retrieved on 20th of July, 2017 on the website http://w2.weather.gov/climate/xmacis.php?wfo=okx.\n",
    "\n",
    " Temperatures are reported in degrees F; \n",
    " Precipitation, snowfall and snow depth are reported in inches.\n",
    " \n",
    " Intensity\n",
    "\n"
   ]
  },
  {
   "cell_type": "markdown",
   "metadata": {},
   "source": [
    "#### Target : Cluster data first, then predict duration depending in the cluster."
   ]
  },
  {
   "cell_type": "code",
   "execution_count": 1,
   "metadata": {},
   "outputs": [],
   "source": [
    "#Libraries\n",
    "\n",
    "import pandas as pd\n",
    "import numpy as np\n",
    "import seaborn as sns\n",
    "import matplotlib.pyplot as plt\n",
    "%matplotlib inline\n",
    "import datetime\n"
   ]
  },
  {
   "cell_type": "code",
   "execution_count": 2,
   "metadata": {},
   "outputs": [],
   "source": [
    "from sklearn.decomposition import PCA\n",
    "from sklearn.cluster import KMeans\n"
   ]
  },
  {
   "cell_type": "code",
   "execution_count": null,
   "metadata": {},
   "outputs": [],
   "source": [
    "from sklearn.manifold import TSNE\n",
    "# for visualizaion of data with high number of dimension"
   ]
  },
  {
   "cell_type": "code",
   "execution_count": 3,
   "metadata": {},
   "outputs": [],
   "source": [
    "from sklearn.preprocessing import MinMaxScaler"
   ]
  },
  {
   "cell_type": "code",
   "execution_count": 4,
   "metadata": {},
   "outputs": [
    {
     "name": "stderr",
     "output_type": "stream",
     "text": [
      "/opt/anaconda3/lib/python3.7/site-packages/sklearn/utils/deprecation.py:143: FutureWarning: The sklearn.metrics.classification module is  deprecated in version 0.22 and will be removed in version 0.24. The corresponding classes / functions should instead be imported from sklearn.metrics. Anything that cannot be imported from sklearn.metrics is now part of the private API.\n",
      "  warnings.warn(message, FutureWarning)\n"
     ]
    }
   ],
   "source": [
    "from yellowbrick.cluster import KElbowVisualizer"
   ]
  },
  {
   "cell_type": "code",
   "execution_count": 5,
   "metadata": {},
   "outputs": [],
   "source": [
    "sns.set_style('dark')"
   ]
  },
  {
   "cell_type": "code",
   "execution_count": 6,
   "metadata": {},
   "outputs": [],
   "source": [
    "taxi=pd.read_csv('train.csv')\n",
    "#Init_test=pd.read_csv('test.csv')\n",
    "# not sure we can use test csv as Y is missing ==>cannot check++> will have to split the train file"
   ]
  },
  {
   "cell_type": "code",
   "execution_count": 7,
   "metadata": {},
   "outputs": [
    {
     "data": {
      "text/plain": [
       "(1458644, 11)"
      ]
     },
     "execution_count": 7,
     "metadata": {},
     "output_type": "execute_result"
    }
   ],
   "source": [
    "taxi.shape"
   ]
  },
  {
   "cell_type": "code",
   "execution_count": null,
   "metadata": {},
   "outputs": [],
   "source": [
    "# to_drop=['store_and_fwd_flag']\n",
    "# Insight A creuser: vendor id, l organisation du taxi à new york\n",
    "#weather_data_nyc_centralpark_2016\n",
    "# 2 providers "
   ]
  },
  {
   "cell_type": "markdown",
   "metadata": {},
   "source": [
    "# WEATHER DATA"
   ]
  },
  {
   "cell_type": "code",
   "execution_count": 8,
   "metadata": {},
   "outputs": [],
   "source": [
    "weather=pd.read_csv('weather_data_nyc_centralpark_2016(1).csv')"
   ]
  },
  {
   "cell_type": "code",
   "execution_count": null,
   "metadata": {},
   "outputs": [],
   "source": [
    "weather.isnull().sum()"
   ]
  },
  {
   "cell_type": "code",
   "execution_count": null,
   "metadata": {},
   "outputs": [],
   "source": [
    "weather.dtypes\n",
    "# changer le type de la date de preicipitation et snow columns"
   ]
  },
  {
   "cell_type": "code",
   "execution_count": null,
   "metadata": {},
   "outputs": [],
   "source": [
    "weather.head()"
   ]
  },
  {
   "cell_type": "code",
   "execution_count": null,
   "metadata": {},
   "outputs": [],
   "source": [
    "weather['maximum temperature'].unique()"
   ]
  },
  {
   "cell_type": "code",
   "execution_count": null,
   "metadata": {},
   "outputs": [],
   "source": [
    "weather.date"
   ]
  },
  {
   "cell_type": "code",
   "execution_count": 9,
   "metadata": {},
   "outputs": [],
   "source": [
    "#transform date from day-month-year to year-month-day in weather file\n",
    "weather['date']=pd.to_datetime(weather.date)\n"
   ]
  },
  {
   "cell_type": "code",
   "execution_count": 10,
   "metadata": {},
   "outputs": [],
   "source": [
    "# Day of year\n",
    "weather['day_nb'] = weather.date.dt.dayofyear"
   ]
  },
  {
   "cell_type": "code",
   "execution_count": 11,
   "metadata": {},
   "outputs": [
    {
     "data": {
      "text/plain": [
       "366"
      ]
     },
     "execution_count": 11,
     "metadata": {},
     "output_type": "execute_result"
    }
   ],
   "source": [
    "#check if average temperature  is correct\n",
    "((weather[\"maximum temperature\"]+weather[\"minimum temperature\"])/2==weather['average temperature']).sum()\n"
   ]
  },
  {
   "cell_type": "code",
   "execution_count": null,
   "metadata": {},
   "outputs": [],
   "source": [
    "#weather['date'].map(lambda x :str(x)[:10])"
   ]
  },
  {
   "cell_type": "markdown",
   "metadata": {},
   "source": [
    "# TAXI DATA"
   ]
  },
  {
   "cell_type": "code",
   "execution_count": 12,
   "metadata": {},
   "outputs": [
    {
     "data": {
      "text/plain": [
       "id                     object\n",
       "vendor_id               int64\n",
       "pickup_datetime        object\n",
       "dropoff_datetime       object\n",
       "passenger_count         int64\n",
       "pickup_longitude      float64\n",
       "pickup_latitude       float64\n",
       "dropoff_longitude     float64\n",
       "dropoff_latitude      float64\n",
       "store_and_fwd_flag     object\n",
       "trip_duration           int64\n",
       "dtype: object"
      ]
     },
     "execution_count": 12,
     "metadata": {},
     "output_type": "execute_result"
    }
   ],
   "source": [
    "\n",
    "taxi.dtypes"
   ]
  },
  {
   "cell_type": "code",
   "execution_count": null,
   "metadata": {},
   "outputs": [],
   "source": [
    "taxi.isnull().sum()"
   ]
  },
  {
   "cell_type": "code",
   "execution_count": null,
   "metadata": {},
   "outputs": [],
   "source": [
    "\n",
    "taxi.pickup_datetime.unique()"
   ]
  },
  {
   "cell_type": "code",
   "execution_count": 13,
   "metadata": {},
   "outputs": [],
   "source": [
    "taxi['date']=pd.to_datetime(taxi['pickup_datetime'])"
   ]
  },
  {
   "cell_type": "code",
   "execution_count": 14,
   "metadata": {},
   "outputs": [
    {
     "name": "stderr",
     "output_type": "stream",
     "text": [
      "/opt/anaconda3/lib/python3.7/site-packages/ipykernel_launcher.py:4: FutureWarning: Series.dt.weekofyear and Series.dt.week have been deprecated.  Please use Series.dt.isocalendar().week instead.\n",
      "  after removing the cwd from sys.path.\n"
     ]
    }
   ],
   "source": [
    "# Month of year\n",
    "taxi['month'] = taxi['date'].dt.month_name()\n",
    "# Week of year\n",
    "taxi['week_nb'] = taxi['date'].dt.week\n",
    "# Day of week\n",
    "taxi['weekday'] = taxi['date'].dt.day_name()\n",
    "# Day of year (quantieme)\n",
    "taxi['day_nb'] = taxi['date'].dt.dayofyear\n",
    "# Hour of the day \n",
    "taxi['hour'] = taxi['date'].dt.hour\n",
    "# Day of th emonth\n",
    "taxi['Month_day'] = taxi['date'].dt.day\n"
   ]
  },
  {
   "cell_type": "code",
   "execution_count": null,
   "metadata": {},
   "outputs": [],
   "source": [
    "# Timestamp.isocalendar to dig in"
   ]
  },
  {
   "cell_type": "code",
   "execution_count": null,
   "metadata": {},
   "outputs": [],
   "source": [
    "taxi['month'].unique()"
   ]
  },
  {
   "cell_type": "code",
   "execution_count": null,
   "metadata": {},
   "outputs": [],
   "source": [
    "# Month of the taxi \"ride\":\n",
    "#taxi['Month']=taxi['pickup_datetime'].map(lambda x :x[5:7])\n",
    "#Seasons:\n",
    "#Not enough data to use seasons and weather so just\n",
    "#dct_seasons={1:'winter',2:'winter',12:'winter', 3:'spring', 4: 'spring', 5:'spring', 6:'summer',7:'summer',8:'summer',9:'automn',10:'automn',11:'automn'}\n",
    "#taxi['season']=taxi['month'].map(dct_seasons)"
   ]
  },
  {
   "cell_type": "code",
   "execution_count": null,
   "metadata": {},
   "outputs": [],
   "source": [
    "taxi['season'].unique()"
   ]
  },
  {
   "cell_type": "code",
   "execution_count": null,
   "metadata": {},
   "outputs": [],
   "source": [
    "# check why automn is not visible ==>Only 1 semester of data"
   ]
  },
  {
   "cell_type": "code",
   "execution_count": null,
   "metadata": {},
   "outputs": [],
   "source": [
    "# Check duration of the transport"
   ]
  },
  {
   "cell_type": "code",
   "execution_count": 15,
   "metadata": {},
   "outputs": [],
   "source": [
    "taxi['ride_duration']=pd.to_datetime(taxi['dropoff_datetime'])-pd.to_datetime(taxi['pickup_datetime'])"
   ]
  },
  {
   "cell_type": "markdown",
   "metadata": {},
   "source": [
    "# MERGING TABLES"
   ]
  },
  {
   "cell_type": "code",
   "execution_count": 16,
   "metadata": {},
   "outputs": [],
   "source": [
    "df = taxi.merge(weather, how='left', on='day_nb')"
   ]
  },
  {
   "cell_type": "code",
   "execution_count": 17,
   "metadata": {},
   "outputs": [],
   "source": [
    "df.drop_duplicates(inplace=True)"
   ]
  },
  {
   "cell_type": "code",
   "execution_count": null,
   "metadata": {},
   "outputs": [],
   "source": [
    "df.columns"
   ]
  },
  {
   "cell_type": "code",
   "execution_count": 18,
   "metadata": {},
   "outputs": [
    {
     "data": {
      "text/plain": [
       "0"
      ]
     },
     "execution_count": 18,
     "metadata": {},
     "output_type": "execute_result"
    }
   ],
   "source": [
    "# Check if trip_duration is ok. a faire une fois conversion sec faite==>OK\n",
    "(df.trip_duration==df.ride_duration).sum()"
   ]
  },
  {
   "cell_type": "code",
   "execution_count": 19,
   "metadata": {},
   "outputs": [
    {
     "data": {
      "text/plain": [
       "0         0 days 00:07:35\n",
       "1         0 days 00:11:03\n",
       "2         0 days 00:35:24\n",
       "3         0 days 00:07:09\n",
       "4         0 days 00:07:15\n",
       "                ...      \n",
       "1458639   0 days 00:12:58\n",
       "1458640   0 days 00:10:55\n",
       "1458641   0 days 00:12:44\n",
       "1458642   0 days 00:06:13\n",
       "1458643   0 days 00:03:18\n",
       "Name: ride_duration, Length: 1458644, dtype: timedelta64[ns]"
      ]
     },
     "execution_count": 19,
     "metadata": {},
     "output_type": "execute_result"
    }
   ],
   "source": [
    "df.ride_duration"
   ]
  },
  {
   "cell_type": "code",
   "execution_count": null,
   "metadata": {},
   "outputs": [],
   "source": [
    "df.passenger_count.value_counts()\n"
   ]
  },
  {
   "cell_type": "code",
   "execution_count": 20,
   "metadata": {},
   "outputs": [],
   "source": [
    "dct_passenger={1:1,2:2,3:3,4:4,5:5,6:6,0:np.NaN,7:np.NaN,9:np.NaN,8:np.NaN}"
   ]
  },
  {
   "cell_type": "code",
   "execution_count": 21,
   "metadata": {},
   "outputs": [],
   "source": [
    "#We focus only on ride with at least 1 person, and rides with more than 6 people are too rare to be taken into account\n",
    "df['new_passenger_count']=df.passenger_count.map(dct_passenger)"
   ]
  },
  {
   "cell_type": "code",
   "execution_count": null,
   "metadata": {},
   "outputs": [],
   "source": [
    "df.isnull().sum()"
   ]
  },
  {
   "cell_type": "code",
   "execution_count": 22,
   "metadata": {},
   "outputs": [],
   "source": [
    "# conversion from inch to mm.T set. arbitrary to a small number close to 0 but not 0\n",
    "\n",
    "df['precipitation_mm']=df.precipitation.map(lambda x: float(x)*25.4 if x!='T'else 1e-5*25.4)"
   ]
  },
  {
   "cell_type": "code",
   "execution_count": null,
   "metadata": {},
   "outputs": [],
   "source": [
    "#df['precipitation_mm'].value_counts().sort_values()"
   ]
  },
  {
   "cell_type": "code",
   "execution_count": null,
   "metadata": {},
   "outputs": [],
   "source": [
    "#df.precipitation.value_counts().sort_values()"
   ]
  },
  {
   "cell_type": "code",
   "execution_count": 23,
   "metadata": {},
   "outputs": [
    {
     "data": {
      "text/plain": [
       "0.0     1063582\n",
       "0        294364\n",
       "T         52305\n",
       "0.4       15975\n",
       "0.2        8805\n",
       "1.4        7373\n",
       "2.5        7344\n",
       "0.5        7248\n",
       "27.3       1648\n",
       "Name: snow fall, dtype: int64"
      ]
     },
     "execution_count": 23,
     "metadata": {},
     "output_type": "execute_result"
    }
   ],
   "source": [
    "df['snow fall'].value_counts()"
   ]
  },
  {
   "cell_type": "code",
   "execution_count": 24,
   "metadata": {},
   "outputs": [],
   "source": [
    "df['snow_fall_mm']=df['snow fall'].map(lambda x: float(x)*25.4 if x!='T'else 1e-5*25.4)"
   ]
  },
  {
   "cell_type": "code",
   "execution_count": 25,
   "metadata": {},
   "outputs": [
    {
     "data": {
      "text/plain": [
       "0     1339426\n",
       "T       46098\n",
       "6       27615\n",
       "4        7670\n",
       "9        7571\n",
       "1        7344\n",
       "17       6941\n",
       "2        6512\n",
       "19       6084\n",
       "22       3383\n",
       "Name: snow depth, dtype: int64"
      ]
     },
     "execution_count": 25,
     "metadata": {},
     "output_type": "execute_result"
    }
   ],
   "source": [
    "df['snow depth'].value_counts()"
   ]
  },
  {
   "cell_type": "code",
   "execution_count": 26,
   "metadata": {},
   "outputs": [],
   "source": [
    "df['snow_depth_mm']=df['snow depth'].map(lambda x: float(x)*25.4 if x!='T'else 1e-5*25.4)"
   ]
  },
  {
   "cell_type": "code",
   "execution_count": 27,
   "metadata": {},
   "outputs": [],
   "source": [
    "#conversion from Fanrenheit degrees to Celsius degrees:(T(°F) - 32) × 5/9\n",
    "df['average temperature_C']=df['average temperature'].map(lambda x: (x-32)*5/9)"
   ]
  },
  {
   "cell_type": "code",
   "execution_count": null,
   "metadata": {},
   "outputs": [],
   "source": [
    "df['average temperature_C'].value_counts()"
   ]
  },
  {
   "cell_type": "code",
   "execution_count": null,
   "metadata": {},
   "outputs": [],
   "source": [
    "df.columns"
   ]
  },
  {
   "cell_type": "code",
   "execution_count": null,
   "metadata": {},
   "outputs": [],
   "source": [
    "df.trip_duration.value_counts().sort_values(ascending=False)"
   ]
  },
  {
   "cell_type": "code",
   "execution_count": null,
   "metadata": {},
   "outputs": [],
   "source": [
    "#df[df.trip_duration>'0 days 02:00:00']"
   ]
  },
  {
   "cell_type": "code",
   "execution_count": 31,
   "metadata": {},
   "outputs": [],
   "source": [
    "#We will drop taxi ride above 2hours in a first time'\n",
    "#df[df.trip_duration>'0 days 02:00:00'].trip_duration.value_counts()"
   ]
  },
  {
   "cell_type": "code",
   "execution_count": 28,
   "metadata": {},
   "outputs": [],
   "source": [
    "#We will drop taxi rides above 2hours in a first time'\n",
    "taxi['ride_duration']=taxi['ride_duration'].map(lambda x : x if x<=datetime.timedelta(hours=2) else np.NaN)"
   ]
  },
  {
   "cell_type": "code",
   "execution_count": 29,
   "metadata": {},
   "outputs": [],
   "source": [
    "df['ride_duration']=df['ride_duration'].map(lambda x : x if x<=datetime.timedelta(hours=2) else np.NaN)"
   ]
  },
  {
   "cell_type": "code",
   "execution_count": 30,
   "metadata": {},
   "outputs": [
    {
     "data": {
      "text/plain": [
       "Timedelta('0 days 01:59:51')"
      ]
     },
     "execution_count": 30,
     "metadata": {},
     "output_type": "execute_result"
    }
   ],
   "source": [
    "df['ride_duration'].max()"
   ]
  },
  {
   "cell_type": "code",
   "execution_count": 32,
   "metadata": {},
   "outputs": [
    {
     "data": {
      "text/plain": [
       "id                          0\n",
       "vendor_id                   0\n",
       "pickup_datetime             0\n",
       "dropoff_datetime            0\n",
       "passenger_count             0\n",
       "pickup_longitude            0\n",
       "pickup_latitude             0\n",
       "dropoff_longitude           0\n",
       "dropoff_latitude            0\n",
       "store_and_fwd_flag          0\n",
       "trip_duration               0\n",
       "date_x                      0\n",
       "month                       0\n",
       "week_nb                     0\n",
       "weekday                     0\n",
       "day_nb                      0\n",
       "hour                        0\n",
       "Month_day                   0\n",
       "ride_duration            2253\n",
       "date_y                      0\n",
       "maximum temperature         0\n",
       "minimum temperature         0\n",
       "average temperature         0\n",
       "precipitation               0\n",
       "snow fall                   0\n",
       "snow depth                  0\n",
       "new_passenger_count        65\n",
       "precipitation_mm            0\n",
       "snow_fall_mm                0\n",
       "snow_depth_mm               0\n",
       "average temperature_C       0\n",
       "dtype: int64"
      ]
     },
     "execution_count": 32,
     "metadata": {},
     "output_type": "execute_result"
    }
   ],
   "source": [
    "df.isnull().sum()"
   ]
  },
  {
   "cell_type": "code",
   "execution_count": 33,
   "metadata": {},
   "outputs": [],
   "source": [
    "#drop all rows with missing values\n",
    "df=df.dropna()"
   ]
  },
  {
   "cell_type": "code",
   "execution_count": 34,
   "metadata": {},
   "outputs": [],
   "source": [
    "\n",
    "df['ride_duration_seconds']=df['ride_duration'].map(lambda x:x.total_seconds())"
   ]
  },
  {
   "cell_type": "code",
   "execution_count": 35,
   "metadata": {},
   "outputs": [
    {
     "data": {
      "text/plain": [
       "<AxesSubplot:xlabel='ride_duration_seconds'>"
      ]
     },
     "execution_count": 35,
     "metadata": {},
     "output_type": "execute_result"
    },
    {
     "data": {
      "image/png": "[encoded data removed]",
      "text/plain": [
       "<Figure size 576x396 with 1 Axes>"
      ]
     },
     "metadata": {},
     "output_type": "display_data"
    }
   ],
   "source": [
    "sns.distplot(df['ride_duration_seconds'])\n",
    "# duration is a log normal distribution"
   ]
  },
  {
   "cell_type": "code",
   "execution_count": 36,
   "metadata": {},
   "outputs": [
    {
     "data": {
      "image/png": "[encoded data removed]",
      "text/plain": [
       "<Figure size 576x396 with 1 Axes>"
      ]
     },
     "metadata": {},
     "output_type": "display_data"
    }
   ],
   "source": [
    "\n",
    "sns.distplot(np.log1p(df['ride_duration_seconds']))\n",
    "plt.title('ride duration log')\n",
    "plt.show()"
   ]
  },
  {
   "cell_type": "code",
   "execution_count": 37,
   "metadata": {},
   "outputs": [
    {
     "data": {
      "text/plain": [
       "13.93498953188398"
      ]
     },
     "execution_count": 37,
     "metadata": {},
     "output_type": "execute_result"
    }
   ],
   "source": [
    "df['ride_duration_seconds'].mean()/60\n",
    "#Average ride is 13,9min is this sample\n",
    " #?? hypothesis testing? est-ce possible avec une distribution log normale"
   ]
  },
  {
   "cell_type": "code",
   "execution_count": 38,
   "metadata": {},
   "outputs": [
    {
     "data": {
      "text/plain": [
       "11.016666666666667"
      ]
     },
     "execution_count": 38,
     "metadata": {},
     "output_type": "execute_result"
    }
   ],
   "source": [
    "df['ride_duration_seconds'].median()/60"
   ]
  },
  {
   "cell_type": "code",
   "execution_count": 39,
   "metadata": {},
   "outputs": [
    {
     "data": {
      "text/html": [
       "<div>\n",
       "<style scoped>\n",
       "    .dataframe tbody tr th:only-of-type {\n",
       "        vertical-align: middle;\n",
       "    }\n",
       "\n",
       "    .dataframe tbody tr th {\n",
       "        vertical-align: top;\n",
       "    }\n",
       "\n",
       "    .dataframe thead th {\n",
       "        text-align: right;\n",
       "    }\n",
       "</style>\n",
       "<table border=\"1\" class=\"dataframe\">\n",
       "  <thead>\n",
       "    <tr style=\"text-align: right;\">\n",
       "      <th></th>\n",
       "      <th>vendor_id</th>\n",
       "      <th>passenger_count</th>\n",
       "      <th>pickup_longitude</th>\n",
       "      <th>pickup_latitude</th>\n",
       "      <th>dropoff_longitude</th>\n",
       "      <th>dropoff_latitude</th>\n",
       "      <th>trip_duration</th>\n",
       "      <th>week_nb</th>\n",
       "      <th>day_nb</th>\n",
       "      <th>hour</th>\n",
       "      <th>...</th>\n",
       "      <th>ride_duration</th>\n",
       "      <th>maximum temperature</th>\n",
       "      <th>minimum temperature</th>\n",
       "      <th>average temperature</th>\n",
       "      <th>new_passenger_count</th>\n",
       "      <th>precipitation_mm</th>\n",
       "      <th>snow_fall_mm</th>\n",
       "      <th>snow_depth_mm</th>\n",
       "      <th>average temperature_C</th>\n",
       "      <th>ride_duration_seconds</th>\n",
       "    </tr>\n",
       "  </thead>\n",
       "  <tbody>\n",
       "    <tr>\n",
       "      <th>count</th>\n",
       "      <td>1.456327e+06</td>\n",
       "      <td>1.456327e+06</td>\n",
       "      <td>1.456327e+06</td>\n",
       "      <td>1.456327e+06</td>\n",
       "      <td>1.456327e+06</td>\n",
       "      <td>1.456327e+06</td>\n",
       "      <td>1.456327e+06</td>\n",
       "      <td>1.456327e+06</td>\n",
       "      <td>1.456327e+06</td>\n",
       "      <td>1.456327e+06</td>\n",
       "      <td>...</td>\n",
       "      <td>1456327</td>\n",
       "      <td>1.456327e+06</td>\n",
       "      <td>1.456327e+06</td>\n",
       "      <td>1.456327e+06</td>\n",
       "      <td>1.456327e+06</td>\n",
       "      <td>1.456327e+06</td>\n",
       "      <td>1.456327e+06</td>\n",
       "      <td>1.456327e+06</td>\n",
       "      <td>1.456327e+06</td>\n",
       "      <td>1.456327e+06</td>\n",
       "    </tr>\n",
       "    <tr>\n",
       "      <th>mean</th>\n",
       "      <td>1.534289e+00</td>\n",
       "      <td>1.663978e+00</td>\n",
       "      <td>-7.397350e+01</td>\n",
       "      <td>4.075093e+01</td>\n",
       "      <td>-7.397342e+01</td>\n",
       "      <td>4.075181e+01</td>\n",
       "      <td>8.360994e+02</td>\n",
       "      <td>1.383904e+01</td>\n",
       "      <td>9.183331e+01</td>\n",
       "      <td>1.360657e+01</td>\n",
       "      <td>...</td>\n",
       "      <td>0 days 00:13:56.099371913</td>\n",
       "      <td>6.176388e+01</td>\n",
       "      <td>4.673190e+01</td>\n",
       "      <td>5.424789e+01</td>\n",
       "      <td>1.663978e+00</td>\n",
       "      <td>2.248417e+00</td>\n",
       "      <td>1.487595e+00</td>\n",
       "      <td>1.032141e+01</td>\n",
       "      <td>1.235994e+01</td>\n",
       "      <td>8.360994e+02</td>\n",
       "    </tr>\n",
       "    <tr>\n",
       "      <th>std</th>\n",
       "      <td>4.988231e-01</td>\n",
       "      <td>1.313548e+00</td>\n",
       "      <td>7.090150e-02</td>\n",
       "      <td>3.285717e-02</td>\n",
       "      <td>7.064270e-02</td>\n",
       "      <td>3.588023e-02</td>\n",
       "      <td>6.542966e+02</td>\n",
       "      <td>8.563963e+00</td>\n",
       "      <td>5.156596e+01</td>\n",
       "      <td>6.399397e+00</td>\n",
       "      <td>...</td>\n",
       "      <td>0 days 00:10:54.296612538</td>\n",
       "      <td>1.697808e+01</td>\n",
       "      <td>1.571624e+01</td>\n",
       "      <td>1.614487e+01</td>\n",
       "      <td>1.313548e+00</td>\n",
       "      <td>5.935904e+00</td>\n",
       "      <td>2.386179e+01</td>\n",
       "      <td>5.704924e+01</td>\n",
       "      <td>8.969375e+00</td>\n",
       "      <td>6.542966e+02</td>\n",
       "    </tr>\n",
       "    <tr>\n",
       "      <th>min</th>\n",
       "      <td>1.000000e+00</td>\n",
       "      <td>1.000000e+00</td>\n",
       "      <td>-1.219333e+02</td>\n",
       "      <td>3.435970e+01</td>\n",
       "      <td>-1.219333e+02</td>\n",
       "      <td>3.218114e+01</td>\n",
       "      <td>1.000000e+00</td>\n",
       "      <td>1.000000e+00</td>\n",
       "      <td>1.000000e+00</td>\n",
       "      <td>0.000000e+00</td>\n",
       "      <td>...</td>\n",
       "      <td>0 days 00:00:01</td>\n",
       "      <td>1.500000e+01</td>\n",
       "      <td>-1.000000e+00</td>\n",
       "      <td>7.000000e+00</td>\n",
       "      <td>1.000000e+00</td>\n",
       "      <td>0.000000e+00</td>\n",
       "      <td>0.000000e+00</td>\n",
       "      <td>0.000000e+00</td>\n",
       "      <td>-1.388889e+01</td>\n",
       "      <td>1.000000e+00</td>\n",
       "    </tr>\n",
       "    <tr>\n",
       "      <th>25%</th>\n",
       "      <td>1.000000e+00</td>\n",
       "      <td>1.000000e+00</td>\n",
       "      <td>-7.399187e+01</td>\n",
       "      <td>4.073736e+01</td>\n",
       "      <td>-7.399133e+01</td>\n",
       "      <td>4.073589e+01</td>\n",
       "      <td>3.970000e+02</td>\n",
       "      <td>7.000000e+00</td>\n",
       "      <td>4.800000e+01</td>\n",
       "      <td>9.000000e+00</td>\n",
       "      <td>...</td>\n",
       "      <td>0 days 00:06:37</td>\n",
       "      <td>4.900000e+01</td>\n",
       "      <td>3.600000e+01</td>\n",
       "      <td>4.250000e+01</td>\n",
       "      <td>1.000000e+00</td>\n",
       "      <td>0.000000e+00</td>\n",
       "      <td>0.000000e+00</td>\n",
       "      <td>0.000000e+00</td>\n",
       "      <td>5.833333e+00</td>\n",
       "      <td>3.970000e+02</td>\n",
       "    </tr>\n",
       "    <tr>\n",
       "      <th>50%</th>\n",
       "      <td>2.000000e+00</td>\n",
       "      <td>1.000000e+00</td>\n",
       "      <td>-7.398174e+01</td>\n",
       "      <td>4.075411e+01</td>\n",
       "      <td>-7.397975e+01</td>\n",
       "      <td>4.075453e+01</td>\n",
       "      <td>6.610000e+02</td>\n",
       "      <td>1.300000e+01</td>\n",
       "      <td>9.200000e+01</td>\n",
       "      <td>1.400000e+01</td>\n",
       "      <td>...</td>\n",
       "      <td>0 days 00:11:01</td>\n",
       "      <td>6.100000e+01</td>\n",
       "      <td>4.600000e+01</td>\n",
       "      <td>5.350000e+01</td>\n",
       "      <td>1.000000e+00</td>\n",
       "      <td>0.000000e+00</td>\n",
       "      <td>0.000000e+00</td>\n",
       "      <td>0.000000e+00</td>\n",
       "      <td>1.194444e+01</td>\n",
       "      <td>6.610000e+02</td>\n",
       "    </tr>\n",
       "    <tr>\n",
       "      <th>75%</th>\n",
       "      <td>2.000000e+00</td>\n",
       "      <td>2.000000e+00</td>\n",
       "      <td>-7.396734e+01</td>\n",
       "      <td>4.076836e+01</td>\n",
       "      <td>-7.396302e+01</td>\n",
       "      <td>4.076981e+01</td>\n",
       "      <td>1.073000e+03</td>\n",
       "      <td>2.000000e+01</td>\n",
       "      <td>1.360000e+02</td>\n",
       "      <td>1.900000e+01</td>\n",
       "      <td>...</td>\n",
       "      <td>0 days 00:17:53</td>\n",
       "      <td>7.600000e+01</td>\n",
       "      <td>6.100000e+01</td>\n",
       "      <td>6.950000e+01</td>\n",
       "      <td>2.000000e+00</td>\n",
       "      <td>1.016000e+00</td>\n",
       "      <td>0.000000e+00</td>\n",
       "      <td>0.000000e+00</td>\n",
       "      <td>2.083333e+01</td>\n",
       "      <td>1.073000e+03</td>\n",
       "    </tr>\n",
       "    <tr>\n",
       "      <th>max</th>\n",
       "      <td>2.000000e+00</td>\n",
       "      <td>6.000000e+00</td>\n",
       "      <td>-6.133553e+01</td>\n",
       "      <td>5.188108e+01</td>\n",
       "      <td>-6.133553e+01</td>\n",
       "      <td>4.392103e+01</td>\n",
       "      <td>7.191000e+03</td>\n",
       "      <td>5.300000e+01</td>\n",
       "      <td>1.820000e+02</td>\n",
       "      <td>2.300000e+01</td>\n",
       "      <td>...</td>\n",
       "      <td>0 days 01:59:51</td>\n",
       "      <td>9.200000e+01</td>\n",
       "      <td>7.500000e+01</td>\n",
       "      <td>8.300000e+01</td>\n",
       "      <td>6.000000e+00</td>\n",
       "      <td>5.867400e+01</td>\n",
       "      <td>6.934200e+02</td>\n",
       "      <td>5.588000e+02</td>\n",
       "      <td>2.833333e+01</td>\n",
       "      <td>7.191000e+03</td>\n",
       "    </tr>\n",
       "  </tbody>\n",
       "</table>\n",
       "<p>8 rows × 21 columns</p>\n",
       "</div>"
      ],
      "text/plain": [
       "          vendor_id  passenger_count  pickup_longitude  pickup_latitude  \\\n",
       "count  1.456327e+06     1.456327e+06      1.456327e+06     1.456327e+06   \n",
       "mean   1.534289e+00     1.663978e+00     -7.397350e+01     4.075093e+01   \n",
       "std    4.988231e-01     1.313548e+00      7.090150e-02     3.285717e-02   \n",
       "min    1.000000e+00     1.000000e+00     -1.219333e+02     3.435970e+01   \n",
       "25%    1.000000e+00     1.000000e+00     -7.399187e+01     4.073736e+01   \n",
       "50%    2.000000e+00     1.000000e+00     -7.398174e+01     4.075411e+01   \n",
       "75%    2.000000e+00     2.000000e+00     -7.396734e+01     4.076836e+01   \n",
       "max    2.000000e+00     6.000000e+00     -6.133553e+01     5.188108e+01   \n",
       "\n",
       "       dropoff_longitude  dropoff_latitude  trip_duration       week_nb  \\\n",
       "count       1.456327e+06      1.456327e+06   1.456327e+06  1.456327e+06   \n",
       "mean       -7.397342e+01      4.075181e+01   8.360994e+02  1.383904e+01   \n",
       "std         7.064270e-02      3.588023e-02   6.542966e+02  8.563963e+00   \n",
       "min        -1.219333e+02      3.218114e+01   1.000000e+00  1.000000e+00   \n",
       "25%        -7.399133e+01      4.073589e+01   3.970000e+02  7.000000e+00   \n",
       "50%        -7.397975e+01      4.075453e+01   6.610000e+02  1.300000e+01   \n",
       "75%        -7.396302e+01      4.076981e+01   1.073000e+03  2.000000e+01   \n",
       "max        -6.133553e+01      4.392103e+01   7.191000e+03  5.300000e+01   \n",
       "\n",
       "             day_nb          hour  ...              ride_duration  \\\n",
       "count  1.456327e+06  1.456327e+06  ...                    1456327   \n",
       "mean   9.183331e+01  1.360657e+01  ...  0 days 00:13:56.099371913   \n",
       "std    5.156596e+01  6.399397e+00  ...  0 days 00:10:54.296612538   \n",
       "min    1.000000e+00  0.000000e+00  ...            0 days 00:00:01   \n",
       "25%    4.800000e+01  9.000000e+00  ...            0 days 00:06:37   \n",
       "50%    9.200000e+01  1.400000e+01  ...            0 days 00:11:01   \n",
       "75%    1.360000e+02  1.900000e+01  ...            0 days 00:17:53   \n",
       "max    1.820000e+02  2.300000e+01  ...            0 days 01:59:51   \n",
       "\n",
       "      maximum temperature  minimum temperature  average temperature  \\\n",
       "count        1.456327e+06         1.456327e+06         1.456327e+06   \n",
       "mean         6.176388e+01         4.673190e+01         5.424789e+01   \n",
       "std          1.697808e+01         1.571624e+01         1.614487e+01   \n",
       "min          1.500000e+01        -1.000000e+00         7.000000e+00   \n",
       "25%          4.900000e+01         3.600000e+01         4.250000e+01   \n",
       "50%          6.100000e+01         4.600000e+01         5.350000e+01   \n",
       "75%          7.600000e+01         6.100000e+01         6.950000e+01   \n",
       "max          9.200000e+01         7.500000e+01         8.300000e+01   \n",
       "\n",
       "       new_passenger_count  precipitation_mm  snow_fall_mm  snow_depth_mm  \\\n",
       "count         1.456327e+06      1.456327e+06  1.456327e+06   1.456327e+06   \n",
       "mean          1.663978e+00      2.248417e+00  1.487595e+00   1.032141e+01   \n",
       "std           1.313548e+00      5.935904e+00  2.386179e+01   5.704924e+01   \n",
       "min           1.000000e+00      0.000000e+00  0.000000e+00   0.000000e+00   \n",
       "25%           1.000000e+00      0.000000e+00  0.000000e+00   0.000000e+00   \n",
       "50%           1.000000e+00      0.000000e+00  0.000000e+00   0.000000e+00   \n",
       "75%           2.000000e+00      1.016000e+00  0.000000e+00   0.000000e+00   \n",
       "max           6.000000e+00      5.867400e+01  6.934200e+02   5.588000e+02   \n",
       "\n",
       "       average temperature_C  ride_duration_seconds  \n",
       "count           1.456327e+06           1.456327e+06  \n",
       "mean            1.235994e+01           8.360994e+02  \n",
       "std             8.969375e+00           6.542966e+02  \n",
       "min            -1.388889e+01           1.000000e+00  \n",
       "25%             5.833333e+00           3.970000e+02  \n",
       "50%             1.194444e+01           6.610000e+02  \n",
       "75%             2.083333e+01           1.073000e+03  \n",
       "max             2.833333e+01           7.191000e+03  \n",
       "\n",
       "[8 rows x 21 columns]"
      ]
     },
     "execution_count": 39,
     "metadata": {},
     "output_type": "execute_result"
    }
   ],
   "source": [
    "df.describe()"
   ]
  },
  {
   "cell_type": "code",
   "execution_count": null,
   "metadata": {},
   "outputs": [],
   "source": [
    "df.pickup_longitude .value_counts()"
   ]
  },
  {
   "cell_type": "code",
   "execution_count": null,
   "metadata": {},
   "outputs": [],
   "source": [
    "df.pickup_latitude.value_counts()"
   ]
  },
  {
   "cell_type": "code",
   "execution_count": null,
   "metadata": {},
   "outputs": [],
   "source": [
    "df.dropoff_longitude .value_counts()"
   ]
  },
  {
   "cell_type": "code",
   "execution_count": null,
   "metadata": {},
   "outputs": [],
   "source": [
    "df.dropoff_latitude.value_counts()"
   ]
  },
  {
   "cell_type": "code",
   "execution_count": null,
   "metadata": {},
   "outputs": [],
   "source": []
  },
  {
   "cell_type": "raw",
   "metadata": {},
   "source": [
    "https://www.kite.com/python/answers/how-to-find-the-distance-between-two-lat-long-coordinates-in-python\n",
    "\n",
    "The Haversine formula calculates the great-circle distance between two points. Start by calculating the change in latitude and longitude, in radians, and input the result into the Haversine formula (implemented below). Use the functions in the math library for trigonometry related calculations.\n",
    "\n",
    "R = 6373.0\n",
    "radius of the Earth\n",
    "\n",
    "\n",
    "lat1 = math.radians(52.2296756)\n",
    "coordinates\n",
    "\n",
    "lon1 = math.radians(21.0122287)\n",
    "lat2 = math.radians(52.406374)\n",
    "lon2 = math.radians(16.9251681)\n",
    "\n",
    "dlon = lon2 - lon1\n",
    "change in coordinates\n",
    "\n",
    "dlat = lat2 - lat1\n",
    "\n",
    "a = math.sin(dlat / 2)**2 + math.cos(lat1) * math.cos(lat2) * math.sin(dlon / 2)**2\n",
    "Haversine formula\n",
    "\n",
    "c = 2 * math.atan2(math.sqrt(a), math.sqrt(1 - a))\n",
    "distance = R * c\n",
    "\n",
    "print(distance)"
   ]
  },
  {
   "cell_type": "code",
   "execution_count": 40,
   "metadata": {},
   "outputs": [],
   "source": [
    "#google is my friend\n",
    "#Voici une version numpy vectorisée de la même fonction:\n",
    "\n",
    "def haversine_np(lon1, lat1, lon2, lat2):\n",
    "    \"\"\"\n",
    "    Calculate the great circle distance between two points\n",
    "    on the earth (specified in decimal degrees)\n",
    "\n",
    "    All args must be of equal length.    \n",
    "\n",
    "    \"\"\"\n",
    "    lon1, lat1, lon2, lat2 = map(np.radians, [lon1, lat1, lon2, lat2])\n",
    "\n",
    "    dlon = lon2 - lon1\n",
    "    dlat = lat2 - lat1\n",
    "\n",
    "    a = np.sin(dlat/2.0)**2 + np.cos(lat1) * np.cos(lat2) * np.sin(dlon/2.0)**2\n",
    "\n",
    "    c = 2 * np.arcsin(np.sqrt(a))\n",
    "    km = 6371 * c\n",
    "    return km\n",
    "#Les entrées sont toutes des tableaux de valeurs, et il devrait pouvoir faire des millions de points instantanément. L’exigence est que les entrées soient ndarrays mais les colonnes de votre table de pandas fonctionneront.\n",
    "\n",
    "#Par exemple, avec des valeurs générées aléatoirement:\n",
    "\n",
    "#La lecture en boucle dans des tableaux de données est très lente en python. Numpy fournit des fonctions qui fonctionnent sur des tableaux de données entiers, ce qui vous permet d'éviter les boucles et d'améliorer considérablement les performances.\n",
    "\n",
    "#Ceci est un exemple de vectorisation ."
   ]
  },
  {
   "cell_type": "code",
   "execution_count": null,
   "metadata": {},
   "outputs": [],
   "source": [
    "# distance de manhattan"
   ]
  },
  {
   "cell_type": "code",
   "execution_count": 41,
   "metadata": {},
   "outputs": [],
   "source": [
    "df['distance_KM']=haversine_np(df['pickup_longitude'],df['pickup_latitude'],df['dropoff_longitude'],df['dropoff_latitude'])"
   ]
  },
  {
   "cell_type": "code",
   "execution_count": 42,
   "metadata": {},
   "outputs": [
    {
     "data": {
      "text/plain": [
       "0.000000     5884\n",
       "0.000424      114\n",
       "0.000424       53\n",
       "0.000848       46\n",
       "0.001273       40\n",
       "             ... \n",
       "5.194750        1\n",
       "1.143717        1\n",
       "1.758514        1\n",
       "18.595974       1\n",
       "7.492507        1\n",
       "Name: distance_KM, Length: 1449987, dtype: int64"
      ]
     },
     "execution_count": 42,
     "metadata": {},
     "output_type": "execute_result"
    }
   ],
   "source": [
    "df['distance_KM'].value_counts().sort_values(ascending=False)"
   ]
  },
  {
   "cell_type": "code",
   "execution_count": 43,
   "metadata": {},
   "outputs": [
    {
     "data": {
      "text/plain": [
       "N    5819\n",
       "Y      65\n",
       "Name: store_and_fwd_flag, dtype: int64"
      ]
     },
     "execution_count": 43,
     "metadata": {},
     "output_type": "execute_result"
    }
   ],
   "source": [
    "df[df['distance_KM']==0.000000].store_and_fwd_flag.value_counts()\n",
    "# pas d'enregistrement du trajet? sur 5884 courses latitute et longitude identiques\n",
    "#On drope"
   ]
  },
  {
   "cell_type": "code",
   "execution_count": 44,
   "metadata": {},
   "outputs": [],
   "source": [
    "#ne garder que les lignes ou la distance est non null\n",
    "df=df[df['distance_KM']!=0.000000]"
   ]
  },
  {
   "cell_type": "code",
   "execution_count": null,
   "metadata": {},
   "outputs": [],
   "source": [
    "#df['distance_KM'].value_counts().sort_values(ascending=False)"
   ]
  },
  {
   "cell_type": "code",
   "execution_count": null,
   "metadata": {},
   "outputs": [],
   "source": []
  },
  {
   "cell_type": "code",
   "execution_count": 45,
   "metadata": {},
   "outputs": [],
   "source": [
    "dct_work={'Monday':1, 'Sunday':0, 'Tuesday':1, 'Wednesday':1, 'Saturday':0, 'Friday':1,\n",
    "       'Thursday':1}"
   ]
  },
  {
   "cell_type": "code",
   "execution_count": 46,
   "metadata": {},
   "outputs": [
    {
     "data": {
      "text/plain": [
       "array(['Monday', 'Sunday', 'Tuesday', 'Wednesday', 'Saturday', 'Friday',\n",
       "       'Thursday'], dtype=object)"
      ]
     },
     "execution_count": 46,
     "metadata": {},
     "output_type": "execute_result"
    }
   ],
   "source": [
    "df.weekday.unique()"
   ]
  },
  {
   "cell_type": "code",
   "execution_count": 47,
   "metadata": {},
   "outputs": [],
   "source": [
    "df['working_days']=df.weekday.map(dct_work)\n",
    "#ranger jour dans le bon sens."
   ]
  },
  {
   "cell_type": "code",
   "execution_count": 48,
   "metadata": {},
   "outputs": [
    {
     "data": {
      "text/plain": [
       "<AxesSubplot:xlabel='working_days', ylabel='hour'>"
      ]
     },
     "execution_count": 48,
     "metadata": {},
     "output_type": "execute_result"
    },
    {
     "data": {
      "image/png": "[encoded data removed]",
      "text/plain": [
       "<Figure size 576x396 with 2 Axes>"
      ]
     },
     "metadata": {},
     "output_type": "display_data"
    }
   ],
   "source": [
    "sns.heatmap(pd.crosstab(df.hour,df.working_days,normalize='index'),annot=True)"
   ]
  },
  {
   "cell_type": "code",
   "execution_count": 49,
   "metadata": {},
   "outputs": [
    {
     "data": {
      "text/plain": [
       "<AxesSubplot:xlabel='weekday', ylabel='hour'>"
      ]
     },
     "execution_count": 49,
     "metadata": {},
     "output_type": "execute_result"
    },
    {
     "data": {
      "image/png": "[encoded data removed]",
      "text/plain": [
       "<Figure size 576x396 with 2 Axes>"
      ]
     },
     "metadata": {},
     "output_type": "display_data"
    }
   ],
   "source": [
    "sns.heatmap(pd.crosstab(df.hour,df.weekday,normalize='columns'),annot=True)\n",
    "#repartition des courses pour chaque jour 0 lundi, 6 dimanche\n",
    "# reprise des bus/metro à quel heure? 5h. heures fermeture bars/boite de nuit."
   ]
  },
  {
   "cell_type": "code",
   "execution_count": 50,
   "metadata": {},
   "outputs": [
    {
     "data": {
      "text/plain": [
       "<AxesSubplot:xlabel='passenger_count', ylabel='count'>"
      ]
     },
     "execution_count": 50,
     "metadata": {},
     "output_type": "execute_result"
    },
    {
     "data": {
      "image/png": "[encoded data removed]",
      "text/plain": [
       "<Figure size 576x396 with 1 Axes>"
      ]
     },
     "metadata": {},
     "output_type": "display_data"
    }
   ],
   "source": [
    "sns.countplot(df.passenger_count)\n",
    "# majority of 1 passenger - ride"
   ]
  },
  {
   "cell_type": "code",
   "execution_count": 51,
   "metadata": {},
   "outputs": [
    {
     "data": {
      "text/plain": [
       "<AxesSubplot:xlabel='weekday', ylabel='passenger_count'>"
      ]
     },
     "execution_count": 51,
     "metadata": {},
     "output_type": "execute_result"
    },
    {
     "data": {
      "image/png": "[encoded data removed]",
      "text/plain": [
       "<Figure size 576x396 with 2 Axes>"
      ]
     },
     "metadata": {},
     "output_type": "display_data"
    }
   ],
   "source": [
    "sns.heatmap(pd.crosstab(df.passenger_count,df.weekday,normalize='index'),annot=True)\n",
    "# sur quels jour sont plutot les passager solo, duo, ou plus"
   ]
  },
  {
   "cell_type": "code",
   "execution_count": 52,
   "metadata": {},
   "outputs": [],
   "source": [
    "to_drop=['id', 'vendor_id', 'pickup_datetime', 'dropoff_datetime','store_and_fwd_flag','trip_duration','date_y','maximum temperature','minimum temperature', 'precipitation','snow fall','snow depth','average temperature']"
   ]
  },
  {
   "cell_type": "code",
   "execution_count": null,
   "metadata": {},
   "outputs": [],
   "source": []
  },
  {
   "cell_type": "code",
   "execution_count": 54,
   "metadata": {},
   "outputs": [
    {
     "name": "stderr",
     "output_type": "stream",
     "text": [
      "*c* argument looks like a single numeric RGB or RGBA sequence, which should be avoided as value-mapping will have precedence in case its length matches with *x* & *y*.  Please use the *color* keyword-argument or provide a 2-D array with a single row if you intend to specify the same RGB or RGBA value for all points.\n"
     ]
    },
    {
     "data": {
      "image/png": "[encoded data removed]",
      "text/plain": [
       "<Figure size 576x396 with 1 Axes>"
      ]
     },
     "metadata": {},
     "output_type": "display_data"
    }
   ],
   "source": [
    "#MAin rides in Manhattan?,and someone went to Ney Jersey.?\n",
    "ax=df[[\"pickup_latitude\", \"pickup_longitude\"]].plot.scatter(x=\"pickup_latitude\", y=\"pickup_longitude\")\n",
    "ax.set_aspect('equal', 'box')\n"
   ]
  },
  {
   "cell_type": "code",
   "execution_count": 55,
   "metadata": {},
   "outputs": [],
   "source": [
    "#fichier pour viz tableau\n",
    "df[[\"pickup_latitude\", \"pickup_longitude\"]].to_csv('Depatures_forVIZ')"
   ]
  },
  {
   "cell_type": "code",
   "execution_count": 56,
   "metadata": {},
   "outputs": [
    {
     "name": "stderr",
     "output_type": "stream",
     "text": [
      "*c* argument looks like a single numeric RGB or RGBA sequence, which should be avoided as value-mapping will have precedence in case its length matches with *x* & *y*.  Please use the *color* keyword-argument or provide a 2-D array with a single row if you intend to specify the same RGB or RGBA value for all points.\n"
     ]
    },
    {
     "data": {
      "image/png": "[encoded data removed]",
      "text/plain": [
       "<Figure size 576x396 with 1 Axes>"
      ]
     },
     "metadata": {},
     "output_type": "display_data"
    }
   ],
   "source": [
    "#Zoom\n",
    "\n",
    "ax=df[[\"pickup_latitude\", \"pickup_longitude\"]].plot.scatter(x=\"pickup_latitude\", y=\"pickup_longitude\")\n",
    "ax.set_xlim(40, 42)\n",
    "ax.set_ylim(-75, -73)\n",
    "ax.set_aspect('equal', 'box')\n",
    "#https://matplotlib.org/3.1.0/gallery/subplots_axes_and_figures/axis_equal_demo.html"
   ]
  },
  {
   "cell_type": "code",
   "execution_count": 57,
   "metadata": {},
   "outputs": [
    {
     "data": {
      "text/html": [
       "<div>\n",
       "<style scoped>\n",
       "    .dataframe tbody tr th:only-of-type {\n",
       "        vertical-align: middle;\n",
       "    }\n",
       "\n",
       "    .dataframe tbody tr th {\n",
       "        vertical-align: top;\n",
       "    }\n",
       "\n",
       "    .dataframe thead th {\n",
       "        text-align: right;\n",
       "    }\n",
       "</style>\n",
       "<table border=\"1\" class=\"dataframe\">\n",
       "  <thead>\n",
       "    <tr style=\"text-align: right;\">\n",
       "      <th></th>\n",
       "      <th>vendor_id</th>\n",
       "      <th>passenger_count</th>\n",
       "      <th>pickup_longitude</th>\n",
       "      <th>pickup_latitude</th>\n",
       "      <th>dropoff_longitude</th>\n",
       "      <th>dropoff_latitude</th>\n",
       "      <th>trip_duration</th>\n",
       "      <th>week_nb</th>\n",
       "      <th>day_nb</th>\n",
       "      <th>hour</th>\n",
       "      <th>...</th>\n",
       "      <th>minimum temperature</th>\n",
       "      <th>average temperature</th>\n",
       "      <th>new_passenger_count</th>\n",
       "      <th>precipitation_mm</th>\n",
       "      <th>snow_fall_mm</th>\n",
       "      <th>snow_depth_mm</th>\n",
       "      <th>average temperature_C</th>\n",
       "      <th>ride_duration_seconds</th>\n",
       "      <th>distance_KM</th>\n",
       "      <th>working_days</th>\n",
       "    </tr>\n",
       "  </thead>\n",
       "  <tbody>\n",
       "    <tr>\n",
       "      <th>vendor_id</th>\n",
       "      <td>1.000000</td>\n",
       "      <td>0.287590</td>\n",
       "      <td>0.008268</td>\n",
       "      <td>0.002113</td>\n",
       "      <td>0.001755</td>\n",
       "      <td>0.004919</td>\n",
       "      <td>0.008154</td>\n",
       "      <td>-0.001821</td>\n",
       "      <td>-0.006207</td>\n",
       "      <td>0.009065</td>\n",
       "      <td>...</td>\n",
       "      <td>-0.004627</td>\n",
       "      <td>-0.004678</td>\n",
       "      <td>0.287590</td>\n",
       "      <td>0.000693</td>\n",
       "      <td>0.000149</td>\n",
       "      <td>0.006366</td>\n",
       "      <td>-0.004678</td>\n",
       "      <td>0.008154</td>\n",
       "      <td>0.008572</td>\n",
       "      <td>-0.002273</td>\n",
       "    </tr>\n",
       "    <tr>\n",
       "      <th>passenger_count</th>\n",
       "      <td>0.287590</td>\n",
       "      <td>1.000000</td>\n",
       "      <td>0.002304</td>\n",
       "      <td>-0.004989</td>\n",
       "      <td>-0.000380</td>\n",
       "      <td>-0.002501</td>\n",
       "      <td>0.014656</td>\n",
       "      <td>0.004690</td>\n",
       "      <td>-0.002117</td>\n",
       "      <td>0.008964</td>\n",
       "      <td>...</td>\n",
       "      <td>-0.002298</td>\n",
       "      <td>-0.002147</td>\n",
       "      <td>1.000000</td>\n",
       "      <td>0.000539</td>\n",
       "      <td>0.000265</td>\n",
       "      <td>0.001285</td>\n",
       "      <td>-0.002147</td>\n",
       "      <td>0.014656</td>\n",
       "      <td>0.010351</td>\n",
       "      <td>-0.028335</td>\n",
       "    </tr>\n",
       "    <tr>\n",
       "      <th>pickup_longitude</th>\n",
       "      <td>0.008268</td>\n",
       "      <td>0.002304</td>\n",
       "      <td>1.000000</td>\n",
       "      <td>0.038989</td>\n",
       "      <td>0.768931</td>\n",
       "      <td>0.122017</td>\n",
       "      <td>0.201490</td>\n",
       "      <td>0.007065</td>\n",
       "      <td>0.004707</td>\n",
       "      <td>0.010460</td>\n",
       "      <td>...</td>\n",
       "      <td>0.003046</td>\n",
       "      <td>0.003223</td>\n",
       "      <td>0.002304</td>\n",
       "      <td>0.000163</td>\n",
       "      <td>-0.002122</td>\n",
       "      <td>0.003686</td>\n",
       "      <td>0.003223</td>\n",
       "      <td>0.201490</td>\n",
       "      <td>0.271481</td>\n",
       "      <td>0.013100</td>\n",
       "    </tr>\n",
       "    <tr>\n",
       "      <th>pickup_latitude</th>\n",
       "      <td>0.002113</td>\n",
       "      <td>-0.004989</td>\n",
       "      <td>0.038989</td>\n",
       "      <td>1.000000</td>\n",
       "      <td>0.140700</td>\n",
       "      <td>0.438231</td>\n",
       "      <td>-0.212957</td>\n",
       "      <td>-0.005964</td>\n",
       "      <td>-0.002881</td>\n",
       "      <td>0.011742</td>\n",
       "      <td>...</td>\n",
       "      <td>0.000739</td>\n",
       "      <td>0.000393</td>\n",
       "      <td>-0.004989</td>\n",
       "      <td>-0.001200</td>\n",
       "      <td>-0.005319</td>\n",
       "      <td>-0.000683</td>\n",
       "      <td>0.000393</td>\n",
       "      <td>-0.212957</td>\n",
       "      <td>-0.222418</td>\n",
       "      <td>0.036226</td>\n",
       "    </tr>\n",
       "    <tr>\n",
       "      <th>dropoff_longitude</th>\n",
       "      <td>0.001755</td>\n",
       "      <td>-0.000380</td>\n",
       "      <td>0.768931</td>\n",
       "      <td>0.140700</td>\n",
       "      <td>1.000000</td>\n",
       "      <td>0.148649</td>\n",
       "      <td>0.118820</td>\n",
       "      <td>0.006360</td>\n",
       "      <td>0.005131</td>\n",
       "      <td>-0.023363</td>\n",
       "      <td>...</td>\n",
       "      <td>0.003782</td>\n",
       "      <td>0.003901</td>\n",
       "      <td>-0.000380</td>\n",
       "      <td>0.000316</td>\n",
       "      <td>0.001099</td>\n",
       "      <td>0.001039</td>\n",
       "      <td>0.003901</td>\n",
       "      <td>0.118820</td>\n",
       "      <td>0.141537</td>\n",
       "      <td>0.001854</td>\n",
       "    </tr>\n",
       "    <tr>\n",
       "      <th>dropoff_latitude</th>\n",
       "      <td>0.004919</td>\n",
       "      <td>-0.002501</td>\n",
       "      <td>0.122017</td>\n",
       "      <td>0.438231</td>\n",
       "      <td>0.148649</td>\n",
       "      <td>1.000000</td>\n",
       "      <td>-0.170092</td>\n",
       "      <td>-0.003480</td>\n",
       "      <td>-0.001864</td>\n",
       "      <td>0.014798</td>\n",
       "      <td>...</td>\n",
       "      <td>0.000840</td>\n",
       "      <td>0.000644</td>\n",
       "      <td>-0.002501</td>\n",
       "      <td>-0.000799</td>\n",
       "      <td>-0.002298</td>\n",
       "      <td>-0.000136</td>\n",
       "      <td>0.000644</td>\n",
       "      <td>-0.170092</td>\n",
       "      <td>-0.149872</td>\n",
       "      <td>0.024291</td>\n",
       "    </tr>\n",
       "    <tr>\n",
       "      <th>trip_duration</th>\n",
       "      <td>0.008154</td>\n",
       "      <td>0.014656</td>\n",
       "      <td>0.201490</td>\n",
       "      <td>-0.212957</td>\n",
       "      <td>0.118820</td>\n",
       "      <td>-0.170092</td>\n",
       "      <td>1.000000</td>\n",
       "      <td>0.037926</td>\n",
       "      <td>0.060874</td>\n",
       "      <td>0.029438</td>\n",
       "      <td>...</td>\n",
       "      <td>0.024199</td>\n",
       "      <td>0.025693</td>\n",
       "      <td>0.014656</td>\n",
       "      <td>-0.011661</td>\n",
       "      <td>-0.003493</td>\n",
       "      <td>0.021039</td>\n",
       "      <td>0.025693</td>\n",
       "      <td>1.000000</td>\n",
       "      <td>0.709347</td>\n",
       "      <td>0.063741</td>\n",
       "    </tr>\n",
       "    <tr>\n",
       "      <th>week_nb</th>\n",
       "      <td>-0.001821</td>\n",
       "      <td>0.004690</td>\n",
       "      <td>0.007065</td>\n",
       "      <td>-0.005964</td>\n",
       "      <td>0.006360</td>\n",
       "      <td>-0.003480</td>\n",
       "      <td>0.037926</td>\n",
       "      <td>1.000000</td>\n",
       "      <td>0.712634</td>\n",
       "      <td>-0.016936</td>\n",
       "      <td>...</td>\n",
       "      <td>0.358302</td>\n",
       "      <td>0.379623</td>\n",
       "      <td>0.004690</td>\n",
       "      <td>-0.052637</td>\n",
       "      <td>-0.046603</td>\n",
       "      <td>-0.184392</td>\n",
       "      <td>0.379623</td>\n",
       "      <td>0.037926</td>\n",
       "      <td>0.020557</td>\n",
       "      <td>-0.035756</td>\n",
       "    </tr>\n",
       "    <tr>\n",
       "      <th>day_nb</th>\n",
       "      <td>-0.006207</td>\n",
       "      <td>-0.002117</td>\n",
       "      <td>0.004707</td>\n",
       "      <td>-0.002881</td>\n",
       "      <td>0.005131</td>\n",
       "      <td>-0.001864</td>\n",
       "      <td>0.060874</td>\n",
       "      <td>0.712634</td>\n",
       "      <td>1.000000</td>\n",
       "      <td>-0.003473</td>\n",
       "      <td>...</td>\n",
       "      <td>0.464493</td>\n",
       "      <td>0.497449</td>\n",
       "      <td>-0.002117</td>\n",
       "      <td>-0.028562</td>\n",
       "      <td>-0.047891</td>\n",
       "      <td>-0.226192</td>\n",
       "      <td>0.497449</td>\n",
       "      <td>0.060874</td>\n",
       "      <td>0.016434</td>\n",
       "      <td>0.006875</td>\n",
       "    </tr>\n",
       "    <tr>\n",
       "      <th>hour</th>\n",
       "      <td>0.009065</td>\n",
       "      <td>0.008964</td>\n",
       "      <td>0.010460</td>\n",
       "      <td>0.011742</td>\n",
       "      <td>-0.023363</td>\n",
       "      <td>0.014798</td>\n",
       "      <td>0.029438</td>\n",
       "      <td>-0.016936</td>\n",
       "      <td>-0.003473</td>\n",
       "      <td>1.000000</td>\n",
       "      <td>...</td>\n",
       "      <td>-0.000202</td>\n",
       "      <td>0.001037</td>\n",
       "      <td>0.008964</td>\n",
       "      <td>-0.013698</td>\n",
       "      <td>-0.049929</td>\n",
       "      <td>0.014197</td>\n",
       "      <td>0.001037</td>\n",
       "      <td>0.029438</td>\n",
       "      <td>-0.016010</td>\n",
       "      <td>0.090182</td>\n",
       "    </tr>\n",
       "    <tr>\n",
       "      <th>Month_day</th>\n",
       "      <td>0.000784</td>\n",
       "      <td>0.001992</td>\n",
       "      <td>-0.001051</td>\n",
       "      <td>-0.006708</td>\n",
       "      <td>-0.000633</td>\n",
       "      <td>-0.005809</td>\n",
       "      <td>0.011473</td>\n",
       "      <td>-0.000169</td>\n",
       "      <td>0.153583</td>\n",
       "      <td>0.000407</td>\n",
       "      <td>...</td>\n",
       "      <td>0.044657</td>\n",
       "      <td>0.084340</td>\n",
       "      <td>0.001992</td>\n",
       "      <td>-0.080157</td>\n",
       "      <td>0.006618</td>\n",
       "      <td>0.215088</td>\n",
       "      <td>0.084340</td>\n",
       "      <td>0.011473</td>\n",
       "      <td>0.005862</td>\n",
       "      <td>-0.007840</td>\n",
       "    </tr>\n",
       "    <tr>\n",
       "      <th>maximum temperature</th>\n",
       "      <td>-0.004614</td>\n",
       "      <td>-0.001956</td>\n",
       "      <td>0.003310</td>\n",
       "      <td>0.000064</td>\n",
       "      <td>0.003919</td>\n",
       "      <td>0.000448</td>\n",
       "      <td>0.026464</td>\n",
       "      <td>0.390313</td>\n",
       "      <td>0.516102</td>\n",
       "      <td>0.002159</td>\n",
       "      <td>...</td>\n",
       "      <td>0.950733</td>\n",
       "      <td>0.988551</td>\n",
       "      <td>-0.001956</td>\n",
       "      <td>0.029767</td>\n",
       "      <td>-0.103132</td>\n",
       "      <td>-0.201900</td>\n",
       "      <td>0.988551</td>\n",
       "      <td>0.026464</td>\n",
       "      <td>0.010684</td>\n",
       "      <td>0.036199</td>\n",
       "    </tr>\n",
       "    <tr>\n",
       "      <th>minimum temperature</th>\n",
       "      <td>-0.004627</td>\n",
       "      <td>-0.002298</td>\n",
       "      <td>0.003046</td>\n",
       "      <td>0.000739</td>\n",
       "      <td>0.003782</td>\n",
       "      <td>0.000840</td>\n",
       "      <td>0.024199</td>\n",
       "      <td>0.358302</td>\n",
       "      <td>0.464493</td>\n",
       "      <td>-0.000202</td>\n",
       "      <td>...</td>\n",
       "      <td>1.000000</td>\n",
       "      <td>0.986625</td>\n",
       "      <td>-0.002298</td>\n",
       "      <td>0.063409</td>\n",
       "      <td>-0.086567</td>\n",
       "      <td>-0.182025</td>\n",
       "      <td>0.986625</td>\n",
       "      <td>0.024199</td>\n",
       "      <td>0.009085</td>\n",
       "      <td>0.036202</td>\n",
       "    </tr>\n",
       "    <tr>\n",
       "      <th>average temperature</th>\n",
       "      <td>-0.004678</td>\n",
       "      <td>-0.002147</td>\n",
       "      <td>0.003223</td>\n",
       "      <td>0.000393</td>\n",
       "      <td>0.003901</td>\n",
       "      <td>0.000644</td>\n",
       "      <td>0.025693</td>\n",
       "      <td>0.379623</td>\n",
       "      <td>0.497449</td>\n",
       "      <td>0.001037</td>\n",
       "      <td>...</td>\n",
       "      <td>0.986625</td>\n",
       "      <td>1.000000</td>\n",
       "      <td>-0.002147</td>\n",
       "      <td>0.046514</td>\n",
       "      <td>-0.096361</td>\n",
       "      <td>-0.194756</td>\n",
       "      <td>1.000000</td>\n",
       "      <td>0.025693</td>\n",
       "      <td>0.010040</td>\n",
       "      <td>0.036654</td>\n",
       "    </tr>\n",
       "    <tr>\n",
       "      <th>new_passenger_count</th>\n",
       "      <td>0.287590</td>\n",
       "      <td>1.000000</td>\n",
       "      <td>0.002304</td>\n",
       "      <td>-0.004989</td>\n",
       "      <td>-0.000380</td>\n",
       "      <td>-0.002501</td>\n",
       "      <td>0.014656</td>\n",
       "      <td>0.004690</td>\n",
       "      <td>-0.002117</td>\n",
       "      <td>0.008964</td>\n",
       "      <td>...</td>\n",
       "      <td>-0.002298</td>\n",
       "      <td>-0.002147</td>\n",
       "      <td>1.000000</td>\n",
       "      <td>0.000539</td>\n",
       "      <td>0.000265</td>\n",
       "      <td>0.001285</td>\n",
       "      <td>-0.002147</td>\n",
       "      <td>0.014656</td>\n",
       "      <td>0.010351</td>\n",
       "      <td>-0.028335</td>\n",
       "    </tr>\n",
       "    <tr>\n",
       "      <th>precipitation_mm</th>\n",
       "      <td>0.000693</td>\n",
       "      <td>0.000539</td>\n",
       "      <td>0.000163</td>\n",
       "      <td>-0.001200</td>\n",
       "      <td>0.000316</td>\n",
       "      <td>-0.000799</td>\n",
       "      <td>-0.011661</td>\n",
       "      <td>-0.052637</td>\n",
       "      <td>-0.028562</td>\n",
       "      <td>-0.013698</td>\n",
       "      <td>...</td>\n",
       "      <td>0.063409</td>\n",
       "      <td>0.046514</td>\n",
       "      <td>0.000539</td>\n",
       "      <td>1.000000</td>\n",
       "      <td>0.347408</td>\n",
       "      <td>-0.033461</td>\n",
       "      <td>0.046514</td>\n",
       "      <td>-0.011661</td>\n",
       "      <td>-0.001083</td>\n",
       "      <td>0.020739</td>\n",
       "    </tr>\n",
       "    <tr>\n",
       "      <th>snow_fall_mm</th>\n",
       "      <td>0.000149</td>\n",
       "      <td>0.000265</td>\n",
       "      <td>-0.002122</td>\n",
       "      <td>-0.005319</td>\n",
       "      <td>0.001099</td>\n",
       "      <td>-0.002298</td>\n",
       "      <td>-0.003493</td>\n",
       "      <td>-0.046603</td>\n",
       "      <td>-0.047891</td>\n",
       "      <td>-0.049929</td>\n",
       "      <td>...</td>\n",
       "      <td>-0.086567</td>\n",
       "      <td>-0.096361</td>\n",
       "      <td>0.000265</td>\n",
       "      <td>0.347408</td>\n",
       "      <td>1.000000</td>\n",
       "      <td>0.082340</td>\n",
       "      <td>-0.096361</td>\n",
       "      <td>-0.003493</td>\n",
       "      <td>-0.001313</td>\n",
       "      <td>-0.043560</td>\n",
       "    </tr>\n",
       "    <tr>\n",
       "      <th>snow_depth_mm</th>\n",
       "      <td>0.006366</td>\n",
       "      <td>0.001285</td>\n",
       "      <td>0.003686</td>\n",
       "      <td>-0.000683</td>\n",
       "      <td>0.001039</td>\n",
       "      <td>-0.000136</td>\n",
       "      <td>0.021039</td>\n",
       "      <td>-0.184392</td>\n",
       "      <td>-0.226192</td>\n",
       "      <td>0.014197</td>\n",
       "      <td>...</td>\n",
       "      <td>-0.182025</td>\n",
       "      <td>-0.194756</td>\n",
       "      <td>0.001285</td>\n",
       "      <td>-0.033461</td>\n",
       "      <td>0.082340</td>\n",
       "      <td>1.000000</td>\n",
       "      <td>-0.194756</td>\n",
       "      <td>0.021039</td>\n",
       "      <td>0.000825</td>\n",
       "      <td>-0.009424</td>\n",
       "    </tr>\n",
       "    <tr>\n",
       "      <th>average temperature_C</th>\n",
       "      <td>-0.004678</td>\n",
       "      <td>-0.002147</td>\n",
       "      <td>0.003223</td>\n",
       "      <td>0.000393</td>\n",
       "      <td>0.003901</td>\n",
       "      <td>0.000644</td>\n",
       "      <td>0.025693</td>\n",
       "      <td>0.379623</td>\n",
       "      <td>0.497449</td>\n",
       "      <td>0.001037</td>\n",
       "      <td>...</td>\n",
       "      <td>0.986625</td>\n",
       "      <td>1.000000</td>\n",
       "      <td>-0.002147</td>\n",
       "      <td>0.046514</td>\n",
       "      <td>-0.096361</td>\n",
       "      <td>-0.194756</td>\n",
       "      <td>1.000000</td>\n",
       "      <td>0.025693</td>\n",
       "      <td>0.010040</td>\n",
       "      <td>0.036654</td>\n",
       "    </tr>\n",
       "    <tr>\n",
       "      <th>ride_duration_seconds</th>\n",
       "      <td>0.008154</td>\n",
       "      <td>0.014656</td>\n",
       "      <td>0.201490</td>\n",
       "      <td>-0.212957</td>\n",
       "      <td>0.118820</td>\n",
       "      <td>-0.170092</td>\n",
       "      <td>1.000000</td>\n",
       "      <td>0.037926</td>\n",
       "      <td>0.060874</td>\n",
       "      <td>0.029438</td>\n",
       "      <td>...</td>\n",
       "      <td>0.024199</td>\n",
       "      <td>0.025693</td>\n",
       "      <td>0.014656</td>\n",
       "      <td>-0.011661</td>\n",
       "      <td>-0.003493</td>\n",
       "      <td>0.021039</td>\n",
       "      <td>0.025693</td>\n",
       "      <td>1.000000</td>\n",
       "      <td>0.709347</td>\n",
       "      <td>0.063741</td>\n",
       "    </tr>\n",
       "    <tr>\n",
       "      <th>distance_KM</th>\n",
       "      <td>0.008572</td>\n",
       "      <td>0.010351</td>\n",
       "      <td>0.271481</td>\n",
       "      <td>-0.222418</td>\n",
       "      <td>0.141537</td>\n",
       "      <td>-0.149872</td>\n",
       "      <td>0.709347</td>\n",
       "      <td>0.020557</td>\n",
       "      <td>0.016434</td>\n",
       "      <td>-0.016010</td>\n",
       "      <td>...</td>\n",
       "      <td>0.009085</td>\n",
       "      <td>0.010040</td>\n",
       "      <td>0.010351</td>\n",
       "      <td>-0.001083</td>\n",
       "      <td>-0.001313</td>\n",
       "      <td>0.000825</td>\n",
       "      <td>0.010040</td>\n",
       "      <td>0.709347</td>\n",
       "      <td>1.000000</td>\n",
       "      <td>-0.010803</td>\n",
       "    </tr>\n",
       "    <tr>\n",
       "      <th>working_days</th>\n",
       "      <td>-0.002273</td>\n",
       "      <td>-0.028335</td>\n",
       "      <td>0.013100</td>\n",
       "      <td>0.036226</td>\n",
       "      <td>0.001854</td>\n",
       "      <td>0.024291</td>\n",
       "      <td>0.063741</td>\n",
       "      <td>-0.035756</td>\n",
       "      <td>0.006875</td>\n",
       "      <td>0.090182</td>\n",
       "      <td>...</td>\n",
       "      <td>0.036202</td>\n",
       "      <td>0.036654</td>\n",
       "      <td>-0.028335</td>\n",
       "      <td>0.020739</td>\n",
       "      <td>-0.043560</td>\n",
       "      <td>-0.009424</td>\n",
       "      <td>0.036654</td>\n",
       "      <td>0.063741</td>\n",
       "      <td>-0.010803</td>\n",
       "      <td>1.000000</td>\n",
       "    </tr>\n",
       "  </tbody>\n",
       "</table>\n",
       "<p>22 rows × 22 columns</p>\n",
       "</div>"
      ],
      "text/plain": [
       "                       vendor_id  passenger_count  pickup_longitude  \\\n",
       "vendor_id               1.000000         0.287590          0.008268   \n",
       "passenger_count         0.287590         1.000000          0.002304   \n",
       "pickup_longitude        0.008268         0.002304          1.000000   \n",
       "pickup_latitude         0.002113        -0.004989          0.038989   \n",
       "dropoff_longitude       0.001755        -0.000380          0.768931   \n",
       "dropoff_latitude        0.004919        -0.002501          0.122017   \n",
       "trip_duration           0.008154         0.014656          0.201490   \n",
       "week_nb                -0.001821         0.004690          0.007065   \n",
       "day_nb                 -0.006207        -0.002117          0.004707   \n",
       "hour                    0.009065         0.008964          0.010460   \n",
       "Month_day               0.000784         0.001992         -0.001051   \n",
       "maximum temperature    -0.004614        -0.001956          0.003310   \n",
       "minimum temperature    -0.004627        -0.002298          0.003046   \n",
       "average temperature    -0.004678        -0.002147          0.003223   \n",
       "new_passenger_count     0.287590         1.000000          0.002304   \n",
       "precipitation_mm        0.000693         0.000539          0.000163   \n",
       "snow_fall_mm            0.000149         0.000265         -0.002122   \n",
       "snow_depth_mm           0.006366         0.001285          0.003686   \n",
       "average temperature_C  -0.004678        -0.002147          0.003223   \n",
       "ride_duration_seconds   0.008154         0.014656          0.201490   \n",
       "distance_KM             0.008572         0.010351          0.271481   \n",
       "working_days           -0.002273        -0.028335          0.013100   \n",
       "\n",
       "                       pickup_latitude  dropoff_longitude  dropoff_latitude  \\\n",
       "vendor_id                     0.002113           0.001755          0.004919   \n",
       "passenger_count              -0.004989          -0.000380         -0.002501   \n",
       "pickup_longitude              0.038989           0.768931          0.122017   \n",
       "pickup_latitude               1.000000           0.140700          0.438231   \n",
       "dropoff_longitude             0.140700           1.000000          0.148649   \n",
       "dropoff_latitude              0.438231           0.148649          1.000000   \n",
       "trip_duration                -0.212957           0.118820         -0.170092   \n",
       "week_nb                      -0.005964           0.006360         -0.003480   \n",
       "day_nb                       -0.002881           0.005131         -0.001864   \n",
       "hour                          0.011742          -0.023363          0.014798   \n",
       "Month_day                    -0.006708          -0.000633         -0.005809   \n",
       "maximum temperature           0.000064           0.003919          0.000448   \n",
       "minimum temperature           0.000739           0.003782          0.000840   \n",
       "average temperature           0.000393           0.003901          0.000644   \n",
       "new_passenger_count          -0.004989          -0.000380         -0.002501   \n",
       "precipitation_mm             -0.001200           0.000316         -0.000799   \n",
       "snow_fall_mm                 -0.005319           0.001099         -0.002298   \n",
       "snow_depth_mm                -0.000683           0.001039         -0.000136   \n",
       "average temperature_C         0.000393           0.003901          0.000644   \n",
       "ride_duration_seconds        -0.212957           0.118820         -0.170092   \n",
       "distance_KM                  -0.222418           0.141537         -0.149872   \n",
       "working_days                  0.036226           0.001854          0.024291   \n",
       "\n",
       "                       trip_duration   week_nb    day_nb      hour  ...  \\\n",
       "vendor_id                   0.008154 -0.001821 -0.006207  0.009065  ...   \n",
       "passenger_count             0.014656  0.004690 -0.002117  0.008964  ...   \n",
       "pickup_longitude            0.201490  0.007065  0.004707  0.010460  ...   \n",
       "pickup_latitude            -0.212957 -0.005964 -0.002881  0.011742  ...   \n",
       "dropoff_longitude           0.118820  0.006360  0.005131 -0.023363  ...   \n",
       "dropoff_latitude           -0.170092 -0.003480 -0.001864  0.014798  ...   \n",
       "trip_duration               1.000000  0.037926  0.060874  0.029438  ...   \n",
       "week_nb                     0.037926  1.000000  0.712634 -0.016936  ...   \n",
       "day_nb                      0.060874  0.712634  1.000000 -0.003473  ...   \n",
       "hour                        0.029438 -0.016936 -0.003473  1.000000  ...   \n",
       "Month_day                   0.011473 -0.000169  0.153583  0.000407  ...   \n",
       "maximum temperature         0.026464  0.390313  0.516102  0.002159  ...   \n",
       "minimum temperature         0.024199  0.358302  0.464493 -0.000202  ...   \n",
       "average temperature         0.025693  0.379623  0.497449  0.001037  ...   \n",
       "new_passenger_count         0.014656  0.004690 -0.002117  0.008964  ...   \n",
       "precipitation_mm           -0.011661 -0.052637 -0.028562 -0.013698  ...   \n",
       "snow_fall_mm               -0.003493 -0.046603 -0.047891 -0.049929  ...   \n",
       "snow_depth_mm               0.021039 -0.184392 -0.226192  0.014197  ...   \n",
       "average temperature_C       0.025693  0.379623  0.497449  0.001037  ...   \n",
       "ride_duration_seconds       1.000000  0.037926  0.060874  0.029438  ...   \n",
       "distance_KM                 0.709347  0.020557  0.016434 -0.016010  ...   \n",
       "working_days                0.063741 -0.035756  0.006875  0.090182  ...   \n",
       "\n",
       "                       minimum temperature  average temperature  \\\n",
       "vendor_id                        -0.004627            -0.004678   \n",
       "passenger_count                  -0.002298            -0.002147   \n",
       "pickup_longitude                  0.003046             0.003223   \n",
       "pickup_latitude                   0.000739             0.000393   \n",
       "dropoff_longitude                 0.003782             0.003901   \n",
       "dropoff_latitude                  0.000840             0.000644   \n",
       "trip_duration                     0.024199             0.025693   \n",
       "week_nb                           0.358302             0.379623   \n",
       "day_nb                            0.464493             0.497449   \n",
       "hour                             -0.000202             0.001037   \n",
       "Month_day                         0.044657             0.084340   \n",
       "maximum temperature               0.950733             0.988551   \n",
       "minimum temperature               1.000000             0.986625   \n",
       "average temperature               0.986625             1.000000   \n",
       "new_passenger_count              -0.002298            -0.002147   \n",
       "precipitation_mm                  0.063409             0.046514   \n",
       "snow_fall_mm                     -0.086567            -0.096361   \n",
       "snow_depth_mm                    -0.182025            -0.194756   \n",
       "average temperature_C             0.986625             1.000000   \n",
       "ride_duration_seconds             0.024199             0.025693   \n",
       "distance_KM                       0.009085             0.010040   \n",
       "working_days                      0.036202             0.036654   \n",
       "\n",
       "                       new_passenger_count  precipitation_mm  snow_fall_mm  \\\n",
       "vendor_id                         0.287590          0.000693      0.000149   \n",
       "passenger_count                   1.000000          0.000539      0.000265   \n",
       "pickup_longitude                  0.002304          0.000163     -0.002122   \n",
       "pickup_latitude                  -0.004989         -0.001200     -0.005319   \n",
       "dropoff_longitude                -0.000380          0.000316      0.001099   \n",
       "dropoff_latitude                 -0.002501         -0.000799     -0.002298   \n",
       "trip_duration                     0.014656         -0.011661     -0.003493   \n",
       "week_nb                           0.004690         -0.052637     -0.046603   \n",
       "day_nb                           -0.002117         -0.028562     -0.047891   \n",
       "hour                              0.008964         -0.013698     -0.049929   \n",
       "Month_day                         0.001992         -0.080157      0.006618   \n",
       "maximum temperature              -0.001956          0.029767     -0.103132   \n",
       "minimum temperature              -0.002298          0.063409     -0.086567   \n",
       "average temperature              -0.002147          0.046514     -0.096361   \n",
       "new_passenger_count               1.000000          0.000539      0.000265   \n",
       "precipitation_mm                  0.000539          1.000000      0.347408   \n",
       "snow_fall_mm                      0.000265          0.347408      1.000000   \n",
       "snow_depth_mm                     0.001285         -0.033461      0.082340   \n",
       "average temperature_C            -0.002147          0.046514     -0.096361   \n",
       "ride_duration_seconds             0.014656         -0.011661     -0.003493   \n",
       "distance_KM                       0.010351         -0.001083     -0.001313   \n",
       "working_days                     -0.028335          0.020739     -0.043560   \n",
       "\n",
       "                       snow_depth_mm  average temperature_C  \\\n",
       "vendor_id                   0.006366              -0.004678   \n",
       "passenger_count             0.001285              -0.002147   \n",
       "pickup_longitude            0.003686               0.003223   \n",
       "pickup_latitude            -0.000683               0.000393   \n",
       "dropoff_longitude           0.001039               0.003901   \n",
       "dropoff_latitude           -0.000136               0.000644   \n",
       "trip_duration               0.021039               0.025693   \n",
       "week_nb                    -0.184392               0.379623   \n",
       "day_nb                     -0.226192               0.497449   \n",
       "hour                        0.014197               0.001037   \n",
       "Month_day                   0.215088               0.084340   \n",
       "maximum temperature        -0.201900               0.988551   \n",
       "minimum temperature        -0.182025               0.986625   \n",
       "average temperature        -0.194756               1.000000   \n",
       "new_passenger_count         0.001285              -0.002147   \n",
       "precipitation_mm           -0.033461               0.046514   \n",
       "snow_fall_mm                0.082340              -0.096361   \n",
       "snow_depth_mm               1.000000              -0.194756   \n",
       "average temperature_C      -0.194756               1.000000   \n",
       "ride_duration_seconds       0.021039               0.025693   \n",
       "distance_KM                 0.000825               0.010040   \n",
       "working_days               -0.009424               0.036654   \n",
       "\n",
       "                       ride_duration_seconds  distance_KM  working_days  \n",
       "vendor_id                           0.008154     0.008572     -0.002273  \n",
       "passenger_count                     0.014656     0.010351     -0.028335  \n",
       "pickup_longitude                    0.201490     0.271481      0.013100  \n",
       "pickup_latitude                    -0.212957    -0.222418      0.036226  \n",
       "dropoff_longitude                   0.118820     0.141537      0.001854  \n",
       "dropoff_latitude                   -0.170092    -0.149872      0.024291  \n",
       "trip_duration                       1.000000     0.709347      0.063741  \n",
       "week_nb                             0.037926     0.020557     -0.035756  \n",
       "day_nb                              0.060874     0.016434      0.006875  \n",
       "hour                                0.029438    -0.016010      0.090182  \n",
       "Month_day                           0.011473     0.005862     -0.007840  \n",
       "maximum temperature                 0.026464     0.010684      0.036199  \n",
       "minimum temperature                 0.024199     0.009085      0.036202  \n",
       "average temperature                 0.025693     0.010040      0.036654  \n",
       "new_passenger_count                 0.014656     0.010351     -0.028335  \n",
       "precipitation_mm                   -0.011661    -0.001083      0.020739  \n",
       "snow_fall_mm                       -0.003493    -0.001313     -0.043560  \n",
       "snow_depth_mm                       0.021039     0.000825     -0.009424  \n",
       "average temperature_C               0.025693     0.010040      0.036654  \n",
       "ride_duration_seconds               1.000000     0.709347      0.063741  \n",
       "distance_KM                         0.709347     1.000000     -0.010803  \n",
       "working_days                        0.063741    -0.010803      1.000000  \n",
       "\n",
       "[22 rows x 22 columns]"
      ]
     },
     "execution_count": 57,
     "metadata": {},
     "output_type": "execute_result"
    }
   ],
   "source": [
    "df.corr()"
   ]
  },
  {
   "cell_type": "code",
   "execution_count": 58,
   "metadata": {},
   "outputs": [
    {
     "data": {
      "text/plain": [
       "<AxesSubplot:>"
      ]
     },
     "execution_count": 58,
     "metadata": {},
     "output_type": "execute_result"
    },
    {
     "data": {
      "image/png": "[encoded data removed]",
      "text/plain": [
       "<Figure size 576x396 with 2 Axes>"
      ]
     },
     "metadata": {},
     "output_type": "display_data"
    }
   ],
   "source": [
    "sns.heatmap(df.corr())"
   ]
  },
  {
   "cell_type": "code",
   "execution_count": 59,
   "metadata": {},
   "outputs": [],
   "source": [
    "df.to_csv('NYC_taxi_clean.csv')"
   ]
  },
  {
   "cell_type": "markdown",
   "metadata": {},
   "source": [
    "# Modeling"
   ]
  },
  {
   "cell_type": "code",
   "execution_count": null,
   "metadata": {},
   "outputs": [],
   "source": [
    "df.columns"
   ]
  },
  {
   "cell_type": "code",
   "execution_count": null,
   "metadata": {},
   "outputs": [],
   "source": [
    "df.Month_day.value_counts()"
   ]
  },
  {
   "cell_type": "code",
   "execution_count": null,
   "metadata": {},
   "outputs": [],
   "source": [
    "to_dummies=['month','weekday','hour']"
   ]
  },
  {
   "cell_type": "code",
   "execution_count": null,
   "metadata": {},
   "outputs": [],
   "source": [
    "to_drop.extend(['date_x','ride_duration'])"
   ]
  },
  {
   "cell_type": "code",
   "execution_count": null,
   "metadata": {},
   "outputs": [],
   "source": [
    "to_select=['vendor_id','pickup_longitude', 'pickup_latitude',\n",
    "       'dropoff_longitude', 'dropoff_latitude','month', 'week_nb', 'weekday', 'day_nb',\n",
    "       'hour', 'new_passenger_count', 'precipitation_mm',\n",
    "       'snow_fall_mm', 'snow_depth_mm', 'average temperature_C',\n",
    "       'ride_duration_seconds', 'distance_KM', 'working_days']"
   ]
  },
  {
   "cell_type": "code",
   "execution_count": null,
   "metadata": {},
   "outputs": [],
   "source": [
    "df_ml2=df[['pickup_longitude', 'pickup_latitude',\n",
    "       'dropoff_longitude', 'dropoff_latitude','month',\n",
    "       'hour', 'new_passenger_count', 'precipitation_mm',\n",
    "       'snow_fall_mm', 'snow_depth_mm', 'average temperature_C','working_days','Month_day']]\n"
   ]
  },
  {
   "cell_type": "code",
   "execution_count": null,
   "metadata": {},
   "outputs": [],
   "source": [
    "df_ml2=pd.get_dummies(data=df_ml2, columns=['hour','month'],drop_first=True)"
   ]
  },
  {
   "cell_type": "code",
   "execution_count": null,
   "metadata": {},
   "outputs": [],
   "source": [
    "df_ml2.shape"
   ]
  },
  {
   "cell_type": "code",
   "execution_count": null,
   "metadata": {},
   "outputs": [],
   "source": [
    "#Normalization of data with MinMaxscaler (not standardization since not sure the distribution is normal)\n",
    "# define min max scaler\n",
    "scaler = MinMaxScaler()\n",
    "# transform data\n",
    "scaled = scaler.fit_transform(df_ml2)\n"
   ]
  },
  {
   "cell_type": "markdown",
   "metadata": {},
   "source": [
    "# second selection of features"
   ]
  },
  {
   "cell_type": "code",
   "execution_count": null,
   "metadata": {},
   "outputs": [],
   "source": [
    "#df_ml=df[['pickup_longitude', 'pickup_latitude',\n",
    "       'dropoff_longitude', 'dropoff_latitude','month','weekday',\n",
    "       'hour']]\n",
    "# a rajouter passeger count "
   ]
  },
  {
   "cell_type": "code",
   "execution_count": null,
   "metadata": {},
   "outputs": [],
   "source": [
    "#df_ml=pd.get_dummies(data=df_ml, columns=['hour','weekday','month'],drop_first=True)"
   ]
  },
  {
   "cell_type": "code",
   "execution_count": null,
   "metadata": {},
   "outputs": [],
   "source": [
    "#scaler2 = MinMaxScaler()\n",
    "#scaled2 = scaler2.fit_transform(df_ml)"
   ]
  },
  {
   "cell_type": "markdown",
   "metadata": {},
   "source": [
    "###  Find  optimum number of cluster with K-Elbow method"
   ]
  },
  {
   "cell_type": "code",
   "execution_count": null,
   "metadata": {},
   "outputs": [],
   "source": [
    "\n",
    "# Instantiate the clustering model and visualizer\n",
    "model = KMeans()\n",
    "visualizer = KElbowVisualizer(model, k=(4,12))\n",
    "\n",
    "visualizer.fit(scaled)        # Fit the data to the visualizer\n",
    "visualizer.show()        # Finalize and render the figure"
   ]
  },
  {
   "cell_type": "code",
   "execution_count": null,
   "metadata": {},
   "outputs": [],
   "source": []
  },
  {
   "cell_type": "code",
   "execution_count": null,
   "metadata": {},
   "outputs": [],
   "source": [
    "#Model with df ml\n",
    "#Instantiate the clustering model and visualizer\n",
    "#model2 = KMeans()\n",
    "#visualizer = KElbowVisualizer(model2, k=(4,10))\n",
    "\n",
    "#visualizer.fit(scaled2)        # Fit the data to the visualizer\n",
    "#visualizer.show()        # Finalize and render the figure"
   ]
  },
  {
   "cell_type": "code",
   "execution_count": null,
   "metadata": {},
   "outputs": [],
   "source": []
  },
  {
   "cell_type": "code",
   "execution_count": null,
   "metadata": {},
   "outputs": [],
   "source": []
  },
  {
   "cell_type": "markdown",
   "metadata": {},
   "source": [
    "#### PCA"
   ]
  },
  {
   "cell_type": "code",
   "execution_count": null,
   "metadata": {},
   "outputs": [],
   "source": [
    "#Apply PCA before Kmean ( should optimize  the output (empirical observations) )"
   ]
  },
  {
   "cell_type": "code",
   "execution_count": null,
   "metadata": {},
   "outputs": [],
   "source": [
    "# define PCA toget 85% of explained variance, fit the PCA model and check the number of components; Here 23\n",
    "pca=PCA(0.85)\n",
    "pca.fit(scaled)\n",
    "pca.explained_variance_ratio_"
   ]
  },
  {
   "cell_type": "code",
   "execution_count": null,
   "metadata": {},
   "outputs": [],
   "source": [
    "#apply pCA transformation \n",
    "pca_df=pd.DataFrame(pca.transform(scaled), columns=['PC1','PC2','PC3','PC4','PC5','PC6','PC7','PC8','PC9','PC10','PC11','PC12','PC13','PC14','PC15','PC16','PC17','PC18','PC19','PC20','PC21'])"
   ]
  },
  {
   "cell_type": "markdown",
   "metadata": {},
   "source": [
    "## pca avec df_ml"
   ]
  },
  {
   "cell_type": "code",
   "execution_count": null,
   "metadata": {},
   "outputs": [],
   "source": [
    "# define PCA toget 85% of explained variance, fit the PCA model and check the number of components; Here 23\n",
    "pca2=PCA(0.85)\n",
    "pca2.fit(scaled2)\n",
    "pca2.explained_variance_ratio_"
   ]
  },
  {
   "cell_type": "code",
   "execution_count": null,
   "metadata": {},
   "outputs": [],
   "source": [
    "#apply pCA transformation \n",
    "pca_df2=pd.DataFrame(pca2.transform(scaled2), columns=['PC1','PC2','PC3','PC4','PC5','PC6','PC7','PC8','PC9','PC10','PC11','PC12','PC13','PC14','PC15','PC16','PC17','PC18','PC19','PC20','PC21'])"
   ]
  },
  {
   "cell_type": "code",
   "execution_count": null,
   "metadata": {},
   "outputs": [],
   "source": []
  },
  {
   "cell_type": "markdown",
   "metadata": {},
   "source": [
    "## Calcul de Ypredict"
   ]
  },
  {
   "cell_type": "code",
   "execution_count": null,
   "metadata": {},
   "outputs": [],
   "source": [
    "#model1 Kmeans applied to data transformed with PCA\n",
    "kmeans1=KMeans(6)\n",
    "kmeans1=kmeans1.fit(pca_df)\n",
    "kmeans1.cluster_centers_\n",
    "# Attribution of class to each record (prediction\n",
    "df_ml2['cluster1']=kmeans1.predict(pca_df)"
   ]
  },
  {
   "cell_type": "code",
   "execution_count": null,
   "metadata": {},
   "outputs": [],
   "source": [
    "df_ml2.cluster1.value_counts(normalize=True)"
   ]
  },
  {
   "cell_type": "code",
   "execution_count": null,
   "metadata": {},
   "outputs": [],
   "source": [
    "df_ml2Sample=df_ml2.sample(frac=0.001)"
   ]
  },
  {
   "cell_type": "code",
   "execution_count": null,
   "metadata": {},
   "outputs": [],
   "source": [
    "df_ml2Sample.dtypes"
   ]
  },
  {
   "cell_type": "code",
   "execution_count": null,
   "metadata": {},
   "outputs": [],
   "source": [
    "sns.scatterplot(x='PC1',y='PC2', data=pca_df, hue=df_ml2['cluster1'])"
   ]
  },
  {
   "cell_type": "code",
   "execution_count": null,
   "metadata": {},
   "outputs": [],
   "source": [
    "# plot relationship between columns to see how they influence clusters\n",
    "sns.scatterplot(df_ml2Sample.dropoff_latitude ,df_ml2Sample.dropoff_longitude  ,hue=df_ml2Sample.cluster1)"
   ]
  },
  {
   "cell_type": "code",
   "execution_count": null,
   "metadata": {},
   "outputs": [],
   "source": [
    "#model3 applied to data transformed with PCA\n",
    "Agg=AgglomerativeClustering(6)\n",
    "Agg=Agg.fit(pca_df)\n",
    "Agg.cluster_centers_\n",
    "# Attribution of class to each record (prediction\n",
    "df_ml2['cluster3']=Agg.predict(pca_df)"
   ]
  },
  {
   "cell_type": "code",
   "execution_count": null,
   "metadata": {},
   "outputs": [],
   "source": [
    "AgglomerativeClustering"
   ]
  },
  {
   "cell_type": "code",
   "execution_count": null,
   "metadata": {},
   "outputs": [],
   "source": []
  },
  {
   "cell_type": "code",
   "execution_count": null,
   "metadata": {},
   "outputs": [],
   "source": [
    "#MODEL 2 Kmean without PCA\n",
    "\n",
    "kmeans2=KMeans(6)\n",
    "kmeans2=kmeans2.fit(scaled)\n",
    "kmeans2.cluster_centers_\n",
    "# Attribution of class to each record (prediction\n",
    "df_ml2['cluster2']=kmeans2.predict(scaled)"
   ]
  },
  {
   "cell_type": "code",
   "execution_count": null,
   "metadata": {},
   "outputs": [],
   "source": [
    "y_kmeans=df_ml2['cluster1']"
   ]
  },
  {
   "cell_type": "code",
   "execution_count": null,
   "metadata": {},
   "outputs": [],
   "source": [
    "X=df_ml2"
   ]
  },
  {
   "cell_type": "code",
   "execution_count": null,
   "metadata": {},
   "outputs": [],
   "source": [
    "df_ml2.cluster2.value_counts(normalize=True)"
   ]
  },
  {
   "cell_type": "code",
   "execution_count": null,
   "metadata": {},
   "outputs": [],
   "source": [
    "# plot relationship between columns to see how they influence clusters\n",
    "sns.scatterplot(df_ml2.cluster1 ,df_ml2.cluster2)"
   ]
  },
  {
   "cell_type": "code",
   "execution_count": null,
   "metadata": {},
   "outputs": [],
   "source": [
    "#model3 Kmeans applied to data transformed with PCA df_ml\n",
    "kmeans3=KMeans(6)\n",
    "kmeans3=kmeans3.fit(pca_df2)\n",
    "kmeans3.cluster_centers_\n",
    "# Attribution of class to each record (prediction\n",
    "df_ml['cluster1']=kmeans3.predict(pca_df2)\n"
   ]
  },
  {
   "cell_type": "code",
   "execution_count": null,
   "metadata": {},
   "outputs": [],
   "source": [
    "df_ml.cluster1.value_counts(normalize=True)"
   ]
  },
  {
   "cell_type": "code",
   "execution_count": null,
   "metadata": {},
   "outputs": [],
   "source": [
    "sns.scatterplot(x='PC1',y='PC2', data=pca_df2, hue=df_ml['cluster1'])"
   ]
  },
  {
   "cell_type": "markdown",
   "metadata": {},
   "source": [
    "## Supervised learning"
   ]
  },
  {
   "cell_type": "code",
   "execution_count": null,
   "metadata": {},
   "outputs": [],
   "source": [
    "#model librairies\n",
    "from sklearn.model_selection import train_test_split\n",
    "\n",
    "from sklearn.linear_model import LogisticRegression\n",
    "from sklearn.neighbors import KNeighborsClassifier\n",
    "from sklearn.naive_bayes import GaussianNB\n",
    "from sklearn.tree import DecisionTreeClassifier\n",
    "from sklearn.ensemble import RandomForestClassifier\n",
    "from sklearn.linear_model import GammaRegressor\n",
    "from sklearn.ensemble import AdaBoostClassifier\n",
    "from catboost import CatBoostClassifier\n",
    "from sklearn.linear_model import LinearRegression\n",
    "\n",
    "from sklearn.metrics import r2_score\n",
    "\n",
    "from sklearn.model_selection import RepeatedStratifiedKFold"
   ]
  },
  {
   "cell_type": "markdown",
   "metadata": {},
   "source": [
    "### Hyper parameter Tuning and cross validation"
   ]
  },
  {
   "cell_type": "code",
   "execution_count": null,
   "metadata": {},
   "outputs": [],
   "source": [
    "#kfold=KFold(5, True, 42)\n",
    "# create 5 sets 4 train 1 test"
   ]
  },
  {
   "cell_type": "code",
   "execution_count": null,
   "metadata": {},
   "outputs": [],
   "source": [
    "#params={'n_neighbors':range(3,10,2), #4\n",
    "#'weights':['uniform','distance'], #2\n",
    "#'leaf_size':[30,45], #2\n",
    "#'p':[2,3]} #2\n",
    "\n"
   ]
  },
  {
   "cell_type": "code",
   "execution_count": null,
   "metadata": {},
   "outputs": [],
   "source": [
    "#model=GammaRegressor()\n",
    "\n",
    "#cv=RepeatedStratifiedKFold(n_splits=10, n_repeats=2, random_state=42)\n",
    "\n",
    "#grid_search=GridSearchCV(estimator=model, param_grid=params, n_jobs=-1, scoring='recall', cv=cv)"
   ]
  },
  {
   "cell_type": "code",
   "execution_count": null,
   "metadata": {},
   "outputs": [],
   "source": [
    "# splitting  dataset into train and test 1\n",
    "X_train, X_test,y_train,y_test = train_test_split(df_ml2, \\\n",
    "                                                  df.ride_duration_seconds, \\\n",
    "                                                  test_size=1/3, \\\n",
    "                                                  random_state=42)"
   ]
  },
  {
   "cell_type": "code",
   "execution_count": null,
   "metadata": {},
   "outputs": [],
   "source": [
    "# splitting  dataset into train and test 1\n",
    "X_train, X_test,y_train,y_test = train_test_split(df_ml2, \\\n",
    "                                                  df.new_passenger_count, \\\n",
    "                                                  test_size=1/3, \\\n",
    "                                                  random_state=42)"
   ]
  },
  {
   "cell_type": "code",
   "execution_count": null,
   "metadata": {},
   "outputs": [],
   "source": [
    "#model_list=['LogisticRegression(max_iter=1e8)','GaussianNB()','DecisionTreeClassifier()','RandomForestClassifier()','RandomForestClassifier(max_depth=3)',\"RandomForestClassifier(class_weight='balanced')\",'SVC()',\"SVC(kernel='sigmoid')\",'NuSVC(nu=0.1)',\"NuSVC(nu=0.1,kernel='sigmoid')\",'KNeighborsClassifier(n_neighbors=7)','KNeighborsClassifier(n_neighbors=3)',\"KNeighborsClassifier(weights='distance')\",'AdaBoostClassifier()','CatBoostClassifier()']\n",
    "\n"
   ]
  },
  {
   "cell_type": "code",
   "execution_count": null,
   "metadata": {},
   "outputs": [],
   "source": [
    "# Lanceur de models\n",
    "model_list=['GammaRegressor()','DecisionTreeClassifier()','GaussianNB()','DecisionTreeClassifier()','RandomForestClassifier()','LinearRegression()']\n",
    "\n",
    "#Ecrire ne classe abvec les modeles\n",
    "def LaunchAllModels(model_list):\n",
    "    results=[]\n",
    "    for i in model_list:\n",
    "        model=eval(f'{i}')\n",
    "        model.fit(X_train,y_train)\n",
    "        y_pred=model.predict(X_test)\n",
    "        R2=r2_score(y_test,y_pred)\n",
    "        results.append([i,R2])\n",
    "    return results\n",
    "result=LaunchAllModels(model_list) \n"
   ]
  },
  {
   "cell_type": "code",
   "execution_count": null,
   "metadata": {},
   "outputs": [],
   "source": [
    "result=pd.DataFrame(result)\n",
    "result.columns=['Model Name','R^2']\n",
    "result.round(3)"
   ]
  },
  {
   "cell_type": "code",
   "execution_count": null,
   "metadata": {},
   "outputs": [],
   "source": []
  },
  {
   "cell_type": "markdown",
   "metadata": {},
   "source": [
    "# Useful code"
   ]
  },
  {
   "cell_type": "code",
   "execution_count": null,
   "metadata": {},
   "outputs": [],
   "source": []
  },
  {
   "cell_type": "code",
   "execution_count": null,
   "metadata": {},
   "outputs": [],
   "source": []
  },
  {
   "cell_type": "code",
   "execution_count": null,
   "metadata": {},
   "outputs": [],
   "source": [
    "taxi.describe(include='all')"
   ]
  },
  {
   "cell_type": "code",
   "execution_count": null,
   "metadata": {},
   "outputs": [],
   "source": [
    "#BasiC EDA \n",
    "from pandas_profiling import ProfileReport\n",
    "#prof = ProfileReport(weather)\n",
    "#prof.to_file(output_file='outputweather.html')"
   ]
  },
  {
   "cell_type": "code",
   "execution_count": null,
   "metadata": {},
   "outputs": [],
   "source": [
    "#m=TSNE(n_components=2, random_state=0)\n",
    "\n",
    "\n",
    "#tsne_features=m.fit(df_ml2Sample)\n",
    "#df_ml2Sample['x']=tsne_features[:,0]\n",
    "#df_ml2Sample['y']=tsne_features[:,1]\n",
    "#sns.scatterplot(x='x',y='y',data=df_ml2)\n",
    "#plt.show()\n",
    "#sns.scatterplot(x='x',y='y',data=df_ml2,hue=cluster1)\n",
    "#plt.show()\n",
    "#sns.scatterplot(x='x',y='y',data=df_ml2,hue=cluster2)\n",
    "#plt.show()"
   ]
  }
 ],
 "metadata": {
  "kernelspec": {
   "display_name": "Python 3",
   "language": "python",
   "name": "python3"
  },
  "language_info": {
   "codemirror_mode": {
    "name": "ipython",
    "version": 3
   },
   "file_extension": ".py",
   "mimetype": "text/x-python",
   "name": "python",
   "nbconvert_exporter": "python",
   "pygments_lexer": "ipython3",
   "version": "3.7.6"
  }
 },
 "nbformat": 4,
 "nbformat_minor": 4
}
