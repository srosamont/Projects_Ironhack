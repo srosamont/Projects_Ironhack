{
  "nbformat": 4,
  "nbformat_minor": 0,
  "metadata": {
    "colab": {
      "name": "NYC_ride_fare.ipynb",
      "provenance": [],
      "collapsed_sections": [],
      "authorship_tag": "ABX9TyPz3vS8CmKEU9nsQBSQfOik",
      "include_colab_link": true
    },
    "kernelspec": {
      "name": "python3",
      "display_name": "Python 3"
    }
  },
  "cells": [
    {
      "cell_type": "markdown",
      "metadata": {
        "id": "view-in-github",
        "colab_type": "text"
      },
      "source": [
        "<a href=\"https://colab.research.google.com/github/srosamont/Projects_Ironhack/blob/master/NYC_ride_fare.ipynb\" target=\"_parent\"><img src=\"https://colab.research.google.com/assets/colab-badge.svg\" alt=\"Open In Colab\"/></a>"
      ]
    },
    {
      "cell_type": "code",
      "metadata": {
        "id": "-CAKLr1tc9r0",
        "colab_type": "code",
        "colab": {
          "base_uri": "https://localhost:8080/",
          "height": 71
        },
        "outputId": "b75e8f98-4044-4eda-ddde-2e3730b72f2f"
      },
      "source": [
        "#Libraries\n",
        "\n",
        "import pandas as pd\n",
        "import numpy as np\n",
        "import seaborn as sns\n",
        "import matplotlib.pyplot as plt\n",
        "%matplotlib inline\n",
        "sns.set_style('dark')\n"
      ],
      "execution_count": 2,
      "outputs": [
        {
          "output_type": "stream",
          "text": [
            "/usr/local/lib/python3.6/dist-packages/statsmodels/tools/_testing.py:19: FutureWarning: pandas.util.testing is deprecated. Use the functions in the public API at pandas.testing instead.\n",
            "  import pandas.util.testing as tm\n"
          ],
          "name": "stderr"
        }
      ]
    },
    {
      "cell_type": "code",
      "metadata": {
        "id": "Oil1LMCNeuKi",
        "colab_type": "code",
        "colab": {
          "base_uri": "https://localhost:8080/",
          "height": 34
        },
        "outputId": "e8356a5e-ecb7-4c4c-d97a-681c27a4ee41"
      },
      "source": [
        "# Lire fichier\n",
        "from google.colab import drive\n",
        "drive.mount('/content/drive')"
      ],
      "execution_count": 12,
      "outputs": [
        {
          "output_type": "stream",
          "text": [
            "Drive already mounted at /content/drive; to attempt to forcibly remount, call drive.mount(\"/content/drive\", force_remount=True).\n"
          ],
          "name": "stdout"
        }
      ]
    },
    {
      "cell_type": "code",
      "metadata": {
        "id": "vhVPO6FjeuQn",
        "colab_type": "code",
        "colab": {}
      },
      "source": [
        "path=\"/content/drive/My Drive/Data/train_2014.csv\""
      ],
      "execution_count": 13,
      "outputs": []
    },
    {
      "cell_type": "code",
      "metadata": {
        "id": "VG433IuDeAKN",
        "colab_type": "code",
        "colab": {
          "base_uri": "https://localhost:8080/",
          "height": 51
        },
        "outputId": "2661a4e7-321f-4ff4-8ee8-125f15a6f1c4"
      },
      "source": [
        "%%time\n",
        "\n",
        "df_2014=pd.read_csv(path)\n"
      ],
      "execution_count": 14,
      "outputs": [
        {
          "output_type": "stream",
          "text": [
            "CPU times: user 16.6 s, sys: 2.57 s, total: 19.2 s\n",
            "Wall time: 22.1 s\n"
          ],
          "name": "stdout"
        }
      ]
    },
    {
      "cell_type": "code",
      "metadata": {
        "id": "hJTcuvpiK1bT",
        "colab_type": "code",
        "colab": {
          "base_uri": "https://localhost:8080/",
          "height": 51
        },
        "outputId": "da8260b1-f9ae-4821-b817-4abef8d827b4"
      },
      "source": [
        "\n"
      ],
      "execution_count": 7,
      "outputs": [
        {
          "output_type": "stream",
          "text": [
            "CPU times: user 15.2 s, sys: 2.45 s, total: 17.7 s\n",
            "Wall time: 22.1 s\n"
          ],
          "name": "stdout"
        }
      ]
    },
    {
      "cell_type": "code",
      "metadata": {
        "id": "7_1-kUthK1rU",
        "colab_type": "code",
        "colab": {}
      },
      "source": [
        "\n"
      ],
      "execution_count": null,
      "outputs": []
    },
    {
      "cell_type": "code",
      "metadata": {
        "id": "7LJu6aPeeAVZ",
        "colab_type": "code",
        "colab": {
          "base_uri": "https://localhost:8080/",
          "height": 51
        },
        "outputId": "c9f7af2f-8c61-433f-ca9b-a55f2a0a1902"
      },
      "source": [
        "%%time\n",
        "import pickle\n",
        "filename = 'fichier2014lu.sav'\n",
        "pickle.dump(df_2014, open(filename, 'wb'))\n"
      ],
      "execution_count": 15,
      "outputs": [
        {
          "output_type": "stream",
          "text": [
            "CPU times: user 6.52 s, sys: 1.7 s, total: 8.22 s\n",
            "Wall time: 10 s\n"
          ],
          "name": "stdout"
        }
      ]
    },
    {
      "cell_type": "code",
      "metadata": {
        "id": "U4hIDi-ZpLwV",
        "colab_type": "code",
        "colab": {
          "base_uri": "https://localhost:8080/",
          "height": 198
        },
        "outputId": "ad02c095-3fe1-4397-c248-abe27b5fc37e"
      },
      "source": [
        "#Unpickle\n",
        "import pickle\n",
        "df_2014=pickle.load( open('fichier2014lu.sav', \"rb\" ) )\n"
      ],
      "execution_count": 3,
      "outputs": [
        {
          "output_type": "error",
          "ename": "EOFError",
          "evalue": "ignored",
          "traceback": [
            "\u001b[0;31m---------------------------------------------------------------------------\u001b[0m",
            "\u001b[0;31mEOFError\u001b[0m                                  Traceback (most recent call last)",
            "\u001b[0;32m<ipython-input-3-b6731eb4c626>\u001b[0m in \u001b[0;36m<module>\u001b[0;34m()\u001b[0m\n\u001b[1;32m      1\u001b[0m \u001b[0;31m#Unpickle\u001b[0m\u001b[0;34m\u001b[0m\u001b[0;34m\u001b[0m\u001b[0;34m\u001b[0m\u001b[0m\n\u001b[1;32m      2\u001b[0m \u001b[0;32mimport\u001b[0m \u001b[0mpickle\u001b[0m\u001b[0;34m\u001b[0m\u001b[0;34m\u001b[0m\u001b[0m\n\u001b[0;32m----> 3\u001b[0;31m \u001b[0mdf_2014\u001b[0m\u001b[0;34m=\u001b[0m\u001b[0mpickle\u001b[0m\u001b[0;34m.\u001b[0m\u001b[0mload\u001b[0m\u001b[0;34m(\u001b[0m \u001b[0mopen\u001b[0m\u001b[0;34m(\u001b[0m\u001b[0;34m'fichier2014lu.sav'\u001b[0m\u001b[0;34m,\u001b[0m \u001b[0;34m\"rb\"\u001b[0m \u001b[0;34m)\u001b[0m \u001b[0;34m)\u001b[0m\u001b[0;34m\u001b[0m\u001b[0;34m\u001b[0m\u001b[0m\n\u001b[0m",
            "\u001b[0;31mEOFError\u001b[0m: Ran out of input"
          ]
        }
      ]
    },
    {
      "cell_type": "code",
      "metadata": {
        "id": "mIlcXtOSpL4g",
        "colab_type": "code",
        "colab": {}
      },
      "source": [
        ""
      ],
      "execution_count": null,
      "outputs": []
    },
    {
      "cell_type": "code",
      "metadata": {
        "id": "lYDLQaOSpL-u",
        "colab_type": "code",
        "colab": {}
      },
      "source": [
        ""
      ],
      "execution_count": null,
      "outputs": []
    },
    {
      "cell_type": "code",
      "metadata": {
        "id": "vrncHYvULyub",
        "colab_type": "code",
        "colab": {
          "base_uri": "https://localhost:8080/",
          "height": 34
        },
        "outputId": "33dad0d4-1cff-4d5c-f178-8c2fb1fabd93"
      },
      "source": [
        "df_2014.shape\n"
      ],
      "execution_count": 16,
      "outputs": [
        {
          "output_type": "execute_result",
          "data": {
            "text/plain": [
              "(8252682, 8)"
            ]
          },
          "metadata": {
            "tags": []
          },
          "execution_count": 16
        }
      ]
    },
    {
      "cell_type": "code",
      "metadata": {
        "id": "uDU2E5f6Ly2k",
        "colab_type": "code",
        "colab": {
          "base_uri": "https://localhost:8080/",
          "height": 272
        },
        "outputId": "e68d76b3-8360-4291-fc5f-8df09a60a452"
      },
      "source": [
        "df_2014.info()"
      ],
      "execution_count": 17,
      "outputs": [
        {
          "output_type": "stream",
          "text": [
            "<class 'pandas.core.frame.DataFrame'>\n",
            "RangeIndex: 8252682 entries, 0 to 8252681\n",
            "Data columns (total 8 columns):\n",
            " #   Column             Dtype  \n",
            "---  ------             -----  \n",
            " 0   key                object \n",
            " 1   fare_amount        float64\n",
            " 2   pickup_datetime    object \n",
            " 3   pickup_longitude   float64\n",
            " 4   pickup_latitude    float64\n",
            " 5   dropoff_longitude  float64\n",
            " 6   dropoff_latitude   float64\n",
            " 7   passenger_count    int64  \n",
            "dtypes: float64(5), int64(1), object(2)\n",
            "memory usage: 503.7+ MB\n"
          ],
          "name": "stdout"
        }
      ]
    },
    {
      "cell_type": "code",
      "metadata": {
        "id": "POzwp6d0NQiH",
        "colab_type": "code",
        "colab": {
          "base_uri": "https://localhost:8080/",
          "height": 170
        },
        "outputId": "ca3a70b8-e19a-46bb-f3ce-db75125374ab"
      },
      "source": [
        "df_2014.isnull().sum()"
      ],
      "execution_count": 18,
      "outputs": [
        {
          "output_type": "execute_result",
          "data": {
            "text/plain": [
              "key                  0\n",
              "fare_amount          0\n",
              "pickup_datetime      0\n",
              "pickup_longitude     0\n",
              "pickup_latitude      0\n",
              "dropoff_longitude    4\n",
              "dropoff_latitude     4\n",
              "passenger_count      0\n",
              "dtype: int64"
            ]
          },
          "metadata": {
            "tags": []
          },
          "execution_count": 18
        }
      ]
    },
    {
      "cell_type": "code",
      "metadata": {
        "id": "FaO3KzlfLzB9",
        "colab_type": "code",
        "colab": {}
      },
      "source": [
        "#deleting 4 rows with missing values in dropoff columns.\n",
        "df_2014.dropna(axis=0,inplace=True)"
      ],
      "execution_count": 19,
      "outputs": []
    },
    {
      "cell_type": "code",
      "metadata": {
        "id": "lmFNlv5qLy-t",
        "colab_type": "code",
        "colab": {}
      },
      "source": [
        "df_2014.drop_duplicates(inplace=True)"
      ],
      "execution_count": 20,
      "outputs": []
    },
    {
      "cell_type": "code",
      "metadata": {
        "id": "YmhCBbWaLy88",
        "colab_type": "code",
        "colab": {
          "base_uri": "https://localhost:8080/",
          "height": 68
        },
        "outputId": "59c086e0-a0f1-406a-eafd-9f0d4ee0d2b6"
      },
      "source": [
        "df_2014.pickup_datetime.unique() #df_2013.pickup_datetime.unique()"
      ],
      "execution_count": 21,
      "outputs": [
        {
          "output_type": "execute_result",
          "data": {
            "text/plain": [
              "array(['2014-02-19 07:22:00 UTC', '2014-12-06 20:36:22 UTC',\n",
              "       '2014-02-19 16:03:00 UTC', ..., '2014-07-31 09:06:06 UTC',\n",
              "       '2014-05-02 07:36:20 UTC', '2014-03-04 22:25:01 UTC'], dtype=object)"
            ]
          },
          "metadata": {
            "tags": []
          },
          "execution_count": 21
        }
      ]
    },
    {
      "cell_type": "code",
      "metadata": {
        "id": "Iu6emk_hN8bf",
        "colab_type": "code",
        "colab": {
          "base_uri": "https://localhost:8080/",
          "height": 51
        },
        "outputId": "ca88dd3d-046d-40ce-be9f-bcc0e5c1931f"
      },
      "source": [
        "%%time\n",
        "df_2014['date']=pd.to_datetime(df_2014['pickup_datetime'])"
      ],
      "execution_count": 22,
      "outputs": [
        {
          "output_type": "stream",
          "text": [
            "CPU times: user 16min 47s, sys: 154 ms, total: 16min 48s\n",
            "Wall time: 16min 48s\n"
          ],
          "name": "stdout"
        }
      ]
    },
    {
      "cell_type": "code",
      "metadata": {
        "id": "SKBCp7h5N8h1",
        "colab_type": "code",
        "colab": {}
      },
      "source": [
        "#Creer un fichier pickle pour sauver \n",
        "filename1 = 'fichier2014datetransformed.sav'\n",
        "pickle.dump(df_2014, open(filename1, 'wb'))"
      ],
      "execution_count": 23,
      "outputs": []
    },
    {
      "cell_type": "code",
      "metadata": {
        "id": "Sdfu8JdLvFni",
        "colab_type": "code",
        "colab": {}
      },
      "source": [
        "#Unpickle\n",
        "\n",
        "df_2014=pickle.load( open('fichier2014datetransformed.sav', \"rb\" ) )"
      ],
      "execution_count": 31,
      "outputs": []
    },
    {
      "cell_type": "code",
      "metadata": {
        "id": "jvzir61HN8ll",
        "colab_type": "code",
        "colab": {
          "base_uri": "https://localhost:8080/",
          "height": 51
        },
        "outputId": "09908fcd-d495-4dfc-d2ba-eafe9d38bc3f"
      },
      "source": [
        "%%time\n",
        "# Month of year\n",
        "df_2014['month'] = df_2014['date'].dt.month_name()\n",
        "# Week of year\n",
        "df_2014['week_nb'] = df_2014['date'].dt.week\n",
        "# Day of week\n",
        "df_2014['weekday'] = df_2014['date'].dt.day_name()\n",
        "# Day of year (quantieme)\n",
        "df_2014['day_nb'] = df_2014['date'].dt.dayofyear\n",
        "# Hour of the day \n",
        "df_2014['hour'] = df_2014['date'].dt.hour\n",
        "# Day of the month\n",
        "df_2014['Month_day'] = df_2014['date'].dt.day"
      ],
      "execution_count": 32,
      "outputs": [
        {
          "output_type": "stream",
          "text": [
            "CPU times: user 8.9 s, sys: 706 ms, total: 9.61 s\n",
            "Wall time: 9.61 s\n"
          ],
          "name": "stdout"
        }
      ]
    },
    {
      "cell_type": "code",
      "metadata": {
        "id": "wL5ZvOcEN8o2",
        "colab_type": "code",
        "colab": {
          "base_uri": "https://localhost:8080/",
          "height": 34
        },
        "outputId": "29f43e33-edd3-41ee-8703-bf047cb16e2f"
      },
      "source": [
        "df_2014['week_nb'].unique().size"
      ],
      "execution_count": 33,
      "outputs": [
        {
          "output_type": "execute_result",
          "data": {
            "text/plain": [
              "52"
            ]
          },
          "metadata": {
            "tags": []
          },
          "execution_count": 33
        }
      ]
    },
    {
      "cell_type": "code",
      "metadata": {
        "id": "KNrCcu3TN8sr",
        "colab_type": "code",
        "colab": {
          "base_uri": "https://localhost:8080/",
          "height": 51
        },
        "outputId": "a8e83b06-609c-43d3-dd4d-3de0a6f8bcf5"
      },
      "source": [
        "df_2014['weekday'].unique()"
      ],
      "execution_count": 34,
      "outputs": [
        {
          "output_type": "execute_result",
          "data": {
            "text/plain": [
              "array(['Wednesday', 'Saturday', 'Thursday', 'Friday', 'Tuesday', 'Monday',\n",
              "       'Sunday'], dtype=object)"
            ]
          },
          "metadata": {
            "tags": []
          },
          "execution_count": 34
        }
      ]
    },
    {
      "cell_type": "code",
      "metadata": {
        "id": "atqjT3dwk9GX",
        "colab_type": "code",
        "colab": {
          "base_uri": "https://localhost:8080/",
          "height": 68
        },
        "outputId": "46f6617d-795f-461c-cbcf-d3a8d42f104e"
      },
      "source": [
        "df_2014['month'].unique()"
      ],
      "execution_count": 35,
      "outputs": [
        {
          "output_type": "execute_result",
          "data": {
            "text/plain": [
              "array(['February', 'December', 'July', 'May', 'January', 'April', 'June',\n",
              "       'March', 'October', 'November', 'September', 'August'],\n",
              "      dtype=object)"
            ]
          },
          "metadata": {
            "tags": []
          },
          "execution_count": 35
        }
      ]
    },
    {
      "cell_type": "code",
      "metadata": {
        "id": "fGZH_mBik9NA",
        "colab_type": "code",
        "colab": {
          "base_uri": "https://localhost:8080/",
          "height": 34
        },
        "outputId": "378110ae-359e-465f-e69b-acae21cbe76b"
      },
      "source": [
        "df_2014['day_nb'].unique().size"
      ],
      "execution_count": 36,
      "outputs": [
        {
          "output_type": "execute_result",
          "data": {
            "text/plain": [
              "365"
            ]
          },
          "metadata": {
            "tags": []
          },
          "execution_count": 36
        }
      ]
    },
    {
      "cell_type": "code",
      "metadata": {
        "id": "wl9htfiSk9T4",
        "colab_type": "code",
        "colab": {
          "base_uri": "https://localhost:8080/",
          "height": 221
        },
        "outputId": "5e263401-72ea-46d2-a11d-32085292d8e7"
      },
      "source": [
        "df_2014.pickup_longitude.value_counts()\n",
        "#drop longitudes at 0 (greenwich meridians)\n",
        "#drop latitudes at 0 (Eaquateur)"
      ],
      "execution_count": 37,
      "outputs": [
        {
          "output_type": "execute_result",
          "data": {
            "text/plain": [
              " 0.000000     164201\n",
              "-73.982220       917\n",
              "-73.982140       908\n",
              "-73.982310       867\n",
              "-73.982130       866\n",
              "               ...  \n",
              "-73.869446         1\n",
              "-73.935113         1\n",
              "-73.898072         1\n",
              "-73.794746         1\n",
              "-73.930103         1\n",
              "Name: pickup_longitude, Length: 158297, dtype: int64"
            ]
          },
          "metadata": {
            "tags": []
          },
          "execution_count": 37
        }
      ]
    },
    {
      "cell_type": "code",
      "metadata": {
        "id": "oRb62RQEuawH",
        "colab_type": "code",
        "colab": {
          "base_uri": "https://localhost:8080/",
          "height": 221
        },
        "outputId": "a96090b8-96ee-4404-e8b4-f911199ef8dc"
      },
      "source": [
        "#drop latitudes at 0 (Equateur)\n",
        "df_2014.pickup_latitude.value_counts()"
      ],
      "execution_count": 26,
      "outputs": [
        {
          "output_type": "execute_result",
          "data": {
            "text/plain": [
              "0.000000     164201\n",
              "40.759360       942\n",
              "40.758277       892\n",
              "40.758282       878\n",
              "40.758187       851\n",
              "              ...  \n",
              "40.664545         1\n",
              "40.813369         1\n",
              "40.633295         1\n",
              "40.844619         1\n",
              "40.701961         1\n",
              "Name: pickup_latitude, Length: 178806, dtype: int64"
            ]
          },
          "metadata": {
            "tags": []
          },
          "execution_count": 26
        }
      ]
    },
    {
      "cell_type": "code",
      "metadata": {
        "id": "I-ZiU2WwukPQ",
        "colab_type": "code",
        "colab": {}
      },
      "source": [
        "df_2014=df_2014[df_2014.pickup_latitude!=0]"
      ],
      "execution_count": 38,
      "outputs": []
    },
    {
      "cell_type": "code",
      "metadata": {
        "id": "3KPnm3yauzJ9",
        "colab_type": "code",
        "colab": {
          "base_uri": "https://localhost:8080/",
          "height": 221
        },
        "outputId": "b297521f-ff29-43a8-db4f-a9ca4007a00a"
      },
      "source": [
        "df_2014.pickup_longitude.value_counts()"
      ],
      "execution_count": 39,
      "outputs": [
        {
          "output_type": "execute_result",
          "data": {
            "text/plain": [
              "-73.982220    917\n",
              "-73.982140    908\n",
              "-73.982310    867\n",
              "-73.982130    866\n",
              "-73.982320    859\n",
              "             ... \n",
              "-74.078191      1\n",
              "-73.696833      1\n",
              "-73.806208      1\n",
              "-73.792092      1\n",
              "-73.895418      1\n",
              "Name: pickup_longitude, Length: 158296, dtype: int64"
            ]
          },
          "metadata": {
            "tags": []
          },
          "execution_count": 39
        }
      ]
    },
    {
      "cell_type": "code",
      "metadata": {
        "id": "uIOnMRaCvjJH",
        "colab_type": "code",
        "colab": {}
      },
      "source": [
        "df_2014=df_2014[df_2014.dropoff_latitude!=0]"
      ],
      "execution_count": 41,
      "outputs": []
    },
    {
      "cell_type": "code",
      "metadata": {
        "id": "S4rUl3YSvjSZ",
        "colab_type": "code",
        "colab": {
          "base_uri": "https://localhost:8080/",
          "height": 221
        },
        "outputId": "ebf79af1-da68-4d2b-82c2-97454a1cef64"
      },
      "source": [
        "df_2014.pickup_latitude.value_counts()"
      ],
      "execution_count": 45,
      "outputs": [
        {
          "output_type": "execute_result",
          "data": {
            "text/plain": [
              "40.759360    930\n",
              "40.758277    878\n",
              "40.758282    871\n",
              "40.758187    839\n",
              "40.758457    827\n",
              "            ... \n",
              "40.680671      1\n",
              "40.833605      1\n",
              "40.852722      1\n",
              "40.647713      1\n",
              "40.649535      1\n",
              "Name: pickup_latitude, Length: 178585, dtype: int64"
            ]
          },
          "metadata": {
            "tags": []
          },
          "execution_count": 45
        }
      ]
    },
    {
      "cell_type": "code",
      "metadata": {
        "id": "EFlqzA_Ek9RE",
        "colab_type": "code",
        "colab": {
          "base_uri": "https://localhost:8080/",
          "height": 187
        },
        "outputId": "0a250e5a-37bf-4126-b6ae-c498d8617642"
      },
      "source": [
        "df_2014.passenger_count.value_counts()"
      ],
      "execution_count": 48,
      "outputs": [
        {
          "output_type": "execute_result",
          "data": {
            "text/plain": [
              "1    5681525\n",
              "2    1128414\n",
              "5     455691\n",
              "3     340840\n",
              "6     301150\n",
              "4     165332\n",
              "9          9\n",
              "7          6\n",
              "8          3\n",
              "Name: passenger_count, dtype: int64"
            ]
          },
          "metadata": {
            "tags": []
          },
          "execution_count": 48
        }
      ]
    },
    {
      "cell_type": "code",
      "metadata": {
        "id": "cDTd7S9Xk9DO",
        "colab_type": "code",
        "colab": {}
      },
      "source": [
        "#remove rides with 208 passengers . It is certainly an error. removed while rempving the matitude and longitude at 0\n",
        "df_2014=df_2014[df_2014.passenger_count!=208]"
      ],
      "execution_count": 35,
      "outputs": []
    },
    {
      "cell_type": "code",
      "metadata": {
        "id": "M0V1tebqg9pT",
        "colab_type": "code",
        "colab": {}
      },
      "source": [
        "#remove rides with 0 passenger even if they may be rides to transfer parcels or documents\n",
        "df_2014=df_2014[df_2014.passenger_count!=0]"
      ],
      "execution_count": 47,
      "outputs": []
    },
    {
      "cell_type": "code",
      "metadata": {
        "id": "328XzP7emXZv",
        "colab_type": "code",
        "colab": {
          "base_uri": "https://localhost:8080/",
          "height": 221
        },
        "outputId": "0ec45019-65ee-4d28-8667-57a53527c660"
      },
      "source": [
        "df_2014.fare_amount.value_counts()"
      ],
      "execution_count": 50,
      "outputs": [
        {
          "output_type": "execute_result",
          "data": {
            "text/plain": [
              "6.50      393717\n",
              "6.00      390405\n",
              "7.00      385514\n",
              "5.50      377676\n",
              "7.50      373789\n",
              "           ...  \n",
              "49.51          1\n",
              "164.45         1\n",
              "49.99          1\n",
              "54.01          1\n",
              "13.30          1\n",
              "Name: fare_amount, Length: 3012, dtype: int64"
            ]
          },
          "metadata": {
            "tags": []
          },
          "execution_count": 50
        }
      ]
    },
    {
      "cell_type": "code",
      "metadata": {
        "id": "Zlcb3iEImXge",
        "colab_type": "code",
        "colab": {
          "base_uri": "https://localhost:8080/",
          "height": 34
        },
        "outputId": "4a6553f1-a72c-49a9-ec5a-e7f5d2807721"
      },
      "source": [
        "df_2014.fare_amount.max()"
      ],
      "execution_count": 51,
      "outputs": [
        {
          "output_type": "execute_result",
          "data": {
            "text/plain": [
              "500.0"
            ]
          },
          "metadata": {
            "tags": []
          },
          "execution_count": 51
        }
      ]
    },
    {
      "cell_type": "code",
      "metadata": {
        "id": "Gxl-miVHxERl",
        "colab_type": "code",
        "colab": {
          "base_uri": "https://localhost:8080/",
          "height": 34
        },
        "outputId": "1b8c452b-7307-40df-dbab-64d3eb38f100"
      },
      "source": [
        "df_2014.fare_amount.min()"
      ],
      "execution_count": 52,
      "outputs": [
        {
          "output_type": "execute_result",
          "data": {
            "text/plain": [
              "0.0"
            ]
          },
          "metadata": {
            "tags": []
          },
          "execution_count": 52
        }
      ]
    },
    {
      "cell_type": "code",
      "metadata": {
        "id": "fA7EJ_hCxEOC",
        "colab_type": "code",
        "colab": {}
      },
      "source": [
        "# drop the 10 occurences with a 0 amount\n",
        "df_2014=df_2014[df_2014.fare_amount!=0]"
      ],
      "execution_count": 55,
      "outputs": []
    },
    {
      "cell_type": "code",
      "metadata": {
        "id": "KJ4DEvNOxlu0",
        "colab_type": "code",
        "colab": {
          "base_uri": "https://localhost:8080/",
          "height": 165
        },
        "outputId": "0e2dbd20-64e3-498d-8482-3ad056ef4cd2"
      },
      "source": [
        "df_2014[df_2014.fare_amount==500.0]"
      ],
      "execution_count": 56,
      "outputs": [
        {
          "output_type": "execute_result",
          "data": {
            "text/html": [
              "<div>\n",
              "<style scoped>\n",
              "    .dataframe tbody tr th:only-of-type {\n",
              "        vertical-align: middle;\n",
              "    }\n",
              "\n",
              "    .dataframe tbody tr th {\n",
              "        vertical-align: top;\n",
              "    }\n",
              "\n",
              "    .dataframe thead th {\n",
              "        text-align: right;\n",
              "    }\n",
              "</style>\n",
              "<table border=\"1\" class=\"dataframe\">\n",
              "  <thead>\n",
              "    <tr style=\"text-align: right;\">\n",
              "      <th></th>\n",
              "      <th>key</th>\n",
              "      <th>fare_amount</th>\n",
              "      <th>pickup_datetime</th>\n",
              "      <th>pickup_longitude</th>\n",
              "      <th>pickup_latitude</th>\n",
              "      <th>dropoff_longitude</th>\n",
              "      <th>dropoff_latitude</th>\n",
              "      <th>passenger_count</th>\n",
              "      <th>date</th>\n",
              "      <th>month</th>\n",
              "      <th>week_nb</th>\n",
              "      <th>weekday</th>\n",
              "      <th>day_nb</th>\n",
              "      <th>hour</th>\n",
              "      <th>Month_day</th>\n",
              "    </tr>\n",
              "  </thead>\n",
              "  <tbody>\n",
              "    <tr>\n",
              "      <th>6560865</th>\n",
              "      <td>2014-01-29 01:52:34.0000001</td>\n",
              "      <td>500.0</td>\n",
              "      <td>2014-01-29 01:52:34 UTC</td>\n",
              "      <td>-73.977378</td>\n",
              "      <td>40.742028</td>\n",
              "      <td>-73.977378</td>\n",
              "      <td>40.742028</td>\n",
              "      <td>1</td>\n",
              "      <td>2014-01-29 01:52:34+00:00</td>\n",
              "      <td>January</td>\n",
              "      <td>5</td>\n",
              "      <td>Wednesday</td>\n",
              "      <td>29</td>\n",
              "      <td>1</td>\n",
              "      <td>29</td>\n",
              "    </tr>\n",
              "    <tr>\n",
              "      <th>6987748</th>\n",
              "      <td>2014-03-18 09:39:22.0000003</td>\n",
              "      <td>500.0</td>\n",
              "      <td>2014-03-18 09:39:22 UTC</td>\n",
              "      <td>-73.851255</td>\n",
              "      <td>40.726820</td>\n",
              "      <td>-73.851255</td>\n",
              "      <td>40.726820</td>\n",
              "      <td>1</td>\n",
              "      <td>2014-03-18 09:39:22+00:00</td>\n",
              "      <td>March</td>\n",
              "      <td>12</td>\n",
              "      <td>Tuesday</td>\n",
              "      <td>77</td>\n",
              "      <td>9</td>\n",
              "      <td>18</td>\n",
              "    </tr>\n",
              "  </tbody>\n",
              "</table>\n",
              "</div>"
            ],
            "text/plain": [
              "                                 key  fare_amount  ... hour  Month_day\n",
              "6560865  2014-01-29 01:52:34.0000001        500.0  ...    1         29\n",
              "6987748  2014-03-18 09:39:22.0000003        500.0  ...    9         18\n",
              "\n",
              "[2 rows x 15 columns]"
            ]
          },
          "metadata": {
            "tags": []
          },
          "execution_count": 56
        }
      ]
    },
    {
      "cell_type": "code",
      "metadata": {
        "id": "sZYJxSCwoZGG",
        "colab_type": "code",
        "colab": {}
      },
      "source": [
        "%%time\n",
        "filename = 'fichier2014lu.sav'\n",
        "pickle.dump(df_2014, open(filename, 'wb'))\n",
        "filename2 = 'fichier2014lu.sav'\n",
        "pickle.dump(df_2013, open(filename2, 'wb'))"
      ],
      "execution_count": null,
      "outputs": []
    },
    {
      "cell_type": "code",
      "metadata": {
        "id": "zPOOlNGemXdy",
        "colab_type": "code",
        "colab": {}
      },
      "source": [
        "%%time\n",
        "df_2014.to_csv('/content/drive/My Drive/Data/train_2014Clean.csv')"
      ],
      "execution_count": 57,
      "outputs": []
    },
    {
      "cell_type": "code",
      "metadata": {
        "id": "ih6EjgDgypp2",
        "colab_type": "code",
        "colab": {}
      },
      "source": [
        "#Creer un fichier pickle pour sauver dataframe 2014 clean\n",
        "filename2 = 'dataFrame2014clean.sav'\n",
        "pickle.dump(df_2014, open(filename2, 'wb'))"
      ],
      "execution_count": 58,
      "outputs": []
    },
    {
      "cell_type": "code",
      "metadata": {
        "id": "6zQZUA3G0Y6u",
        "colab_type": "code",
        "colab": {
          "base_uri": "https://localhost:8080/",
          "height": 297
        },
        "outputId": "e57b9881-6365-4a9d-b5c4-e20f9d71a2f5"
      },
      "source": [
        "# Plot distribution of fare_amount\n",
        "sns.distplot(df_2014['fare_amount'])\n",
        "# fare mount is kind of log normal distribution"
      ],
      "execution_count": 59,
      "outputs": [
        {
          "output_type": "execute_result",
          "data": {
            "text/plain": [
              "<matplotlib.axes._subplots.AxesSubplot at 0x7f34052aeac8>"
            ]
          },
          "metadata": {
            "tags": []
          },
          "execution_count": 59
        },
        {
          "output_type": "display_data",
          "data": {
            "image/png": "[encoded data removed]",
            "text/plain": [
              "<Figure size 432x288 with 1 Axes>"
            ]
          },
          "metadata": {
            "tags": []
          }
        }
      ]
    },
    {
      "cell_type": "code",
      "metadata": {
        "id": "YfIsYFLl0y7D",
        "colab_type": "code",
        "colab": {
          "base_uri": "https://localhost:8080/",
          "height": 296
        },
        "outputId": "e6acd4b8-e2b1-4c65-962b-c92a7005b48c"
      },
      "source": [
        "sns.distplot(np.log1p(df_2014['fare_amount']))\n",
        "plt.title('ride fare_amount log')\n",
        "plt.show()"
      ],
      "execution_count": 61,
      "outputs": [
        {
          "output_type": "display_data",
          "data": {
            "image/png": "[encoded data removed]",
            "text/plain": [
              "<Figure size 432x288 with 1 Axes>"
            ]
          },
          "metadata": {
            "tags": []
          }
        }
      ]
    },
    {
      "cell_type": "markdown",
      "metadata": {
        "id": "keDYQhOfvpRS",
        "colab_type": "text"
      },
      "source": [
        "# Distance calculation"
      ]
    },
    {
      "cell_type": "markdown",
      "metadata": {
        "id": "SMPatFIZvrkB",
        "colab_type": "text"
      },
      "source": [
        ""
      ]
    },
    {
      "cell_type": "code",
      "metadata": {
        "id": "lgWdQ-TleAZ-",
        "colab_type": "code",
        "colab": {}
      },
      "source": [
        "# distance calculation with Haversine formula\n",
        "def haversine_np(lon1, lat1, lon2, lat2):\n",
        "    \"\"\"\n",
        "    Calculate the great circle distance between two points\n",
        "    on the earth (specified in decimal degrees)\n",
        "\n",
        "    All args must be of equal length.    \n",
        "\n",
        "    \"\"\"\n",
        "    lon1, lat1, lon2, lat2 = map(np.radians, [lon1, lat1, lon2, lat2])\n",
        "\n",
        "    dlon = lon2 - lon1\n",
        "    dlat = lat2 - lat1\n",
        "\n",
        "    a = np.sin(dlat/2.0)**2 + np.cos(lat1) * np.cos(lat2) * np.sin(dlon/2.0)**2\n",
        "\n",
        "    c = 2 * np.arcsin(np.sqrt(a))\n",
        "    km = 6371 * c\n",
        "    return km"
      ],
      "execution_count": 62,
      "outputs": []
    },
    {
      "cell_type": "code",
      "metadata": {
        "id": "Ec-csWgVeAd6",
        "colab_type": "code",
        "colab": {}
      },
      "source": [
        "df_2014['distance_KM']=haversine_np(df_2014['pickup_longitude'],df_2014['pickup_latitude'],df_2014['dropoff_longitude'],df_2014['dropoff_latitude'])"
      ],
      "execution_count": 63,
      "outputs": []
    },
    {
      "cell_type": "code",
      "metadata": {
        "id": "WNRs4hIw1wxy",
        "colab_type": "code",
        "colab": {
          "base_uri": "https://localhost:8080/",
          "height": 221
        },
        "outputId": "357cf945-111d-497c-aa00-ceafce4b6a43"
      },
      "source": [
        "df_2014['distance_KM'].value_counts()"
      ],
      "execution_count": 64,
      "outputs": [
        {
          "output_type": "execute_result",
          "data": {
            "text/plain": [
              "0.000000    51238\n",
              "0.000111      169\n",
              "0.000111      133\n",
              "0.000222       83\n",
              "0.000222       49\n",
              "            ...  \n",
              "2.925962        1\n",
              "1.373655        1\n",
              "1.788609        1\n",
              "1.104220        1\n",
              "0.242485        1\n",
              "Name: distance_KM, Length: 8020859, dtype: int64"
            ]
          },
          "metadata": {
            "tags": []
          },
          "execution_count": 64
        }
      ]
    },
    {
      "cell_type": "code",
      "metadata": {
        "id": "v7iwkdoc11S6",
        "colab_type": "code",
        "colab": {}
      },
      "source": [
        "# drop distance with 0km (same latitude and longitude)\n",
        "df_2014=df_2014[df_2014['distance_KM']!=0]"
      ],
      "execution_count": 66,
      "outputs": []
    },
    {
      "cell_type": "code",
      "metadata": {
        "id": "UPCSK_zf2FP6",
        "colab_type": "code",
        "colab": {}
      },
      "source": [
        "#Creer un fichier pickle pour sauver dataframe 2014 clean with distance KM\n",
        "filename3 = 'dataFrame2014cleanandKM.sav'\n",
        "pickle.dump(df_2014, open(filename3, 'wb'))"
      ],
      "execution_count": 67,
      "outputs": []
    },
    {
      "cell_type": "code",
      "metadata": {
        "id": "IyuAKpMJj8NI",
        "colab_type": "code",
        "colab": {}
      },
      "source": [
        "#Unpickle\n",
        "import pickle\n",
        "df_2014=pickle.load( open('dataFrame2014cleanandKM.sav', \"rb\" ) )"
      ],
      "execution_count": 3,
      "outputs": []
    },
    {
      "cell_type": "code",
      "metadata": {
        "id": "noV1IhZu8Pcu",
        "colab_type": "code",
        "colab": {}
      },
      "source": [
        "#Add a column with weekend or not weekend in dataframe\n",
        "dct_work={'Monday':1, 'Sunday':0, 'Tuesday':1, 'Wednesday':1, 'Saturday':0, 'Friday':1,\n",
        "       'Thursday':1}\n",
        "df_2014['working_days']=df_2014.weekday.map(dct_work)\n",
        "#ranger jour dans le bon sens.     "
      ],
      "execution_count": 4,
      "outputs": []
    },
    {
      "cell_type": "code",
      "metadata": {
        "id": "cPLV_-vR8snS",
        "colab_type": "code",
        "colab": {
          "base_uri": "https://localhost:8080/",
          "height": 297
        },
        "outputId": "3a577983-1841-43be-f310-ece4d11f5949"
      },
      "source": [
        "sns.heatmap(pd.crosstab(df_2014.hour,df_2014.working_days,normalize='index'))"
      ],
      "execution_count": 5,
      "outputs": [
        {
          "output_type": "execute_result",
          "data": {
            "text/plain": [
              "<matplotlib.axes._subplots.AxesSubplot at 0x7f93cb2c6908>"
            ]
          },
          "metadata": {
            "tags": []
          },
          "execution_count": 5
        },
        {
          "output_type": "display_data",
          "data": {
            "image/png": "[encoded data removed]",
            "text/plain": [
              "<Figure size 432x288 with 2 Axes>"
            ]
          },
          "metadata": {
            "tags": []
          }
        }
      ]
    },
    {
      "cell_type": "code",
      "metadata": {
        "id": "jg-5q1jr9Bx4",
        "colab_type": "code",
        "colab": {
          "base_uri": "https://localhost:8080/",
          "height": 344
        },
        "outputId": "e4cdf950-ea59-49c4-88a3-eef9e0691784"
      },
      "source": [
        "sns.heatmap(pd.crosstab(df_2014.hour,df_2014.weekday,normalize='columns'))\n",
        "#repartition des courses pour chaque jour 0 lundi, 6 dimanche\n",
        "# reprise des bus/metro à quel heure? 5h. heures fermeture bars/boite de nuit."
      ],
      "execution_count": 74,
      "outputs": [
        {
          "output_type": "execute_result",
          "data": {
            "text/plain": [
              "<matplotlib.axes._subplots.AxesSubplot at 0x7f351432e470>"
            ]
          },
          "metadata": {
            "tags": []
          },
          "execution_count": 74
        },
        {
          "output_type": "display_data",
          "data": {
            "image/png": "[encoded data removed]",
            "text/plain": [
              "<Figure size 432x288 with 2 Axes>"
            ]
          },
          "metadata": {
            "tags": []
          }
        }
      ]
    },
    {
      "cell_type": "code",
      "metadata": {
        "id": "tcpq_9ss83f2",
        "colab_type": "code",
        "colab": {
          "base_uri": "https://localhost:8080/",
          "height": 308
        },
        "outputId": "8693abb9-eb55-4eb1-e0a5-7a66ad485ea7"
      },
      "source": [
        "sns.countplot(df_2014.passenger_count)\n",
        "# majority of 1 passenger - ride"
      ],
      "execution_count": 6,
      "outputs": [
        {
          "output_type": "execute_result",
          "data": {
            "text/plain": [
              "<matplotlib.axes._subplots.AxesSubplot at 0x7f93c77231d0>"
            ]
          },
          "metadata": {
            "tags": []
          },
          "execution_count": 6
        },
        {
          "output_type": "display_data",
          "data": {
            "image/png": "[encoded data removed]",
            "text/plain": [
              "<Figure size 432x288 with 1 Axes>"
            ]
          },
          "metadata": {
            "tags": []
          }
        }
      ]
    },
    {
      "cell_type": "code",
      "metadata": {
        "id": "46TQVAib9Miz",
        "colab_type": "code",
        "colab": {
          "base_uri": "https://localhost:8080/",
          "height": 344
        },
        "outputId": "6178994c-c4e3-4ae3-9dbc-d29d57166265"
      },
      "source": [
        "sns.heatmap(pd.crosstab(df_2014.passenger_count,df_2014.weekday,normalize='index'),annot=True)\n",
        "# sur quels jour sont plutot les passager solo, duo, ou plus"
      ],
      "execution_count": 78,
      "outputs": [
        {
          "output_type": "execute_result",
          "data": {
            "text/plain": [
              "<matplotlib.axes._subplots.AxesSubplot at 0x7f35585fd048>"
            ]
          },
          "metadata": {
            "tags": []
          },
          "execution_count": 78
        },
        {
          "output_type": "display_data",
          "data": {
            "image/png": "[encoded data removed]",
            "text/plain": [
              "<Figure size 432x288 with 2 Axes>"
            ]
          },
          "metadata": {
            "tags": []
          }
        }
      ]
    },
    {
      "cell_type": "code",
      "metadata": {
        "id": "_cHRsceR-Gro",
        "colab_type": "code",
        "colab": {}
      },
      "source": [
        "## Pickup latidude vs.longitude"
      ],
      "execution_count": 82,
      "outputs": []
    },
    {
      "cell_type": "markdown",
      "metadata": {
        "id": "U8M5IX79-QTc",
        "colab_type": "text"
      },
      "source": [
        "## Pickup latidude vs.longitude"
      ]
    },
    {
      "cell_type": "code",
      "metadata": {
        "id": "-q0xGBor9gKY",
        "colab_type": "code",
        "colab": {
          "base_uri": "https://localhost:8080/",
          "height": 247
        },
        "outputId": "e3fea5b3-44f2-4436-b0f2-4519ef3ad84e"
      },
      "source": [
        "#aAin rides in Manhattan?,and someone went to Ney Jersey.?\n",
        "ax=df_2014[[\"pickup_latitude\", \"pickup_longitude\"]].plot.scatter(y=\"pickup_latitude\", x=\"pickup_longitude\")\n",
        "ax.set_aspect('equal', 'box')\n",
        "#some rides crosses the sea..."
      ],
      "execution_count": 7,
      "outputs": [
        {
          "output_type": "display_data",
          "data": {
            "image/png": "[encoded data removed]",
            "text/plain": [
              "<Figure size 432x288 with 1 Axes>"
            ]
          },
          "metadata": {
            "tags": []
          }
        }
      ]
    },
    {
      "cell_type": "code",
      "metadata": {
        "id": "qt0tQeuW9rXI",
        "colab_type": "code",
        "colab": {
          "base_uri": "https://localhost:8080/",
          "height": 284
        },
        "outputId": "7ea67752-6e94-40d0-b6a4-9787f0d2d3da"
      },
      "source": [
        "#Zoom\n",
        "\n",
        "ax=df_2014[[\"pickup_latitude\", \"pickup_longitude\"]].plot.scatter(y=\"pickup_latitude\", x=\"pickup_longitude\")\n",
        "ax.set_ylim(40, 42)\n",
        "ax.set_xlim(-75, -73)\n",
        "ax.set_aspect('equal', 'box')\n",
        "#https://matplotlib.org/3.1.0/gallery/subplots_axes_and_figures/axis_equal_demo.html"
      ],
      "execution_count": 10,
      "outputs": [
        {
          "output_type": "display_data",
          "data": {
            "image/png": "[encoded data removed]",
            "text/plain": [
              "<Figure size 432x288 with 1 Axes>"
            ]
          },
          "metadata": {
            "tags": []
          }
        }
      ]
    },
    {
      "cell_type": "code",
      "metadata": {
        "id": "4_dCT3hi-A4P",
        "colab_type": "code",
        "colab": {}
      },
      "source": [
        ""
      ],
      "execution_count": null,
      "outputs": []
    },
    {
      "cell_type": "markdown",
      "metadata": {
        "id": "0VrOYGcv-YQJ",
        "colab_type": "text"
      },
      "source": [
        "## Dropoff Latitude vs. Longitude"
      ]
    },
    {
      "cell_type": "code",
      "metadata": {
        "id": "gKVCRPNx-kk7",
        "colab_type": "code",
        "colab": {
          "base_uri": "https://localhost:8080/",
          "height": 248
        },
        "outputId": "d314df7b-12a7-4d53-d5de-80f5203e85b6"
      },
      "source": [
        "\n",
        "ax=df_2014[[\"dropoff_latitude\", \"dropoff_longitude\"]].plot.scatter(y=\"dropoff_latitude\", x=\"dropoff_longitude\")\n",
        "ax.set_aspect('equal', 'box')"
      ],
      "execution_count": 11,
      "outputs": [
        {
          "output_type": "display_data",
          "data": {
            "image/png": "[encoded data removed]",
            "text/plain": [
              "<Figure size 432x288 with 1 Axes>"
            ]
          },
          "metadata": {
            "tags": []
          }
        }
      ]
    },
    {
      "cell_type": "code",
      "metadata": {
        "id": "Uv7U9-th-dfz",
        "colab_type": "code",
        "colab": {
          "base_uri": "https://localhost:8080/",
          "height": 284
        },
        "outputId": "a4bd44f2-bdb5-4cb4-eac9-6839b33d1410"
      },
      "source": [
        "#Zoom\n",
        "\n",
        "ax=df_2014[[\"dropoff_latitude\", \"dropoff_longitude\"]].plot.scatter(y=\"dropoff_latitude\", x=\"dropoff_longitude\")\n",
        "ax.set_ylim(40, 42)\n",
        "ax.set_xlim(-75, -73)\n",
        "ax.set_aspect('equal', 'box')\n",
        "#https://matplotlib.org/3.1.0/gallery/subplots_axes_and_figures/axis_equal_demo.html"
      ],
      "execution_count": 12,
      "outputs": [
        {
          "output_type": "display_data",
          "data": {
            "image/png": "[encoded data removed]",
            "text/plain": [
              "<Figure size 432x288 with 1 Axes>"
            ]
          },
          "metadata": {
            "tags": []
          }
        }
      ]
    },
    {
      "cell_type": "code",
      "metadata": {
        "id": "xIJd2jR---IQ",
        "colab_type": "code",
        "colab": {
          "base_uri": "https://localhost:8080/",
          "height": 317
        },
        "outputId": "4b336d9f-b6a7-4ab5-f25a-e7938e1e0a7c"
      },
      "source": [
        "df_2014.describe().round(3)"
      ],
      "execution_count": 89,
      "outputs": [
        {
          "output_type": "execute_result",
          "data": {
            "text/html": [
              "<div>\n",
              "<style scoped>\n",
              "    .dataframe tbody tr th:only-of-type {\n",
              "        vertical-align: middle;\n",
              "    }\n",
              "\n",
              "    .dataframe tbody tr th {\n",
              "        vertical-align: top;\n",
              "    }\n",
              "\n",
              "    .dataframe thead th {\n",
              "        text-align: right;\n",
              "    }\n",
              "</style>\n",
              "<table border=\"1\" class=\"dataframe\">\n",
              "  <thead>\n",
              "    <tr style=\"text-align: right;\">\n",
              "      <th></th>\n",
              "      <th>fare_amount</th>\n",
              "      <th>pickup_longitude</th>\n",
              "      <th>pickup_latitude</th>\n",
              "      <th>dropoff_longitude</th>\n",
              "      <th>dropoff_latitude</th>\n",
              "      <th>passenger_count</th>\n",
              "      <th>week_nb</th>\n",
              "      <th>day_nb</th>\n",
              "      <th>hour</th>\n",
              "      <th>Month_day</th>\n",
              "      <th>distance_KM</th>\n",
              "      <th>working_days</th>\n",
              "    </tr>\n",
              "  </thead>\n",
              "  <tbody>\n",
              "    <tr>\n",
              "      <th>count</th>\n",
              "      <td>8021722.000</td>\n",
              "      <td>8021722.000</td>\n",
              "      <td>8021722.000</td>\n",
              "      <td>8021722.000</td>\n",
              "      <td>8021722.000</td>\n",
              "      <td>8021722.000</td>\n",
              "      <td>8021722.000</td>\n",
              "      <td>8021722.000</td>\n",
              "      <td>8021722.000</td>\n",
              "      <td>8021722.000</td>\n",
              "      <td>8021722.000</td>\n",
              "      <td>8021722.000</td>\n",
              "    </tr>\n",
              "    <tr>\n",
              "      <th>mean</th>\n",
              "      <td>12.900</td>\n",
              "      <td>-73.975</td>\n",
              "      <td>40.750</td>\n",
              "      <td>-73.974</td>\n",
              "      <td>40.751</td>\n",
              "      <td>1.698</td>\n",
              "      <td>25.983</td>\n",
              "      <td>179.442</td>\n",
              "      <td>13.523</td>\n",
              "      <td>15.603</td>\n",
              "      <td>3.483</td>\n",
              "      <td>0.710</td>\n",
              "    </tr>\n",
              "    <tr>\n",
              "      <th>std</th>\n",
              "      <td>11.071</td>\n",
              "      <td>0.080</td>\n",
              "      <td>0.051</td>\n",
              "      <td>0.256</td>\n",
              "      <td>0.241</td>\n",
              "      <td>1.357</td>\n",
              "      <td>14.979</td>\n",
              "      <td>104.955</td>\n",
              "      <td>6.525</td>\n",
              "      <td>8.746</td>\n",
              "      <td>12.173</td>\n",
              "      <td>0.454</td>\n",
              "    </tr>\n",
              "    <tr>\n",
              "      <th>min</th>\n",
              "      <td>0.010</td>\n",
              "      <td>-121.926</td>\n",
              "      <td>-4.486</td>\n",
              "      <td>-714.400</td>\n",
              "      <td>0.080</td>\n",
              "      <td>1.000</td>\n",
              "      <td>1.000</td>\n",
              "      <td>1.000</td>\n",
              "      <td>0.000</td>\n",
              "      <td>1.000</td>\n",
              "      <td>0.000</td>\n",
              "      <td>0.000</td>\n",
              "    </tr>\n",
              "    <tr>\n",
              "      <th>25%</th>\n",
              "      <td>6.500</td>\n",
              "      <td>-73.992</td>\n",
              "      <td>40.736</td>\n",
              "      <td>-73.992</td>\n",
              "      <td>40.735</td>\n",
              "      <td>1.000</td>\n",
              "      <td>13.000</td>\n",
              "      <td>88.000</td>\n",
              "      <td>9.000</td>\n",
              "      <td>8.000</td>\n",
              "      <td>1.284</td>\n",
              "      <td>0.000</td>\n",
              "    </tr>\n",
              "    <tr>\n",
              "      <th>50%</th>\n",
              "      <td>9.500</td>\n",
              "      <td>-73.982</td>\n",
              "      <td>40.753</td>\n",
              "      <td>-73.980</td>\n",
              "      <td>40.754</td>\n",
              "      <td>1.000</td>\n",
              "      <td>25.000</td>\n",
              "      <td>175.000</td>\n",
              "      <td>14.000</td>\n",
              "      <td>15.000</td>\n",
              "      <td>2.185</td>\n",
              "      <td>1.000</td>\n",
              "    </tr>\n",
              "    <tr>\n",
              "      <th>75%</th>\n",
              "      <td>14.500</td>\n",
              "      <td>-73.968</td>\n",
              "      <td>40.767</td>\n",
              "      <td>-73.964</td>\n",
              "      <td>40.768</td>\n",
              "      <td>2.000</td>\n",
              "      <td>39.000</td>\n",
              "      <td>272.000</td>\n",
              "      <td>19.000</td>\n",
              "      <td>23.000</td>\n",
              "      <td>3.992</td>\n",
              "      <td>1.000</td>\n",
              "    </tr>\n",
              "    <tr>\n",
              "      <th>max</th>\n",
              "      <td>467.500</td>\n",
              "      <td>-0.017</td>\n",
              "      <td>62.653</td>\n",
              "      <td>112.436</td>\n",
              "      <td>458.650</td>\n",
              "      <td>9.000</td>\n",
              "      <td>52.000</td>\n",
              "      <td>365.000</td>\n",
              "      <td>23.000</td>\n",
              "      <td>31.000</td>\n",
              "      <td>8660.722</td>\n",
              "      <td>1.000</td>\n",
              "    </tr>\n",
              "  </tbody>\n",
              "</table>\n",
              "</div>"
            ],
            "text/plain": [
              "       fare_amount  pickup_longitude  ...  distance_KM  working_days\n",
              "count  8021722.000       8021722.000  ...  8021722.000   8021722.000\n",
              "mean        12.900           -73.975  ...        3.483         0.710\n",
              "std         11.071             0.080  ...       12.173         0.454\n",
              "min          0.010          -121.926  ...        0.000         0.000\n",
              "25%          6.500           -73.992  ...        1.284         0.000\n",
              "50%          9.500           -73.982  ...        2.185         1.000\n",
              "75%         14.500           -73.968  ...        3.992         1.000\n",
              "max        467.500            -0.017  ...     8660.722         1.000\n",
              "\n",
              "[8 rows x 12 columns]"
            ]
          },
          "metadata": {
            "tags": []
          },
          "execution_count": 89
        }
      ]
    },
    {
      "cell_type": "code",
      "metadata": {
        "id": "5k5H8H7HBwt5",
        "colab_type": "code",
        "colab": {
          "base_uri": "https://localhost:8080/",
          "height": 34
        },
        "outputId": "dcfd02e7-ec6d-4215-ce51-e2f7ce69164e"
      },
      "source": [
        "df_2014.fare_amount.max()"
      ],
      "execution_count": 88,
      "outputs": [
        {
          "output_type": "execute_result",
          "data": {
            "text/plain": [
              "467.5"
            ]
          },
          "metadata": {
            "tags": []
          },
          "execution_count": 88
        }
      ]
    },
    {
      "cell_type": "code",
      "metadata": {
        "id": "fMSMGEWu_U1A",
        "colab_type": "code",
        "colab": {}
      },
      "source": [
        "#there are outliers in  dropoff latitude,  we remove those above 400\n",
        "df_2014=df_2014[df_2014.dropoff_latitude<400]"
      ],
      "execution_count": 91,
      "outputs": []
    },
    {
      "cell_type": "code",
      "metadata": {
        "id": "MRwjEKPkCIRN",
        "colab_type": "code",
        "colab": {
          "base_uri": "https://localhost:8080/",
          "height": 221
        },
        "outputId": "2b1ad518-bbb9-4a28-9b05-5f895d55cf5d"
      },
      "source": [
        "df_2014.dropoff_latitude.value_counts()"
      ],
      "execution_count": 92,
      "outputs": [
        {
          "output_type": "execute_result",
          "data": {
            "text/plain": [
              "40.750150    482\n",
              "40.774317    481\n",
              "40.750152    472\n",
              "40.750147    471\n",
              "40.750127    469\n",
              "            ... \n",
              "40.854973      1\n",
              "40.881307      1\n",
              "40.868693      1\n",
              "40.816848      1\n",
              "41.060205      1\n",
              "Name: dropoff_latitude, Length: 243070, dtype: int64"
            ]
          },
          "metadata": {
            "tags": []
          },
          "execution_count": 92
        }
      ]
    },
    {
      "cell_type": "code",
      "metadata": {
        "id": "xIVa_87QKcgM",
        "colab_type": "code",
        "colab": {}
      },
      "source": [
        "## definir borne latitude"
      ],
      "execution_count": null,
      "outputs": []
    },
    {
      "cell_type": "code",
      "metadata": {
        "id": "D-i_QAKqFI3W",
        "colab_type": "code",
        "colab": {}
      },
      "source": [
        "#drop dropoff_latitude which is too small to be in NYC\n",
        "df_2014=df_2014[df_2014.dropoff_latitude>39]"
      ],
      "execution_count": 13,
      "outputs": []
    },
    {
      "cell_type": "code",
      "metadata": {
        "id": "bBu_FOTxKMlQ",
        "colab_type": "code",
        "colab": {}
      },
      "source": [
        "\n",
        "df_2014=df_2014[df_2014.dropoff_latitude<42]"
      ],
      "execution_count": 15,
      "outputs": []
    },
    {
      "cell_type": "code",
      "metadata": {
        "id": "bzodGBs3KSxn",
        "colab_type": "code",
        "colab": {}
      },
      "source": [
        "df_2014=df_2014[df_2014.pickup_latitude<42]"
      ],
      "execution_count": 16,
      "outputs": []
    },
    {
      "cell_type": "code",
      "metadata": {
        "id": "G_DUT9XZKS-g",
        "colab_type": "code",
        "colab": {}
      },
      "source": [
        "df_2014=df_2014[df_2014.pickup_latitude>39]"
      ],
      "execution_count": 17,
      "outputs": []
    },
    {
      "cell_type": "markdown",
      "metadata": {
        "id": "vuWHCyGtKgjf",
        "colab_type": "text"
      },
      "source": [
        "## definir borne longitude"
      ]
    },
    {
      "cell_type": "code",
      "metadata": {
        "id": "WIPzTANlKfjC",
        "colab_type": "code",
        "colab": {}
      },
      "source": [
        "df_2014=df_2014[df_2014.dropoff_longitude>-76]"
      ],
      "execution_count": 18,
      "outputs": []
    },
    {
      "cell_type": "code",
      "metadata": {
        "id": "UR_-nWe2KfuU",
        "colab_type": "code",
        "colab": {}
      },
      "source": [
        "df_2014=df_2014[df_2014.dropoff_longitude<-72]"
      ],
      "execution_count": 19,
      "outputs": []
    },
    {
      "cell_type": "code",
      "metadata": {
        "id": "oZxRXZQjKf48",
        "colab_type": "code",
        "colab": {}
      },
      "source": [
        "df_2014=df_2014[df_2014.pickup_longitude>-76]"
      ],
      "execution_count": 20,
      "outputs": []
    },
    {
      "cell_type": "code",
      "metadata": {
        "id": "47CQivjRFm94",
        "colab_type": "code",
        "colab": {}
      },
      "source": [
        "df_2014=df_2014[df_2014.pickup_longitude<-72]"
      ],
      "execution_count": 21,
      "outputs": []
    },
    {
      "cell_type": "code",
      "metadata": {
        "id": "wlI1AcphGxpa",
        "colab_type": "code",
        "colab": {
          "base_uri": "https://localhost:8080/",
          "height": 34
        },
        "outputId": "0376f282-96c2-43d5-c746-fd6c3874027d"
      },
      "source": [
        "# Define the bounding box origin\n",
        "BBox_origin= (df_2014.pickup_longitude.min(),   df_2014.pickup_longitude.max(),      \n",
        "         df_2014.pickup_latitude.min(), df_2014.pickup_latitude.max())\n",
        "BBox_origin"
      ],
      "execution_count": 22,
      "outputs": [
        {
          "output_type": "execute_result",
          "data": {
            "text/plain": [
              "(-75.933769, -72.080297, 39.098057, 41.911770000000004)"
            ]
          },
          "metadata": {
            "tags": []
          },
          "execution_count": 22
        }
      ]
    },
    {
      "cell_type": "code",
      "metadata": {
        "id": "zE1068bGHGUY",
        "colab_type": "code",
        "colab": {
          "base_uri": "https://localhost:8080/",
          "height": 34
        },
        "outputId": "355a6fe4-9082-483d-c803-13399b9a115e"
      },
      "source": [
        "# Define the bounding box dropoff\n",
        "BBox_dropoff = (df_2014.dropoff_longitude.min(),   df_2014.dropoff_longitude.max(),      \n",
        "         df_2014.dropoff_latitude.min(), df_2014.dropoff_latitude.max())\n",
        "BBox_dropoff"
      ],
      "execution_count": 23,
      "outputs": [
        {
          "output_type": "execute_result",
          "data": {
            "text/plain": [
              "(-75.64957199999999, -72.089938, 39.360003000000006, 41.857777)"
            ]
          },
          "metadata": {
            "tags": []
          },
          "execution_count": 23
        }
      ]
    },
    {
      "cell_type": "code",
      "metadata": {
        "id": "yq3pIMxaHTz8",
        "colab_type": "code",
        "colab": {
          "base_uri": "https://localhost:8080/",
          "height": 34
        },
        "outputId": "b2fc3ab8-626d-4d4e-b225-21b9e247b2c1"
      },
      "source": [
        "df_2014.shape"
      ],
      "execution_count": 24,
      "outputs": [
        {
          "output_type": "execute_result",
          "data": {
            "text/plain": [
              "(8021407, 17)"
            ]
          },
          "metadata": {
            "tags": []
          },
          "execution_count": 24
        }
      ]
    },
    {
      "cell_type": "code",
      "metadata": {
        "id": "p0xt1t4oIRY7",
        "colab_type": "code",
        "colab": {
          "base_uri": "https://localhost:8080/",
          "height": 317
        },
        "outputId": "0b0580e2-4757-460e-d442-72bac24245ed"
      },
      "source": [
        "df_2014.describe().round(3)"
      ],
      "execution_count": 110,
      "outputs": [
        {
          "output_type": "execute_result",
          "data": {
            "text/html": [
              "<div>\n",
              "<style scoped>\n",
              "    .dataframe tbody tr th:only-of-type {\n",
              "        vertical-align: middle;\n",
              "    }\n",
              "\n",
              "    .dataframe tbody tr th {\n",
              "        vertical-align: top;\n",
              "    }\n",
              "\n",
              "    .dataframe thead th {\n",
              "        text-align: right;\n",
              "    }\n",
              "</style>\n",
              "<table border=\"1\" class=\"dataframe\">\n",
              "  <thead>\n",
              "    <tr style=\"text-align: right;\">\n",
              "      <th></th>\n",
              "      <th>fare_amount</th>\n",
              "      <th>pickup_longitude</th>\n",
              "      <th>pickup_latitude</th>\n",
              "      <th>dropoff_longitude</th>\n",
              "      <th>dropoff_latitude</th>\n",
              "      <th>passenger_count</th>\n",
              "      <th>week_nb</th>\n",
              "      <th>day_nb</th>\n",
              "      <th>hour</th>\n",
              "      <th>Month_day</th>\n",
              "      <th>distance_KM</th>\n",
              "      <th>working_days</th>\n",
              "    </tr>\n",
              "  </thead>\n",
              "  <tbody>\n",
              "    <tr>\n",
              "      <th>count</th>\n",
              "      <td>8021407.000</td>\n",
              "      <td>8021407.000</td>\n",
              "      <td>8021407.000</td>\n",
              "      <td>8021407.000</td>\n",
              "      <td>8021407.000</td>\n",
              "      <td>8021407.000</td>\n",
              "      <td>8021407.000</td>\n",
              "      <td>8021407.000</td>\n",
              "      <td>8021407.000</td>\n",
              "      <td>8021407.000</td>\n",
              "      <td>8021407.000</td>\n",
              "      <td>8021407.000</td>\n",
              "    </tr>\n",
              "    <tr>\n",
              "      <th>mean</th>\n",
              "      <td>12.900</td>\n",
              "      <td>-73.975</td>\n",
              "      <td>40.750</td>\n",
              "      <td>-73.974</td>\n",
              "      <td>40.751</td>\n",
              "      <td>1.698</td>\n",
              "      <td>25.983</td>\n",
              "      <td>179.442</td>\n",
              "      <td>13.523</td>\n",
              "      <td>15.603</td>\n",
              "      <td>3.438</td>\n",
              "      <td>0.710</td>\n",
              "    </tr>\n",
              "    <tr>\n",
              "      <th>std</th>\n",
              "      <td>11.071</td>\n",
              "      <td>0.036</td>\n",
              "      <td>0.027</td>\n",
              "      <td>0.035</td>\n",
              "      <td>0.032</td>\n",
              "      <td>1.357</td>\n",
              "      <td>14.979</td>\n",
              "      <td>104.955</td>\n",
              "      <td>6.525</td>\n",
              "      <td>8.746</td>\n",
              "      <td>3.777</td>\n",
              "      <td>0.454</td>\n",
              "    </tr>\n",
              "    <tr>\n",
              "      <th>min</th>\n",
              "      <td>0.010</td>\n",
              "      <td>-75.934</td>\n",
              "      <td>39.098</td>\n",
              "      <td>-75.650</td>\n",
              "      <td>39.360</td>\n",
              "      <td>1.000</td>\n",
              "      <td>1.000</td>\n",
              "      <td>1.000</td>\n",
              "      <td>0.000</td>\n",
              "      <td>1.000</td>\n",
              "      <td>0.000</td>\n",
              "      <td>0.000</td>\n",
              "    </tr>\n",
              "    <tr>\n",
              "      <th>25%</th>\n",
              "      <td>6.500</td>\n",
              "      <td>-73.992</td>\n",
              "      <td>40.736</td>\n",
              "      <td>-73.992</td>\n",
              "      <td>40.735</td>\n",
              "      <td>1.000</td>\n",
              "      <td>13.000</td>\n",
              "      <td>88.000</td>\n",
              "      <td>9.000</td>\n",
              "      <td>8.000</td>\n",
              "      <td>1.284</td>\n",
              "      <td>0.000</td>\n",
              "    </tr>\n",
              "    <tr>\n",
              "      <th>50%</th>\n",
              "      <td>9.500</td>\n",
              "      <td>-73.982</td>\n",
              "      <td>40.753</td>\n",
              "      <td>-73.980</td>\n",
              "      <td>40.754</td>\n",
              "      <td>1.000</td>\n",
              "      <td>25.000</td>\n",
              "      <td>175.000</td>\n",
              "      <td>14.000</td>\n",
              "      <td>15.000</td>\n",
              "      <td>2.185</td>\n",
              "      <td>1.000</td>\n",
              "    </tr>\n",
              "    <tr>\n",
              "      <th>75%</th>\n",
              "      <td>14.500</td>\n",
              "      <td>-73.968</td>\n",
              "      <td>40.767</td>\n",
              "      <td>-73.964</td>\n",
              "      <td>40.768</td>\n",
              "      <td>2.000</td>\n",
              "      <td>39.000</td>\n",
              "      <td>272.000</td>\n",
              "      <td>19.000</td>\n",
              "      <td>23.000</td>\n",
              "      <td>3.992</td>\n",
              "      <td>1.000</td>\n",
              "    </tr>\n",
              "    <tr>\n",
              "      <th>max</th>\n",
              "      <td>467.500</td>\n",
              "      <td>-72.080</td>\n",
              "      <td>41.912</td>\n",
              "      <td>-72.090</td>\n",
              "      <td>41.858</td>\n",
              "      <td>9.000</td>\n",
              "      <td>52.000</td>\n",
              "      <td>365.000</td>\n",
              "      <td>23.000</td>\n",
              "      <td>31.000</td>\n",
              "      <td>184.863</td>\n",
              "      <td>1.000</td>\n",
              "    </tr>\n",
              "  </tbody>\n",
              "</table>\n",
              "</div>"
            ],
            "text/plain": [
              "       fare_amount  pickup_longitude  ...  distance_KM  working_days\n",
              "count  8021407.000       8021407.000  ...  8021407.000   8021407.000\n",
              "mean        12.900           -73.975  ...        3.438         0.710\n",
              "std         11.071             0.036  ...        3.777         0.454\n",
              "min          0.010           -75.934  ...        0.000         0.000\n",
              "25%          6.500           -73.992  ...        1.284         0.000\n",
              "50%          9.500           -73.982  ...        2.185         1.000\n",
              "75%         14.500           -73.968  ...        3.992         1.000\n",
              "max        467.500           -72.080  ...      184.863         1.000\n",
              "\n",
              "[8 rows x 12 columns]"
            ]
          },
          "metadata": {
            "tags": []
          },
          "execution_count": 110
        }
      ]
    },
    {
      "cell_type": "code",
      "metadata": {
        "id": "iypM361JIvRA",
        "colab_type": "code",
        "colab": {
          "base_uri": "https://localhost:8080/",
          "height": 281
        },
        "outputId": "dfb17cc7-4aa2-4451-868b-dc054cc0c332"
      },
      "source": [
        "#Check pickup\n",
        "ax=df_2014[[\"pickup_latitude\", \"pickup_longitude\"]].plot.scatter(y=\"pickup_latitude\", x=\"pickup_longitude\")\n",
        "ax.set_aspect('equal', 'box')"
      ],
      "execution_count": 26,
      "outputs": [
        {
          "output_type": "display_data",
          "data": {
            "image/png": "[encoded data removed]",
            "text/plain": [
              "<Figure size 432x288 with 1 Axes>"
            ]
          },
          "metadata": {
            "tags": []
          }
        }
      ]
    },
    {
      "cell_type": "code",
      "metadata": {
        "id": "K5-XN5FTLgjD",
        "colab_type": "code",
        "colab": {
          "base_uri": "https://localhost:8080/",
          "height": 280
        },
        "outputId": "66e15d00-902b-419a-86d5-bb58eda67bca"
      },
      "source": [
        "#check dropoff\n",
        "ax=df_2014[[\"dropoff_latitude\", \"dropoff_longitude\"]].plot.scatter(y=\"dropoff_latitude\", x=\"dropoff_longitude\")\n",
        "ax.set_aspect('equal', 'box')"
      ],
      "execution_count": 27,
      "outputs": [
        {
          "output_type": "display_data",
          "data": {
            "image/png": "[encoded data removed]",
            "text/plain": [
              "<Figure size 432x288 with 1 Axes>"
            ]
          },
          "metadata": {
            "tags": []
          }
        }
      ]
    },
    {
      "cell_type": "code",
      "metadata": {
        "id": "jU7U0oH3mJn7",
        "colab_type": "code",
        "colab": {}
      },
      "source": [
        "df_2014.to_csv('/content/drive/My Drive/Data/train_2014Clean2.csv')"
      ],
      "execution_count": 28,
      "outputs": []
    },
    {
      "cell_type": "code",
      "metadata": {
        "id": "MK7jDCDnL041",
        "colab_type": "code",
        "colab": {}
      },
      "source": [
        "#Creer un fichier pickle pour sauver dataframe 2014 clean avec lat et long nettoyees\n",
        "filename4 = 'dataFrame2014cleanLatlong.sav'\n",
        "pickle.dump(df_2014, open(filename4, 'wb'))"
      ],
      "execution_count": null,
      "outputs": []
    },
    {
      "cell_type": "code",
      "metadata": {
        "id": "7Mn4Rs67L1cd",
        "colab_type": "code",
        "colab": {
          "base_uri": "https://localhost:8080/",
          "height": 441
        },
        "outputId": "228bf36d-3fda-4a9c-e88d-f75769fd348d"
      },
      "source": [
        "df_2014.corr()"
      ],
      "execution_count": 29,
      "outputs": [
        {
          "output_type": "execute_result",
          "data": {
            "text/html": [
              "<div>\n",
              "<style scoped>\n",
              "    .dataframe tbody tr th:only-of-type {\n",
              "        vertical-align: middle;\n",
              "    }\n",
              "\n",
              "    .dataframe tbody tr th {\n",
              "        vertical-align: top;\n",
              "    }\n",
              "\n",
              "    .dataframe thead th {\n",
              "        text-align: right;\n",
              "    }\n",
              "</style>\n",
              "<table border=\"1\" class=\"dataframe\">\n",
              "  <thead>\n",
              "    <tr style=\"text-align: right;\">\n",
              "      <th></th>\n",
              "      <th>fare_amount</th>\n",
              "      <th>pickup_longitude</th>\n",
              "      <th>pickup_latitude</th>\n",
              "      <th>dropoff_longitude</th>\n",
              "      <th>dropoff_latitude</th>\n",
              "      <th>passenger_count</th>\n",
              "      <th>week_nb</th>\n",
              "      <th>day_nb</th>\n",
              "      <th>hour</th>\n",
              "      <th>Month_day</th>\n",
              "      <th>distance_KM</th>\n",
              "      <th>working_days</th>\n",
              "    </tr>\n",
              "  </thead>\n",
              "  <tbody>\n",
              "    <tr>\n",
              "      <th>fare_amount</th>\n",
              "      <td>1.000000</td>\n",
              "      <td>0.445673</td>\n",
              "      <td>-0.232288</td>\n",
              "      <td>0.314275</td>\n",
              "      <td>-0.171624</td>\n",
              "      <td>0.014585</td>\n",
              "      <td>0.027999</td>\n",
              "      <td>0.026901</td>\n",
              "      <td>-0.014754</td>\n",
              "      <td>0.002195</td>\n",
              "      <td>0.891292</td>\n",
              "      <td>0.012096</td>\n",
              "    </tr>\n",
              "    <tr>\n",
              "      <th>pickup_longitude</th>\n",
              "      <td>0.445673</td>\n",
              "      <td>1.000000</td>\n",
              "      <td>-0.079988</td>\n",
              "      <td>0.259029</td>\n",
              "      <td>0.054004</td>\n",
              "      <td>0.001852</td>\n",
              "      <td>0.015183</td>\n",
              "      <td>0.016233</td>\n",
              "      <td>0.017737</td>\n",
              "      <td>0.001833</td>\n",
              "      <td>0.474452</td>\n",
              "      <td>0.018587</td>\n",
              "    </tr>\n",
              "    <tr>\n",
              "      <th>pickup_latitude</th>\n",
              "      <td>-0.232288</td>\n",
              "      <td>-0.079988</td>\n",
              "      <td>1.000000</td>\n",
              "      <td>0.058829</td>\n",
              "      <td>0.410211</td>\n",
              "      <td>-0.007669</td>\n",
              "      <td>-0.001307</td>\n",
              "      <td>-0.001859</td>\n",
              "      <td>0.023823</td>\n",
              "      <td>-0.001812</td>\n",
              "      <td>-0.272360</td>\n",
              "      <td>0.044633</td>\n",
              "    </tr>\n",
              "    <tr>\n",
              "      <th>dropoff_longitude</th>\n",
              "      <td>0.314275</td>\n",
              "      <td>0.259029</td>\n",
              "      <td>0.058829</td>\n",
              "      <td>1.000000</td>\n",
              "      <td>0.126582</td>\n",
              "      <td>0.000588</td>\n",
              "      <td>0.007677</td>\n",
              "      <td>0.007735</td>\n",
              "      <td>-0.051338</td>\n",
              "      <td>0.001679</td>\n",
              "      <td>0.384428</td>\n",
              "      <td>0.001357</td>\n",
              "    </tr>\n",
              "    <tr>\n",
              "      <th>dropoff_latitude</th>\n",
              "      <td>-0.171624</td>\n",
              "      <td>0.054004</td>\n",
              "      <td>0.410211</td>\n",
              "      <td>0.126582</td>\n",
              "      <td>1.000000</td>\n",
              "      <td>-0.004891</td>\n",
              "      <td>0.001881</td>\n",
              "      <td>0.001532</td>\n",
              "      <td>0.018617</td>\n",
              "      <td>-0.000329</td>\n",
              "      <td>-0.158838</td>\n",
              "      <td>0.030221</td>\n",
              "    </tr>\n",
              "    <tr>\n",
              "      <th>passenger_count</th>\n",
              "      <td>0.014585</td>\n",
              "      <td>0.001852</td>\n",
              "      <td>-0.007669</td>\n",
              "      <td>0.000588</td>\n",
              "      <td>-0.004891</td>\n",
              "      <td>1.000000</td>\n",
              "      <td>-0.004110</td>\n",
              "      <td>-0.002932</td>\n",
              "      <td>0.012640</td>\n",
              "      <td>0.001994</td>\n",
              "      <td>0.013201</td>\n",
              "      <td>-0.028123</td>\n",
              "    </tr>\n",
              "    <tr>\n",
              "      <th>week_nb</th>\n",
              "      <td>0.027999</td>\n",
              "      <td>0.015183</td>\n",
              "      <td>-0.001307</td>\n",
              "      <td>0.007677</td>\n",
              "      <td>0.001881</td>\n",
              "      <td>-0.004110</td>\n",
              "      <td>1.000000</td>\n",
              "      <td>0.959153</td>\n",
              "      <td>-0.002106</td>\n",
              "      <td>0.030368</td>\n",
              "      <td>0.013511</td>\n",
              "      <td>0.001911</td>\n",
              "    </tr>\n",
              "    <tr>\n",
              "      <th>day_nb</th>\n",
              "      <td>0.026901</td>\n",
              "      <td>0.016233</td>\n",
              "      <td>-0.001859</td>\n",
              "      <td>0.007735</td>\n",
              "      <td>0.001532</td>\n",
              "      <td>-0.002932</td>\n",
              "      <td>0.959153</td>\n",
              "      <td>1.000000</td>\n",
              "      <td>-0.000913</td>\n",
              "      <td>0.069883</td>\n",
              "      <td>0.013320</td>\n",
              "      <td>0.002480</td>\n",
              "    </tr>\n",
              "    <tr>\n",
              "      <th>hour</th>\n",
              "      <td>-0.014754</td>\n",
              "      <td>0.017737</td>\n",
              "      <td>0.023823</td>\n",
              "      <td>-0.051338</td>\n",
              "      <td>0.018617</td>\n",
              "      <td>0.012640</td>\n",
              "      <td>-0.002106</td>\n",
              "      <td>-0.000913</td>\n",
              "      <td>1.000000</td>\n",
              "      <td>0.004971</td>\n",
              "      <td>-0.028481</td>\n",
              "      <td>0.093266</td>\n",
              "    </tr>\n",
              "    <tr>\n",
              "      <th>Month_day</th>\n",
              "      <td>0.002195</td>\n",
              "      <td>0.001833</td>\n",
              "      <td>-0.001812</td>\n",
              "      <td>0.001679</td>\n",
              "      <td>-0.000329</td>\n",
              "      <td>0.001994</td>\n",
              "      <td>0.030368</td>\n",
              "      <td>0.069883</td>\n",
              "      <td>0.004971</td>\n",
              "      <td>1.000000</td>\n",
              "      <td>0.002523</td>\n",
              "      <td>0.011416</td>\n",
              "    </tr>\n",
              "    <tr>\n",
              "      <th>distance_KM</th>\n",
              "      <td>0.891292</td>\n",
              "      <td>0.474452</td>\n",
              "      <td>-0.272360</td>\n",
              "      <td>0.384428</td>\n",
              "      <td>-0.158838</td>\n",
              "      <td>0.013201</td>\n",
              "      <td>0.013511</td>\n",
              "      <td>0.013320</td>\n",
              "      <td>-0.028481</td>\n",
              "      <td>0.002523</td>\n",
              "      <td>1.000000</td>\n",
              "      <td>-0.017068</td>\n",
              "    </tr>\n",
              "    <tr>\n",
              "      <th>working_days</th>\n",
              "      <td>0.012096</td>\n",
              "      <td>0.018587</td>\n",
              "      <td>0.044633</td>\n",
              "      <td>0.001357</td>\n",
              "      <td>0.030221</td>\n",
              "      <td>-0.028123</td>\n",
              "      <td>0.001911</td>\n",
              "      <td>0.002480</td>\n",
              "      <td>0.093266</td>\n",
              "      <td>0.011416</td>\n",
              "      <td>-0.017068</td>\n",
              "      <td>1.000000</td>\n",
              "    </tr>\n",
              "  </tbody>\n",
              "</table>\n",
              "</div>"
            ],
            "text/plain": [
              "                   fare_amount  pickup_longitude  ...  distance_KM  working_days\n",
              "fare_amount           1.000000          0.445673  ...     0.891292      0.012096\n",
              "pickup_longitude      0.445673          1.000000  ...     0.474452      0.018587\n",
              "pickup_latitude      -0.232288         -0.079988  ...    -0.272360      0.044633\n",
              "dropoff_longitude     0.314275          0.259029  ...     0.384428      0.001357\n",
              "dropoff_latitude     -0.171624          0.054004  ...    -0.158838      0.030221\n",
              "passenger_count       0.014585          0.001852  ...     0.013201     -0.028123\n",
              "week_nb               0.027999          0.015183  ...     0.013511      0.001911\n",
              "day_nb                0.026901          0.016233  ...     0.013320      0.002480\n",
              "hour                 -0.014754          0.017737  ...    -0.028481      0.093266\n",
              "Month_day             0.002195          0.001833  ...     0.002523      0.011416\n",
              "distance_KM           0.891292          0.474452  ...     1.000000     -0.017068\n",
              "working_days          0.012096          0.018587  ...    -0.017068      1.000000\n",
              "\n",
              "[12 rows x 12 columns]"
            ]
          },
          "metadata": {
            "tags": []
          },
          "execution_count": 29
        }
      ]
    },
    {
      "cell_type": "code",
      "metadata": {
        "id": "1sAixV0yMZHQ",
        "colab_type": "code",
        "colab": {
          "base_uri": "https://localhost:8080/",
          "height": 364
        },
        "outputId": "dbf16ea0-bc08-4113-a231-5fb2989b67f4"
      },
      "source": [
        "sns.heatmap(df_2014.corr())\n",
        "#fare_amount is highly correlated to distance in KM what is a good point!\n",
        "#more correlation between West -Est direction(longitude fare amount)"
      ],
      "execution_count": 31,
      "outputs": [
        {
          "output_type": "execute_result",
          "data": {
            "text/plain": [
              "<matplotlib.axes._subplots.AxesSubplot at 0x7f93c694c5c0>"
            ]
          },
          "metadata": {
            "tags": []
          },
          "execution_count": 31
        },
        {
          "output_type": "display_data",
          "data": {
            "image/png": "[encoded data removed]",
            "text/plain": [
              "<Figure size 432x288 with 2 Axes>"
            ]
          },
          "metadata": {
            "tags": []
          }
        }
      ]
    },
    {
      "cell_type": "code",
      "metadata": {
        "id": "cDXkTvJJobc8",
        "colab_type": "code",
        "colab": {
          "base_uri": "https://localhost:8080/",
          "height": 559
        },
        "outputId": "0222d9a4-3efe-499d-831e-a2873dc27125"
      },
      "source": [
        "sns.violinplot(x = df_2014.working_days, y = df_2014.fare_amount, data = df_2014)\n",
        "plt.show()\n",
        "sns.violinplot(x = df_2014.weekday, y = df_2014.fare_amount, data = df_2014)"
      ],
      "execution_count": 32,
      "outputs": [
        {
          "output_type": "display_data",
          "data": {
            "image/png": "[encoded data removed]",
            "text/plain": [
              "<Figure size 432x288 with 1 Axes>"
            ]
          },
          "metadata": {
            "tags": []
          }
        },
        {
          "output_type": "execute_result",
          "data": {
            "text/plain": [
              "<matplotlib.axes._subplots.AxesSubplot at 0x7f93c70706d8>"
            ]
          },
          "metadata": {
            "tags": []
          },
          "execution_count": 32
        },
        {
          "output_type": "display_data",
          "data": {
            "image/png": "[encoded data removed]",
            "text/plain": [
              "<Figure size 432x288 with 1 Axes>"
            ]
          },
          "metadata": {
            "tags": []
          }
        }
      ]
    },
    {
      "cell_type": "code",
      "metadata": {
        "id": "1HX-YDoDp56a",
        "colab_type": "code",
        "colab": {
          "base_uri": "https://localhost:8080/",
          "height": 297
        },
        "outputId": "c6d1106c-04d4-43e0-d5a5-645baef1a53b"
      },
      "source": [
        "# Plot distribution of fare_amount\n",
        "sns.distplot(df_2014['fare_amount'])\n",
        "# fare mount is kind of log normal distribution"
      ],
      "execution_count": 33,
      "outputs": [
        {
          "output_type": "execute_result",
          "data": {
            "text/plain": [
              "<matplotlib.axes._subplots.AxesSubplot at 0x7f93c719f160>"
            ]
          },
          "metadata": {
            "tags": []
          },
          "execution_count": 33
        },
        {
          "output_type": "display_data",
          "data": {
            "image/png": "[encoded data removed]",
            "text/plain": [
              "<Figure size 432x288 with 1 Axes>"
            ]
          },
          "metadata": {
            "tags": []
          }
        }
      ]
    },
    {
      "cell_type": "code",
      "metadata": {
        "id": "8WeSTyEbscIS",
        "colab_type": "code",
        "colab": {
          "base_uri": "https://localhost:8080/",
          "height": 297
        },
        "outputId": "fa48adb9-7fdc-4166-90a3-fefaffb7f783"
      },
      "source": [
        "sns.boxplot(df_2014['fare_amount'])\n",
        "#drop outliers on fare amount???"
      ],
      "execution_count": 34,
      "outputs": [
        {
          "output_type": "execute_result",
          "data": {
            "text/plain": [
              "<matplotlib.axes._subplots.AxesSubplot at 0x7f93c68e6da0>"
            ]
          },
          "metadata": {
            "tags": []
          },
          "execution_count": 34
        },
        {
          "output_type": "display_data",
          "data": {
            "image/png": "[encoded data removed]",
            "text/plain": [
              "<Figure size 432x288 with 1 Axes>"
            ]
          },
          "metadata": {
            "tags": []
          }
        }
      ]
    },
    {
      "cell_type": "code",
      "metadata": {
        "id": "3hQnxIxAscUG",
        "colab_type": "code",
        "colab": {}
      },
      "source": [
        "df2=df_2014[df_2014['fare_amount']<100]"
      ],
      "execution_count": 35,
      "outputs": []
    },
    {
      "cell_type": "code",
      "metadata": {
        "id": "U3FRU9Y_s54Y",
        "colab_type": "code",
        "colab": {
          "base_uri": "https://localhost:8080/",
          "height": 34
        },
        "outputId": "12e1292f-1fa9-4b43-b167-753b72c02251"
      },
      "source": [
        "df2.shape"
      ],
      "execution_count": 36,
      "outputs": [
        {
          "output_type": "execute_result",
          "data": {
            "text/plain": [
              "(8017133, 17)"
            ]
          },
          "metadata": {
            "tags": []
          },
          "execution_count": 36
        }
      ]
    },
    {
      "cell_type": "code",
      "metadata": {
        "id": "-BG7UAgtscag",
        "colab_type": "code",
        "colab": {
          "base_uri": "https://localhost:8080/",
          "height": 297
        },
        "outputId": "56bcfe70-09e6-4f67-d85a-32d93a2a29c6"
      },
      "source": [
        "# Plot distribution of fare_amount after dropping amount>100$\n",
        "sns.distplot(df2['fare_amount'])\n",
        "# fare amount:\n",
        "#around 56 dollars for JFK airport\n",
        "#from 20 to 40 dollars for la Guardia airport\n",
        "\n"
      ],
      "execution_count": 37,
      "outputs": [
        {
          "output_type": "execute_result",
          "data": {
            "text/plain": [
              "<matplotlib.axes._subplots.AxesSubplot at 0x7f93c6863e10>"
            ]
          },
          "metadata": {
            "tags": []
          },
          "execution_count": 37
        },
        {
          "output_type": "display_data",
          "data": {
            "image/png": "[encoded data removed]",
            "text/plain": [
              "<Figure size 432x288 with 1 Axes>"
            ]
          },
          "metadata": {
            "tags": []
          }
        }
      ]
    },
    {
      "cell_type": "code",
      "metadata": {
        "id": "3Q3EKhmRsSut",
        "colab_type": "code",
        "colab": {
          "base_uri": "https://localhost:8080/",
          "height": 559
        },
        "outputId": "97b28246-b724-4142-9eed-712d81a857d3"
      },
      "source": [
        "sns.violinplot(x = df2.working_days, y = df2.fare_amount, data = df2)\n",
        "plt.show()\n",
        "sns.violinplot(x = df2.weekday, y = df2.fare_amount, data = df2)"
      ],
      "execution_count": 42,
      "outputs": [
        {
          "output_type": "display_data",
          "data": {
            "image/png": "[encoded data removed]",
            "text/plain": [
              "<Figure size 432x288 with 1 Axes>"
            ]
          },
          "metadata": {
            "tags": []
          }
        },
        {
          "output_type": "execute_result",
          "data": {
            "text/plain": [
              "<matplotlib.axes._subplots.AxesSubplot at 0x7f92dfc3c128>"
            ]
          },
          "metadata": {
            "tags": []
          },
          "execution_count": 42
        },
        {
          "output_type": "display_data",
          "data": {
            "image/png": "[encoded data removed]",
            "text/plain": [
              "<Figure size 432x288 with 1 Axes>"
            ]
          },
          "metadata": {
            "tags": []
          }
        }
      ]
    },
    {
      "cell_type": "code",
      "metadata": {
        "id": "QDXiTNZB2Ehc",
        "colab_type": "code",
        "colab": {}
      },
      "source": [
        ""
      ],
      "execution_count": null,
      "outputs": []
    }
  ]
}