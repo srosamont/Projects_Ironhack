{
  "nbformat": 4,
  "nbformat_minor": 0,
  "metadata": {
    "colab": {
      "name": "NYC_ride_fare_modelling.ipynb",
      "provenance": [],
      "collapsed_sections": [],
      "authorship_tag": "ABX9TyPFkrC5wis/cgeYt3DI2kU4",
      "include_colab_link": true
    },
    "kernelspec": {
      "name": "python3",
      "display_name": "Python 3"
    }
  },
  "cells": [
    {
      "cell_type": "markdown",
      "metadata": {
        "id": "view-in-github",
        "colab_type": "text"
      },
      "source": [
        "<a href=\"https://colab.research.google.com/github/srosamont/Projects_Ironhack/blob/master/NYC_ride_fare_modelling.ipynb\" target=\"_parent\"><img src=\"https://colab.research.google.com/assets/colab-badge.svg\" alt=\"Open In Colab\"/></a>"
      ]
    },
    {
      "cell_type": "code",
      "metadata": {
        "id": "nuXTvTWM3w9-",
        "colab_type": "code",
        "colab": {}
      },
      "source": [
        "import pandas as pd\n",
        "import numpy as np\n",
        "import seaborn as sns\n",
        "import matplotlib.pyplot as plt\n",
        "%matplotlib inline\n",
        "sns.set_style('dark')"
      ],
      "execution_count": 2,
      "outputs": []
    },
    {
      "cell_type": "code",
      "metadata": {
        "id": "36VtQsIy55aJ",
        "colab_type": "code",
        "colab": {
          "base_uri": "https://localhost:8080/",
          "height": 122
        },
        "outputId": "3524660f-2f38-4499-f84a-954aa82a6472"
      },
      "source": [
        "# Lire fichier\n",
        "from google.colab import drive\n",
        "drive.mount('/content/drive')"
      ],
      "execution_count": 3,
      "outputs": [
        {
          "output_type": "stream",
          "text": [
            "Go to this URL in a browser: https://accounts.google.com/o/oauth2/auth?client_id=947318989803-6bn6qk8qdgf4n4g3pfee6491hc0brc4i.apps.googleusercontent.com&redirect_uri=urn%3aietf%3awg%3aoauth%3a2.0%3aoob&response_type=code&scope=email%20https%3a%2f%2fwww.googleapis.com%2fauth%2fdocs.test%20https%3a%2f%2fwww.googleapis.com%2fauth%2fdrive%20https%3a%2f%2fwww.googleapis.com%2fauth%2fdrive.photos.readonly%20https%3a%2f%2fwww.googleapis.com%2fauth%2fpeopleapi.readonly\n",
            "\n",
            "Enter your authorization code:\n",
            "··········\n",
            "Mounted at /content/drive\n"
          ],
          "name": "stdout"
        }
      ]
    },
    {
      "cell_type": "code",
      "metadata": {
        "id": "RU6ZEsl955hb",
        "colab_type": "code",
        "colab": {}
      },
      "source": [
        "path=\"/content/drive/My Drive/Data/train_2014Clean2.csv\""
      ],
      "execution_count": 4,
      "outputs": []
    },
    {
      "cell_type": "code",
      "metadata": {
        "id": "oStzg2hy55lD",
        "colab_type": "code",
        "colab": {
          "base_uri": "https://localhost:8080/",
          "height": 51
        },
        "outputId": "5ec4fb1f-1921-4fc1-9e59-8786ee61c226"
      },
      "source": [
        "%%time\n",
        "\n",
        "df=pd.read_csv(path)\n"
      ],
      "execution_count": 5,
      "outputs": [
        {
          "output_type": "stream",
          "text": [
            "CPU times: user 28.1 s, sys: 4.28 s, total: 32.4 s\n",
            "Wall time: 40.1 s\n"
          ],
          "name": "stdout"
        }
      ]
    },
    {
      "cell_type": "code",
      "metadata": {
        "id": "1UqSKSwF55ed",
        "colab_type": "code",
        "colab": {
          "base_uri": "https://localhost:8080/",
          "height": 34
        },
        "outputId": "010049e4-9668-48fc-ed93-c09c3069be8e"
      },
      "source": [
        "df.shape"
      ],
      "execution_count": 5,
      "outputs": [
        {
          "output_type": "execute_result",
          "data": {
            "text/plain": [
              "(8021407, 18)"
            ]
          },
          "metadata": {
            "tags": []
          },
          "execution_count": 5
        }
      ]
    },
    {
      "cell_type": "code",
      "metadata": {
        "id": "hFksKi2040th",
        "colab_type": "code",
        "colab": {}
      },
      "source": [
        "%%time\n",
        "#to Pickle\n",
        "import pickle\n",
        "filename = 'fichier2014lu.sav'\n",
        "pickle.dump(df_2014, open(filename, 'wb'))\n",
        "\n"
      ],
      "execution_count": null,
      "outputs": []
    },
    {
      "cell_type": "code",
      "metadata": {
        "id": "LlDlU1oR7LcF",
        "colab_type": "code",
        "colab": {}
      },
      "source": [
        "#Unpickle\n",
        "import pickle\n",
        "df_2014=pickle.load( open('fichier2014lu.sav', \"rb\" ) )"
      ],
      "execution_count": null,
      "outputs": []
    },
    {
      "cell_type": "code",
      "metadata": {
        "id": "B6sY3YM44PqZ",
        "colab_type": "code",
        "colab": {}
      },
      "source": [
        "#df=pd.to_csv('/content/drive/My Drive/Data/train_2014model.csv')"
      ],
      "execution_count": null,
      "outputs": []
    },
    {
      "cell_type": "code",
      "metadata": {
        "id": "pBShGyiw7ye5",
        "colab_type": "code",
        "colab": {
          "base_uri": "https://localhost:8080/",
          "height": 475
        },
        "outputId": "cdb1640d-7cec-4749-bcb6-14dc102eee3a"
      },
      "source": [
        "%%time\n",
        "df_sample=df.sample(frac=0.01)\n",
        "sns.jointplot(x='pickup_longitude',y='pickup_latitude',data=df_sample,kind='kde')"
      ],
      "execution_count": 7,
      "outputs": [
        {
          "output_type": "stream",
          "text": [
            "CPU times: user 50.3 s, sys: 732 ms, total: 51 s\n",
            "Wall time: 51 s\n"
          ],
          "name": "stdout"
        },
        {
          "output_type": "display_data",
          "data": {
            "image/png": "[encoded data removed]",
            "text/plain": [
              "<Figure size 432x432 with 3 Axes>"
            ]
          },
          "metadata": {
            "tags": [],
            "needs_background": "light"
          }
        }
      ]
    },
    {
      "cell_type": "code",
      "metadata": {
        "id": "9U9yvk9V7yqd",
        "colab_type": "code",
        "colab": {
          "base_uri": "https://localhost:8080/",
          "height": 34
        },
        "outputId": "8fcaa472-846c-4fdb-ba13-a0687ecd5d1b"
      },
      "source": [
        "(df.pickup_latitude.max()-df.pickup_latitude.min()),(df.pickup_longitude.max()-df.pickup_longitude.min())"
      ],
      "execution_count": 12,
      "outputs": [
        {
          "output_type": "execute_result",
          "data": {
            "text/plain": [
              "(2.813713, 3.8534719999999965)"
            ]
          },
          "metadata": {
            "tags": []
          },
          "execution_count": 12
        }
      ]
    },
    {
      "cell_type": "code",
      "metadata": {
        "id": "gdtIzkafCEc9",
        "colab_type": "code",
        "colab": {
          "base_uri": "https://localhost:8080/",
          "height": 34
        },
        "outputId": "68a799df-379e-45d1-ca4c-24637b1c59e5"
      },
      "source": [
        "(df.dropoff_latitude.max()-df.dropoff_latitude.min()),(df.dropoff_longitude.max()-df.dropoff_longitude.min())"
      ],
      "execution_count": 14,
      "outputs": [
        {
          "output_type": "execute_result",
          "data": {
            "text/plain": [
              "(2.4977739999999926, 3.559633999999974)"
            ]
          },
          "metadata": {
            "tags": []
          },
          "execution_count": 14
        }
      ]
    },
    {
      "cell_type": "code",
      "metadata": {
        "id": "df-Mt-89Be0K",
        "colab_type": "code",
        "colab": {}
      },
      "source": [
        "#df['pick_lat_binned'],bins=pd.cut(x=df.pickup_latitude,bins=140,retbins=True)"
      ],
      "execution_count": 53,
      "outputs": []
    },
    {
      "cell_type": "code",
      "metadata": {
        "id": "eNKMsMowCveo",
        "colab_type": "code",
        "colab": {
          "base_uri": "https://localhost:8080/",
          "height": 326
        },
        "outputId": "b12227eb-84a9-4686-bc05-474de1741ecc"
      },
      "source": [
        "#df.head()"
      ],
      "execution_count": 28,
      "outputs": [
        {
          "output_type": "execute_result",
          "data": {
            "text/html": [
              "<div>\n",
              "<style scoped>\n",
              "    .dataframe tbody tr th:only-of-type {\n",
              "        vertical-align: middle;\n",
              "    }\n",
              "\n",
              "    .dataframe tbody tr th {\n",
              "        vertical-align: top;\n",
              "    }\n",
              "\n",
              "    .dataframe thead th {\n",
              "        text-align: right;\n",
              "    }\n",
              "</style>\n",
              "<table border=\"1\" class=\"dataframe\">\n",
              "  <thead>\n",
              "    <tr style=\"text-align: right;\">\n",
              "      <th></th>\n",
              "      <th>Unnamed: 0</th>\n",
              "      <th>key</th>\n",
              "      <th>fare_amount</th>\n",
              "      <th>pickup_datetime</th>\n",
              "      <th>pickup_longitude</th>\n",
              "      <th>pickup_latitude</th>\n",
              "      <th>dropoff_longitude</th>\n",
              "      <th>dropoff_latitude</th>\n",
              "      <th>passenger_count</th>\n",
              "      <th>date</th>\n",
              "      <th>month</th>\n",
              "      <th>week_nb</th>\n",
              "      <th>weekday</th>\n",
              "      <th>day_nb</th>\n",
              "      <th>hour</th>\n",
              "      <th>Month_day</th>\n",
              "      <th>distance_KM</th>\n",
              "      <th>working_days</th>\n",
              "      <th>pick_lat_binned</th>\n",
              "    </tr>\n",
              "  </thead>\n",
              "  <tbody>\n",
              "    <tr>\n",
              "      <th>0</th>\n",
              "      <td>0</td>\n",
              "      <td>2014-02-19 07:22:00.00000074</td>\n",
              "      <td>12.5</td>\n",
              "      <td>2014-02-19 07:22:00 UTC</td>\n",
              "      <td>-73.986430</td>\n",
              "      <td>40.760465</td>\n",
              "      <td>-73.988990</td>\n",
              "      <td>40.737075</td>\n",
              "      <td>1</td>\n",
              "      <td>2014-02-19 07:22:00+00:00</td>\n",
              "      <td>February</td>\n",
              "      <td>8</td>\n",
              "      <td>Wednesday</td>\n",
              "      <td>50</td>\n",
              "      <td>7</td>\n",
              "      <td>19</td>\n",
              "      <td>2.609774</td>\n",
              "      <td>1</td>\n",
              "      <td>(40.76, 40.77]</td>\n",
              "    </tr>\n",
              "    <tr>\n",
              "      <th>1</th>\n",
              "      <td>1</td>\n",
              "      <td>2014-12-06 20:36:22.0000008</td>\n",
              "      <td>4.0</td>\n",
              "      <td>2014-12-06 20:36:22 UTC</td>\n",
              "      <td>-73.979815</td>\n",
              "      <td>40.751902</td>\n",
              "      <td>-73.979446</td>\n",
              "      <td>40.755481</td>\n",
              "      <td>1</td>\n",
              "      <td>2014-12-06 20:36:22+00:00</td>\n",
              "      <td>December</td>\n",
              "      <td>49</td>\n",
              "      <td>Saturday</td>\n",
              "      <td>340</td>\n",
              "      <td>20</td>\n",
              "      <td>6</td>\n",
              "      <td>0.399179</td>\n",
              "      <td>0</td>\n",
              "      <td>(40.75, 40.76]</td>\n",
              "    </tr>\n",
              "    <tr>\n",
              "      <th>2</th>\n",
              "      <td>2</td>\n",
              "      <td>2014-02-19 16:03:00.000000160</td>\n",
              "      <td>5.5</td>\n",
              "      <td>2014-02-19 16:03:00 UTC</td>\n",
              "      <td>-73.976075</td>\n",
              "      <td>40.752422</td>\n",
              "      <td>-73.981082</td>\n",
              "      <td>40.759285</td>\n",
              "      <td>1</td>\n",
              "      <td>2014-02-19 16:03:00+00:00</td>\n",
              "      <td>February</td>\n",
              "      <td>8</td>\n",
              "      <td>Wednesday</td>\n",
              "      <td>50</td>\n",
              "      <td>16</td>\n",
              "      <td>19</td>\n",
              "      <td>0.871913</td>\n",
              "      <td>1</td>\n",
              "      <td>(40.75, 40.76]</td>\n",
              "    </tr>\n",
              "    <tr>\n",
              "      <th>3</th>\n",
              "      <td>3</td>\n",
              "      <td>2014-07-16 10:57:00.00000069</td>\n",
              "      <td>5.0</td>\n",
              "      <td>2014-07-16 10:57:00 UTC</td>\n",
              "      <td>-73.996148</td>\n",
              "      <td>40.741890</td>\n",
              "      <td>-73.992202</td>\n",
              "      <td>40.739425</td>\n",
              "      <td>6</td>\n",
              "      <td>2014-07-16 10:57:00+00:00</td>\n",
              "      <td>July</td>\n",
              "      <td>29</td>\n",
              "      <td>Wednesday</td>\n",
              "      <td>197</td>\n",
              "      <td>10</td>\n",
              "      <td>16</td>\n",
              "      <td>0.430871</td>\n",
              "      <td>1</td>\n",
              "      <td>(40.74, 40.75]</td>\n",
              "    </tr>\n",
              "    <tr>\n",
              "      <th>4</th>\n",
              "      <td>4</td>\n",
              "      <td>2014-05-01 09:12:00.000000198</td>\n",
              "      <td>7.0</td>\n",
              "      <td>2014-05-01 09:12:00 UTC</td>\n",
              "      <td>-73.966203</td>\n",
              "      <td>40.767500</td>\n",
              "      <td>-73.980915</td>\n",
              "      <td>40.774240</td>\n",
              "      <td>6</td>\n",
              "      <td>2014-05-01 09:12:00+00:00</td>\n",
              "      <td>May</td>\n",
              "      <td>18</td>\n",
              "      <td>Thursday</td>\n",
              "      <td>121</td>\n",
              "      <td>9</td>\n",
              "      <td>1</td>\n",
              "      <td>1.447958</td>\n",
              "      <td>1</td>\n",
              "      <td>(40.76, 40.77]</td>\n",
              "    </tr>\n",
              "  </tbody>\n",
              "</table>\n",
              "</div>"
            ],
            "text/plain": [
              "   Unnamed: 0                            key  ...  working_days pick_lat_binned\n",
              "0           0   2014-02-19 07:22:00.00000074  ...             1  (40.76, 40.77]\n",
              "1           1    2014-12-06 20:36:22.0000008  ...             0  (40.75, 40.76]\n",
              "2           2  2014-02-19 16:03:00.000000160  ...             1  (40.75, 40.76]\n",
              "3           3   2014-07-16 10:57:00.00000069  ...             1  (40.74, 40.75]\n",
              "4           4  2014-05-01 09:12:00.000000198  ...             1  (40.76, 40.77]\n",
              "\n",
              "[5 rows x 19 columns]"
            ]
          },
          "metadata": {
            "tags": []
          },
          "execution_count": 28
        }
      ]
    },
    {
      "cell_type": "code",
      "metadata": {
        "id": "v1vXcJFPDlFS",
        "colab_type": "code",
        "colab": {}
      },
      "source": [
        "#df['drop_lat_binned'],binsdrop=pd.cut(x=df.dropoff_latitude,bins=bins,retbins=True)"
      ],
      "execution_count": 54,
      "outputs": []
    },
    {
      "cell_type": "code",
      "metadata": {
        "id": "VeOb-GxEE7Z7",
        "colab_type": "code",
        "colab": {}
      },
      "source": [
        "#df['pick_long_binned'],bins2=pd.cut(x=df.pickup_longitude,bins=192,retbins=True)"
      ],
      "execution_count": 55,
      "outputs": []
    },
    {
      "cell_type": "code",
      "metadata": {
        "id": "OOoSQNuJFN7K",
        "colab_type": "code",
        "colab": {}
      },
      "source": [
        "#df['drop_long_binned'],binsdrop2=pd.cut(x=df.dropoff_longitude,bins=bins2,retbins=True)"
      ],
      "execution_count": 56,
      "outputs": []
    },
    {
      "cell_type": "code",
      "metadata": {
        "id": "BLtCbxvQFSwz",
        "colab_type": "code",
        "colab": {
          "base_uri": "https://localhost:8080/",
          "height": 326
        },
        "outputId": "347cf14e-2046-4b7e-b13c-2e6e45c7ed73"
      },
      "source": [
        "df.head()"
      ],
      "execution_count": 57,
      "outputs": [
        {
          "output_type": "execute_result",
          "data": {
            "text/html": [
              "<div>\n",
              "<style scoped>\n",
              "    .dataframe tbody tr th:only-of-type {\n",
              "        vertical-align: middle;\n",
              "    }\n",
              "\n",
              "    .dataframe tbody tr th {\n",
              "        vertical-align: top;\n",
              "    }\n",
              "\n",
              "    .dataframe thead th {\n",
              "        text-align: right;\n",
              "    }\n",
              "</style>\n",
              "<table border=\"1\" class=\"dataframe\">\n",
              "  <thead>\n",
              "    <tr style=\"text-align: right;\">\n",
              "      <th></th>\n",
              "      <th>Unnamed: 0</th>\n",
              "      <th>key</th>\n",
              "      <th>fare_amount</th>\n",
              "      <th>pickup_datetime</th>\n",
              "      <th>pickup_longitude</th>\n",
              "      <th>pickup_latitude</th>\n",
              "      <th>dropoff_longitude</th>\n",
              "      <th>dropoff_latitude</th>\n",
              "      <th>passenger_count</th>\n",
              "      <th>date</th>\n",
              "      <th>month</th>\n",
              "      <th>week_nb</th>\n",
              "      <th>weekday</th>\n",
              "      <th>day_nb</th>\n",
              "      <th>hour</th>\n",
              "      <th>Month_day</th>\n",
              "      <th>distance_KM</th>\n",
              "      <th>working_days</th>\n",
              "      <th>pick_lat_binned</th>\n",
              "      <th>drop_lat_binned</th>\n",
              "      <th>pick_long_binned</th>\n",
              "      <th>drop_long_binned</th>\n",
              "      <th>pickup_position_bin</th>\n",
              "      <th>dropoff_position_bin</th>\n",
              "    </tr>\n",
              "  </thead>\n",
              "  <tbody>\n",
              "    <tr>\n",
              "      <th>0</th>\n",
              "      <td>0</td>\n",
              "      <td>2014-02-19 07:22:00.00000074</td>\n",
              "      <td>12.5</td>\n",
              "      <td>2014-02-19 07:22:00 UTC</td>\n",
              "      <td>-73.986430</td>\n",
              "      <td>40.760465</td>\n",
              "      <td>-73.988990</td>\n",
              "      <td>40.737075</td>\n",
              "      <td>1</td>\n",
              "      <td>2014-02-19 07:22:00+00:00</td>\n",
              "      <td>February</td>\n",
              "      <td>8</td>\n",
              "      <td>Wednesday</td>\n",
              "      <td>50</td>\n",
              "      <td>7</td>\n",
              "      <td>19</td>\n",
              "      <td>2.609774</td>\n",
              "      <td>1</td>\n",
              "      <td>(40.746, 40.766]</td>\n",
              "      <td>(40.726, 40.746]</td>\n",
              "      <td>(-73.987, -73.967]</td>\n",
              "      <td>(-74.007, -73.987]</td>\n",
              "      <td>(40.76, 40.77](-73.992, -73.982]</td>\n",
              "      <td>(40.73, 40.74](-73.992, -73.982]</td>\n",
              "    </tr>\n",
              "    <tr>\n",
              "      <th>1</th>\n",
              "      <td>1</td>\n",
              "      <td>2014-12-06 20:36:22.0000008</td>\n",
              "      <td>4.0</td>\n",
              "      <td>2014-12-06 20:36:22 UTC</td>\n",
              "      <td>-73.979815</td>\n",
              "      <td>40.751902</td>\n",
              "      <td>-73.979446</td>\n",
              "      <td>40.755481</td>\n",
              "      <td>1</td>\n",
              "      <td>2014-12-06 20:36:22+00:00</td>\n",
              "      <td>December</td>\n",
              "      <td>49</td>\n",
              "      <td>Saturday</td>\n",
              "      <td>340</td>\n",
              "      <td>20</td>\n",
              "      <td>6</td>\n",
              "      <td>0.399179</td>\n",
              "      <td>0</td>\n",
              "      <td>(40.746, 40.766]</td>\n",
              "      <td>(40.746, 40.766]</td>\n",
              "      <td>(-73.987, -73.967]</td>\n",
              "      <td>(-73.987, -73.967]</td>\n",
              "      <td>(40.75, 40.76](-73.982, -73.972]</td>\n",
              "      <td>(40.75, 40.76](-73.982, -73.972]</td>\n",
              "    </tr>\n",
              "    <tr>\n",
              "      <th>2</th>\n",
              "      <td>2</td>\n",
              "      <td>2014-02-19 16:03:00.000000160</td>\n",
              "      <td>5.5</td>\n",
              "      <td>2014-02-19 16:03:00 UTC</td>\n",
              "      <td>-73.976075</td>\n",
              "      <td>40.752422</td>\n",
              "      <td>-73.981082</td>\n",
              "      <td>40.759285</td>\n",
              "      <td>1</td>\n",
              "      <td>2014-02-19 16:03:00+00:00</td>\n",
              "      <td>February</td>\n",
              "      <td>8</td>\n",
              "      <td>Wednesday</td>\n",
              "      <td>50</td>\n",
              "      <td>16</td>\n",
              "      <td>19</td>\n",
              "      <td>0.871913</td>\n",
              "      <td>1</td>\n",
              "      <td>(40.746, 40.766]</td>\n",
              "      <td>(40.746, 40.766]</td>\n",
              "      <td>(-73.987, -73.967]</td>\n",
              "      <td>(-73.987, -73.967]</td>\n",
              "      <td>(40.75, 40.76](-73.982, -73.972]</td>\n",
              "      <td>(40.75, 40.76](-73.982, -73.972]</td>\n",
              "    </tr>\n",
              "    <tr>\n",
              "      <th>3</th>\n",
              "      <td>3</td>\n",
              "      <td>2014-07-16 10:57:00.00000069</td>\n",
              "      <td>5.0</td>\n",
              "      <td>2014-07-16 10:57:00 UTC</td>\n",
              "      <td>-73.996148</td>\n",
              "      <td>40.741890</td>\n",
              "      <td>-73.992202</td>\n",
              "      <td>40.739425</td>\n",
              "      <td>6</td>\n",
              "      <td>2014-07-16 10:57:00+00:00</td>\n",
              "      <td>July</td>\n",
              "      <td>29</td>\n",
              "      <td>Wednesday</td>\n",
              "      <td>197</td>\n",
              "      <td>10</td>\n",
              "      <td>16</td>\n",
              "      <td>0.430871</td>\n",
              "      <td>1</td>\n",
              "      <td>(40.726, 40.746]</td>\n",
              "      <td>(40.726, 40.746]</td>\n",
              "      <td>(-74.007, -73.987]</td>\n",
              "      <td>(-74.007, -73.987]</td>\n",
              "      <td>(40.74, 40.75](-74.002, -73.992]</td>\n",
              "      <td>(40.73, 40.74](-74.002, -73.992]</td>\n",
              "    </tr>\n",
              "    <tr>\n",
              "      <th>4</th>\n",
              "      <td>4</td>\n",
              "      <td>2014-05-01 09:12:00.000000198</td>\n",
              "      <td>7.0</td>\n",
              "      <td>2014-05-01 09:12:00 UTC</td>\n",
              "      <td>-73.966203</td>\n",
              "      <td>40.767500</td>\n",
              "      <td>-73.980915</td>\n",
              "      <td>40.774240</td>\n",
              "      <td>6</td>\n",
              "      <td>2014-05-01 09:12:00+00:00</td>\n",
              "      <td>May</td>\n",
              "      <td>18</td>\n",
              "      <td>Thursday</td>\n",
              "      <td>121</td>\n",
              "      <td>9</td>\n",
              "      <td>1</td>\n",
              "      <td>1.447958</td>\n",
              "      <td>1</td>\n",
              "      <td>(40.766, 40.786]</td>\n",
              "      <td>(40.766, 40.786]</td>\n",
              "      <td>(-73.967, -73.947]</td>\n",
              "      <td>(-73.987, -73.967]</td>\n",
              "      <td>(40.76, 40.77](-73.972, -73.962]</td>\n",
              "      <td>(40.77, 40.78](-73.982, -73.972]</td>\n",
              "    </tr>\n",
              "  </tbody>\n",
              "</table>\n",
              "</div>"
            ],
            "text/plain": [
              "   Unnamed: 0  ...              dropoff_position_bin\n",
              "0           0  ...  (40.73, 40.74](-73.992, -73.982]\n",
              "1           1  ...  (40.75, 40.76](-73.982, -73.972]\n",
              "2           2  ...  (40.75, 40.76](-73.982, -73.972]\n",
              "3           3  ...  (40.73, 40.74](-74.002, -73.992]\n",
              "4           4  ...  (40.77, 40.78](-73.982, -73.972]\n",
              "\n",
              "[5 rows x 24 columns]"
            ]
          },
          "metadata": {
            "tags": []
          },
          "execution_count": 57
        }
      ]
    },
    {
      "cell_type": "code",
      "metadata": {
        "id": "IzIDRYs1IFJ_",
        "colab_type": "code",
        "colab": {}
      },
      "source": [
        "#df['pickup_position_bin']=df.pick_lat_binned.astype(str)+df.pick_long_binned.astype(str)"
      ],
      "execution_count": 58,
      "outputs": []
    },
    {
      "cell_type": "code",
      "metadata": {
        "id": "ccy0TAhuSu7-",
        "colab_type": "code",
        "colab": {}
      },
      "source": [
        ""
      ],
      "execution_count": null,
      "outputs": []
    },
    {
      "cell_type": "code",
      "metadata": {
        "id": "HchxzTpjLrnW",
        "colab_type": "code",
        "colab": {}
      },
      "source": [
        "#df['pickup_position_bin'].value_counts()"
      ],
      "execution_count": 7,
      "outputs": []
    },
    {
      "cell_type": "code",
      "metadata": {
        "id": "-Ft0FWHBKh25",
        "colab_type": "code",
        "colab": {}
      },
      "source": [
        "#df['dropoff_position_bin']=df.drop_lat_binned.astype(str)+df.drop_long_binned.astype(str)"
      ],
      "execution_count": 60,
      "outputs": []
    },
    {
      "cell_type": "code",
      "metadata": {
        "id": "N1bfDT6sI3IA",
        "colab_type": "code",
        "colab": {}
      },
      "source": [
        "#df['dropoff_position_bin'].value_counts()"
      ],
      "execution_count": 6,
      "outputs": []
    },
    {
      "cell_type": "code",
      "metadata": {
        "id": "EF4Ji49zNX9P",
        "colab_type": "code",
        "colab": {}
      },
      "source": [
        "df['drop_lat_qcut'],binsq=pd.qcut(x=df.dropoff_latitude,q=20,retbins=True)\n"
      ],
      "execution_count": 8,
      "outputs": []
    },
    {
      "cell_type": "code",
      "metadata": {
        "id": "Ew5UsuDtRtD4",
        "colab_type": "code",
        "colab": {}
      },
      "source": [
        "df['drop_long_qcut'],binsq2=pd.qcut(x=df.dropoff_longitude,q=20,retbins=True)"
      ],
      "execution_count": 9,
      "outputs": []
    },
    {
      "cell_type": "code",
      "metadata": {
        "id": "-VS-1WXQRKPF",
        "colab_type": "code",
        "colab": {}
      },
      "source": [
        "df['pick_lat_qcut'],binsq3=pd.qcut(x=df.pickup_latitude,q=20,retbins=True)"
      ],
      "execution_count": 10,
      "outputs": []
    },
    {
      "cell_type": "code",
      "metadata": {
        "id": "b54SOcGsSSxJ",
        "colab_type": "code",
        "colab": {}
      },
      "source": [
        "df['pick_long_qcut'],binsq4=pd.qcut(x=df.pickup_longitude,q=20,retbins=True)"
      ],
      "execution_count": 11,
      "outputs": []
    },
    {
      "cell_type": "code",
      "metadata": {
        "id": "IExsZ5-JQn03",
        "colab_type": "code",
        "colab": {}
      },
      "source": [
        "df['dropoff_position_qcut']=df.drop_lat_qcut.astype(str)+df.drop_long_qcut.astype(str)"
      ],
      "execution_count": 14,
      "outputs": []
    },
    {
      "cell_type": "code",
      "metadata": {
        "id": "Z4zljF5xSv_j",
        "colab_type": "code",
        "colab": {}
      },
      "source": [
        "df['pickup_position_qcut']=df.pick_lat_qcut.astype(str)+df.pick_long_qcut.astype(str)"
      ],
      "execution_count": 15,
      "outputs": []
    },
    {
      "cell_type": "code",
      "metadata": {
        "id": "np3hZIvrSS4q",
        "colab_type": "code",
        "colab": {}
      },
      "source": [
        ""
      ],
      "execution_count": null,
      "outputs": []
    },
    {
      "cell_type": "code",
      "metadata": {
        "id": "B8D4AsqGSS2e",
        "colab_type": "code",
        "colab": {
          "base_uri": "https://localhost:8080/",
          "height": 326
        },
        "outputId": "dd4c203e-03ad-47c0-bbcd-8077f0332a8f"
      },
      "source": [
        "df.head()"
      ],
      "execution_count": 16,
      "outputs": [
        {
          "output_type": "execute_result",
          "data": {
            "text/html": [
              "<div>\n",
              "<style scoped>\n",
              "    .dataframe tbody tr th:only-of-type {\n",
              "        vertical-align: middle;\n",
              "    }\n",
              "\n",
              "    .dataframe tbody tr th {\n",
              "        vertical-align: top;\n",
              "    }\n",
              "\n",
              "    .dataframe thead th {\n",
              "        text-align: right;\n",
              "    }\n",
              "</style>\n",
              "<table border=\"1\" class=\"dataframe\">\n",
              "  <thead>\n",
              "    <tr style=\"text-align: right;\">\n",
              "      <th></th>\n",
              "      <th>Unnamed: 0</th>\n",
              "      <th>key</th>\n",
              "      <th>fare_amount</th>\n",
              "      <th>pickup_datetime</th>\n",
              "      <th>pickup_longitude</th>\n",
              "      <th>pickup_latitude</th>\n",
              "      <th>dropoff_longitude</th>\n",
              "      <th>dropoff_latitude</th>\n",
              "      <th>passenger_count</th>\n",
              "      <th>date</th>\n",
              "      <th>month</th>\n",
              "      <th>week_nb</th>\n",
              "      <th>weekday</th>\n",
              "      <th>day_nb</th>\n",
              "      <th>hour</th>\n",
              "      <th>Month_day</th>\n",
              "      <th>distance_KM</th>\n",
              "      <th>working_days</th>\n",
              "      <th>drop_lat_qcut</th>\n",
              "      <th>drop_long_qcut</th>\n",
              "      <th>pick_lat_qcut</th>\n",
              "      <th>pick_long_qcut</th>\n",
              "      <th>dropoff_position_qcut</th>\n",
              "      <th>pickup_position_qcut</th>\n",
              "    </tr>\n",
              "  </thead>\n",
              "  <tbody>\n",
              "    <tr>\n",
              "      <th>0</th>\n",
              "      <td>0</td>\n",
              "      <td>2014-02-19 07:22:00.00000074</td>\n",
              "      <td>12.5</td>\n",
              "      <td>2014-02-19 07:22:00 UTC</td>\n",
              "      <td>-73.986430</td>\n",
              "      <td>40.760465</td>\n",
              "      <td>-73.988990</td>\n",
              "      <td>40.737075</td>\n",
              "      <td>1</td>\n",
              "      <td>2014-02-19 07:22:00+00:00</td>\n",
              "      <td>February</td>\n",
              "      <td>8</td>\n",
              "      <td>Wednesday</td>\n",
              "      <td>50</td>\n",
              "      <td>7</td>\n",
              "      <td>19</td>\n",
              "      <td>2.609774</td>\n",
              "      <td>1</td>\n",
              "      <td>(40.735, 40.74]</td>\n",
              "      <td>(-73.99, -73.987]</td>\n",
              "      <td>(40.759, 40.762]</td>\n",
              "      <td>(-73.988, -73.986]</td>\n",
              "      <td>(40.735, 40.74](-73.99, -73.987]</td>\n",
              "      <td>(40.759, 40.762](-73.988, -73.986]</td>\n",
              "    </tr>\n",
              "    <tr>\n",
              "      <th>1</th>\n",
              "      <td>1</td>\n",
              "      <td>2014-12-06 20:36:22.0000008</td>\n",
              "      <td>4.0</td>\n",
              "      <td>2014-12-06 20:36:22 UTC</td>\n",
              "      <td>-73.979815</td>\n",
              "      <td>40.751902</td>\n",
              "      <td>-73.979446</td>\n",
              "      <td>40.755481</td>\n",
              "      <td>1</td>\n",
              "      <td>2014-12-06 20:36:22+00:00</td>\n",
              "      <td>December</td>\n",
              "      <td>49</td>\n",
              "      <td>Saturday</td>\n",
              "      <td>340</td>\n",
              "      <td>20</td>\n",
              "      <td>6</td>\n",
              "      <td>0.399179</td>\n",
              "      <td>0</td>\n",
              "      <td>(40.754, 40.757]</td>\n",
              "      <td>(-73.98, -73.978]</td>\n",
              "      <td>(40.75, 40.753]</td>\n",
              "      <td>(-73.98, -73.978]</td>\n",
              "      <td>(40.754, 40.757](-73.98, -73.978]</td>\n",
              "      <td>(40.75, 40.753](-73.98, -73.978]</td>\n",
              "    </tr>\n",
              "    <tr>\n",
              "      <th>2</th>\n",
              "      <td>2</td>\n",
              "      <td>2014-02-19 16:03:00.000000160</td>\n",
              "      <td>5.5</td>\n",
              "      <td>2014-02-19 16:03:00 UTC</td>\n",
              "      <td>-73.976075</td>\n",
              "      <td>40.752422</td>\n",
              "      <td>-73.981082</td>\n",
              "      <td>40.759285</td>\n",
              "      <td>1</td>\n",
              "      <td>2014-02-19 16:03:00+00:00</td>\n",
              "      <td>February</td>\n",
              "      <td>8</td>\n",
              "      <td>Wednesday</td>\n",
              "      <td>50</td>\n",
              "      <td>16</td>\n",
              "      <td>19</td>\n",
              "      <td>0.871913</td>\n",
              "      <td>1</td>\n",
              "      <td>(40.757, 40.759]</td>\n",
              "      <td>(-73.982, -73.98]</td>\n",
              "      <td>(40.75, 40.753]</td>\n",
              "      <td>(-73.978, -73.975]</td>\n",
              "      <td>(40.757, 40.759](-73.982, -73.98]</td>\n",
              "      <td>(40.75, 40.753](-73.978, -73.975]</td>\n",
              "    </tr>\n",
              "    <tr>\n",
              "      <th>3</th>\n",
              "      <td>3</td>\n",
              "      <td>2014-07-16 10:57:00.00000069</td>\n",
              "      <td>5.0</td>\n",
              "      <td>2014-07-16 10:57:00 UTC</td>\n",
              "      <td>-73.996148</td>\n",
              "      <td>40.741890</td>\n",
              "      <td>-73.992202</td>\n",
              "      <td>40.739425</td>\n",
              "      <td>6</td>\n",
              "      <td>2014-07-16 10:57:00+00:00</td>\n",
              "      <td>July</td>\n",
              "      <td>29</td>\n",
              "      <td>Wednesday</td>\n",
              "      <td>197</td>\n",
              "      <td>10</td>\n",
              "      <td>16</td>\n",
              "      <td>0.430871</td>\n",
              "      <td>1</td>\n",
              "      <td>(40.735, 40.74]</td>\n",
              "      <td>(-73.994, -73.992]</td>\n",
              "      <td>(40.74, 40.744]</td>\n",
              "      <td>(-73.999, -73.995]</td>\n",
              "      <td>(40.735, 40.74](-73.994, -73.992]</td>\n",
              "      <td>(40.74, 40.744](-73.999, -73.995]</td>\n",
              "    </tr>\n",
              "    <tr>\n",
              "      <th>4</th>\n",
              "      <td>4</td>\n",
              "      <td>2014-05-01 09:12:00.000000198</td>\n",
              "      <td>7.0</td>\n",
              "      <td>2014-05-01 09:12:00 UTC</td>\n",
              "      <td>-73.966203</td>\n",
              "      <td>40.767500</td>\n",
              "      <td>-73.980915</td>\n",
              "      <td>40.774240</td>\n",
              "      <td>6</td>\n",
              "      <td>2014-05-01 09:12:00+00:00</td>\n",
              "      <td>May</td>\n",
              "      <td>18</td>\n",
              "      <td>Thursday</td>\n",
              "      <td>121</td>\n",
              "      <td>9</td>\n",
              "      <td>1</td>\n",
              "      <td>1.447958</td>\n",
              "      <td>1</td>\n",
              "      <td>(40.773, 40.777]</td>\n",
              "      <td>(-73.982, -73.98]</td>\n",
              "      <td>(40.767, 40.771]</td>\n",
              "      <td>(-73.968, -73.964]</td>\n",
              "      <td>(40.773, 40.777](-73.982, -73.98]</td>\n",
              "      <td>(40.767, 40.771](-73.968, -73.964]</td>\n",
              "    </tr>\n",
              "  </tbody>\n",
              "</table>\n",
              "</div>"
            ],
            "text/plain": [
              "   Unnamed: 0  ...                pickup_position_qcut\n",
              "0           0  ...  (40.759, 40.762](-73.988, -73.986]\n",
              "1           1  ...    (40.75, 40.753](-73.98, -73.978]\n",
              "2           2  ...   (40.75, 40.753](-73.978, -73.975]\n",
              "3           3  ...   (40.74, 40.744](-73.999, -73.995]\n",
              "4           4  ...  (40.767, 40.771](-73.968, -73.964]\n",
              "\n",
              "[5 rows x 24 columns]"
            ]
          },
          "metadata": {
            "tags": []
          },
          "execution_count": 16
        }
      ]
    },
    {
      "cell_type": "code",
      "metadata": {
        "id": "VWWnvdsOQTbC",
        "colab_type": "code",
        "colab": {}
      },
      "source": [
        "#Manhattan distance.\n",
        "\"\"\"60\n",
        "\n",
        "Euclidean: Take the square root of the sum of the squares of the differences of the coordinates.\n",
        "\n",
        "For example, if 𝑥=(𝑎,𝑏) and 𝑦=(𝑐,𝑑), the Euclidean distance between 𝑥 and 𝑦 is\n",
        "\n",
        "square_root((𝑎−𝑐)^2+(𝑏−𝑑)^2.\n",
        "\n",
        "Manhattan: Take the sum of the absolute values of the differences of the coordinates.\n",
        "\n",
        "For example, if 𝑥=(𝑎,𝑏) and 𝑦=(𝑐,𝑑), the Manhattan distance between 𝑥 and 𝑦 is\n",
        "\n",
        "|𝑎−𝑐|+|𝑏−𝑑|.\n",
        "\n",
        "F\"\"\"\n",
        "#Step 1 - Calculate the difference in degrees longitude and latitude between pickup & dropoff.\n",
        "# Given a dataframe, add two new features 'abs_diff_longitude' and\n",
        "# 'abs_diff_latitude' reprensenting the vector from\n",
        "# the pickup location to the dropoff location. (difference between )\n",
        "\n",
        "\n",
        "def TravelVectors(df):\n",
        "    df['abs_diff_longitude'] = (df.dropoff_longitude - df.pickup_longitude).abs()\n",
        "    df['abs_diff_latitude'] = (df.dropoff_latitude - df.pickup_latitude).abs()\n",
        "    \n",
        "\n",
        "TravelVectors(df)"
      ],
      "execution_count": 17,
      "outputs": []
    },
    {
      "cell_type": "code",
      "metadata": {
        "id": "HWj8IVc1vITT",
        "colab_type": "code",
        "colab": {}
      },
      "source": [
        "#Step 2 - Translate these values into distances (km)\n",
        "#1 degree of Latitude is equal to 69 miles=111,044736 km\n",
        "#Longitude vs miles varies depending where we are in the world.\n",
        "#At the latitude of Manhattan, 1 degree of longitude is equal to approximately 50 miles=80,4672 km\n",
        "\n",
        "### Converting abs_diff_longitude & lattitude to km...\n",
        "# Since we are calculating this at New York, we can assign a constant, rather than using a formula\n",
        "# longitude = degrees of latitude in radians * 111,044736\n",
        "#1 degree of longitude = 80,4672 km\n",
        "def convert_km(f):\n",
        "      df['abs_diff_longitude_km'] = df.abs_diff_longitude*80.4672\n",
        "      df['abs_diff_latitude_km'] = df.abs_diff_latitude*111.044736\n",
        "convert_km(df)"
      ],
      "execution_count": 18,
      "outputs": []
    },
    {
      "cell_type": "code",
      "metadata": {
        "id": "2DnIj2ot6aEn",
        "colab_type": "code",
        "colab": {}
      },
      "source": [
        "#Step 3 - Use trigonometry to correct our distances\n",
        "\n",
        "### Angle difference between north, and manhattan roadways\n",
        "meas_ang = 0.506 # 29 degrees = 0.506 radians\n",
        "import math\n",
        "\n",
        "##This could be dealt with via a bounding box...\n",
        "\n",
        "## adding extra features\n",
        "def add_extra_manh_features(df):\n",
        "    df['Euclidean'] = (df.abs_diff_latitude_km**2 + df.abs_diff_longitude_km**2)**0.5 ### as the crow flies  \n",
        "    df['delta_manh_long'] = (df.Euclidean*np.sin(np.arctan(df.abs_diff_longitude_km / df.abs_diff_latitude_km)-meas_ang)).abs()\n",
        "    df['delta_manh_lat'] = (df.Euclidean*np.cos(np.arctan(df.abs_diff_longitude_km / df.abs_diff_latitude_km)-meas_ang)).abs()\n",
        "    df['manh_length'] = df.delta_manh_long + df.delta_manh_lat\n",
        "    df['Euc_error'] = (df['manh_length'] - df['Euclidean'])*100 /  df['Euclidean']\n",
        "\n",
        "add_extra_manh_features(df)"
      ],
      "execution_count": 19,
      "outputs": []
    },
    {
      "cell_type": "code",
      "metadata": {
        "id": "Tz2lPbfphIFv",
        "colab_type": "code",
        "colab": {
          "base_uri": "https://localhost:8080/",
          "height": 299
        },
        "outputId": "ae76c003-b826-40a4-f064-d8da4631702e"
      },
      "source": [
        "sns.scatterplot(data=df,x='abs_diff_longitude',y='abs_diff_latitude')"
      ],
      "execution_count": 20,
      "outputs": [
        {
          "output_type": "execute_result",
          "data": {
            "text/plain": [
              "<matplotlib.axes._subplots.AxesSubplot at 0x7f7eb264fc50>"
            ]
          },
          "metadata": {
            "tags": []
          },
          "execution_count": 20
        },
        {
          "output_type": "display_data",
          "data": {
            "image/png": "[encoded data removed]",
            "text/plain": [
              "<Figure size 432x288 with 1 Axes>"
            ]
          },
          "metadata": {
            "tags": []
          }
        }
      ]
    },
    {
      "cell_type": "code",
      "metadata": {
        "id": "CHinhA8ZXWx6",
        "colab_type": "code",
        "colab": {
          "base_uri": "https://localhost:8080/",
          "height": 136
        },
        "outputId": "add968b1-c9e5-4c21-9363-36541bfa014a"
      },
      "source": [
        "df.columns"
      ],
      "execution_count": 16,
      "outputs": [
        {
          "output_type": "execute_result",
          "data": {
            "text/plain": [
              "Index(['Unnamed: 0', 'key', 'fare_amount', 'pickup_datetime',\n",
              "       'pickup_longitude', 'pickup_latitude', 'dropoff_longitude',\n",
              "       'dropoff_latitude', 'passenger_count', 'date', 'month', 'week_nb',\n",
              "       'weekday', 'day_nb', 'hour', 'Month_day', 'distance_KM', 'working_days',\n",
              "       'drop_lat_qcut', 'drop_long_qcut', 'pick_lat_qcut', 'pick_long_qcut',\n",
              "       'pickup_position_qcut', 'dropoff_position_qcut'],\n",
              "      dtype='object')"
            ]
          },
          "metadata": {
            "tags": []
          },
          "execution_count": 16
        }
      ]
    },
    {
      "cell_type": "code",
      "metadata": {
        "id": "FcuMoPv7UTIB",
        "colab_type": "code",
        "colab": {}
      },
      "source": [
        "df['price_per_km_haversine']=df['fare_amount']/df['distance_KM']"
      ],
      "execution_count": 21,
      "outputs": []
    },
    {
      "cell_type": "code",
      "metadata": {
        "id": "QRnVkA3naOHU",
        "colab_type": "code",
        "colab": {}
      },
      "source": [
        "df['price_per_km_manh']=df['fare_amount']/df['manh_length']"
      ],
      "execution_count": 22,
      "outputs": []
    },
    {
      "cell_type": "code",
      "metadata": {
        "id": "5Z2zSP8GXg-k",
        "colab_type": "code",
        "colab": {
          "base_uri": "https://localhost:8080/",
          "height": 317
        },
        "outputId": "dece4a53-79ca-4b71-f54c-4279634a3deb"
      },
      "source": [
        "df.describe()"
      ],
      "execution_count": 23,
      "outputs": [
        {
          "output_type": "execute_result",
          "data": {
            "text/html": [
              "<div>\n",
              "<style scoped>\n",
              "    .dataframe tbody tr th:only-of-type {\n",
              "        vertical-align: middle;\n",
              "    }\n",
              "\n",
              "    .dataframe tbody tr th {\n",
              "        vertical-align: top;\n",
              "    }\n",
              "\n",
              "    .dataframe thead th {\n",
              "        text-align: right;\n",
              "    }\n",
              "</style>\n",
              "<table border=\"1\" class=\"dataframe\">\n",
              "  <thead>\n",
              "    <tr style=\"text-align: right;\">\n",
              "      <th></th>\n",
              "      <th>Unnamed: 0</th>\n",
              "      <th>fare_amount</th>\n",
              "      <th>pickup_longitude</th>\n",
              "      <th>pickup_latitude</th>\n",
              "      <th>dropoff_longitude</th>\n",
              "      <th>dropoff_latitude</th>\n",
              "      <th>passenger_count</th>\n",
              "      <th>week_nb</th>\n",
              "      <th>day_nb</th>\n",
              "      <th>hour</th>\n",
              "      <th>Month_day</th>\n",
              "      <th>distance_KM</th>\n",
              "      <th>working_days</th>\n",
              "      <th>abs_diff_longitude</th>\n",
              "      <th>abs_diff_latitude</th>\n",
              "      <th>abs_diff_longitude_km</th>\n",
              "      <th>abs_diff_latitude_km</th>\n",
              "      <th>Euclidean</th>\n",
              "      <th>delta_manh_long</th>\n",
              "      <th>delta_manh_lat</th>\n",
              "      <th>manh_length</th>\n",
              "      <th>Euc_error</th>\n",
              "      <th>price_per_km_haversine</th>\n",
              "      <th>price_per_km_manh</th>\n",
              "    </tr>\n",
              "  </thead>\n",
              "  <tbody>\n",
              "    <tr>\n",
              "      <th>count</th>\n",
              "      <td>8.021407e+06</td>\n",
              "      <td>8.021407e+06</td>\n",
              "      <td>8.021407e+06</td>\n",
              "      <td>8.021407e+06</td>\n",
              "      <td>8.021407e+06</td>\n",
              "      <td>8.021407e+06</td>\n",
              "      <td>8.021407e+06</td>\n",
              "      <td>8.021407e+06</td>\n",
              "      <td>8.021407e+06</td>\n",
              "      <td>8.021407e+06</td>\n",
              "      <td>8.021407e+06</td>\n",
              "      <td>8.021407e+06</td>\n",
              "      <td>8.021407e+06</td>\n",
              "      <td>8.021407e+06</td>\n",
              "      <td>8.021407e+06</td>\n",
              "      <td>8.021407e+06</td>\n",
              "      <td>8.021407e+06</td>\n",
              "      <td>8.021407e+06</td>\n",
              "      <td>8.021407e+06</td>\n",
              "      <td>8.021407e+06</td>\n",
              "      <td>8.021407e+06</td>\n",
              "      <td>8.021407e+06</td>\n",
              "      <td>8.021407e+06</td>\n",
              "      <td>8.021407e+06</td>\n",
              "    </tr>\n",
              "    <tr>\n",
              "      <th>mean</th>\n",
              "      <td>4.126519e+06</td>\n",
              "      <td>1.289995e+01</td>\n",
              "      <td>-7.397510e+01</td>\n",
              "      <td>4.075048e+01</td>\n",
              "      <td>-7.397417e+01</td>\n",
              "      <td>4.075099e+01</td>\n",
              "      <td>1.698430e+00</td>\n",
              "      <td>2.598298e+01</td>\n",
              "      <td>1.794422e+02</td>\n",
              "      <td>1.352332e+01</td>\n",
              "      <td>1.560304e+01</td>\n",
              "      <td>3.438214e+00</td>\n",
              "      <td>7.104396e-01</td>\n",
              "      <td>2.393320e-02</td>\n",
              "      <td>2.175914e-02</td>\n",
              "      <td>1.925837e+00</td>\n",
              "      <td>2.416238e+00</td>\n",
              "      <td>3.369987e+00</td>\n",
              "      <td>1.118184e+00</td>\n",
              "      <td>3.046879e+00</td>\n",
              "      <td>4.165064e+00</td>\n",
              "      <td>2.288444e+01</td>\n",
              "      <td>9.111722e+01</td>\n",
              "      <td>7.337108e+01</td>\n",
              "    </tr>\n",
              "    <tr>\n",
              "      <th>std</th>\n",
              "      <td>2.382350e+06</td>\n",
              "      <td>1.107122e+01</td>\n",
              "      <td>3.561963e-02</td>\n",
              "      <td>2.727385e-02</td>\n",
              "      <td>3.535203e-02</td>\n",
              "      <td>3.164979e-02</td>\n",
              "      <td>1.357418e+00</td>\n",
              "      <td>1.497933e+01</td>\n",
              "      <td>1.049553e+02</td>\n",
              "      <td>6.524590e+00</td>\n",
              "      <td>8.746063e+00</td>\n",
              "      <td>3.777034e+00</td>\n",
              "      <td>4.535584e-01</td>\n",
              "      <td>3.597549e-02</td>\n",
              "      <td>2.375248e-02</td>\n",
              "      <td>2.894847e+00</td>\n",
              "      <td>2.637588e+00</td>\n",
              "      <td>3.677941e+00</td>\n",
              "      <td>1.861274e+00</td>\n",
              "      <td>3.299381e+00</td>\n",
              "      <td>4.747905e+00</td>\n",
              "      <td>1.313205e+01</td>\n",
              "      <td>6.836751e+03</td>\n",
              "      <td>5.433820e+03</td>\n",
              "    </tr>\n",
              "    <tr>\n",
              "      <th>min</th>\n",
              "      <td>0.000000e+00</td>\n",
              "      <td>1.000000e-02</td>\n",
              "      <td>-7.593377e+01</td>\n",
              "      <td>3.909806e+01</td>\n",
              "      <td>-7.564957e+01</td>\n",
              "      <td>3.936000e+01</td>\n",
              "      <td>1.000000e+00</td>\n",
              "      <td>1.000000e+00</td>\n",
              "      <td>1.000000e+00</td>\n",
              "      <td>0.000000e+00</td>\n",
              "      <td>1.000000e+00</td>\n",
              "      <td>8.375559e-05</td>\n",
              "      <td>0.000000e+00</td>\n",
              "      <td>0.000000e+00</td>\n",
              "      <td>0.000000e+00</td>\n",
              "      <td>0.000000e+00</td>\n",
              "      <td>0.000000e+00</td>\n",
              "      <td>8.046720e-05</td>\n",
              "      <td>2.611180e-08</td>\n",
              "      <td>3.900103e-05</td>\n",
              "      <td>1.093849e-04</td>\n",
              "      <td>4.964529e-06</td>\n",
              "      <td>1.006217e-03</td>\n",
              "      <td>8.022104e-04</td>\n",
              "    </tr>\n",
              "    <tr>\n",
              "      <th>25%</th>\n",
              "      <td>2.063406e+06</td>\n",
              "      <td>6.500000e+00</td>\n",
              "      <td>-7.399233e+01</td>\n",
              "      <td>4.073632e+01</td>\n",
              "      <td>-7.399161e+01</td>\n",
              "      <td>4.073495e+01</td>\n",
              "      <td>1.000000e+00</td>\n",
              "      <td>1.300000e+01</td>\n",
              "      <td>8.800000e+01</td>\n",
              "      <td>9.000000e+00</td>\n",
              "      <td>8.000000e+00</td>\n",
              "      <td>1.284402e+00</td>\n",
              "      <td>0.000000e+00</td>\n",
              "      <td>6.405000e-03</td>\n",
              "      <td>7.152000e-03</td>\n",
              "      <td>5.153924e-01</td>\n",
              "      <td>7.941920e-01</td>\n",
              "      <td>1.258475e+00</td>\n",
              "      <td>2.215445e-01</td>\n",
              "      <td>1.113098e+00</td>\n",
              "      <td>1.546660e+00</td>\n",
              "      <td>1.116362e+01</td>\n",
              "      <td>3.341658e+00</td>\n",
              "      <td>2.820735e+00</td>\n",
              "    </tr>\n",
              "    <tr>\n",
              "      <th>50%</th>\n",
              "      <td>4.126739e+06</td>\n",
              "      <td>9.500000e+00</td>\n",
              "      <td>-7.398213e+01</td>\n",
              "      <td>4.075311e+01</td>\n",
              "      <td>-7.398046e+01</td>\n",
              "      <td>4.075363e+01</td>\n",
              "      <td>1.000000e+00</td>\n",
              "      <td>2.500000e+01</td>\n",
              "      <td>1.750000e+02</td>\n",
              "      <td>1.400000e+01</td>\n",
              "      <td>1.500000e+01</td>\n",
              "      <td>2.185174e+00</td>\n",
              "      <td>1.000000e+00</td>\n",
              "      <td>1.298500e-02</td>\n",
              "      <td>1.433200e-02</td>\n",
              "      <td>1.044867e+00</td>\n",
              "      <td>1.591493e+00</td>\n",
              "      <td>2.145947e+00</td>\n",
              "      <td>5.380876e-01</td>\n",
              "      <td>1.977351e+00</td>\n",
              "      <td>2.617148e+00</td>\n",
              "      <td>2.398505e+01</td>\n",
              "      <td>4.240803e+00</td>\n",
              "      <td>3.521082e+00</td>\n",
              "    </tr>\n",
              "    <tr>\n",
              "      <th>75%</th>\n",
              "      <td>6.189700e+06</td>\n",
              "      <td>1.450000e+01</td>\n",
              "      <td>-7.396831e+01</td>\n",
              "      <td>4.076730e+01</td>\n",
              "      <td>-7.396445e+01</td>\n",
              "      <td>4.076839e+01</td>\n",
              "      <td>2.000000e+00</td>\n",
              "      <td>3.900000e+01</td>\n",
              "      <td>2.720000e+02</td>\n",
              "      <td>1.900000e+01</td>\n",
              "      <td>2.300000e+01</td>\n",
              "      <td>3.992113e+00</td>\n",
              "      <td>1.000000e+00</td>\n",
              "      <td>2.457700e-02</td>\n",
              "      <td>2.750300e-02</td>\n",
              "      <td>1.977642e+00</td>\n",
              "      <td>3.054063e+00</td>\n",
              "      <td>3.935990e+00</td>\n",
              "      <td>1.102403e+00</td>\n",
              "      <td>3.694529e+00</td>\n",
              "      <td>4.713777e+00</td>\n",
              "      <td>3.494069e+01</td>\n",
              "      <td>5.531346e+00</td>\n",
              "      <td>4.571198e+00</td>\n",
              "    </tr>\n",
              "    <tr>\n",
              "      <th>max</th>\n",
              "      <td>8.252681e+06</td>\n",
              "      <td>4.675000e+02</td>\n",
              "      <td>-7.208030e+01</td>\n",
              "      <td>4.191177e+01</td>\n",
              "      <td>-7.208994e+01</td>\n",
              "      <td>4.185778e+01</td>\n",
              "      <td>9.000000e+00</td>\n",
              "      <td>5.200000e+01</td>\n",
              "      <td>3.650000e+02</td>\n",
              "      <td>2.300000e+01</td>\n",
              "      <td>3.100000e+01</td>\n",
              "      <td>1.848633e+02</td>\n",
              "      <td>1.000000e+00</td>\n",
              "      <td>1.957202e+00</td>\n",
              "      <td>1.153735e+00</td>\n",
              "      <td>1.574906e+02</td>\n",
              "      <td>1.281162e+02</td>\n",
              "      <td>1.792167e+02</td>\n",
              "      <td>9.841622e+01</td>\n",
              "      <td>1.715927e+02</td>\n",
              "      <td>2.474456e+02</td>\n",
              "      <td>4.142136e+01</td>\n",
              "      <td>3.814749e+06</td>\n",
              "      <td>2.940625e+06</td>\n",
              "    </tr>\n",
              "  </tbody>\n",
              "</table>\n",
              "</div>"
            ],
            "text/plain": [
              "         Unnamed: 0   fare_amount  ...  price_per_km_haversine  price_per_km_manh\n",
              "count  8.021407e+06  8.021407e+06  ...            8.021407e+06       8.021407e+06\n",
              "mean   4.126519e+06  1.289995e+01  ...            9.111722e+01       7.337108e+01\n",
              "std    2.382350e+06  1.107122e+01  ...            6.836751e+03       5.433820e+03\n",
              "min    0.000000e+00  1.000000e-02  ...            1.006217e-03       8.022104e-04\n",
              "25%    2.063406e+06  6.500000e+00  ...            3.341658e+00       2.820735e+00\n",
              "50%    4.126739e+06  9.500000e+00  ...            4.240803e+00       3.521082e+00\n",
              "75%    6.189700e+06  1.450000e+01  ...            5.531346e+00       4.571198e+00\n",
              "max    8.252681e+06  4.675000e+02  ...            3.814749e+06       2.940625e+06\n",
              "\n",
              "[8 rows x 24 columns]"
            ]
          },
          "metadata": {
            "tags": []
          },
          "execution_count": 23
        }
      ]
    },
    {
      "cell_type": "code",
      "metadata": {
        "id": "fS8jpQFXcJtC",
        "colab_type": "code",
        "colab": {}
      },
      "source": [
        ""
      ],
      "execution_count": null,
      "outputs": []
    },
    {
      "cell_type": "code",
      "metadata": {
        "id": "dVxkquc5YUFK",
        "colab_type": "code",
        "colab": {
          "base_uri": "https://localhost:8080/",
          "height": 308
        },
        "outputId": "76bd60ac-5bd6-4cb8-a549-05d8927819db"
      },
      "source": [
        "sns.distplot(df['price_per_km'])"
      ],
      "execution_count": 22,
      "outputs": [
        {
          "output_type": "execute_result",
          "data": {
            "text/plain": [
              "<matplotlib.axes._subplots.AxesSubplot at 0x7f939a14ada0>"
            ]
          },
          "metadata": {
            "tags": []
          },
          "execution_count": 22
        },
        {
          "output_type": "display_data",
          "data": {
            "image/png": "[encoded data removed]",
            "text/plain": [
              "<Figure size 432x288 with 1 Axes>"
            ]
          },
          "metadata": {
            "tags": [],
            "needs_background": "light"
          }
        }
      ]
    },
    {
      "cell_type": "code",
      "metadata": {
        "id": "-6kA7XWPiYqD",
        "colab_type": "code",
        "colab": {
          "base_uri": "https://localhost:8080/",
          "height": 360
        },
        "outputId": "df6bb58f-093d-4595-ae28-dc373f33f10d"
      },
      "source": [
        "df[df['fare_amount']==0.01]"
      ],
      "execution_count": 24,
      "outputs": [
        {
          "output_type": "execute_result",
          "data": {
            "text/html": [
              "<div>\n",
              "<style scoped>\n",
              "    .dataframe tbody tr th:only-of-type {\n",
              "        vertical-align: middle;\n",
              "    }\n",
              "\n",
              "    .dataframe tbody tr th {\n",
              "        vertical-align: top;\n",
              "    }\n",
              "\n",
              "    .dataframe thead th {\n",
              "        text-align: right;\n",
              "    }\n",
              "</style>\n",
              "<table border=\"1\" class=\"dataframe\">\n",
              "  <thead>\n",
              "    <tr style=\"text-align: right;\">\n",
              "      <th></th>\n",
              "      <th>Unnamed: 0</th>\n",
              "      <th>key</th>\n",
              "      <th>fare_amount</th>\n",
              "      <th>pickup_datetime</th>\n",
              "      <th>pickup_longitude</th>\n",
              "      <th>pickup_latitude</th>\n",
              "      <th>dropoff_longitude</th>\n",
              "      <th>dropoff_latitude</th>\n",
              "      <th>passenger_count</th>\n",
              "      <th>date</th>\n",
              "      <th>month</th>\n",
              "      <th>week_nb</th>\n",
              "      <th>weekday</th>\n",
              "      <th>day_nb</th>\n",
              "      <th>hour</th>\n",
              "      <th>Month_day</th>\n",
              "      <th>distance_KM</th>\n",
              "      <th>working_days</th>\n",
              "      <th>drop_lat_qcut</th>\n",
              "      <th>drop_long_qcut</th>\n",
              "      <th>pick_lat_qcut</th>\n",
              "      <th>pick_long_qcut</th>\n",
              "      <th>dropoff_position_qcut</th>\n",
              "      <th>pickup_position_qcut</th>\n",
              "      <th>abs_diff_longitude</th>\n",
              "      <th>abs_diff_latitude</th>\n",
              "      <th>abs_diff_longitude_km</th>\n",
              "      <th>abs_diff_latitude_km</th>\n",
              "      <th>Euclidean</th>\n",
              "      <th>delta_manh_long</th>\n",
              "      <th>delta_manh_lat</th>\n",
              "      <th>manh_length</th>\n",
              "      <th>Euc_error</th>\n",
              "      <th>price_per_km_haversine</th>\n",
              "      <th>price_per_km_manh</th>\n",
              "    </tr>\n",
              "  </thead>\n",
              "  <tbody>\n",
              "    <tr>\n",
              "      <th>372229</th>\n",
              "      <td>382959</td>\n",
              "      <td>2014-06-29 21:28:48.0000005</td>\n",
              "      <td>0.01</td>\n",
              "      <td>2014-06-29 21:28:48 UTC</td>\n",
              "      <td>-74.010325</td>\n",
              "      <td>40.725071</td>\n",
              "      <td>-74.046156</td>\n",
              "      <td>40.727257</td>\n",
              "      <td>1</td>\n",
              "      <td>2014-06-29 21:28:48+00:00</td>\n",
              "      <td>June</td>\n",
              "      <td>26</td>\n",
              "      <td>Sunday</td>\n",
              "      <td>180</td>\n",
              "      <td>21</td>\n",
              "      <td>29</td>\n",
              "      <td>3.029160</td>\n",
              "      <td>0</td>\n",
              "      <td>(40.723, 40.729]</td>\n",
              "      <td>(-75.65100000000001, -74.007]</td>\n",
              "      <td>(40.72, 40.726]</td>\n",
              "      <td>(-75.935, -74.007]</td>\n",
              "      <td>(40.723, 40.729](-75.65100000000001, -74.007]</td>\n",
              "      <td>(40.72, 40.726](-75.935, -74.007]</td>\n",
              "      <td>3.583100e-02</td>\n",
              "      <td>2.186000e-03</td>\n",
              "      <td>2.883220</td>\n",
              "      <td>0.242744</td>\n",
              "      <td>2.893421</td>\n",
              "      <td>2.404271</td>\n",
              "      <td>1.609772</td>\n",
              "      <td>4.014043</td>\n",
              "      <td>38.730000</td>\n",
              "      <td>0.003301</td>\n",
              "      <td>0.002491</td>\n",
              "    </tr>\n",
              "    <tr>\n",
              "      <th>413059</th>\n",
              "      <td>425053</td>\n",
              "      <td>2014-03-31 19:12:15.0000002</td>\n",
              "      <td>0.01</td>\n",
              "      <td>2014-03-31 19:12:15 UTC</td>\n",
              "      <td>-74.015835</td>\n",
              "      <td>40.714954</td>\n",
              "      <td>-74.015836</td>\n",
              "      <td>40.714953</td>\n",
              "      <td>6</td>\n",
              "      <td>2014-03-31 19:12:15+00:00</td>\n",
              "      <td>March</td>\n",
              "      <td>14</td>\n",
              "      <td>Monday</td>\n",
              "      <td>90</td>\n",
              "      <td>19</td>\n",
              "      <td>31</td>\n",
              "      <td>0.000140</td>\n",
              "      <td>1</td>\n",
              "      <td>(40.702, 40.716]</td>\n",
              "      <td>(-75.65100000000001, -74.007]</td>\n",
              "      <td>(40.709, 40.72]</td>\n",
              "      <td>(-75.935, -74.007]</td>\n",
              "      <td>(40.702, 40.716](-75.65100000000001, -74.007]</td>\n",
              "      <td>(40.709, 40.72](-75.935, -74.007]</td>\n",
              "      <td>1.000000e-06</td>\n",
              "      <td>1.000000e-06</td>\n",
              "      <td>0.000080</td>\n",
              "      <td>0.000111</td>\n",
              "      <td>0.000137</td>\n",
              "      <td>0.000017</td>\n",
              "      <td>0.000136</td>\n",
              "      <td>0.000153</td>\n",
              "      <td>11.345500</td>\n",
              "      <td>71.670819</td>\n",
              "      <td>65.490790</td>\n",
              "    </tr>\n",
              "    <tr>\n",
              "      <th>4633956</th>\n",
              "      <td>4767790</td>\n",
              "      <td>2014-03-31 03:24:08.0000001</td>\n",
              "      <td>0.01</td>\n",
              "      <td>2014-03-31 03:24:08 UTC</td>\n",
              "      <td>-73.994162</td>\n",
              "      <td>40.758329</td>\n",
              "      <td>-73.970324</td>\n",
              "      <td>40.845865</td>\n",
              "      <td>1</td>\n",
              "      <td>2014-03-31 03:24:08+00:00</td>\n",
              "      <td>March</td>\n",
              "      <td>14</td>\n",
              "      <td>Monday</td>\n",
              "      <td>90</td>\n",
              "      <td>3</td>\n",
              "      <td>31</td>\n",
              "      <td>9.938215</td>\n",
              "      <td>1</td>\n",
              "      <td>(40.795, 41.858]</td>\n",
              "      <td>(-73.973, -73.969]</td>\n",
              "      <td>(40.756, 40.759]</td>\n",
              "      <td>(-73.995, -73.992]</td>\n",
              "      <td>(40.795, 41.858](-73.973, -73.969]</td>\n",
              "      <td>(40.756, 40.759](-73.995, -73.992]</td>\n",
              "      <td>2.383800e-02</td>\n",
              "      <td>8.753600e-02</td>\n",
              "      <td>1.918177</td>\n",
              "      <td>9.720412</td>\n",
              "      <td>9.907866</td>\n",
              "      <td>3.033502</td>\n",
              "      <td>9.432056</td>\n",
              "      <td>12.465558</td>\n",
              "      <td>25.814755</td>\n",
              "      <td>0.001006</td>\n",
              "      <td>0.000802</td>\n",
              "    </tr>\n",
              "    <tr>\n",
              "      <th>6810760</th>\n",
              "      <td>7007247</td>\n",
              "      <td>2014-06-29 21:28:29.0000002</td>\n",
              "      <td>0.01</td>\n",
              "      <td>2014-06-29 21:28:29 UTC</td>\n",
              "      <td>-73.958670</td>\n",
              "      <td>40.743635</td>\n",
              "      <td>-73.958670</td>\n",
              "      <td>40.743630</td>\n",
              "      <td>1</td>\n",
              "      <td>2014-06-29 21:28:29+00:00</td>\n",
              "      <td>June</td>\n",
              "      <td>26</td>\n",
              "      <td>Sunday</td>\n",
              "      <td>180</td>\n",
              "      <td>21</td>\n",
              "      <td>29</td>\n",
              "      <td>0.000556</td>\n",
              "      <td>0</td>\n",
              "      <td>(40.74, 40.744]</td>\n",
              "      <td>(-73.959, -73.955]</td>\n",
              "      <td>(40.74, 40.744]</td>\n",
              "      <td>(-73.964, -73.958]</td>\n",
              "      <td>(40.74, 40.744](-73.959, -73.955]</td>\n",
              "      <td>(40.74, 40.744](-73.964, -73.958]</td>\n",
              "      <td>0.000000e+00</td>\n",
              "      <td>5.000000e-06</td>\n",
              "      <td>0.000000</td>\n",
              "      <td>0.000555</td>\n",
              "      <td>0.000555</td>\n",
              "      <td>0.000269</td>\n",
              "      <td>0.000486</td>\n",
              "      <td>0.000755</td>\n",
              "      <td>35.937260</td>\n",
              "      <td>17.986432</td>\n",
              "      <td>13.249318</td>\n",
              "    </tr>\n",
              "    <tr>\n",
              "      <th>7689804</th>\n",
              "      <td>7911626</td>\n",
              "      <td>2014-06-29 05:28:31.0000002</td>\n",
              "      <td>0.01</td>\n",
              "      <td>2014-06-29 05:28:31 UTC</td>\n",
              "      <td>-73.992880</td>\n",
              "      <td>40.753092</td>\n",
              "      <td>-73.982612</td>\n",
              "      <td>40.774192</td>\n",
              "      <td>1</td>\n",
              "      <td>2014-06-29 05:28:31+00:00</td>\n",
              "      <td>June</td>\n",
              "      <td>26</td>\n",
              "      <td>Sunday</td>\n",
              "      <td>180</td>\n",
              "      <td>5</td>\n",
              "      <td>29</td>\n",
              "      <td>2.500509</td>\n",
              "      <td>0</td>\n",
              "      <td>(40.773, 40.777]</td>\n",
              "      <td>(-73.985, -73.982]</td>\n",
              "      <td>(40.75, 40.753]</td>\n",
              "      <td>(-73.995, -73.992]</td>\n",
              "      <td>(40.773, 40.777](-73.985, -73.982]</td>\n",
              "      <td>(40.75, 40.753](-73.995, -73.992]</td>\n",
              "      <td>1.026800e-02</td>\n",
              "      <td>2.110000e-02</td>\n",
              "      <td>0.826237</td>\n",
              "      <td>2.343044</td>\n",
              "      <td>2.484456</td>\n",
              "      <td>0.412930</td>\n",
              "      <td>2.449900</td>\n",
              "      <td>2.862831</td>\n",
              "      <td>15.229670</td>\n",
              "      <td>0.003999</td>\n",
              "      <td>0.003493</td>\n",
              "    </tr>\n",
              "  </tbody>\n",
              "</table>\n",
              "</div>"
            ],
            "text/plain": [
              "         Unnamed: 0  ... price_per_km_manh\n",
              "372229       382959  ...          0.002491\n",
              "413059       425053  ...         65.490790\n",
              "4633956     4767790  ...          0.000802\n",
              "6810760     7007247  ...         13.249318\n",
              "7689804     7911626  ...          0.003493\n",
              "\n",
              "[5 rows x 35 columns]"
            ]
          },
          "metadata": {
            "tags": []
          },
          "execution_count": 24
        }
      ]
    },
    {
      "cell_type": "code",
      "metadata": {
        "id": "kFvLj672iZJB",
        "colab_type": "code",
        "colab": {}
      },
      "source": [
        ""
      ],
      "execution_count": null,
      "outputs": []
    },
    {
      "cell_type": "code",
      "metadata": {
        "id": "2FmyQtpKiZNG",
        "colab_type": "code",
        "colab": {}
      },
      "source": [
        ""
      ],
      "execution_count": null,
      "outputs": []
    },
    {
      "cell_type": "code",
      "metadata": {
        "id": "LR2r4dp5iZT3",
        "colab_type": "code",
        "colab": {}
      },
      "source": [
        ""
      ],
      "execution_count": null,
      "outputs": []
    },
    {
      "cell_type": "markdown",
      "metadata": {
        "id": "oiw33TL8VmVD",
        "colab_type": "text"
      },
      "source": [
        "# MODELING"
      ]
    },
    {
      "cell_type": "markdown",
      "metadata": {
        "id": "uYxjDhPXWmGJ",
        "colab_type": "text"
      },
      "source": [
        "to test:\n",
        "Clustering then regression\n",
        "regression without clustering\n",
        "Regression types to test : Linear regression, "
      ]
    },
    {
      "cell_type": "code",
      "metadata": {
        "id": "iqp7ezc-Vn9L",
        "colab_type": "code",
        "colab": {}
      },
      "source": [
        "from sklearn.decomposition import PCA\n",
        "from sklearn.preprocessing import MinMaxScaler\n",
        "\n",
        "from sklearn.cluster import KMeans\n",
        "from sklearn.cluster import MiniBatchKMeans\n",
        "from yellowbrick.cluster import KElbowVisualizer # find an optimal number of  centroids for clustering\n",
        "from sklearn.manifold import TSNE # for visualizaion of data with high number of dimension"
      ],
      "execution_count": null,
      "outputs": []
    },
    {
      "cell_type": "code",
      "metadata": {
        "id": "-Ew2RLM8JWn0",
        "colab_type": "code",
        "colab": {}
      },
      "source": [
        "#model librairies\n",
        "from sklearn.model_selection import train_test_split\n",
        "\n",
        "from sklearn.linear_model import LogisticRegression\n",
        "from sklearn.neighbors import KNeighborsClassifier\n",
        "from sklearn.tree import DecisionTreeClassifier\n",
        "from sklearn.ensemble import RandomForestClassifier\n",
        "from sklearn.linear_model import LinearRegression\n",
        "\n",
        "from sklearn.metrics import r2_score,mean_squared_error,mean_absolute_error\n",
        "\n",
        "from sklearn.model_selection import RepeatedStratifiedKFold\n",
        "\n",
        "#import statsmodels.api as sm\n",
        "#from statsmodels.genmod.families.links import log\n",
        "\n"
      ],
      "execution_count": null,
      "outputs": []
    },
    {
      "cell_type": "code",
      "metadata": {
        "id": "okTZrAk8WHYW",
        "colab_type": "code",
        "colab": {}
      },
      "source": [
        "# transform to dummies\n",
        "#df=pd.get_dummies(data=df, columns=['hour','month','weekday'],drop_first=True)"
      ],
      "execution_count": null,
      "outputs": []
    },
    {
      "cell_type": "code",
      "metadata": {
        "id": "EgcHzkOgWLc2",
        "colab_type": "code",
        "colab": {}
      },
      "source": [
        "#Normalization of data with MinMaxscaler (not standardization since not sure the distribution is normal)\n",
        "# define min max scaler\n",
        "scaler = MinMaxScaler()\n",
        "# transform data\n",
        "scaled = scaler.fit_transform(df_ml2)"
      ],
      "execution_count": null,
      "outputs": []
    },
    {
      "cell_type": "code",
      "metadata": {
        "id": "MMJ4WsA8H9SB",
        "colab_type": "code",
        "colab": {}
      },
      "source": [
        "# splitting  dataset into train and test 1\n",
        "X_train, X_test,y_train,y_test = train_test_split(scaled, \\\n",
        "                                                  df.ride_duration_seconds, \\\n",
        "                                                  test_size=1/3, \\\n",
        "                                                  random_state=42)"
      ],
      "execution_count": null,
      "outputs": []
    },
    {
      "cell_type": "code",
      "metadata": {
        "id": "R92KWCB7IA8I",
        "colab_type": "code",
        "colab": {}
      },
      "source": [
        "#usig a sample\n",
        "df_ml3Sample=df_ml3.sample(frac=0.1)"
      ],
      "execution_count": null,
      "outputs": []
    },
    {
      "cell_type": "code",
      "metadata": {
        "id": "6DQAxAXyIOCg",
        "colab_type": "code",
        "colab": {}
      },
      "source": [
        ""
      ],
      "execution_count": null,
      "outputs": []
    },
    {
      "cell_type": "code",
      "metadata": {
        "id": "Ysw4rLpbIN_L",
        "colab_type": "code",
        "colab": {}
      },
      "source": [
        "# 1LINEAR REGRESSION ()SKLEARN\n",
        "linreg = LinearRegression()\n",
        "linreg.fit(X_train,y_train)\n",
        "y_pred1=linreg.predict(X_test)\n",
        "R21=r2_score(y_test,y_pred1)\n",
        "MSE1=mean_squared_error(y_test,y_pred1)\n",
        "MAE1=mean_absolute_error(y_test,y_pred1)\n"
      ],
      "execution_count": null,
      "outputs": []
    },
    {
      "cell_type": "code",
      "metadata": {
        "id": "TJXIjAPNIe07",
        "colab_type": "code",
        "colab": {}
      },
      "source": [
        ""
      ],
      "execution_count": null,
      "outputs": []
    },
    {
      "cell_type": "code",
      "metadata": {
        "id": "qa8XUceKIn2t",
        "colab_type": "code",
        "colab": {}
      },
      "source": [
        "#TSNE\n",
        "df_ml3Sample=pd.get_dummies(data=df_ml3Sample,columns=['month','weekday'],drop_first=True)\n",
        "X_tsne=df_ml3Sample.drop(['cluster'],axis=1)\n",
        "#Normalization of data with MinMaxscaler (not standardization since not sure the distribution is normal)\n",
        "# define min max scaler\n",
        "scaler4 = MinMaxScaler()\n",
        "# transform data\n",
        "X_tsne= scaler4.fit_transform(X_tsne)\n",
        "tsne=TSNE(n_components=2,verbose=1,n_iter=1000)\n",
        "tsne_results=tsne.fit_transform(X_tsne)\n",
        "tsne_results.shape\n",
        "df_ml3Sample['tsne2D1']=tsne_results[:,0]\n",
        "df_ml3Sample['tsne2D2']=tsne_results[:,1]"
      ],
      "execution_count": null,
      "outputs": []
    }
  ]
}