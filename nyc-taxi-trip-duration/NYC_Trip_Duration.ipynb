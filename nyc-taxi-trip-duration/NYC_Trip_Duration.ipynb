{
 "cells": [
  {
   "cell_type": "raw",
   "metadata": {},
   "source": [
    "\n",
    "pickup_datetime - date and time when the meter was engaged\n",
    "dropoff_datetime - date and time when the meter was disengaged\n",
    "\n",
    "\n",
    "*fonction pour récuper le quantieme sur chaque fichier . ==>clé commune aux 2 fichiers apres on merge les 2 fichiers\n",
    "*fonction pour retraiter les dates du fichier taxi:\n",
    "*date (splitter en saison, month, jour   , weekend/not weekend. Attention multicolinearrity.\n",
    "* time (bucket matin / aprem/soir/et nuit  à voir plus tard); Split en 24h (prendre l' heure en cours)\n",
    "\n",
    "\n",
    "Rajouter une colonne durée de la course\n",
    "Verifier si la duree entre pickup et le dropoff est pas deconnante\n",
    "1 colonne duree >1 h ou inferieur à 1h???\n",
    "\n",
    "\n",
    "température : farenheint à convertir en degre celsius. Garder la moyenne et verifier si c est cohérent.\n",
    "Pour convertir en degrés Celsius une température donnée en degrés Fahrenheit, il suffit de soustraire 32 et de diviser par 1,8 (9/5 = 1,8) le nombre ainsi obtenu. Pour 50 °F , on obtient : 50 − 32 = 18, puis 18/1,8 = 10 ; donc 50 °F = 10 °C .\n",
    "\n",
    "convertir inch en cm (1inch =2,54cm)\n",
    "\n",
    "*lieu:\n",
    "\n",
    "Model à tester:\n",
    "which features\n",
    "\n",
    "Taxi ride duration.\n",
    "\n",
    "poisson distribution: how many ride will occur within an amount of time\n",
    "Exponentiel distribution : how long the duration will be."
   ]
  },
  {
   "cell_type": "raw",
   "metadata": {},
   "source": [
    "Taxi dataset\n",
    "Codebook / Data fields\n",
    "id - a unique identifier for each trip\n",
    "// vendor_id - a code indicating the provider associated with the trip record\n",
    "pickup_datetime - date and time when the meter was engaged\n",
    "dropoff_datetime - date and time when the meter was disengaged\n",
    "passenger_count - the number of passengers in the vehicle (driver entered value)\n",
    "pickup_longitude - the longitude where the meter was engaged\n",
    "pickup_latitude - the latitude where the meter was engaged\n",
    "dropoff_longitude - the longitude where the meter was disengaged\n",
    "dropoff_latitude - the latitude where the meter was disengaged\n",
    "// store_and_fwd_flag - This flag indicates whether the trip record was held in vehicle memory before sending to the vendor because the vehicle did not have a connection to the server - Y=store and forward; N=not a store and forward trip\n",
    "trip_duration - duration of the trip in seconds\n",
    "\n",
    "Weather dataset\n",
    "Weather data collected from the National Weather Service. It contains the first six months of 2016, for a weather station in central park. It contains for each day the minimum temperature, maximum temperature, average temperature, precipitation, new snow fall, and current snow depth. The temperature is measured in Fahrenheit and the depth is measured in inches. T means that there is a trace of precipitation.\n",
    "\n",
    "The data was retrieved on 20th of July, 2017 on the website http://w2.weather.gov/climate/xmacis.php?wfo=okx.\n",
    "\n",
    " Temperatures are reported in degrees F; \n",
    " Precipitation, snowfall and snow depth are reported in inches.\n",
    " \n",
    " Intensity\n",
    "\n"
   ]
  },
  {
   "cell_type": "markdown",
   "metadata": {},
   "source": [
    "#### Target : Cluster data first, then predict duration depending in the cluster."
   ]
  },
  {
   "cell_type": "code",
   "execution_count": 2,
   "metadata": {},
   "outputs": [
    {
     "name": "stderr",
     "output_type": "stream",
     "text": [
      "Matplotlib is building the font cache; this may take a moment.\n"
     ]
    }
   ],
   "source": [
    "#Libraries\n",
    "import pandas as pd\n",
    "import numpy as np\n",
    "import seaborn as sns\n",
    "import matplotlib.pyplot as plt\n",
    "%matplotlib inline\n",
    "import datetime\n"
   ]
  },
  {
   "cell_type": "code",
   "execution_count": 57,
   "metadata": {},
   "outputs": [],
   "source": [
    "sns.set_style('dark')"
   ]
  },
  {
   "cell_type": "code",
   "execution_count": 3,
   "metadata": {},
   "outputs": [],
   "source": [
    "Init_train=pd.read_csv('train.csv')\n",
    "Init_test=pd.read_csv('test.csv')\n",
    "# not sure we can use test csv as Y is missing ==>cannot check++> will have to split the train file"
   ]
  },
  {
   "cell_type": "code",
   "execution_count": 4,
   "metadata": {},
   "outputs": [
    {
     "data": {
      "text/plain": [
       "(1458644, 11)"
      ]
     },
     "execution_count": 4,
     "metadata": {},
     "output_type": "execute_result"
    }
   ],
   "source": [
    "Init_train.shape"
   ]
  },
  {
   "cell_type": "code",
   "execution_count": null,
   "metadata": {},
   "outputs": [],
   "source": [
    "# to_drop=['store_and_fwd_flag']\n",
    "# Insight A creuser: vendor id, l organisation du taxi à new york\n",
    "#weather_data_nyc_centralpark_2016\n",
    "# 2 providers "
   ]
  },
  {
   "cell_type": "markdown",
   "metadata": {},
   "source": [
    "# WEATHER DATA"
   ]
  },
  {
   "cell_type": "code",
   "execution_count": 5,
   "metadata": {},
   "outputs": [],
   "source": [
    "weather=pd.read_csv('weather_data_nyc_centralpark_2016(1).csv')"
   ]
  },
  {
   "cell_type": "code",
   "execution_count": 12,
   "metadata": {},
   "outputs": [
    {
     "data": {
      "text/plain": [
       "date                   0\n",
       "maximum temperature    0\n",
       "minimum temperature    0\n",
       "average temperature    0\n",
       "precipitation          0\n",
       "snow fall              0\n",
       "snow depth             0\n",
       "dtype: int64"
      ]
     },
     "execution_count": 12,
     "metadata": {},
     "output_type": "execute_result"
    }
   ],
   "source": [
    "weather.isnull().sum()"
   ]
  },
  {
   "cell_type": "code",
   "execution_count": 7,
   "metadata": {},
   "outputs": [
    {
     "data": {
      "text/plain": [
       "date                    object\n",
       "maximum temperature      int64\n",
       "minimum temperature      int64\n",
       "average temperature    float64\n",
       "precipitation           object\n",
       "snow fall               object\n",
       "snow depth              object\n",
       "dtype: object"
      ]
     },
     "execution_count": 7,
     "metadata": {},
     "output_type": "execute_result"
    }
   ],
   "source": [
    "weather.dtypes\n",
    "# changer le type de la date de preicipitation et snow columns"
   ]
  },
  {
   "cell_type": "code",
   "execution_count": 8,
   "metadata": {},
   "outputs": [
    {
     "data": {
      "text/html": [
       "<div>\n",
       "<style scoped>\n",
       "    .dataframe tbody tr th:only-of-type {\n",
       "        vertical-align: middle;\n",
       "    }\n",
       "\n",
       "    .dataframe tbody tr th {\n",
       "        vertical-align: top;\n",
       "    }\n",
       "\n",
       "    .dataframe thead th {\n",
       "        text-align: right;\n",
       "    }\n",
       "</style>\n",
       "<table border=\"1\" class=\"dataframe\">\n",
       "  <thead>\n",
       "    <tr style=\"text-align: right;\">\n",
       "      <th></th>\n",
       "      <th>date</th>\n",
       "      <th>maximum temperature</th>\n",
       "      <th>minimum temperature</th>\n",
       "      <th>average temperature</th>\n",
       "      <th>precipitation</th>\n",
       "      <th>snow fall</th>\n",
       "      <th>snow depth</th>\n",
       "    </tr>\n",
       "  </thead>\n",
       "  <tbody>\n",
       "    <tr>\n",
       "      <th>0</th>\n",
       "      <td>1-1-2016</td>\n",
       "      <td>42</td>\n",
       "      <td>34</td>\n",
       "      <td>38.0</td>\n",
       "      <td>0.00</td>\n",
       "      <td>0.0</td>\n",
       "      <td>0</td>\n",
       "    </tr>\n",
       "    <tr>\n",
       "      <th>1</th>\n",
       "      <td>2-1-2016</td>\n",
       "      <td>40</td>\n",
       "      <td>32</td>\n",
       "      <td>36.0</td>\n",
       "      <td>0.00</td>\n",
       "      <td>0.0</td>\n",
       "      <td>0</td>\n",
       "    </tr>\n",
       "    <tr>\n",
       "      <th>2</th>\n",
       "      <td>3-1-2016</td>\n",
       "      <td>45</td>\n",
       "      <td>35</td>\n",
       "      <td>40.0</td>\n",
       "      <td>0.00</td>\n",
       "      <td>0.0</td>\n",
       "      <td>0</td>\n",
       "    </tr>\n",
       "    <tr>\n",
       "      <th>3</th>\n",
       "      <td>4-1-2016</td>\n",
       "      <td>36</td>\n",
       "      <td>14</td>\n",
       "      <td>25.0</td>\n",
       "      <td>0.00</td>\n",
       "      <td>0.0</td>\n",
       "      <td>0</td>\n",
       "    </tr>\n",
       "    <tr>\n",
       "      <th>4</th>\n",
       "      <td>5-1-2016</td>\n",
       "      <td>29</td>\n",
       "      <td>11</td>\n",
       "      <td>20.0</td>\n",
       "      <td>0.00</td>\n",
       "      <td>0.0</td>\n",
       "      <td>0</td>\n",
       "    </tr>\n",
       "  </tbody>\n",
       "</table>\n",
       "</div>"
      ],
      "text/plain": [
       "       date  maximum temperature  minimum temperature  average temperature  \\\n",
       "0  1-1-2016                   42                   34                 38.0   \n",
       "1  2-1-2016                   40                   32                 36.0   \n",
       "2  3-1-2016                   45                   35                 40.0   \n",
       "3  4-1-2016                   36                   14                 25.0   \n",
       "4  5-1-2016                   29                   11                 20.0   \n",
       "\n",
       "  precipitation snow fall snow depth  \n",
       "0          0.00       0.0          0  \n",
       "1          0.00       0.0          0  \n",
       "2          0.00       0.0          0  \n",
       "3          0.00       0.0          0  \n",
       "4          0.00       0.0          0  "
      ]
     },
     "execution_count": 8,
     "metadata": {},
     "output_type": "execute_result"
    }
   ],
   "source": [
    "weather.head()"
   ]
  },
  {
   "cell_type": "code",
   "execution_count": 9,
   "metadata": {},
   "outputs": [
    {
     "data": {
      "text/plain": [
       "array([42, 40, 45, 36, 29, 41, 46, 47, 59, 44, 30, 38, 51, 52, 31, 28, 37,\n",
       "       27, 35, 39, 48, 56, 50, 22, 15, 54, 61, 55, 60, 67, 77, 79, 68, 62,\n",
       "       57, 65, 63, 43, 71, 72, 53, 73, 58, 75, 82, 69, 66, 76, 80, 64, 70,\n",
       "       78, 88, 90, 87, 92, 85, 83, 74, 84, 86, 91, 89, 81, 93, 94, 96, 95,\n",
       "       49, 34, 33])"
      ]
     },
     "execution_count": 9,
     "metadata": {},
     "output_type": "execute_result"
    }
   ],
   "source": [
    "weather['maximum temperature'].unique()"
   ]
  },
  {
   "cell_type": "code",
   "execution_count": 10,
   "metadata": {},
   "outputs": [
    {
     "data": {
      "text/plain": [
       "0        1-1-2016\n",
       "1        2-1-2016\n",
       "2        3-1-2016\n",
       "3        4-1-2016\n",
       "4        5-1-2016\n",
       "          ...    \n",
       "361    27-12-2016\n",
       "362    28-12-2016\n",
       "363    29-12-2016\n",
       "364    30-12-2016\n",
       "365    31-12-2016\n",
       "Name: date, Length: 366, dtype: object"
      ]
     },
     "execution_count": 10,
     "metadata": {},
     "output_type": "execute_result"
    }
   ],
   "source": [
    "weather.date"
   ]
  },
  {
   "cell_type": "code",
   "execution_count": 11,
   "metadata": {},
   "outputs": [],
   "source": [
    "#transform date from day-month-year to year-month-day in weather file\n",
    "weather['date']=pd.to_datetime(weather.date)\n"
   ]
  },
  {
   "cell_type": "code",
   "execution_count": 36,
   "metadata": {},
   "outputs": [],
   "source": [
    "# Day of year\n",
    "weather['day_nb'] = weather.date.dt.dayofyear"
   ]
  },
  {
   "cell_type": "code",
   "execution_count": 12,
   "metadata": {},
   "outputs": [
    {
     "data": {
      "text/plain": [
       "366"
      ]
     },
     "execution_count": 12,
     "metadata": {},
     "output_type": "execute_result"
    }
   ],
   "source": [
    "#check if average temperature  is correct\n",
    "((weather[\"maximum temperature\"]+weather[\"minimum temperature\"])/2==weather['average temperature']).sum()\n"
   ]
  },
  {
   "cell_type": "code",
   "execution_count": null,
   "metadata": {},
   "outputs": [],
   "source": [
    "#weather['date'].map(lambda x :str(x)[:10])"
   ]
  },
  {
   "cell_type": "markdown",
   "metadata": {},
   "source": [
    "# TAXI DATA"
   ]
  },
  {
   "cell_type": "code",
   "execution_count": 6,
   "metadata": {},
   "outputs": [
    {
     "data": {
      "text/plain": [
       "id                     object\n",
       "vendor_id               int64\n",
       "pickup_datetime        object\n",
       "dropoff_datetime       object\n",
       "passenger_count         int64\n",
       "pickup_longitude      float64\n",
       "pickup_latitude       float64\n",
       "dropoff_longitude     float64\n",
       "dropoff_latitude      float64\n",
       "store_and_fwd_flag     object\n",
       "trip_duration           int64\n",
       "dtype: object"
      ]
     },
     "execution_count": 6,
     "metadata": {},
     "output_type": "execute_result"
    }
   ],
   "source": [
    "taxi=Init_train\n",
    "taxi.dtypes"
   ]
  },
  {
   "cell_type": "code",
   "execution_count": 21,
   "metadata": {},
   "outputs": [
    {
     "data": {
      "text/plain": [
       "id                    0\n",
       "vendor_id             0\n",
       "pickup_datetime       0\n",
       "dropoff_datetime      0\n",
       "passenger_count       0\n",
       "pickup_longitude      0\n",
       "pickup_latitude       0\n",
       "dropoff_longitude     0\n",
       "dropoff_latitude      0\n",
       "store_and_fwd_flag    0\n",
       "trip_duration         0\n",
       "dtype: int64"
      ]
     },
     "execution_count": 21,
     "metadata": {},
     "output_type": "execute_result"
    }
   ],
   "source": [
    "taxi.isnull().sum()"
   ]
  },
  {
   "cell_type": "code",
   "execution_count": 88,
   "metadata": {},
   "outputs": [
    {
     "data": {
      "text/plain": [
       "array(['2016-03-14 17:24:55', '2016-06-12 00:43:35',\n",
       "       '2016-01-19 11:35:24', ..., '2016-01-10 07:35:15',\n",
       "       '2016-04-22 06:57:41', '2016-01-05 15:56:26'], dtype=object)"
      ]
     },
     "execution_count": 88,
     "metadata": {},
     "output_type": "execute_result"
    }
   ],
   "source": [
    "\n",
    "taxi.pickup_datetime.unique()"
   ]
  },
  {
   "cell_type": "code",
   "execution_count": 15,
   "metadata": {},
   "outputs": [],
   "source": [
    "taxi['date']=pd.to_datetime(taxi['pickup_datetime'])"
   ]
  },
  {
   "cell_type": "code",
   "execution_count": 17,
   "metadata": {},
   "outputs": [
    {
     "name": "stderr",
     "output_type": "stream",
     "text": [
      "/opt/anaconda3/lib/python3.7/site-packages/ipykernel_launcher.py:4: FutureWarning: Series.dt.weekofyear and Series.dt.week have been deprecated.  Please use Series.dt.isocalendar().week instead.\n",
      "  after removing the cwd from sys.path.\n"
     ]
    }
   ],
   "source": [
    "# Month of year\n",
    "taxi['month'] = taxi['date'].dt.month\n",
    "# Week of year\n",
    "taxi['week_nb'] = taxi['date'].dt.week\n",
    "# Day of week\n",
    "taxi['weekday'] = taxi['date'].dt.weekday\n",
    "# Day of year (quantieme)\n",
    "taxi['day_nb'] = taxi['date'].dt.dayofyear\n",
    "# Hour of the day \n",
    "taxi['hour'] = taxi['date'].dt.hour"
   ]
  },
  {
   "cell_type": "code",
   "execution_count": 20,
   "metadata": {},
   "outputs": [],
   "source": [
    "# Timestamp.isocalendar todig in"
   ]
  },
  {
   "cell_type": "code",
   "execution_count": 82,
   "metadata": {},
   "outputs": [],
   "source": [
    "#Select date part from date in taxi file\n",
    "#taxi['date']=taxi['pickup_datetime'].map(lambda x :x[:10])"
   ]
  },
  {
   "cell_type": "code",
   "execution_count": 83,
   "metadata": {},
   "outputs": [],
   "source": [
    "#taxi['date']=pd.to_datetime(taxi['date'])"
   ]
  },
  {
   "cell_type": "code",
   "execution_count": 84,
   "metadata": {},
   "outputs": [],
   "source": [
    "# Select time in the pickup date time:\n",
    "#taxi['time']=taxi['pickup_datetime'].map(lambda x :x[11:])\n",
    "#taxi['hour']=taxi['pickup_datetime'].map(lambda x :x[11:13])"
   ]
  },
  {
   "cell_type": "code",
   "execution_count": 25,
   "metadata": {},
   "outputs": [
    {
     "data": {
      "text/plain": [
       "array([3, 6, 1, 4, 5, 2])"
      ]
     },
     "execution_count": 25,
     "metadata": {},
     "output_type": "execute_result"
    }
   ],
   "source": [
    "taxi['month'].unique()"
   ]
  },
  {
   "cell_type": "code",
   "execution_count": 30,
   "metadata": {},
   "outputs": [],
   "source": [
    "# Month of the taxi \"ride\":\n",
    "#taxi['Month']=taxi['pickup_datetime'].map(lambda x :x[5:7])\n",
    "#Seasons:\n",
    "dct_seasons={1:'winter',2:'winter',12:'winter', 3:'spring', 4: 'spring', 5:'spring', 6:'summer',7:'summer',8:'summer',9:'automn',10:'automn',11:'automn'}\n",
    "taxi['season']=taxi['month'].map(dct_seasons)"
   ]
  },
  {
   "cell_type": "code",
   "execution_count": 31,
   "metadata": {},
   "outputs": [
    {
     "data": {
      "text/plain": [
       "array(['spring', 'summer', 'winter'], dtype=object)"
      ]
     },
     "execution_count": 31,
     "metadata": {},
     "output_type": "execute_result"
    }
   ],
   "source": [
    "taxi['season'].unique()"
   ]
  },
  {
   "cell_type": "code",
   "execution_count": 69,
   "metadata": {},
   "outputs": [],
   "source": [
    "# check why automn is not visible ==>Only 1 semester of data"
   ]
  },
  {
   "cell_type": "code",
   "execution_count": null,
   "metadata": {},
   "outputs": [],
   "source": [
    "# Check duration of the transport"
   ]
  },
  {
   "cell_type": "code",
   "execution_count": 121,
   "metadata": {},
   "outputs": [],
   "source": [
    "taxi['ride_duration']=pd.to_datetime(taxi['dropoff_datetime'])-pd.to_datetime(taxi['pickup_datetime'])"
   ]
  },
  {
   "cell_type": "markdown",
   "metadata": {},
   "source": [
    "# MERGING TABLES"
   ]
  },
  {
   "cell_type": "code",
   "execution_count": 37,
   "metadata": {},
   "outputs": [],
   "source": [
    "df = taxi.merge(weather, how='left', on='day_nb')"
   ]
  },
  {
   "cell_type": "code",
   "execution_count": 40,
   "metadata": {},
   "outputs": [
    {
     "data": {
      "text/html": [
       "<div>\n",
       "<style scoped>\n",
       "    .dataframe tbody tr th:only-of-type {\n",
       "        vertical-align: middle;\n",
       "    }\n",
       "\n",
       "    .dataframe tbody tr th {\n",
       "        vertical-align: top;\n",
       "    }\n",
       "\n",
       "    .dataframe thead th {\n",
       "        text-align: right;\n",
       "    }\n",
       "</style>\n",
       "<table border=\"1\" class=\"dataframe\">\n",
       "  <thead>\n",
       "    <tr style=\"text-align: right;\">\n",
       "      <th></th>\n",
       "      <th>id</th>\n",
       "      <th>vendor_id</th>\n",
       "      <th>pickup_datetime</th>\n",
       "      <th>dropoff_datetime</th>\n",
       "      <th>passenger_count</th>\n",
       "      <th>pickup_longitude</th>\n",
       "      <th>pickup_latitude</th>\n",
       "      <th>dropoff_longitude</th>\n",
       "      <th>dropoff_latitude</th>\n",
       "      <th>store_and_fwd_flag</th>\n",
       "      <th>...</th>\n",
       "      <th>hour</th>\n",
       "      <th>season</th>\n",
       "      <th>ride_duration</th>\n",
       "      <th>date_y</th>\n",
       "      <th>maximum temperature</th>\n",
       "      <th>minimum temperature</th>\n",
       "      <th>average temperature</th>\n",
       "      <th>precipitation</th>\n",
       "      <th>snow fall</th>\n",
       "      <th>snow depth</th>\n",
       "    </tr>\n",
       "  </thead>\n",
       "  <tbody>\n",
       "    <tr>\n",
       "      <th>0</th>\n",
       "      <td>id2875421</td>\n",
       "      <td>2</td>\n",
       "      <td>2016-03-14 17:24:55</td>\n",
       "      <td>2016-03-14 17:32:30</td>\n",
       "      <td>1</td>\n",
       "      <td>-73.982155</td>\n",
       "      <td>40.767937</td>\n",
       "      <td>-73.964630</td>\n",
       "      <td>40.765602</td>\n",
       "      <td>N</td>\n",
       "      <td>...</td>\n",
       "      <td>17</td>\n",
       "      <td>spring</td>\n",
       "      <td>0 days 00:07:35</td>\n",
       "      <td>2016-03-14</td>\n",
       "      <td>51</td>\n",
       "      <td>40</td>\n",
       "      <td>45.5</td>\n",
       "      <td>0.29</td>\n",
       "      <td>0.0</td>\n",
       "      <td>0</td>\n",
       "    </tr>\n",
       "    <tr>\n",
       "      <th>1</th>\n",
       "      <td>id2377394</td>\n",
       "      <td>1</td>\n",
       "      <td>2016-06-12 00:43:35</td>\n",
       "      <td>2016-06-12 00:54:38</td>\n",
       "      <td>1</td>\n",
       "      <td>-73.980415</td>\n",
       "      <td>40.738564</td>\n",
       "      <td>-73.999481</td>\n",
       "      <td>40.731152</td>\n",
       "      <td>N</td>\n",
       "      <td>...</td>\n",
       "      <td>0</td>\n",
       "      <td>summer</td>\n",
       "      <td>0 days 00:11:03</td>\n",
       "      <td>2016-06-12</td>\n",
       "      <td>46</td>\n",
       "      <td>37</td>\n",
       "      <td>41.5</td>\n",
       "      <td>0.35</td>\n",
       "      <td>0</td>\n",
       "      <td>0</td>\n",
       "    </tr>\n",
       "    <tr>\n",
       "      <th>2</th>\n",
       "      <td>id3858529</td>\n",
       "      <td>2</td>\n",
       "      <td>2016-01-19 11:35:24</td>\n",
       "      <td>2016-01-19 12:10:48</td>\n",
       "      <td>1</td>\n",
       "      <td>-73.979027</td>\n",
       "      <td>40.763939</td>\n",
       "      <td>-74.005333</td>\n",
       "      <td>40.710087</td>\n",
       "      <td>N</td>\n",
       "      <td>...</td>\n",
       "      <td>11</td>\n",
       "      <td>winter</td>\n",
       "      <td>0 days 00:35:24</td>\n",
       "      <td>2016-01-19</td>\n",
       "      <td>28</td>\n",
       "      <td>16</td>\n",
       "      <td>22.0</td>\n",
       "      <td>0.00</td>\n",
       "      <td>0.0</td>\n",
       "      <td>T</td>\n",
       "    </tr>\n",
       "    <tr>\n",
       "      <th>3</th>\n",
       "      <td>id3504673</td>\n",
       "      <td>2</td>\n",
       "      <td>2016-04-06 19:32:31</td>\n",
       "      <td>2016-04-06 19:39:40</td>\n",
       "      <td>1</td>\n",
       "      <td>-74.010040</td>\n",
       "      <td>40.719971</td>\n",
       "      <td>-74.012268</td>\n",
       "      <td>40.706718</td>\n",
       "      <td>N</td>\n",
       "      <td>...</td>\n",
       "      <td>19</td>\n",
       "      <td>spring</td>\n",
       "      <td>0 days 00:07:09</td>\n",
       "      <td>2016-04-06</td>\n",
       "      <td>83</td>\n",
       "      <td>66</td>\n",
       "      <td>74.5</td>\n",
       "      <td>0.40</td>\n",
       "      <td>0.0</td>\n",
       "      <td>0</td>\n",
       "    </tr>\n",
       "    <tr>\n",
       "      <th>4</th>\n",
       "      <td>id2181028</td>\n",
       "      <td>2</td>\n",
       "      <td>2016-03-26 13:30:55</td>\n",
       "      <td>2016-03-26 13:38:10</td>\n",
       "      <td>1</td>\n",
       "      <td>-73.973053</td>\n",
       "      <td>40.793209</td>\n",
       "      <td>-73.972923</td>\n",
       "      <td>40.782520</td>\n",
       "      <td>N</td>\n",
       "      <td>...</td>\n",
       "      <td>13</td>\n",
       "      <td>spring</td>\n",
       "      <td>0 days 00:07:15</td>\n",
       "      <td>2016-03-26</td>\n",
       "      <td>55</td>\n",
       "      <td>38</td>\n",
       "      <td>46.5</td>\n",
       "      <td>0.00</td>\n",
       "      <td>0.0</td>\n",
       "      <td>0</td>\n",
       "    </tr>\n",
       "  </tbody>\n",
       "</table>\n",
       "<p>5 rows × 26 columns</p>\n",
       "</div>"
      ],
      "text/plain": [
       "          id  vendor_id      pickup_datetime     dropoff_datetime  \\\n",
       "0  id2875421          2  2016-03-14 17:24:55  2016-03-14 17:32:30   \n",
       "1  id2377394          1  2016-06-12 00:43:35  2016-06-12 00:54:38   \n",
       "2  id3858529          2  2016-01-19 11:35:24  2016-01-19 12:10:48   \n",
       "3  id3504673          2  2016-04-06 19:32:31  2016-04-06 19:39:40   \n",
       "4  id2181028          2  2016-03-26 13:30:55  2016-03-26 13:38:10   \n",
       "\n",
       "   passenger_count  pickup_longitude  pickup_latitude  dropoff_longitude  \\\n",
       "0                1        -73.982155        40.767937         -73.964630   \n",
       "1                1        -73.980415        40.738564         -73.999481   \n",
       "2                1        -73.979027        40.763939         -74.005333   \n",
       "3                1        -74.010040        40.719971         -74.012268   \n",
       "4                1        -73.973053        40.793209         -73.972923   \n",
       "\n",
       "   dropoff_latitude store_and_fwd_flag  ...  hour  season   ride_duration  \\\n",
       "0         40.765602                  N  ...    17  spring 0 days 00:07:35   \n",
       "1         40.731152                  N  ...     0  summer 0 days 00:11:03   \n",
       "2         40.710087                  N  ...    11  winter 0 days 00:35:24   \n",
       "3         40.706718                  N  ...    19  spring 0 days 00:07:09   \n",
       "4         40.782520                  N  ...    13  spring 0 days 00:07:15   \n",
       "\n",
       "      date_y  maximum temperature  minimum temperature  average temperature  \\\n",
       "0 2016-03-14                   51                   40                 45.5   \n",
       "1 2016-06-12                   46                   37                 41.5   \n",
       "2 2016-01-19                   28                   16                 22.0   \n",
       "3 2016-04-06                   83                   66                 74.5   \n",
       "4 2016-03-26                   55                   38                 46.5   \n",
       "\n",
       "  precipitation snow fall snow depth  \n",
       "0          0.29       0.0          0  \n",
       "1          0.35         0          0  \n",
       "2          0.00       0.0          T  \n",
       "3          0.40       0.0          0  \n",
       "4          0.00       0.0          0  \n",
       "\n",
       "[5 rows x 26 columns]"
      ]
     },
     "execution_count": 40,
     "metadata": {},
     "output_type": "execute_result"
    }
   ],
   "source": [
    "df.head()"
   ]
  },
  {
   "cell_type": "code",
   "execution_count": null,
   "metadata": {},
   "outputs": [],
   "source": [
    "#calculate distance in km (estimation with latitude and longitude)"
   ]
  },
  {
   "cell_type": "code",
   "execution_count": 51,
   "metadata": {},
   "outputs": [
    {
     "data": {
      "text/plain": [
       "id                              object\n",
       "vendor_id                        int64\n",
       "pickup_datetime                 object\n",
       "dropoff_datetime                object\n",
       "passenger_count                  int64\n",
       "pickup_longitude               float64\n",
       "pickup_latitude                float64\n",
       "dropoff_longitude              float64\n",
       "dropoff_latitude               float64\n",
       "store_and_fwd_flag              object\n",
       "trip_duration                    int64\n",
       "date_x                  datetime64[ns]\n",
       "month                            int64\n",
       "week_nb                          int64\n",
       "weekday                          int64\n",
       "day_nb                           int64\n",
       "hour                             int64\n",
       "season                          object\n",
       "ride_duration          timedelta64[ns]\n",
       "date_y                  datetime64[ns]\n",
       "maximum temperature              int64\n",
       "minimum temperature              int64\n",
       "average temperature            float64\n",
       "precipitation                   object\n",
       "snow fall                       object\n",
       "snow depth                      object\n",
       "new_passenger_count            float64\n",
       "dtype: object"
      ]
     },
     "execution_count": 51,
     "metadata": {},
     "output_type": "execute_result"
    }
   ],
   "source": [
    "df.dtypes"
   ]
  },
  {
   "cell_type": "code",
   "execution_count": 54,
   "metadata": {},
   "outputs": [
    {
     "data": {
      "text/plain": [
       "1458644"
      ]
     },
     "execution_count": 54,
     "metadata": {},
     "output_type": "execute_result"
    }
   ],
   "source": [
    "# Check if trip_duration is ok.\n",
    "(df.trip_duration==df.ride_duration).sum()"
   ]
  },
  {
   "cell_type": "code",
   "execution_count": 41,
   "metadata": {},
   "outputs": [
    {
     "data": {
      "text/plain": [
       "1    1033540\n",
       "2     210318\n",
       "5      78088\n",
       "3      59896\n",
       "6      48333\n",
       "4      28404\n",
       "0         60\n",
       "7          3\n",
       "9          1\n",
       "8          1\n",
       "Name: passenger_count, dtype: int64"
      ]
     },
     "execution_count": 41,
     "metadata": {},
     "output_type": "execute_result"
    }
   ],
   "source": [
    "df.passenger_count.value_counts()\n"
   ]
  },
  {
   "cell_type": "code",
   "execution_count": 46,
   "metadata": {},
   "outputs": [],
   "source": [
    "dct_passenger={1:1,2:2,3:3,4:4,5:5,6:6,0:np.NaN,7:np.NaN,9:np.NaN,8:np.NaN}"
   ]
  },
  {
   "cell_type": "code",
   "execution_count": 49,
   "metadata": {},
   "outputs": [],
   "source": [
    "#We focus only on ride with at least 1 person, and rides with more than 6 people are too rare to be taken into account\n",
    "df['new_passenger_count']=df.passenger_count.map(dct_passenger)"
   ]
  },
  {
   "cell_type": "code",
   "execution_count": 50,
   "metadata": {},
   "outputs": [
    {
     "data": {
      "text/plain": [
       "id                      0\n",
       "vendor_id               0\n",
       "pickup_datetime         0\n",
       "dropoff_datetime        0\n",
       "passenger_count         0\n",
       "pickup_longitude        0\n",
       "pickup_latitude         0\n",
       "dropoff_longitude       0\n",
       "dropoff_latitude        0\n",
       "store_and_fwd_flag      0\n",
       "trip_duration           0\n",
       "date_x                  0\n",
       "month                   0\n",
       "week_nb                 0\n",
       "weekday                 0\n",
       "day_nb                  0\n",
       "hour                    0\n",
       "season                  0\n",
       "ride_duration           0\n",
       "date_y                  0\n",
       "maximum temperature     0\n",
       "minimum temperature     0\n",
       "average temperature     0\n",
       "precipitation           0\n",
       "snow fall               0\n",
       "snow depth              0\n",
       "new_passenger_count    65\n",
       "dtype: int64"
      ]
     },
     "execution_count": 50,
     "metadata": {},
     "output_type": "execute_result"
    }
   ],
   "source": [
    "df.isnull().sum()"
   ]
  },
  {
   "cell_type": "code",
   "execution_count": 70,
   "metadata": {},
   "outputs": [],
   "source": [
    "# conversion from inch to mm.T set. arbitrary to a small number close to 0 but not 0\n",
    "\n",
    "df['precipitation_mm']=df.precipitation.map(lambda x: float(x)*25.4 if x!='T'else 1e-5*25.4)"
   ]
  },
  {
   "cell_type": "code",
   "execution_count": 74,
   "metadata": {},
   "outputs": [],
   "source": [
    "#df['precipitation_mm'].value_counts().sort_values()"
   ]
  },
  {
   "cell_type": "code",
   "execution_count": 73,
   "metadata": {},
   "outputs": [],
   "source": [
    "#df.precipitation.value_counts().sort_values()"
   ]
  },
  {
   "cell_type": "code",
   "execution_count": 75,
   "metadata": {},
   "outputs": [
    {
     "data": {
      "text/plain": [
       "0.0     1063582\n",
       "0        294364\n",
       "T         52305\n",
       "0.4       15975\n",
       "0.2        8805\n",
       "1.4        7373\n",
       "2.5        7344\n",
       "0.5        7248\n",
       "27.3       1648\n",
       "Name: snow fall, dtype: int64"
      ]
     },
     "execution_count": 75,
     "metadata": {},
     "output_type": "execute_result"
    }
   ],
   "source": [
    "df['snow fall'].value_counts()"
   ]
  },
  {
   "cell_type": "code",
   "execution_count": 85,
   "metadata": {},
   "outputs": [],
   "source": [
    "df['snow_fall_mm']=df['snow fall'].map(lambda x: float(x)*25.4 if x!='T'else 1e-5*25.4)"
   ]
  },
  {
   "cell_type": "code",
   "execution_count": 80,
   "metadata": {},
   "outputs": [
    {
     "data": {
      "text/plain": [
       "0     1339426\n",
       "T       46098\n",
       "6       27615\n",
       "4        7670\n",
       "9        7571\n",
       "1        7344\n",
       "17       6941\n",
       "2        6512\n",
       "19       6084\n",
       "22       3383\n",
       "Name: snow depth, dtype: int64"
      ]
     },
     "execution_count": 80,
     "metadata": {},
     "output_type": "execute_result"
    }
   ],
   "source": [
    "df['snow depth'].value_counts()"
   ]
  },
  {
   "cell_type": "code",
   "execution_count": 83,
   "metadata": {},
   "outputs": [],
   "source": [
    "df['snow_depth_mm']=df['snow depth'].map(lambda x: float(x)*25.4 if x!='T'else 1e-5*25.4)"
   ]
  },
  {
   "cell_type": "code",
   "execution_count": 152,
   "metadata": {},
   "outputs": [],
   "source": [
    "#conversion from Fanrenheit degrees to Celsius degrees:(T(°F) - 32) × 5/9\n",
    "df['average temperature_C']=df['average temperature'].map(lambda x: (x-32)*5/9)"
   ]
  },
  {
   "cell_type": "code",
   "execution_count": 178,
   "metadata": {},
   "outputs": [
    {
     "data": {
      "text/plain": [
       " 23.333333    39764\n",
       " 23.611111    39431\n",
       " 9.444444     39355\n",
       " 23.888889    37321\n",
       " 11.944444    35289\n",
       "              ...  \n",
       " 25.555556     7131\n",
       " 5.277778      7112\n",
       " 27.500000     7004\n",
       " 25.833333     6372\n",
       "-2.500000      3383\n",
       "Name: average temperature_C, Length: 94, dtype: int64"
      ]
     },
     "execution_count": 178,
     "metadata": {},
     "output_type": "execute_result"
    }
   ],
   "source": [
    "df['average temperature_C'].value_counts()"
   ]
  },
  {
   "cell_type": "code",
   "execution_count": 153,
   "metadata": {},
   "outputs": [
    {
     "data": {
      "text/plain": [
       "Index(['id', 'vendor_id', 'pickup_datetime', 'dropoff_datetime',\n",
       "       'passenger_count', 'pickup_longitude', 'pickup_latitude',\n",
       "       'dropoff_longitude', 'dropoff_latitude', 'store_and_fwd_flag',\n",
       "       'trip_duration', 'date_x', 'month', 'week_nb', 'weekday', 'day_nb',\n",
       "       'hour', 'season', 'ride_duration', 'date_y', 'maximum temperature',\n",
       "       'minimum temperature', 'average temperature', 'precipitation',\n",
       "       'snow fall', 'snow depth', 'new_passenger_count', 'precipitation_mm',\n",
       "       'snow_fall_mm', 'snow_depth_mm', 'average temperature_C'],\n",
       "      dtype='object')"
      ]
     },
     "execution_count": 153,
     "metadata": {},
     "output_type": "execute_result"
    }
   ],
   "source": [
    "df.columns"
   ]
  },
  {
   "cell_type": "code",
   "execution_count": 154,
   "metadata": {},
   "outputs": [],
   "source": [
    "to_drop=['id', 'vendor_id', 'pickup_datetime', 'dropoff_datetime','store_and_fwd_flag','trip_duration','date_y','maximum temperature','minimum temperature', 'precipitation','snow fall','snow depth','average temperature']"
   ]
  },
  {
   "cell_type": "code",
   "execution_count": 123,
   "metadata": {},
   "outputs": [
    {
     "data": {
      "text/plain": [
       "0 days 00:06:08    1624\n",
       "0 days 00:06:48    1584\n",
       "0 days 00:05:48    1582\n",
       "0 days 00:06:07    1581\n",
       "0 days 00:05:58    1577\n",
       "                   ... \n",
       "0 days 23:39:22       1\n",
       "0 days 07:31:04       1\n",
       "0 days 01:45:23       1\n",
       "0 days 23:05:00       1\n",
       "0 days 23:49:58       1\n",
       "Name: trip_duration, Length: 7417, dtype: int64"
      ]
     },
     "execution_count": 123,
     "metadata": {},
     "output_type": "execute_result"
    }
   ],
   "source": [
    "df.trip_duration.value_counts().sort_values(ascending=False)\n"
   ]
  },
  {
   "cell_type": "code",
   "execution_count": 93,
   "metadata": {},
   "outputs": [
    {
     "data": {
      "text/html": [
       "<div>\n",
       "<style scoped>\n",
       "    .dataframe tbody tr th:only-of-type {\n",
       "        vertical-align: middle;\n",
       "    }\n",
       "\n",
       "    .dataframe tbody tr th {\n",
       "        vertical-align: top;\n",
       "    }\n",
       "\n",
       "    .dataframe thead th {\n",
       "        text-align: right;\n",
       "    }\n",
       "</style>\n",
       "<table border=\"1\" class=\"dataframe\">\n",
       "  <thead>\n",
       "    <tr style=\"text-align: right;\">\n",
       "      <th></th>\n",
       "      <th>id</th>\n",
       "      <th>vendor_id</th>\n",
       "      <th>pickup_datetime</th>\n",
       "      <th>dropoff_datetime</th>\n",
       "      <th>passenger_count</th>\n",
       "      <th>pickup_longitude</th>\n",
       "      <th>pickup_latitude</th>\n",
       "      <th>dropoff_longitude</th>\n",
       "      <th>dropoff_latitude</th>\n",
       "      <th>store_and_fwd_flag</th>\n",
       "      <th>...</th>\n",
       "      <th>maximum temperature</th>\n",
       "      <th>minimum temperature</th>\n",
       "      <th>average temperature</th>\n",
       "      <th>precipitation</th>\n",
       "      <th>snow fall</th>\n",
       "      <th>snow depth</th>\n",
       "      <th>new_passenger_count</th>\n",
       "      <th>precipitation_mm</th>\n",
       "      <th>snow_fall_mm</th>\n",
       "      <th>snow_depth_mm</th>\n",
       "    </tr>\n",
       "  </thead>\n",
       "  <tbody>\n",
       "    <tr>\n",
       "      <th>531</th>\n",
       "      <td>id3307903</td>\n",
       "      <td>2</td>\n",
       "      <td>2016-02-20 04:03:06</td>\n",
       "      <td>2016-02-21 03:33:00</td>\n",
       "      <td>3</td>\n",
       "      <td>-74.008102</td>\n",
       "      <td>40.741489</td>\n",
       "      <td>-74.009956</td>\n",
       "      <td>40.714611</td>\n",
       "      <td>N</td>\n",
       "      <td>...</td>\n",
       "      <td>61</td>\n",
       "      <td>39</td>\n",
       "      <td>50.0</td>\n",
       "      <td>0.00</td>\n",
       "      <td>0.0</td>\n",
       "      <td>0</td>\n",
       "      <td>3.0</td>\n",
       "      <td>0.000</td>\n",
       "      <td>0.000000</td>\n",
       "      <td>0.000000</td>\n",
       "    </tr>\n",
       "    <tr>\n",
       "      <th>1134</th>\n",
       "      <td>id1091477</td>\n",
       "      <td>2</td>\n",
       "      <td>2016-05-07 18:36:22</td>\n",
       "      <td>2016-05-08 18:32:11</td>\n",
       "      <td>1</td>\n",
       "      <td>-73.990242</td>\n",
       "      <td>40.750919</td>\n",
       "      <td>-73.976280</td>\n",
       "      <td>40.750889</td>\n",
       "      <td>N</td>\n",
       "      <td>...</td>\n",
       "      <td>86</td>\n",
       "      <td>69</td>\n",
       "      <td>77.5</td>\n",
       "      <td>0.66</td>\n",
       "      <td>0</td>\n",
       "      <td>0</td>\n",
       "      <td>1.0</td>\n",
       "      <td>16.764</td>\n",
       "      <td>0.000000</td>\n",
       "      <td>0.000000</td>\n",
       "    </tr>\n",
       "    <tr>\n",
       "      <th>1865</th>\n",
       "      <td>id3431345</td>\n",
       "      <td>2</td>\n",
       "      <td>2016-06-07 12:58:48</td>\n",
       "      <td>2016-06-08 12:58:00</td>\n",
       "      <td>6</td>\n",
       "      <td>-73.954956</td>\n",
       "      <td>40.777649</td>\n",
       "      <td>-73.981033</td>\n",
       "      <td>40.743713</td>\n",
       "      <td>N</td>\n",
       "      <td>...</td>\n",
       "      <td>91</td>\n",
       "      <td>75</td>\n",
       "      <td>83.0</td>\n",
       "      <td>0</td>\n",
       "      <td>0</td>\n",
       "      <td>0</td>\n",
       "      <td>6.0</td>\n",
       "      <td>0.000</td>\n",
       "      <td>0.000000</td>\n",
       "      <td>0.000000</td>\n",
       "    </tr>\n",
       "    <tr>\n",
       "      <th>3092</th>\n",
       "      <td>id0296060</td>\n",
       "      <td>2</td>\n",
       "      <td>2016-06-16 08:07:39</td>\n",
       "      <td>2016-06-16 10:11:39</td>\n",
       "      <td>2</td>\n",
       "      <td>-73.779083</td>\n",
       "      <td>40.647491</td>\n",
       "      <td>-74.006996</td>\n",
       "      <td>40.708523</td>\n",
       "      <td>N</td>\n",
       "      <td>...</td>\n",
       "      <td>74</td>\n",
       "      <td>65</td>\n",
       "      <td>69.5</td>\n",
       "      <td>0.22</td>\n",
       "      <td>0.0</td>\n",
       "      <td>0</td>\n",
       "      <td>2.0</td>\n",
       "      <td>5.588</td>\n",
       "      <td>0.000000</td>\n",
       "      <td>0.000000</td>\n",
       "    </tr>\n",
       "    <tr>\n",
       "      <th>3442</th>\n",
       "      <td>id1487069</td>\n",
       "      <td>2</td>\n",
       "      <td>2016-02-13 00:21:49</td>\n",
       "      <td>2016-02-14 00:19:05</td>\n",
       "      <td>1</td>\n",
       "      <td>-73.968590</td>\n",
       "      <td>40.799217</td>\n",
       "      <td>-73.979584</td>\n",
       "      <td>40.784714</td>\n",
       "      <td>N</td>\n",
       "      <td>...</td>\n",
       "      <td>22</td>\n",
       "      <td>6</td>\n",
       "      <td>14.0</td>\n",
       "      <td>0.00</td>\n",
       "      <td>0.0</td>\n",
       "      <td>0</td>\n",
       "      <td>1.0</td>\n",
       "      <td>0.000</td>\n",
       "      <td>0.000000</td>\n",
       "      <td>0.000000</td>\n",
       "    </tr>\n",
       "    <tr>\n",
       "      <th>...</th>\n",
       "      <td>...</td>\n",
       "      <td>...</td>\n",
       "      <td>...</td>\n",
       "      <td>...</td>\n",
       "      <td>...</td>\n",
       "      <td>...</td>\n",
       "      <td>...</td>\n",
       "      <td>...</td>\n",
       "      <td>...</td>\n",
       "      <td>...</td>\n",
       "      <td>...</td>\n",
       "      <td>...</td>\n",
       "      <td>...</td>\n",
       "      <td>...</td>\n",
       "      <td>...</td>\n",
       "      <td>...</td>\n",
       "      <td>...</td>\n",
       "      <td>...</td>\n",
       "      <td>...</td>\n",
       "      <td>...</td>\n",
       "      <td>...</td>\n",
       "    </tr>\n",
       "    <tr>\n",
       "      <th>1455097</th>\n",
       "      <td>id2798196</td>\n",
       "      <td>2</td>\n",
       "      <td>2016-03-20 03:51:36</td>\n",
       "      <td>2016-03-21 00:00:00</td>\n",
       "      <td>2</td>\n",
       "      <td>-73.969299</td>\n",
       "      <td>40.757301</td>\n",
       "      <td>-73.870277</td>\n",
       "      <td>40.709808</td>\n",
       "      <td>N</td>\n",
       "      <td>...</td>\n",
       "      <td>43</td>\n",
       "      <td>32</td>\n",
       "      <td>37.5</td>\n",
       "      <td>0.07</td>\n",
       "      <td>T</td>\n",
       "      <td>0</td>\n",
       "      <td>2.0</td>\n",
       "      <td>1.778</td>\n",
       "      <td>0.000254</td>\n",
       "      <td>0.000000</td>\n",
       "    </tr>\n",
       "    <tr>\n",
       "      <th>1456458</th>\n",
       "      <td>id2055880</td>\n",
       "      <td>2</td>\n",
       "      <td>2016-02-08 19:11:31</td>\n",
       "      <td>2016-02-09 19:08:44</td>\n",
       "      <td>3</td>\n",
       "      <td>-73.973282</td>\n",
       "      <td>40.760792</td>\n",
       "      <td>-73.988518</td>\n",
       "      <td>40.764210</td>\n",
       "      <td>N</td>\n",
       "      <td>...</td>\n",
       "      <td>79</td>\n",
       "      <td>68</td>\n",
       "      <td>73.5</td>\n",
       "      <td>0</td>\n",
       "      <td>0</td>\n",
       "      <td>0</td>\n",
       "      <td>3.0</td>\n",
       "      <td>0.000</td>\n",
       "      <td>0.000000</td>\n",
       "      <td>0.000000</td>\n",
       "    </tr>\n",
       "    <tr>\n",
       "      <th>1457207</th>\n",
       "      <td>id1910950</td>\n",
       "      <td>2</td>\n",
       "      <td>2016-06-08 16:29:12</td>\n",
       "      <td>2016-06-09 16:11:03</td>\n",
       "      <td>1</td>\n",
       "      <td>-73.958061</td>\n",
       "      <td>40.800869</td>\n",
       "      <td>-73.964119</td>\n",
       "      <td>40.805515</td>\n",
       "      <td>N</td>\n",
       "      <td>...</td>\n",
       "      <td>87</td>\n",
       "      <td>72</td>\n",
       "      <td>79.5</td>\n",
       "      <td>0.05</td>\n",
       "      <td>0</td>\n",
       "      <td>0</td>\n",
       "      <td>1.0</td>\n",
       "      <td>1.270</td>\n",
       "      <td>0.000000</td>\n",
       "      <td>0.000000</td>\n",
       "    </tr>\n",
       "    <tr>\n",
       "      <th>1457752</th>\n",
       "      <td>id1215198</td>\n",
       "      <td>2</td>\n",
       "      <td>2016-02-02 11:31:10</td>\n",
       "      <td>2016-02-03 11:29:44</td>\n",
       "      <td>6</td>\n",
       "      <td>-73.972069</td>\n",
       "      <td>40.794220</td>\n",
       "      <td>-73.961014</td>\n",
       "      <td>40.806728</td>\n",
       "      <td>N</td>\n",
       "      <td>...</td>\n",
       "      <td>50</td>\n",
       "      <td>38</td>\n",
       "      <td>44.0</td>\n",
       "      <td>0.00</td>\n",
       "      <td>0.0</td>\n",
       "      <td>T</td>\n",
       "      <td>6.0</td>\n",
       "      <td>0.000</td>\n",
       "      <td>0.000000</td>\n",
       "      <td>0.000254</td>\n",
       "    </tr>\n",
       "    <tr>\n",
       "      <th>1458076</th>\n",
       "      <td>id2332290</td>\n",
       "      <td>2</td>\n",
       "      <td>2016-04-24 00:58:34</td>\n",
       "      <td>2016-04-25 00:56:16</td>\n",
       "      <td>1</td>\n",
       "      <td>-73.990479</td>\n",
       "      <td>40.760876</td>\n",
       "      <td>-73.983025</td>\n",
       "      <td>40.764557</td>\n",
       "      <td>N</td>\n",
       "      <td>...</td>\n",
       "      <td>68</td>\n",
       "      <td>47</td>\n",
       "      <td>57.5</td>\n",
       "      <td>0.00</td>\n",
       "      <td>0.0</td>\n",
       "      <td>0</td>\n",
       "      <td>1.0</td>\n",
       "      <td>0.000</td>\n",
       "      <td>0.000000</td>\n",
       "      <td>0.000000</td>\n",
       "    </tr>\n",
       "  </tbody>\n",
       "</table>\n",
       "<p>2253 rows × 30 columns</p>\n",
       "</div>"
      ],
      "text/plain": [
       "                id  vendor_id      pickup_datetime     dropoff_datetime  \\\n",
       "531      id3307903          2  2016-02-20 04:03:06  2016-02-21 03:33:00   \n",
       "1134     id1091477          2  2016-05-07 18:36:22  2016-05-08 18:32:11   \n",
       "1865     id3431345          2  2016-06-07 12:58:48  2016-06-08 12:58:00   \n",
       "3092     id0296060          2  2016-06-16 08:07:39  2016-06-16 10:11:39   \n",
       "3442     id1487069          2  2016-02-13 00:21:49  2016-02-14 00:19:05   \n",
       "...            ...        ...                  ...                  ...   \n",
       "1455097  id2798196          2  2016-03-20 03:51:36  2016-03-21 00:00:00   \n",
       "1456458  id2055880          2  2016-02-08 19:11:31  2016-02-09 19:08:44   \n",
       "1457207  id1910950          2  2016-06-08 16:29:12  2016-06-09 16:11:03   \n",
       "1457752  id1215198          2  2016-02-02 11:31:10  2016-02-03 11:29:44   \n",
       "1458076  id2332290          2  2016-04-24 00:58:34  2016-04-25 00:56:16   \n",
       "\n",
       "         passenger_count  pickup_longitude  pickup_latitude  \\\n",
       "531                    3        -74.008102        40.741489   \n",
       "1134                   1        -73.990242        40.750919   \n",
       "1865                   6        -73.954956        40.777649   \n",
       "3092                   2        -73.779083        40.647491   \n",
       "3442                   1        -73.968590        40.799217   \n",
       "...                  ...               ...              ...   \n",
       "1455097                2        -73.969299        40.757301   \n",
       "1456458                3        -73.973282        40.760792   \n",
       "1457207                1        -73.958061        40.800869   \n",
       "1457752                6        -73.972069        40.794220   \n",
       "1458076                1        -73.990479        40.760876   \n",
       "\n",
       "         dropoff_longitude  dropoff_latitude store_and_fwd_flag  ...  \\\n",
       "531             -74.009956         40.714611                  N  ...   \n",
       "1134            -73.976280         40.750889                  N  ...   \n",
       "1865            -73.981033         40.743713                  N  ...   \n",
       "3092            -74.006996         40.708523                  N  ...   \n",
       "3442            -73.979584         40.784714                  N  ...   \n",
       "...                    ...               ...                ...  ...   \n",
       "1455097         -73.870277         40.709808                  N  ...   \n",
       "1456458         -73.988518         40.764210                  N  ...   \n",
       "1457207         -73.964119         40.805515                  N  ...   \n",
       "1457752         -73.961014         40.806728                  N  ...   \n",
       "1458076         -73.983025         40.764557                  N  ...   \n",
       "\n",
       "        maximum temperature minimum temperature  average temperature  \\\n",
       "531                      61                  39                 50.0   \n",
       "1134                     86                  69                 77.5   \n",
       "1865                     91                  75                 83.0   \n",
       "3092                     74                  65                 69.5   \n",
       "3442                     22                   6                 14.0   \n",
       "...                     ...                 ...                  ...   \n",
       "1455097                  43                  32                 37.5   \n",
       "1456458                  79                  68                 73.5   \n",
       "1457207                  87                  72                 79.5   \n",
       "1457752                  50                  38                 44.0   \n",
       "1458076                  68                  47                 57.5   \n",
       "\n",
       "         precipitation  snow fall  snow depth  new_passenger_count  \\\n",
       "531               0.00        0.0           0                  3.0   \n",
       "1134              0.66          0           0                  1.0   \n",
       "1865                 0          0           0                  6.0   \n",
       "3092              0.22        0.0           0                  2.0   \n",
       "3442              0.00        0.0           0                  1.0   \n",
       "...                ...        ...         ...                  ...   \n",
       "1455097           0.07          T           0                  2.0   \n",
       "1456458              0          0           0                  3.0   \n",
       "1457207           0.05          0           0                  1.0   \n",
       "1457752           0.00        0.0           T                  6.0   \n",
       "1458076           0.00        0.0           0                  1.0   \n",
       "\n",
       "        precipitation_mm snow_fall_mm snow_depth_mm  \n",
       "531                0.000     0.000000      0.000000  \n",
       "1134              16.764     0.000000      0.000000  \n",
       "1865               0.000     0.000000      0.000000  \n",
       "3092               5.588     0.000000      0.000000  \n",
       "3442               0.000     0.000000      0.000000  \n",
       "...                  ...          ...           ...  \n",
       "1455097            1.778     0.000254      0.000000  \n",
       "1456458            0.000     0.000000      0.000000  \n",
       "1457207            1.270     0.000000      0.000000  \n",
       "1457752            0.000     0.000000      0.000254  \n",
       "1458076            0.000     0.000000      0.000000  \n",
       "\n",
       "[2253 rows x 30 columns]"
      ]
     },
     "execution_count": 93,
     "metadata": {},
     "output_type": "execute_result"
    }
   ],
   "source": [
    "df[df.trip_duration>'0 days 02:00:00']"
   ]
  },
  {
   "cell_type": "code",
   "execution_count": 94,
   "metadata": {},
   "outputs": [
    {
     "data": {
      "text/plain": [
       "0 days 23:57:42    8\n",
       "0 days 23:59:00    8\n",
       "0 days 23:58:47    8\n",
       "0 days 23:57:57    8\n",
       "0 days 23:58:38    7\n",
       "                  ..\n",
       "0 days 23:07:58    1\n",
       "0 days 03:35:26    1\n",
       "0 days 23:08:22    1\n",
       "0 days 20:42:04    1\n",
       "0 days 04:20:17    1\n",
       "Name: trip_duration, Length: 1500, dtype: int64"
      ]
     },
     "execution_count": 94,
     "metadata": {},
     "output_type": "execute_result"
    }
   ],
   "source": [
    "#We will drop taxi ride above 2hours in a first time'\n",
    "df[df.trip_duration>'0 days 02:00:00'].trip_duration.value_counts()"
   ]
  },
  {
   "cell_type": "code",
   "execution_count": 124,
   "metadata": {},
   "outputs": [],
   "source": [
    "#We will drop taxi rides above 2hours in a first time'\n",
    "taxi['ride_duration']=taxi['ride_duration'].map(lambda x : x if x<=datetime.timedelta(hours=2) else np.NaN)"
   ]
  },
  {
   "cell_type": "code",
   "execution_count": 126,
   "metadata": {},
   "outputs": [],
   "source": [
    "df['ride_duration']=df['ride_duration'].map(lambda x : x if x<=datetime.timedelta(hours=2) else np.NaN)"
   ]
  },
  {
   "cell_type": "code",
   "execution_count": 127,
   "metadata": {},
   "outputs": [
    {
     "data": {
      "text/plain": [
       "Timedelta('0 days 01:59:51')"
      ]
     },
     "execution_count": 127,
     "metadata": {},
     "output_type": "execute_result"
    }
   ],
   "source": [
    "df['ride_duration'].max()"
   ]
  },
  {
   "cell_type": "code",
   "execution_count": 155,
   "metadata": {},
   "outputs": [
    {
     "data": {
      "text/plain": [
       "id                          0\n",
       "vendor_id                   0\n",
       "pickup_datetime             0\n",
       "dropoff_datetime            0\n",
       "passenger_count             0\n",
       "pickup_longitude            0\n",
       "pickup_latitude             0\n",
       "dropoff_longitude           0\n",
       "dropoff_latitude            0\n",
       "store_and_fwd_flag          0\n",
       "trip_duration               0\n",
       "date_x                      0\n",
       "month                       0\n",
       "week_nb                     0\n",
       "weekday                     0\n",
       "day_nb                      0\n",
       "hour                        0\n",
       "season                      0\n",
       "ride_duration            2253\n",
       "date_y                      0\n",
       "maximum temperature         0\n",
       "minimum temperature         0\n",
       "average temperature         0\n",
       "precipitation               0\n",
       "snow fall                   0\n",
       "snow depth                  0\n",
       "new_passenger_count        65\n",
       "precipitation_mm            0\n",
       "snow_fall_mm                0\n",
       "snow_depth_mm               0\n",
       "average temperature_C       0\n",
       "dtype: int64"
      ]
     },
     "execution_count": 155,
     "metadata": {},
     "output_type": "execute_result"
    }
   ],
   "source": [
    "df.isnull().sum()"
   ]
  },
  {
   "cell_type": "code",
   "execution_count": 156,
   "metadata": {},
   "outputs": [],
   "source": [
    "#drop all rows with missing values\n",
    "df2=df.dropna()"
   ]
  },
  {
   "cell_type": "code",
   "execution_count": 157,
   "metadata": {},
   "outputs": [
    {
     "name": "stderr",
     "output_type": "stream",
     "text": [
      "/opt/anaconda3/lib/python3.7/site-packages/ipykernel_launcher.py:1: SettingWithCopyWarning: \n",
      "A value is trying to be set on a copy of a slice from a DataFrame.\n",
      "Try using .loc[row_indexer,col_indexer] = value instead\n",
      "\n",
      "See the caveats in the documentation: https://pandas.pydata.org/pandas-docs/stable/user_guide/indexing.html#returning-a-view-versus-a-copy\n",
      "  \"\"\"Entry point for launching an IPython kernel.\n"
     ]
    }
   ],
   "source": [
    "\n",
    "df2['ride_duration_seconds']=df2['ride_duration'].map(lambda x:x.total_seconds())"
   ]
  },
  {
   "cell_type": "code",
   "execution_count": 158,
   "metadata": {},
   "outputs": [
    {
     "data": {
      "text/plain": [
       "<AxesSubplot:xlabel='ride_duration_seconds'>"
      ]
     },
     "execution_count": 158,
     "metadata": {},
     "output_type": "execute_result"
    },
    {
     "data": {
      "image/png": "[encoded data removed]",
      "text/plain": [
       "<Figure size 576x396 with 1 Axes>"
      ]
     },
     "metadata": {},
     "output_type": "display_data"
    }
   ],
   "source": [
    "sns.distplot(df2['ride_duration_seconds'])\n",
    "# duration is a log normal distribution"
   ]
  },
  {
   "cell_type": "code",
   "execution_count": 208,
   "metadata": {},
   "outputs": [
    {
     "data": {
      "text/plain": [
       "13.93498953188398"
      ]
     },
     "execution_count": 208,
     "metadata": {},
     "output_type": "execute_result"
    }
   ],
   "source": [
    "df2['ride_duration_seconds'].mean()/60\n",
    "#Average ride is 13,9min is this sample\n",
    " #?? hypothesis testing? est-ce possible avec une distribution log normale"
   ]
  },
  {
   "cell_type": "code",
   "execution_count": null,
   "metadata": {},
   "outputs": [],
   "source": []
  },
  {
   "cell_type": "code",
   "execution_count": 203,
   "metadata": {},
   "outputs": [
    {
     "data": {
      "text/plain": [
       "654.2963878987725"
      ]
     },
     "execution_count": 203,
     "metadata": {},
     "output_type": "execute_result"
    }
   ],
   "source": [
    "np.std(df2['ride_duration_seconds'])"
   ]
  },
  {
   "cell_type": "code",
   "execution_count": 205,
   "metadata": {},
   "outputs": [
    {
     "data": {
      "text/html": [
       "<div>\n",
       "<style scoped>\n",
       "    .dataframe tbody tr th:only-of-type {\n",
       "        vertical-align: middle;\n",
       "    }\n",
       "\n",
       "    .dataframe tbody tr th {\n",
       "        vertical-align: top;\n",
       "    }\n",
       "\n",
       "    .dataframe thead th {\n",
       "        text-align: right;\n",
       "    }\n",
       "</style>\n",
       "<table border=\"1\" class=\"dataframe\">\n",
       "  <thead>\n",
       "    <tr style=\"text-align: right;\">\n",
       "      <th></th>\n",
       "      <th>vendor_id</th>\n",
       "      <th>passenger_count</th>\n",
       "      <th>pickup_longitude</th>\n",
       "      <th>pickup_latitude</th>\n",
       "      <th>dropoff_longitude</th>\n",
       "      <th>dropoff_latitude</th>\n",
       "      <th>trip_duration</th>\n",
       "      <th>month</th>\n",
       "      <th>week_nb</th>\n",
       "      <th>weekday</th>\n",
       "      <th>...</th>\n",
       "      <th>minimum temperature</th>\n",
       "      <th>average temperature</th>\n",
       "      <th>new_passenger_count</th>\n",
       "      <th>precipitation_mm</th>\n",
       "      <th>snow_fall_mm</th>\n",
       "      <th>snow_depth_mm</th>\n",
       "      <th>average temperature_C</th>\n",
       "      <th>ride_duration_seconds</th>\n",
       "      <th>distance_KM</th>\n",
       "      <th>working_days</th>\n",
       "    </tr>\n",
       "  </thead>\n",
       "  <tbody>\n",
       "    <tr>\n",
       "      <th>count</th>\n",
       "      <td>1.456327e+06</td>\n",
       "      <td>1.456327e+06</td>\n",
       "      <td>1.456327e+06</td>\n",
       "      <td>1.456327e+06</td>\n",
       "      <td>1.456327e+06</td>\n",
       "      <td>1.456327e+06</td>\n",
       "      <td>1456327</td>\n",
       "      <td>1.456327e+06</td>\n",
       "      <td>1.456327e+06</td>\n",
       "      <td>1.456327e+06</td>\n",
       "      <td>...</td>\n",
       "      <td>1.456327e+06</td>\n",
       "      <td>1.456327e+06</td>\n",
       "      <td>1.456327e+06</td>\n",
       "      <td>1.456327e+06</td>\n",
       "      <td>1.456327e+06</td>\n",
       "      <td>1.456327e+06</td>\n",
       "      <td>1.456327e+06</td>\n",
       "      <td>1.456327e+06</td>\n",
       "      <td>1.456327e+06</td>\n",
       "      <td>1.456327e+06</td>\n",
       "    </tr>\n",
       "    <tr>\n",
       "      <th>mean</th>\n",
       "      <td>1.534289e+00</td>\n",
       "      <td>1.663978e+00</td>\n",
       "      <td>-7.397350e+01</td>\n",
       "      <td>4.075093e+01</td>\n",
       "      <td>-7.397342e+01</td>\n",
       "      <td>4.075181e+01</td>\n",
       "      <td>0 days 00:13:56.099371913</td>\n",
       "      <td>3.516726e+00</td>\n",
       "      <td>1.383904e+01</td>\n",
       "      <td>3.049940e+00</td>\n",
       "      <td>...</td>\n",
       "      <td>4.673190e+01</td>\n",
       "      <td>5.424789e+01</td>\n",
       "      <td>1.663978e+00</td>\n",
       "      <td>2.248417e+00</td>\n",
       "      <td>1.487595e+00</td>\n",
       "      <td>1.032141e+01</td>\n",
       "      <td>1.235994e+01</td>\n",
       "      <td>8.360994e+02</td>\n",
       "      <td>3.438329e+00</td>\n",
       "      <td>7.147378e-01</td>\n",
       "    </tr>\n",
       "    <tr>\n",
       "      <th>std</th>\n",
       "      <td>4.988231e-01</td>\n",
       "      <td>1.313548e+00</td>\n",
       "      <td>7.090150e-02</td>\n",
       "      <td>3.285717e-02</td>\n",
       "      <td>7.064270e-02</td>\n",
       "      <td>3.588023e-02</td>\n",
       "      <td>0 days 00:10:54.296612538</td>\n",
       "      <td>1.681033e+00</td>\n",
       "      <td>8.563963e+00</td>\n",
       "      <td>1.954011e+00</td>\n",
       "      <td>...</td>\n",
       "      <td>1.571624e+01</td>\n",
       "      <td>1.614487e+01</td>\n",
       "      <td>1.313548e+00</td>\n",
       "      <td>5.935904e+00</td>\n",
       "      <td>2.386179e+01</td>\n",
       "      <td>5.704924e+01</td>\n",
       "      <td>8.969375e+00</td>\n",
       "      <td>6.542966e+02</td>\n",
       "      <td>4.285775e+00</td>\n",
       "      <td>4.515394e-01</td>\n",
       "    </tr>\n",
       "    <tr>\n",
       "      <th>min</th>\n",
       "      <td>1.000000e+00</td>\n",
       "      <td>1.000000e+00</td>\n",
       "      <td>-1.219333e+02</td>\n",
       "      <td>3.435970e+01</td>\n",
       "      <td>-1.219333e+02</td>\n",
       "      <td>3.218114e+01</td>\n",
       "      <td>0 days 00:00:01</td>\n",
       "      <td>1.000000e+00</td>\n",
       "      <td>1.000000e+00</td>\n",
       "      <td>0.000000e+00</td>\n",
       "      <td>...</td>\n",
       "      <td>-1.000000e+00</td>\n",
       "      <td>7.000000e+00</td>\n",
       "      <td>1.000000e+00</td>\n",
       "      <td>0.000000e+00</td>\n",
       "      <td>0.000000e+00</td>\n",
       "      <td>0.000000e+00</td>\n",
       "      <td>-1.388889e+01</td>\n",
       "      <td>1.000000e+00</td>\n",
       "      <td>0.000000e+00</td>\n",
       "      <td>0.000000e+00</td>\n",
       "    </tr>\n",
       "    <tr>\n",
       "      <th>25%</th>\n",
       "      <td>1.000000e+00</td>\n",
       "      <td>1.000000e+00</td>\n",
       "      <td>-7.399187e+01</td>\n",
       "      <td>4.073736e+01</td>\n",
       "      <td>-7.399133e+01</td>\n",
       "      <td>4.073589e+01</td>\n",
       "      <td>0 days 00:06:37</td>\n",
       "      <td>2.000000e+00</td>\n",
       "      <td>7.000000e+00</td>\n",
       "      <td>1.000000e+00</td>\n",
       "      <td>...</td>\n",
       "      <td>3.600000e+01</td>\n",
       "      <td>4.250000e+01</td>\n",
       "      <td>1.000000e+00</td>\n",
       "      <td>0.000000e+00</td>\n",
       "      <td>0.000000e+00</td>\n",
       "      <td>0.000000e+00</td>\n",
       "      <td>5.833333e+00</td>\n",
       "      <td>3.970000e+02</td>\n",
       "      <td>1.231748e+00</td>\n",
       "      <td>0.000000e+00</td>\n",
       "    </tr>\n",
       "    <tr>\n",
       "      <th>50%</th>\n",
       "      <td>2.000000e+00</td>\n",
       "      <td>1.000000e+00</td>\n",
       "      <td>-7.398174e+01</td>\n",
       "      <td>4.075411e+01</td>\n",
       "      <td>-7.397975e+01</td>\n",
       "      <td>4.075453e+01</td>\n",
       "      <td>0 days 00:11:01</td>\n",
       "      <td>4.000000e+00</td>\n",
       "      <td>1.300000e+01</td>\n",
       "      <td>3.000000e+00</td>\n",
       "      <td>...</td>\n",
       "      <td>4.600000e+01</td>\n",
       "      <td>5.350000e+01</td>\n",
       "      <td>1.000000e+00</td>\n",
       "      <td>0.000000e+00</td>\n",
       "      <td>0.000000e+00</td>\n",
       "      <td>0.000000e+00</td>\n",
       "      <td>1.194444e+01</td>\n",
       "      <td>6.610000e+02</td>\n",
       "      <td>2.093206e+00</td>\n",
       "      <td>1.000000e+00</td>\n",
       "    </tr>\n",
       "    <tr>\n",
       "      <th>75%</th>\n",
       "      <td>2.000000e+00</td>\n",
       "      <td>2.000000e+00</td>\n",
       "      <td>-7.396734e+01</td>\n",
       "      <td>4.076836e+01</td>\n",
       "      <td>-7.396302e+01</td>\n",
       "      <td>4.076981e+01</td>\n",
       "      <td>0 days 00:17:53</td>\n",
       "      <td>5.000000e+00</td>\n",
       "      <td>2.000000e+01</td>\n",
       "      <td>5.000000e+00</td>\n",
       "      <td>...</td>\n",
       "      <td>6.100000e+01</td>\n",
       "      <td>6.950000e+01</td>\n",
       "      <td>2.000000e+00</td>\n",
       "      <td>1.016000e+00</td>\n",
       "      <td>0.000000e+00</td>\n",
       "      <td>0.000000e+00</td>\n",
       "      <td>2.083333e+01</td>\n",
       "      <td>1.073000e+03</td>\n",
       "      <td>3.873726e+00</td>\n",
       "      <td>1.000000e+00</td>\n",
       "    </tr>\n",
       "    <tr>\n",
       "      <th>max</th>\n",
       "      <td>2.000000e+00</td>\n",
       "      <td>6.000000e+00</td>\n",
       "      <td>-6.133553e+01</td>\n",
       "      <td>5.188108e+01</td>\n",
       "      <td>-6.133553e+01</td>\n",
       "      <td>4.392103e+01</td>\n",
       "      <td>0 days 01:59:51</td>\n",
       "      <td>6.000000e+00</td>\n",
       "      <td>5.300000e+01</td>\n",
       "      <td>6.000000e+00</td>\n",
       "      <td>...</td>\n",
       "      <td>7.500000e+01</td>\n",
       "      <td>8.300000e+01</td>\n",
       "      <td>6.000000e+00</td>\n",
       "      <td>5.867400e+01</td>\n",
       "      <td>6.934200e+02</td>\n",
       "      <td>5.588000e+02</td>\n",
       "      <td>2.833333e+01</td>\n",
       "      <td>7.191000e+03</td>\n",
       "      <td>1.240909e+03</td>\n",
       "      <td>1.000000e+00</td>\n",
       "    </tr>\n",
       "  </tbody>\n",
       "</table>\n",
       "<p>8 rows × 24 columns</p>\n",
       "</div>"
      ],
      "text/plain": [
       "          vendor_id  passenger_count  pickup_longitude  pickup_latitude  \\\n",
       "count  1.456327e+06     1.456327e+06      1.456327e+06     1.456327e+06   \n",
       "mean   1.534289e+00     1.663978e+00     -7.397350e+01     4.075093e+01   \n",
       "std    4.988231e-01     1.313548e+00      7.090150e-02     3.285717e-02   \n",
       "min    1.000000e+00     1.000000e+00     -1.219333e+02     3.435970e+01   \n",
       "25%    1.000000e+00     1.000000e+00     -7.399187e+01     4.073736e+01   \n",
       "50%    2.000000e+00     1.000000e+00     -7.398174e+01     4.075411e+01   \n",
       "75%    2.000000e+00     2.000000e+00     -7.396734e+01     4.076836e+01   \n",
       "max    2.000000e+00     6.000000e+00     -6.133553e+01     5.188108e+01   \n",
       "\n",
       "       dropoff_longitude  dropoff_latitude              trip_duration  \\\n",
       "count       1.456327e+06      1.456327e+06                    1456327   \n",
       "mean       -7.397342e+01      4.075181e+01  0 days 00:13:56.099371913   \n",
       "std         7.064270e-02      3.588023e-02  0 days 00:10:54.296612538   \n",
       "min        -1.219333e+02      3.218114e+01            0 days 00:00:01   \n",
       "25%        -7.399133e+01      4.073589e+01            0 days 00:06:37   \n",
       "50%        -7.397975e+01      4.075453e+01            0 days 00:11:01   \n",
       "75%        -7.396302e+01      4.076981e+01            0 days 00:17:53   \n",
       "max        -6.133553e+01      4.392103e+01            0 days 01:59:51   \n",
       "\n",
       "              month       week_nb       weekday  ...  minimum temperature  \\\n",
       "count  1.456327e+06  1.456327e+06  1.456327e+06  ...         1.456327e+06   \n",
       "mean   3.516726e+00  1.383904e+01  3.049940e+00  ...         4.673190e+01   \n",
       "std    1.681033e+00  8.563963e+00  1.954011e+00  ...         1.571624e+01   \n",
       "min    1.000000e+00  1.000000e+00  0.000000e+00  ...        -1.000000e+00   \n",
       "25%    2.000000e+00  7.000000e+00  1.000000e+00  ...         3.600000e+01   \n",
       "50%    4.000000e+00  1.300000e+01  3.000000e+00  ...         4.600000e+01   \n",
       "75%    5.000000e+00  2.000000e+01  5.000000e+00  ...         6.100000e+01   \n",
       "max    6.000000e+00  5.300000e+01  6.000000e+00  ...         7.500000e+01   \n",
       "\n",
       "       average temperature new_passenger_count  precipitation_mm  \\\n",
       "count         1.456327e+06        1.456327e+06      1.456327e+06   \n",
       "mean          5.424789e+01        1.663978e+00      2.248417e+00   \n",
       "std           1.614487e+01        1.313548e+00      5.935904e+00   \n",
       "min           7.000000e+00        1.000000e+00      0.000000e+00   \n",
       "25%           4.250000e+01        1.000000e+00      0.000000e+00   \n",
       "50%           5.350000e+01        1.000000e+00      0.000000e+00   \n",
       "75%           6.950000e+01        2.000000e+00      1.016000e+00   \n",
       "max           8.300000e+01        6.000000e+00      5.867400e+01   \n",
       "\n",
       "       snow_fall_mm  snow_depth_mm  average temperature_C  \\\n",
       "count  1.456327e+06   1.456327e+06           1.456327e+06   \n",
       "mean   1.487595e+00   1.032141e+01           1.235994e+01   \n",
       "std    2.386179e+01   5.704924e+01           8.969375e+00   \n",
       "min    0.000000e+00   0.000000e+00          -1.388889e+01   \n",
       "25%    0.000000e+00   0.000000e+00           5.833333e+00   \n",
       "50%    0.000000e+00   0.000000e+00           1.194444e+01   \n",
       "75%    0.000000e+00   0.000000e+00           2.083333e+01   \n",
       "max    6.934200e+02   5.588000e+02           2.833333e+01   \n",
       "\n",
       "       ride_duration_seconds   distance_KM  working_days  \n",
       "count           1.456327e+06  1.456327e+06  1.456327e+06  \n",
       "mean            8.360994e+02  3.438329e+00  7.147378e-01  \n",
       "std             6.542966e+02  4.285775e+00  4.515394e-01  \n",
       "min             1.000000e+00  0.000000e+00  0.000000e+00  \n",
       "25%             3.970000e+02  1.231748e+00  0.000000e+00  \n",
       "50%             6.610000e+02  2.093206e+00  1.000000e+00  \n",
       "75%             1.073000e+03  3.873726e+00  1.000000e+00  \n",
       "max             7.191000e+03  1.240909e+03  1.000000e+00  \n",
       "\n",
       "[8 rows x 24 columns]"
      ]
     },
     "execution_count": 205,
     "metadata": {},
     "output_type": "execute_result"
    }
   ],
   "source": [
    "df2.describe()"
   ]
  },
  {
   "cell_type": "code",
   "execution_count": 161,
   "metadata": {},
   "outputs": [
    {
     "data": {
      "text/plain": [
       "-73.982201    633\n",
       "-73.982140    603\n",
       "-73.982101    585\n",
       "-73.982117    584\n",
       "-73.982224    583\n",
       "             ... \n",
       "-73.891502      1\n",
       "-73.885712      1\n",
       "-73.891273      1\n",
       "-73.865181      1\n",
       "-73.792320      1\n",
       "Name: pickup_longitude, Length: 23018, dtype: int64"
      ]
     },
     "execution_count": 161,
     "metadata": {},
     "output_type": "execute_result"
    }
   ],
   "source": [
    "df2.pickup_longitude .value_counts()"
   ]
  },
  {
   "cell_type": "code",
   "execution_count": 162,
   "metadata": {},
   "outputs": [
    {
     "data": {
      "text/plain": [
       "40.774101    413\n",
       "40.774120    410\n",
       "40.774090    410\n",
       "40.774109    392\n",
       "40.774078    390\n",
       "            ... \n",
       "40.661869      1\n",
       "40.661961      1\n",
       "40.661797      1\n",
       "40.661804      1\n",
       "40.694256      1\n",
       "Name: pickup_latitude, Length: 45215, dtype: int64"
      ]
     },
     "execution_count": 162,
     "metadata": {},
     "output_type": "execute_result"
    }
   ],
   "source": [
    "df2.pickup_latitude.value_counts()"
   ]
  },
  {
   "cell_type": "code",
   "execution_count": 165,
   "metadata": {},
   "outputs": [
    {
     "data": {
      "text/plain": [
       "-73.982330    443\n",
       "-73.982094    433\n",
       "-73.982246    430\n",
       "-73.982117    425\n",
       "-73.991379    420\n",
       "             ... \n",
       "-73.830925      1\n",
       "-73.830681      1\n",
       "-73.830330      1\n",
       "-73.830009      1\n",
       "-73.895065      1\n",
       "Name: dropoff_longitude, Length: 33783, dtype: int64"
      ]
     },
     "execution_count": 165,
     "metadata": {},
     "output_type": "execute_result"
    }
   ],
   "source": [
    "df2.dropoff_longitude .value_counts()"
   ]
  },
  {
   "cell_type": "code",
   "execution_count": 163,
   "metadata": {},
   "outputs": [
    {
     "data": {
      "text/plain": [
       "40.774311    269\n",
       "40.774330    262\n",
       "40.750149    259\n",
       "40.750118    253\n",
       "40.750198    249\n",
       "            ... \n",
       "40.671432      1\n",
       "40.610661      1\n",
       "40.610809      1\n",
       "40.671310      1\n",
       "40.927067      1\n",
       "Name: dropoff_latitude, Length: 62483, dtype: int64"
      ]
     },
     "execution_count": 163,
     "metadata": {},
     "output_type": "execute_result"
    }
   ],
   "source": [
    "df2.dropoff_latitude.value_counts()"
   ]
  },
  {
   "cell_type": "code",
   "execution_count": null,
   "metadata": {},
   "outputs": [],
   "source": []
  },
  {
   "cell_type": "raw",
   "metadata": {},
   "source": [
    "https://www.kite.com/python/answers/how-to-find-the-distance-between-two-lat-long-coordinates-in-python\n",
    "\n",
    "The Haversine formula calculates the great-circle distance between two points. Start by calculating the change in latitude and longitude, in radians, and input the result into the Haversine formula (implemented below). Use the functions in the math library for trigonometry related calculations.\n",
    "\n",
    "R = 6373.0\n",
    "radius of the Earth\n",
    "\n",
    "\n",
    "lat1 = math.radians(52.2296756)\n",
    "coordinates\n",
    "\n",
    "lon1 = math.radians(21.0122287)\n",
    "lat2 = math.radians(52.406374)\n",
    "lon2 = math.radians(16.9251681)\n",
    "\n",
    "dlon = lon2 - lon1\n",
    "change in coordinates\n",
    "\n",
    "dlat = lat2 - lat1\n",
    "\n",
    "a = math.sin(dlat / 2)**2 + math.cos(lat1) * math.cos(lat2) * math.sin(dlon / 2)**2\n",
    "Haversine formula\n",
    "\n",
    "c = 2 * math.atan2(math.sqrt(a), math.sqrt(1 - a))\n",
    "distance = R * c\n",
    "\n",
    "print(distance)"
   ]
  },
  {
   "cell_type": "code",
   "execution_count": 167,
   "metadata": {},
   "outputs": [],
   "source": [
    "#google is my friend\n",
    "#Voici une version numpy vectorisée de la même fonction:\n",
    "\n",
    "def haversine_np(lon1, lat1, lon2, lat2):\n",
    "    \"\"\"\n",
    "    Calculate the great circle distance between two points\n",
    "    on the earth (specified in decimal degrees)\n",
    "\n",
    "    All args must be of equal length.    \n",
    "\n",
    "    \"\"\"\n",
    "    lon1, lat1, lon2, lat2 = map(np.radians, [lon1, lat1, lon2, lat2])\n",
    "\n",
    "    dlon = lon2 - lon1\n",
    "    dlat = lat2 - lat1\n",
    "\n",
    "    a = np.sin(dlat/2.0)**2 + np.cos(lat1) * np.cos(lat2) * np.sin(dlon/2.0)**2\n",
    "\n",
    "    c = 2 * np.arcsin(np.sqrt(a))\n",
    "    km = 6371 * c\n",
    "    return km\n",
    "#Les entrées sont toutes des tableaux de valeurs, et il devrait pouvoir faire des millions de points instantanément. L’exigence est que les entrées soient ndarrays mais les colonnes de votre table de pandas fonctionneront.\n",
    "\n",
    "#Par exemple, avec des valeurs générées aléatoirement:\n",
    "\n",
    "#La lecture en boucle dans des tableaux de données est très lente en python. Numpy fournit des fonctions qui fonctionnent sur des tableaux de données entiers, ce qui vous permet d'éviter les boucles et d'améliorer considérablement les performances.\n",
    "\n",
    "#Ceci est un exemple de vectorisation ."
   ]
  },
  {
   "cell_type": "code",
   "execution_count": 151,
   "metadata": {},
   "outputs": [
    {
     "data": {
      "text/plain": [
       "1.8080280500381358"
      ]
     },
     "execution_count": 151,
     "metadata": {},
     "output_type": "execute_result"
    }
   ],
   "source": [
    "distanceKM(40.7386,73.9804,40.7312,73.9995)"
   ]
  },
  {
   "cell_type": "code",
   "execution_count": null,
   "metadata": {},
   "outputs": [],
   "source": []
  },
  {
   "cell_type": "code",
   "execution_count": 174,
   "metadata": {},
   "outputs": [
    {
     "name": "stderr",
     "output_type": "stream",
     "text": [
      "/opt/anaconda3/lib/python3.7/site-packages/ipykernel_launcher.py:1: SettingWithCopyWarning: \n",
      "A value is trying to be set on a copy of a slice from a DataFrame.\n",
      "Try using .loc[row_indexer,col_indexer] = value instead\n",
      "\n",
      "See the caveats in the documentation: https://pandas.pydata.org/pandas-docs/stable/user_guide/indexing.html#returning-a-view-versus-a-copy\n",
      "  \"\"\"Entry point for launching an IPython kernel.\n"
     ]
    }
   ],
   "source": [
    "df2['distance_KM']=haversine_np(df2['pickup_longitude'],df2['pickup_latitude'],df2['dropoff_longitude'],df2['dropoff_latitude'])"
   ]
  },
  {
   "cell_type": "code",
   "execution_count": 170,
   "metadata": {},
   "outputs": [
    {
     "data": {
      "text/plain": [
       "(1456327, 33)"
      ]
     },
     "execution_count": 170,
     "metadata": {},
     "output_type": "execute_result"
    }
   ],
   "source": [
    "df2.shape"
   ]
  },
  {
   "cell_type": "code",
   "execution_count": 175,
   "metadata": {},
   "outputs": [
    {
     "data": {
      "text/plain": [
       "0.000000     5884\n",
       "0.000424      114\n",
       "0.000424       53\n",
       "0.000848       46\n",
       "0.001273       40\n",
       "             ... \n",
       "3.256370        1\n",
       "0.442855        1\n",
       "13.892659       1\n",
       "3.833762        1\n",
       "2.858381        1\n",
       "Name: distance_KM, Length: 1449987, dtype: int64"
      ]
     },
     "execution_count": 175,
     "metadata": {},
     "output_type": "execute_result"
    }
   ],
   "source": [
    "df2['distance_KM'].value_counts()"
   ]
  },
  {
   "cell_type": "code",
   "execution_count": 176,
   "metadata": {},
   "outputs": [
    {
     "data": {
      "text/plain": [
       "<AxesSubplot:xlabel='distance_KM'>"
      ]
     },
     "execution_count": 176,
     "metadata": {},
     "output_type": "execute_result"
    },
    {
     "data": {
      "image/png": "[encoded data removed]",
      "text/plain": [
       "<Figure size 576x396 with 1 Axes>"
      ]
     },
     "metadata": {},
     "output_type": "display_data"
    }
   ],
   "source": [
    "sns.distplot(df2['distance_KM'])\n",
    "# Calcul distance à revoir. peut etre pas approprié avec de petites distances"
   ]
  },
  {
   "cell_type": "code",
   "execution_count": 183,
   "metadata": {},
   "outputs": [],
   "source": [
    "dct_work={0:1,1:1,2:1,3:1,4:1,5:0,6:0}"
   ]
  },
  {
   "cell_type": "code",
   "execution_count": 185,
   "metadata": {},
   "outputs": [
    {
     "name": "stderr",
     "output_type": "stream",
     "text": [
      "/opt/anaconda3/lib/python3.7/site-packages/ipykernel_launcher.py:1: SettingWithCopyWarning: \n",
      "A value is trying to be set on a copy of a slice from a DataFrame.\n",
      "Try using .loc[row_indexer,col_indexer] = value instead\n",
      "\n",
      "See the caveats in the documentation: https://pandas.pydata.org/pandas-docs/stable/user_guide/indexing.html#returning-a-view-versus-a-copy\n",
      "  \"\"\"Entry point for launching an IPython kernel.\n"
     ]
    }
   ],
   "source": [
    "df2['working_days']=df2.weekday.map(dct_work)"
   ]
  },
  {
   "cell_type": "code",
   "execution_count": 192,
   "metadata": {},
   "outputs": [
    {
     "data": {
      "text/plain": [
       "<AxesSubplot:xlabel='working_days', ylabel='hour'>"
      ]
     },
     "execution_count": 192,
     "metadata": {},
     "output_type": "execute_result"
    },
    {
     "data": {
      "image/png": "[encoded data removed]",
      "text/plain": [
       "<Figure size 576x396 with 2 Axes>"
      ]
     },
     "metadata": {},
     "output_type": "display_data"
    }
   ],
   "source": [
    "sns.heatmap(pd.crosstab(df2.hour,df2.working_days,normalize='index'),annot=True)"
   ]
  },
  {
   "cell_type": "code",
   "execution_count": 195,
   "metadata": {},
   "outputs": [
    {
     "data": {
      "text/plain": [
       "<AxesSubplot:xlabel='weekday', ylabel='hour'>"
      ]
     },
     "execution_count": 195,
     "metadata": {},
     "output_type": "execute_result"
    },
    {
     "data": {
      "image/png": "[encoded data removed]",
      "text/plain": [
       "<Figure size 576x396 with 2 Axes>"
      ]
     },
     "metadata": {},
     "output_type": "display_data"
    }
   ],
   "source": [
    "sns.heatmap(pd.crosstab(df2.hour,df2.weekday,normalize='columns'),annot=True)\n",
    "#repartition des courses pour chaque jour 0 lundi, 6 dimanche"
   ]
  },
  {
   "cell_type": "code",
   "execution_count": 198,
   "metadata": {},
   "outputs": [
    {
     "data": {
      "text/plain": [
       "<AxesSubplot:xlabel='passenger_count', ylabel='count'>"
      ]
     },
     "execution_count": 198,
     "metadata": {},
     "output_type": "execute_result"
    },
    {
     "data": {
      "image/png": "[encoded data removed]",
      "text/plain": [
       "<Figure size 576x396 with 1 Axes>"
      ]
     },
     "metadata": {},
     "output_type": "display_data"
    }
   ],
   "source": [
    "sns.countplot(df.passenger_count)\n",
    "# majority of 1 passenger - ride"
   ]
  },
  {
   "cell_type": "code",
   "execution_count": 200,
   "metadata": {},
   "outputs": [
    {
     "data": {
      "text/plain": [
       "<AxesSubplot:xlabel='weekday', ylabel='passenger_count'>"
      ]
     },
     "execution_count": 200,
     "metadata": {},
     "output_type": "execute_result"
    },
    {
     "data": {
      "image/png": "[encoded data removed]",
      "text/plain": [
       "<Figure size 576x396 with 2 Axes>"
      ]
     },
     "metadata": {},
     "output_type": "display_data"
    }
   ],
   "source": [
    "sns.heatmap(pd.crosstab(df.passenger_count,df2.weekday,normalize='index'),annot=True)\n",
    "# sur quels jour sont plutot les passager solo, duo, ou plus"
   ]
  },
  {
   "cell_type": "code",
   "execution_count": 180,
   "metadata": {},
   "outputs": [],
   "source": [
    "#modifier colonne à dropper\n",
    "df3=df2.drop(to_drop, axis=1)"
   ]
  },
  {
   "cell_type": "code",
   "execution_count": null,
   "metadata": {},
   "outputs": [],
   "source": []
  },
  {
   "cell_type": "code",
   "execution_count": null,
   "metadata": {},
   "outputs": [],
   "source": []
  },
  {
   "cell_type": "code",
   "execution_count": 182,
   "metadata": {},
   "outputs": [
    {
     "data": {
      "text/html": [
       "<div>\n",
       "<style scoped>\n",
       "    .dataframe tbody tr th:only-of-type {\n",
       "        vertical-align: middle;\n",
       "    }\n",
       "\n",
       "    .dataframe tbody tr th {\n",
       "        vertical-align: top;\n",
       "    }\n",
       "\n",
       "    .dataframe thead th {\n",
       "        text-align: right;\n",
       "    }\n",
       "</style>\n",
       "<table border=\"1\" class=\"dataframe\">\n",
       "  <thead>\n",
       "    <tr style=\"text-align: right;\">\n",
       "      <th></th>\n",
       "      <th>passenger_count</th>\n",
       "      <th>pickup_longitude</th>\n",
       "      <th>pickup_latitude</th>\n",
       "      <th>dropoff_longitude</th>\n",
       "      <th>dropoff_latitude</th>\n",
       "      <th>date_x</th>\n",
       "      <th>month</th>\n",
       "      <th>week_nb</th>\n",
       "      <th>weekday</th>\n",
       "      <th>day_nb</th>\n",
       "      <th>hour</th>\n",
       "      <th>season</th>\n",
       "      <th>ride_duration</th>\n",
       "      <th>new_passenger_count</th>\n",
       "      <th>precipitation_mm</th>\n",
       "      <th>snow_fall_mm</th>\n",
       "      <th>snow_depth_mm</th>\n",
       "      <th>average temperature_C</th>\n",
       "      <th>ride_duration_seconds</th>\n",
       "      <th>distance_KM</th>\n",
       "    </tr>\n",
       "  </thead>\n",
       "  <tbody>\n",
       "    <tr>\n",
       "      <th>0</th>\n",
       "      <td>1</td>\n",
       "      <td>-73.982155</td>\n",
       "      <td>40.767937</td>\n",
       "      <td>-73.964630</td>\n",
       "      <td>40.765602</td>\n",
       "      <td>2016-03-14 17:24:55</td>\n",
       "      <td>3</td>\n",
       "      <td>11</td>\n",
       "      <td>0</td>\n",
       "      <td>74</td>\n",
       "      <td>17</td>\n",
       "      <td>spring</td>\n",
       "      <td>0 days 00:07:35</td>\n",
       "      <td>1.0</td>\n",
       "      <td>7.366000</td>\n",
       "      <td>0.0</td>\n",
       "      <td>0.000000</td>\n",
       "      <td>7.500000</td>\n",
       "      <td>455.0</td>\n",
       "      <td>1.498521</td>\n",
       "    </tr>\n",
       "    <tr>\n",
       "      <th>1</th>\n",
       "      <td>1</td>\n",
       "      <td>-73.980415</td>\n",
       "      <td>40.738564</td>\n",
       "      <td>-73.999481</td>\n",
       "      <td>40.731152</td>\n",
       "      <td>2016-06-12 00:43:35</td>\n",
       "      <td>6</td>\n",
       "      <td>23</td>\n",
       "      <td>6</td>\n",
       "      <td>164</td>\n",
       "      <td>0</td>\n",
       "      <td>summer</td>\n",
       "      <td>0 days 00:11:03</td>\n",
       "      <td>1.0</td>\n",
       "      <td>8.890000</td>\n",
       "      <td>0.0</td>\n",
       "      <td>0.000000</td>\n",
       "      <td>5.277778</td>\n",
       "      <td>663.0</td>\n",
       "      <td>1.805507</td>\n",
       "    </tr>\n",
       "    <tr>\n",
       "      <th>2</th>\n",
       "      <td>1</td>\n",
       "      <td>-73.979027</td>\n",
       "      <td>40.763939</td>\n",
       "      <td>-74.005333</td>\n",
       "      <td>40.710087</td>\n",
       "      <td>2016-01-19 11:35:24</td>\n",
       "      <td>1</td>\n",
       "      <td>3</td>\n",
       "      <td>1</td>\n",
       "      <td>19</td>\n",
       "      <td>11</td>\n",
       "      <td>winter</td>\n",
       "      <td>0 days 00:35:24</td>\n",
       "      <td>1.0</td>\n",
       "      <td>0.000000</td>\n",
       "      <td>0.0</td>\n",
       "      <td>0.000254</td>\n",
       "      <td>-5.555556</td>\n",
       "      <td>2124.0</td>\n",
       "      <td>6.385098</td>\n",
       "    </tr>\n",
       "    <tr>\n",
       "      <th>3</th>\n",
       "      <td>1</td>\n",
       "      <td>-74.010040</td>\n",
       "      <td>40.719971</td>\n",
       "      <td>-74.012268</td>\n",
       "      <td>40.706718</td>\n",
       "      <td>2016-04-06 19:32:31</td>\n",
       "      <td>4</td>\n",
       "      <td>14</td>\n",
       "      <td>2</td>\n",
       "      <td>97</td>\n",
       "      <td>19</td>\n",
       "      <td>spring</td>\n",
       "      <td>0 days 00:07:09</td>\n",
       "      <td>1.0</td>\n",
       "      <td>10.160000</td>\n",
       "      <td>0.0</td>\n",
       "      <td>0.000000</td>\n",
       "      <td>23.611111</td>\n",
       "      <td>429.0</td>\n",
       "      <td>1.485498</td>\n",
       "    </tr>\n",
       "    <tr>\n",
       "      <th>4</th>\n",
       "      <td>1</td>\n",
       "      <td>-73.973053</td>\n",
       "      <td>40.793209</td>\n",
       "      <td>-73.972923</td>\n",
       "      <td>40.782520</td>\n",
       "      <td>2016-03-26 13:30:55</td>\n",
       "      <td>3</td>\n",
       "      <td>12</td>\n",
       "      <td>5</td>\n",
       "      <td>86</td>\n",
       "      <td>13</td>\n",
       "      <td>spring</td>\n",
       "      <td>0 days 00:07:15</td>\n",
       "      <td>1.0</td>\n",
       "      <td>0.000000</td>\n",
       "      <td>0.0</td>\n",
       "      <td>0.000000</td>\n",
       "      <td>8.055556</td>\n",
       "      <td>435.0</td>\n",
       "      <td>1.188588</td>\n",
       "    </tr>\n",
       "    <tr>\n",
       "      <th>...</th>\n",
       "      <td>...</td>\n",
       "      <td>...</td>\n",
       "      <td>...</td>\n",
       "      <td>...</td>\n",
       "      <td>...</td>\n",
       "      <td>...</td>\n",
       "      <td>...</td>\n",
       "      <td>...</td>\n",
       "      <td>...</td>\n",
       "      <td>...</td>\n",
       "      <td>...</td>\n",
       "      <td>...</td>\n",
       "      <td>...</td>\n",
       "      <td>...</td>\n",
       "      <td>...</td>\n",
       "      <td>...</td>\n",
       "      <td>...</td>\n",
       "      <td>...</td>\n",
       "      <td>...</td>\n",
       "      <td>...</td>\n",
       "    </tr>\n",
       "    <tr>\n",
       "      <th>1458639</th>\n",
       "      <td>4</td>\n",
       "      <td>-73.982201</td>\n",
       "      <td>40.745522</td>\n",
       "      <td>-73.994911</td>\n",
       "      <td>40.740170</td>\n",
       "      <td>2016-04-08 13:31:04</td>\n",
       "      <td>4</td>\n",
       "      <td>14</td>\n",
       "      <td>4</td>\n",
       "      <td>99</td>\n",
       "      <td>13</td>\n",
       "      <td>spring</td>\n",
       "      <td>0 days 00:12:58</td>\n",
       "      <td>4.0</td>\n",
       "      <td>0.000000</td>\n",
       "      <td>0.0</td>\n",
       "      <td>0.000000</td>\n",
       "      <td>23.333333</td>\n",
       "      <td>778.0</td>\n",
       "      <td>1.225080</td>\n",
       "    </tr>\n",
       "    <tr>\n",
       "      <th>1458640</th>\n",
       "      <td>1</td>\n",
       "      <td>-74.000946</td>\n",
       "      <td>40.747379</td>\n",
       "      <td>-73.970184</td>\n",
       "      <td>40.796547</td>\n",
       "      <td>2016-01-10 07:35:15</td>\n",
       "      <td>1</td>\n",
       "      <td>1</td>\n",
       "      <td>6</td>\n",
       "      <td>10</td>\n",
       "      <td>7</td>\n",
       "      <td>winter</td>\n",
       "      <td>0 days 00:10:55</td>\n",
       "      <td>1.0</td>\n",
       "      <td>0.000000</td>\n",
       "      <td>0.0</td>\n",
       "      <td>0.000000</td>\n",
       "      <td>15.000000</td>\n",
       "      <td>655.0</td>\n",
       "      <td>6.049836</td>\n",
       "    </tr>\n",
       "    <tr>\n",
       "      <th>1458641</th>\n",
       "      <td>1</td>\n",
       "      <td>-73.959129</td>\n",
       "      <td>40.768799</td>\n",
       "      <td>-74.004433</td>\n",
       "      <td>40.707371</td>\n",
       "      <td>2016-04-22 06:57:41</td>\n",
       "      <td>4</td>\n",
       "      <td>16</td>\n",
       "      <td>4</td>\n",
       "      <td>113</td>\n",
       "      <td>6</td>\n",
       "      <td>spring</td>\n",
       "      <td>0 days 00:12:44</td>\n",
       "      <td>1.0</td>\n",
       "      <td>0.000254</td>\n",
       "      <td>0.0</td>\n",
       "      <td>0.000000</td>\n",
       "      <td>21.388889</td>\n",
       "      <td>764.0</td>\n",
       "      <td>7.824606</td>\n",
       "    </tr>\n",
       "    <tr>\n",
       "      <th>1458642</th>\n",
       "      <td>1</td>\n",
       "      <td>-73.982079</td>\n",
       "      <td>40.749062</td>\n",
       "      <td>-73.974632</td>\n",
       "      <td>40.757107</td>\n",
       "      <td>2016-01-05 15:56:26</td>\n",
       "      <td>1</td>\n",
       "      <td>1</td>\n",
       "      <td>1</td>\n",
       "      <td>5</td>\n",
       "      <td>15</td>\n",
       "      <td>winter</td>\n",
       "      <td>0 days 00:06:13</td>\n",
       "      <td>1.0</td>\n",
       "      <td>4.064000</td>\n",
       "      <td>0.0</td>\n",
       "      <td>0.000000</td>\n",
       "      <td>8.888889</td>\n",
       "      <td>373.0</td>\n",
       "      <td>1.092564</td>\n",
       "    </tr>\n",
       "    <tr>\n",
       "      <th>1458643</th>\n",
       "      <td>1</td>\n",
       "      <td>-73.979538</td>\n",
       "      <td>40.781750</td>\n",
       "      <td>-73.972809</td>\n",
       "      <td>40.790585</td>\n",
       "      <td>2016-04-05 14:44:25</td>\n",
       "      <td>4</td>\n",
       "      <td>14</td>\n",
       "      <td>1</td>\n",
       "      <td>96</td>\n",
       "      <td>14</td>\n",
       "      <td>spring</td>\n",
       "      <td>0 days 00:03:18</td>\n",
       "      <td>1.0</td>\n",
       "      <td>0.254000</td>\n",
       "      <td>0.0</td>\n",
       "      <td>0.000000</td>\n",
       "      <td>10.000000</td>\n",
       "      <td>198.0</td>\n",
       "      <td>1.134042</td>\n",
       "    </tr>\n",
       "  </tbody>\n",
       "</table>\n",
       "<p>1456327 rows × 20 columns</p>\n",
       "</div>"
      ],
      "text/plain": [
       "         passenger_count  pickup_longitude  pickup_latitude  \\\n",
       "0                      1        -73.982155        40.767937   \n",
       "1                      1        -73.980415        40.738564   \n",
       "2                      1        -73.979027        40.763939   \n",
       "3                      1        -74.010040        40.719971   \n",
       "4                      1        -73.973053        40.793209   \n",
       "...                  ...               ...              ...   \n",
       "1458639                4        -73.982201        40.745522   \n",
       "1458640                1        -74.000946        40.747379   \n",
       "1458641                1        -73.959129        40.768799   \n",
       "1458642                1        -73.982079        40.749062   \n",
       "1458643                1        -73.979538        40.781750   \n",
       "\n",
       "         dropoff_longitude  dropoff_latitude              date_x  month  \\\n",
       "0               -73.964630         40.765602 2016-03-14 17:24:55      3   \n",
       "1               -73.999481         40.731152 2016-06-12 00:43:35      6   \n",
       "2               -74.005333         40.710087 2016-01-19 11:35:24      1   \n",
       "3               -74.012268         40.706718 2016-04-06 19:32:31      4   \n",
       "4               -73.972923         40.782520 2016-03-26 13:30:55      3   \n",
       "...                    ...               ...                 ...    ...   \n",
       "1458639         -73.994911         40.740170 2016-04-08 13:31:04      4   \n",
       "1458640         -73.970184         40.796547 2016-01-10 07:35:15      1   \n",
       "1458641         -74.004433         40.707371 2016-04-22 06:57:41      4   \n",
       "1458642         -73.974632         40.757107 2016-01-05 15:56:26      1   \n",
       "1458643         -73.972809         40.790585 2016-04-05 14:44:25      4   \n",
       "\n",
       "         week_nb  weekday  day_nb  hour  season   ride_duration  \\\n",
       "0             11        0      74    17  spring 0 days 00:07:35   \n",
       "1             23        6     164     0  summer 0 days 00:11:03   \n",
       "2              3        1      19    11  winter 0 days 00:35:24   \n",
       "3             14        2      97    19  spring 0 days 00:07:09   \n",
       "4             12        5      86    13  spring 0 days 00:07:15   \n",
       "...          ...      ...     ...   ...     ...             ...   \n",
       "1458639       14        4      99    13  spring 0 days 00:12:58   \n",
       "1458640        1        6      10     7  winter 0 days 00:10:55   \n",
       "1458641       16        4     113     6  spring 0 days 00:12:44   \n",
       "1458642        1        1       5    15  winter 0 days 00:06:13   \n",
       "1458643       14        1      96    14  spring 0 days 00:03:18   \n",
       "\n",
       "         new_passenger_count  precipitation_mm  snow_fall_mm  snow_depth_mm  \\\n",
       "0                        1.0          7.366000           0.0       0.000000   \n",
       "1                        1.0          8.890000           0.0       0.000000   \n",
       "2                        1.0          0.000000           0.0       0.000254   \n",
       "3                        1.0         10.160000           0.0       0.000000   \n",
       "4                        1.0          0.000000           0.0       0.000000   \n",
       "...                      ...               ...           ...            ...   \n",
       "1458639                  4.0          0.000000           0.0       0.000000   \n",
       "1458640                  1.0          0.000000           0.0       0.000000   \n",
       "1458641                  1.0          0.000254           0.0       0.000000   \n",
       "1458642                  1.0          4.064000           0.0       0.000000   \n",
       "1458643                  1.0          0.254000           0.0       0.000000   \n",
       "\n",
       "         average temperature_C  ride_duration_seconds  distance_KM  \n",
       "0                     7.500000                  455.0     1.498521  \n",
       "1                     5.277778                  663.0     1.805507  \n",
       "2                    -5.555556                 2124.0     6.385098  \n",
       "3                    23.611111                  429.0     1.485498  \n",
       "4                     8.055556                  435.0     1.188588  \n",
       "...                        ...                    ...          ...  \n",
       "1458639              23.333333                  778.0     1.225080  \n",
       "1458640              15.000000                  655.0     6.049836  \n",
       "1458641              21.388889                  764.0     7.824606  \n",
       "1458642               8.888889                  373.0     1.092564  \n",
       "1458643              10.000000                  198.0     1.134042  \n",
       "\n",
       "[1456327 rows x 20 columns]"
      ]
     },
     "execution_count": 182,
     "metadata": {},
     "output_type": "execute_result"
    }
   ],
   "source": [
    "df3"
   ]
  },
  {
   "cell_type": "markdown",
   "metadata": {},
   "source": [
    "# Useful code"
   ]
  },
  {
   "cell_type": "code",
   "execution_count": null,
   "metadata": {},
   "outputs": [],
   "source": []
  },
  {
   "cell_type": "code",
   "execution_count": 54,
   "metadata": {},
   "outputs": [
    {
     "data": {
      "text/html": [
       "<div>\n",
       "<style scoped>\n",
       "    .dataframe tbody tr th:only-of-type {\n",
       "        vertical-align: middle;\n",
       "    }\n",
       "\n",
       "    .dataframe tbody tr th {\n",
       "        vertical-align: top;\n",
       "    }\n",
       "\n",
       "    .dataframe thead th {\n",
       "        text-align: right;\n",
       "    }\n",
       "</style>\n",
       "<table border=\"1\" class=\"dataframe\">\n",
       "  <thead>\n",
       "    <tr style=\"text-align: right;\">\n",
       "      <th></th>\n",
       "      <th>id</th>\n",
       "      <th>vendor_id</th>\n",
       "      <th>pickup_datetime</th>\n",
       "      <th>dropoff_datetime</th>\n",
       "      <th>passenger_count</th>\n",
       "      <th>pickup_longitude</th>\n",
       "      <th>pickup_latitude</th>\n",
       "      <th>dropoff_longitude</th>\n",
       "      <th>dropoff_latitude</th>\n",
       "      <th>store_and_fwd_flag</th>\n",
       "      <th>trip_duration</th>\n",
       "      <th>date</th>\n",
       "      <th>time</th>\n",
       "      <th>hour</th>\n",
       "    </tr>\n",
       "  </thead>\n",
       "  <tbody>\n",
       "    <tr>\n",
       "      <th>count</th>\n",
       "      <td>1458644</td>\n",
       "      <td>1.458644e+06</td>\n",
       "      <td>1458644</td>\n",
       "      <td>1458644</td>\n",
       "      <td>1.458644e+06</td>\n",
       "      <td>1.458644e+06</td>\n",
       "      <td>1.458644e+06</td>\n",
       "      <td>1.458644e+06</td>\n",
       "      <td>1.458644e+06</td>\n",
       "      <td>1458644</td>\n",
       "      <td>1.458644e+06</td>\n",
       "      <td>1458644</td>\n",
       "      <td>1458644</td>\n",
       "      <td>1458644</td>\n",
       "    </tr>\n",
       "    <tr>\n",
       "      <th>unique</th>\n",
       "      <td>1458644</td>\n",
       "      <td>NaN</td>\n",
       "      <td>1380222</td>\n",
       "      <td>1380377</td>\n",
       "      <td>NaN</td>\n",
       "      <td>NaN</td>\n",
       "      <td>NaN</td>\n",
       "      <td>NaN</td>\n",
       "      <td>NaN</td>\n",
       "      <td>2</td>\n",
       "      <td>NaN</td>\n",
       "      <td>182</td>\n",
       "      <td>86259</td>\n",
       "      <td>24</td>\n",
       "    </tr>\n",
       "    <tr>\n",
       "      <th>top</th>\n",
       "      <td>id3370968</td>\n",
       "      <td>NaN</td>\n",
       "      <td>2016-05-07 13:18:07</td>\n",
       "      <td>2016-05-16 19:40:28</td>\n",
       "      <td>NaN</td>\n",
       "      <td>NaN</td>\n",
       "      <td>NaN</td>\n",
       "      <td>NaN</td>\n",
       "      <td>NaN</td>\n",
       "      <td>N</td>\n",
       "      <td>NaN</td>\n",
       "      <td>2016-04-09 00:00:00</td>\n",
       "      <td>18:57:27</td>\n",
       "      <td>18</td>\n",
       "    </tr>\n",
       "    <tr>\n",
       "      <th>freq</th>\n",
       "      <td>1</td>\n",
       "      <td>NaN</td>\n",
       "      <td>5</td>\n",
       "      <td>5</td>\n",
       "      <td>NaN</td>\n",
       "      <td>NaN</td>\n",
       "      <td>NaN</td>\n",
       "      <td>NaN</td>\n",
       "      <td>NaN</td>\n",
       "      <td>1450599</td>\n",
       "      <td>NaN</td>\n",
       "      <td>9796</td>\n",
       "      <td>47</td>\n",
       "      <td>90600</td>\n",
       "    </tr>\n",
       "    <tr>\n",
       "      <th>first</th>\n",
       "      <td>NaN</td>\n",
       "      <td>NaN</td>\n",
       "      <td>NaN</td>\n",
       "      <td>NaN</td>\n",
       "      <td>NaN</td>\n",
       "      <td>NaN</td>\n",
       "      <td>NaN</td>\n",
       "      <td>NaN</td>\n",
       "      <td>NaN</td>\n",
       "      <td>NaN</td>\n",
       "      <td>NaN</td>\n",
       "      <td>2016-01-01 00:00:00</td>\n",
       "      <td>NaN</td>\n",
       "      <td>NaN</td>\n",
       "    </tr>\n",
       "    <tr>\n",
       "      <th>last</th>\n",
       "      <td>NaN</td>\n",
       "      <td>NaN</td>\n",
       "      <td>NaN</td>\n",
       "      <td>NaN</td>\n",
       "      <td>NaN</td>\n",
       "      <td>NaN</td>\n",
       "      <td>NaN</td>\n",
       "      <td>NaN</td>\n",
       "      <td>NaN</td>\n",
       "      <td>NaN</td>\n",
       "      <td>NaN</td>\n",
       "      <td>2016-06-30 00:00:00</td>\n",
       "      <td>NaN</td>\n",
       "      <td>NaN</td>\n",
       "    </tr>\n",
       "    <tr>\n",
       "      <th>mean</th>\n",
       "      <td>NaN</td>\n",
       "      <td>1.534950e+00</td>\n",
       "      <td>NaN</td>\n",
       "      <td>NaN</td>\n",
       "      <td>1.664530e+00</td>\n",
       "      <td>-7.397349e+01</td>\n",
       "      <td>4.075092e+01</td>\n",
       "      <td>-7.397342e+01</td>\n",
       "      <td>4.075180e+01</td>\n",
       "      <td>NaN</td>\n",
       "      <td>9.594923e+02</td>\n",
       "      <td>NaN</td>\n",
       "      <td>NaN</td>\n",
       "      <td>NaN</td>\n",
       "    </tr>\n",
       "    <tr>\n",
       "      <th>std</th>\n",
       "      <td>NaN</td>\n",
       "      <td>4.987772e-01</td>\n",
       "      <td>NaN</td>\n",
       "      <td>NaN</td>\n",
       "      <td>1.314242e+00</td>\n",
       "      <td>7.090186e-02</td>\n",
       "      <td>3.288119e-02</td>\n",
       "      <td>7.064327e-02</td>\n",
       "      <td>3.589056e-02</td>\n",
       "      <td>NaN</td>\n",
       "      <td>5.237432e+03</td>\n",
       "      <td>NaN</td>\n",
       "      <td>NaN</td>\n",
       "      <td>NaN</td>\n",
       "    </tr>\n",
       "    <tr>\n",
       "      <th>min</th>\n",
       "      <td>NaN</td>\n",
       "      <td>1.000000e+00</td>\n",
       "      <td>NaN</td>\n",
       "      <td>NaN</td>\n",
       "      <td>0.000000e+00</td>\n",
       "      <td>-1.219333e+02</td>\n",
       "      <td>3.435970e+01</td>\n",
       "      <td>-1.219333e+02</td>\n",
       "      <td>3.218114e+01</td>\n",
       "      <td>NaN</td>\n",
       "      <td>1.000000e+00</td>\n",
       "      <td>NaN</td>\n",
       "      <td>NaN</td>\n",
       "      <td>NaN</td>\n",
       "    </tr>\n",
       "    <tr>\n",
       "      <th>25%</th>\n",
       "      <td>NaN</td>\n",
       "      <td>1.000000e+00</td>\n",
       "      <td>NaN</td>\n",
       "      <td>NaN</td>\n",
       "      <td>1.000000e+00</td>\n",
       "      <td>-7.399187e+01</td>\n",
       "      <td>4.073735e+01</td>\n",
       "      <td>-7.399133e+01</td>\n",
       "      <td>4.073588e+01</td>\n",
       "      <td>NaN</td>\n",
       "      <td>3.970000e+02</td>\n",
       "      <td>NaN</td>\n",
       "      <td>NaN</td>\n",
       "      <td>NaN</td>\n",
       "    </tr>\n",
       "    <tr>\n",
       "      <th>50%</th>\n",
       "      <td>NaN</td>\n",
       "      <td>2.000000e+00</td>\n",
       "      <td>NaN</td>\n",
       "      <td>NaN</td>\n",
       "      <td>1.000000e+00</td>\n",
       "      <td>-7.398174e+01</td>\n",
       "      <td>4.075410e+01</td>\n",
       "      <td>-7.397975e+01</td>\n",
       "      <td>4.075452e+01</td>\n",
       "      <td>NaN</td>\n",
       "      <td>6.620000e+02</td>\n",
       "      <td>NaN</td>\n",
       "      <td>NaN</td>\n",
       "      <td>NaN</td>\n",
       "    </tr>\n",
       "    <tr>\n",
       "      <th>75%</th>\n",
       "      <td>NaN</td>\n",
       "      <td>2.000000e+00</td>\n",
       "      <td>NaN</td>\n",
       "      <td>NaN</td>\n",
       "      <td>2.000000e+00</td>\n",
       "      <td>-7.396733e+01</td>\n",
       "      <td>4.076836e+01</td>\n",
       "      <td>-7.396301e+01</td>\n",
       "      <td>4.076981e+01</td>\n",
       "      <td>NaN</td>\n",
       "      <td>1.075000e+03</td>\n",
       "      <td>NaN</td>\n",
       "      <td>NaN</td>\n",
       "      <td>NaN</td>\n",
       "    </tr>\n",
       "    <tr>\n",
       "      <th>max</th>\n",
       "      <td>NaN</td>\n",
       "      <td>2.000000e+00</td>\n",
       "      <td>NaN</td>\n",
       "      <td>NaN</td>\n",
       "      <td>9.000000e+00</td>\n",
       "      <td>-6.133553e+01</td>\n",
       "      <td>5.188108e+01</td>\n",
       "      <td>-6.133553e+01</td>\n",
       "      <td>4.392103e+01</td>\n",
       "      <td>NaN</td>\n",
       "      <td>3.526282e+06</td>\n",
       "      <td>NaN</td>\n",
       "      <td>NaN</td>\n",
       "      <td>NaN</td>\n",
       "    </tr>\n",
       "  </tbody>\n",
       "</table>\n",
       "</div>"
      ],
      "text/plain": [
       "               id     vendor_id      pickup_datetime     dropoff_datetime  \\\n",
       "count     1458644  1.458644e+06              1458644              1458644   \n",
       "unique    1458644           NaN              1380222              1380377   \n",
       "top     id3370968           NaN  2016-05-07 13:18:07  2016-05-16 19:40:28   \n",
       "freq            1           NaN                    5                    5   \n",
       "first         NaN           NaN                  NaN                  NaN   \n",
       "last          NaN           NaN                  NaN                  NaN   \n",
       "mean          NaN  1.534950e+00                  NaN                  NaN   \n",
       "std           NaN  4.987772e-01                  NaN                  NaN   \n",
       "min           NaN  1.000000e+00                  NaN                  NaN   \n",
       "25%           NaN  1.000000e+00                  NaN                  NaN   \n",
       "50%           NaN  2.000000e+00                  NaN                  NaN   \n",
       "75%           NaN  2.000000e+00                  NaN                  NaN   \n",
       "max           NaN  2.000000e+00                  NaN                  NaN   \n",
       "\n",
       "        passenger_count  pickup_longitude  pickup_latitude  dropoff_longitude  \\\n",
       "count      1.458644e+06      1.458644e+06     1.458644e+06       1.458644e+06   \n",
       "unique              NaN               NaN              NaN                NaN   \n",
       "top                 NaN               NaN              NaN                NaN   \n",
       "freq                NaN               NaN              NaN                NaN   \n",
       "first               NaN               NaN              NaN                NaN   \n",
       "last                NaN               NaN              NaN                NaN   \n",
       "mean       1.664530e+00     -7.397349e+01     4.075092e+01      -7.397342e+01   \n",
       "std        1.314242e+00      7.090186e-02     3.288119e-02       7.064327e-02   \n",
       "min        0.000000e+00     -1.219333e+02     3.435970e+01      -1.219333e+02   \n",
       "25%        1.000000e+00     -7.399187e+01     4.073735e+01      -7.399133e+01   \n",
       "50%        1.000000e+00     -7.398174e+01     4.075410e+01      -7.397975e+01   \n",
       "75%        2.000000e+00     -7.396733e+01     4.076836e+01      -7.396301e+01   \n",
       "max        9.000000e+00     -6.133553e+01     5.188108e+01      -6.133553e+01   \n",
       "\n",
       "        dropoff_latitude store_and_fwd_flag  trip_duration  \\\n",
       "count       1.458644e+06            1458644   1.458644e+06   \n",
       "unique               NaN                  2            NaN   \n",
       "top                  NaN                  N            NaN   \n",
       "freq                 NaN            1450599            NaN   \n",
       "first                NaN                NaN            NaN   \n",
       "last                 NaN                NaN            NaN   \n",
       "mean        4.075180e+01                NaN   9.594923e+02   \n",
       "std         3.589056e-02                NaN   5.237432e+03   \n",
       "min         3.218114e+01                NaN   1.000000e+00   \n",
       "25%         4.073588e+01                NaN   3.970000e+02   \n",
       "50%         4.075452e+01                NaN   6.620000e+02   \n",
       "75%         4.076981e+01                NaN   1.075000e+03   \n",
       "max         4.392103e+01                NaN   3.526282e+06   \n",
       "\n",
       "                       date      time     hour  \n",
       "count               1458644   1458644  1458644  \n",
       "unique                  182     86259       24  \n",
       "top     2016-04-09 00:00:00  18:57:27       18  \n",
       "freq                   9796        47    90600  \n",
       "first   2016-01-01 00:00:00       NaN      NaN  \n",
       "last    2016-06-30 00:00:00       NaN      NaN  \n",
       "mean                    NaN       NaN      NaN  \n",
       "std                     NaN       NaN      NaN  \n",
       "min                     NaN       NaN      NaN  \n",
       "25%                     NaN       NaN      NaN  \n",
       "50%                     NaN       NaN      NaN  \n",
       "75%                     NaN       NaN      NaN  \n",
       "max                     NaN       NaN      NaN  "
      ]
     },
     "execution_count": 54,
     "metadata": {},
     "output_type": "execute_result"
    }
   ],
   "source": [
    "taxi.describe(include='all')"
   ]
  },
  {
   "cell_type": "code",
   "execution_count": 35,
   "metadata": {},
   "outputs": [],
   "source": [
    "#BasiC EDA \n",
    "from pandas_profiling import ProfileReport\n",
    "#prof = ProfileReport(weather)\n",
    "#prof.to_file(output_file='outputweather.html')"
   ]
  },
  {
   "cell_type": "code",
   "execution_count": null,
   "metadata": {},
   "outputs": [],
   "source": []
  }
 ],
 "metadata": {
  "kernelspec": {
   "display_name": "Python 3",
   "language": "python",
   "name": "python3"
  },
  "language_info": {
   "codemirror_mode": {
    "name": "ipython",
    "version": 3
   },
   "file_extension": ".py",
   "mimetype": "text/x-python",
   "name": "python",
   "nbconvert_exporter": "python",
   "pygments_lexer": "ipython3",
   "version": "3.7.6"
  }
 },
 "nbformat": 4,
 "nbformat_minor": 4
}
