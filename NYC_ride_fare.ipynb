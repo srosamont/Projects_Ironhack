{
  "nbformat": 4,
  "nbformat_minor": 0,
  "metadata": {
    "colab": {
      "name": "NYC_ride_fare.ipynb",
      "provenance": [],
      "collapsed_sections": [],
      "authorship_tag": "ABX9TyOupEsWRjC8U1LzhQ4040mH",
      "include_colab_link": true
    },
    "kernelspec": {
      "name": "python3",
      "display_name": "Python 3"
    }
  },
  "cells": [
    {
      "cell_type": "markdown",
      "metadata": {
        "id": "view-in-github",
        "colab_type": "text"
      },
      "source": [
        "<a href=\"https://colab.research.google.com/github/srosamont/Projects_Ironhack/blob/master/NYC_ride_fare.ipynb\" target=\"_parent\"><img src=\"https://colab.research.google.com/assets/colab-badge.svg\" alt=\"Open In Colab\"/></a>"
      ]
    },
    {
      "cell_type": "code",
      "metadata": {
        "id": "-CAKLr1tc9r0",
        "colab_type": "code",
        "colab": {
          "base_uri": "https://localhost:8080/",
          "height": 71
        },
        "outputId": "e58e9c82-595e-4af1-8b05-b9ed05df6cf1"
      },
      "source": [
        "#Libraries\n",
        "\n",
        "import pandas as pd\n",
        "import numpy as np\n",
        "import seaborn as sns\n",
        "import matplotlib.pyplot as plt\n",
        "%matplotlib inline\n",
        "sns.set_style('dark')\n"
      ],
      "execution_count": 4,
      "outputs": [
        {
          "output_type": "stream",
          "text": [
            "/usr/local/lib/python3.6/dist-packages/statsmodels/tools/_testing.py:19: FutureWarning: pandas.util.testing is deprecated. Use the functions in the public API at pandas.testing instead.\n",
            "  import pandas.util.testing as tm\n"
          ],
          "name": "stderr"
        }
      ]
    },
    {
      "cell_type": "code",
      "metadata": {
        "id": "s-7RcYd7dVDL",
        "colab_type": "code",
        "colab": {
          "base_uri": "https://localhost:8080/",
          "height": 34
        },
        "outputId": "94bcf176-efac-4d3f-b78e-d983ebb45e3e"
      },
      "source": [
        "%tensorflow_version 2.x\n",
        "import tensorflow as tf\n",
        "device_name = tf.test.gpu_device_name()\n",
        "if device_name != '/device:GPU:0':\n",
        "  raise SystemError('GPU device not found')\n",
        "print('Found GPU at: {}'.format(device_name))"
      ],
      "execution_count": 4,
      "outputs": [
        {
          "output_type": "stream",
          "text": [
            "Found GPU at: /device:GPU:0\n"
          ],
          "name": "stdout"
        }
      ]
    },
    {
      "cell_type": "code",
      "metadata": {
        "id": "Oil1LMCNeuKi",
        "colab_type": "code",
        "colab": {
          "base_uri": "https://localhost:8080/",
          "height": 122
        },
        "outputId": "696a9792-369b-4ae8-a6a0-4a985f4c0287"
      },
      "source": [
        "# Lire fichier\n",
        "from google.colab import drive\n",
        "drive.mount('/content/drive')"
      ],
      "execution_count": 1,
      "outputs": [
        {
          "output_type": "stream",
          "text": [
            "Go to this URL in a browser: https://accounts.google.com/o/oauth2/auth?client_id=947318989803-6bn6qk8qdgf4n4g3pfee6491hc0brc4i.apps.googleusercontent.com&redirect_uri=urn%3aietf%3awg%3aoauth%3a2.0%3aoob&response_type=code&scope=email%20https%3a%2f%2fwww.googleapis.com%2fauth%2fdocs.test%20https%3a%2f%2fwww.googleapis.com%2fauth%2fdrive%20https%3a%2f%2fwww.googleapis.com%2fauth%2fdrive.photos.readonly%20https%3a%2f%2fwww.googleapis.com%2fauth%2fpeopleapi.readonly\n",
            "\n",
            "Enter your authorization code:\n",
            "··········\n",
            "Mounted at /content/drive\n"
          ],
          "name": "stdout"
        }
      ]
    },
    {
      "cell_type": "code",
      "metadata": {
        "id": "vhVPO6FjeuQn",
        "colab_type": "code",
        "colab": {}
      },
      "source": [
        "path=\"/content/drive/My Drive/Data/train_2014.csv\""
      ],
      "execution_count": 2,
      "outputs": []
    },
    {
      "cell_type": "code",
      "metadata": {
        "id": "VG433IuDeAKN",
        "colab_type": "code",
        "colab": {
          "base_uri": "https://localhost:8080/",
          "height": 51
        },
        "outputId": "b1aa9d50-712a-4711-88a9-157d1b840d62"
      },
      "source": [
        "%%time\n",
        "\n",
        "df_2014=pd.read_csv(path)\n"
      ],
      "execution_count": 6,
      "outputs": [
        {
          "output_type": "stream",
          "text": [
            "CPU times: user 14.1 s, sys: 1.79 s, total: 15.9 s\n",
            "Wall time: 16.8 s\n"
          ],
          "name": "stdout"
        }
      ]
    },
    {
      "cell_type": "code",
      "metadata": {
        "id": "hJTcuvpiK1bT",
        "colab_type": "code",
        "colab": {
          "base_uri": "https://localhost:8080/",
          "height": 51
        },
        "outputId": "da8260b1-f9ae-4821-b817-4abef8d827b4"
      },
      "source": [
        "%%time\n",
        "path2=\"/content/drive/My Drive/Data/train_2013.csv\"\n",
        "df_2013=pd.read_csv(path2)"
      ],
      "execution_count": 7,
      "outputs": [
        {
          "output_type": "stream",
          "text": [
            "CPU times: user 15.2 s, sys: 2.45 s, total: 17.7 s\n",
            "Wall time: 22.1 s\n"
          ],
          "name": "stdout"
        }
      ]
    },
    {
      "cell_type": "code",
      "metadata": {
        "id": "7_1-kUthK1rU",
        "colab_type": "code",
        "colab": {}
      },
      "source": [
        ""
      ],
      "execution_count": null,
      "outputs": []
    },
    {
      "cell_type": "code",
      "metadata": {
        "id": "7LJu6aPeeAVZ",
        "colab_type": "code",
        "colab": {}
      },
      "source": [
        "import pickle\n",
        "filename = 'fichier2014lu.sav'\n",
        "pickle.dump(df_2014, open(filename, 'wb'))\n",
        "filename2 = 'fichier2014lu.sav'\n",
        "pickle.dump(df_2013, open(filename2, 'wb'))"
      ],
      "execution_count": 8,
      "outputs": []
    },
    {
      "cell_type": "code",
      "metadata": {
        "id": "vrncHYvULyub",
        "colab_type": "code",
        "colab": {
          "base_uri": "https://localhost:8080/",
          "height": 34
        },
        "outputId": "05b4455f-397a-4ac7-be0f-3b1140d053dc"
      },
      "source": [
        "df_2014.shape,df_2013.shape\n"
      ],
      "execution_count": 11,
      "outputs": [
        {
          "output_type": "execute_result",
          "data": {
            "text/plain": [
              "((8252682, 8), (8655190, 8))"
            ]
          },
          "metadata": {
            "tags": []
          },
          "execution_count": 11
        }
      ]
    },
    {
      "cell_type": "code",
      "metadata": {
        "id": "uDU2E5f6Ly2k",
        "colab_type": "code",
        "colab": {
          "base_uri": "https://localhost:8080/",
          "height": 272
        },
        "outputId": "62afeda5-838f-4fbd-a878-4bc65e9b2519"
      },
      "source": [
        "df_2014.info()"
      ],
      "execution_count": 13,
      "outputs": [
        {
          "output_type": "stream",
          "text": [
            "<class 'pandas.core.frame.DataFrame'>\n",
            "RangeIndex: 8252682 entries, 0 to 8252681\n",
            "Data columns (total 8 columns):\n",
            " #   Column             Dtype  \n",
            "---  ------             -----  \n",
            " 0   key                object \n",
            " 1   fare_amount        float64\n",
            " 2   pickup_datetime    object \n",
            " 3   pickup_longitude   float64\n",
            " 4   pickup_latitude    float64\n",
            " 5   dropoff_longitude  float64\n",
            " 6   dropoff_latitude   float64\n",
            " 7   passenger_count    int64  \n",
            "dtypes: float64(5), int64(1), object(2)\n",
            "memory usage: 503.7+ MB\n"
          ],
          "name": "stdout"
        }
      ]
    },
    {
      "cell_type": "code",
      "metadata": {
        "id": "POzwp6d0NQiH",
        "colab_type": "code",
        "colab": {
          "base_uri": "https://localhost:8080/",
          "height": 170
        },
        "outputId": "b83132d4-dbb1-4e78-dc74-3e8b28f15908"
      },
      "source": [
        "df_2014.isnull().sum()"
      ],
      "execution_count": 19,
      "outputs": [
        {
          "output_type": "execute_result",
          "data": {
            "text/plain": [
              "key                  0\n",
              "fare_amount          0\n",
              "pickup_datetime      0\n",
              "pickup_longitude     0\n",
              "pickup_latitude      0\n",
              "dropoff_longitude    4\n",
              "dropoff_latitude     4\n",
              "passenger_count      0\n",
              "dtype: int64"
            ]
          },
          "metadata": {
            "tags": []
          },
          "execution_count": 19
        }
      ]
    },
    {
      "cell_type": "code",
      "metadata": {
        "id": "FaO3KzlfLzB9",
        "colab_type": "code",
        "colab": {}
      },
      "source": [
        "#deleting 163 rows with missing values in dropoff columns.\n",
        "df_2013.dropna(axis=0,inplace=True)"
      ],
      "execution_count": 17,
      "outputs": []
    },
    {
      "cell_type": "code",
      "metadata": {
        "id": "lmFNlv5qLy-t",
        "colab_type": "code",
        "colab": {
          "base_uri": "https://localhost:8080/",
          "height": 170
        },
        "outputId": "29d23cb1-112e-4a7f-bcbf-342a43f6281b"
      },
      "source": [
        ""
      ],
      "execution_count": 18,
      "outputs": [
        {
          "output_type": "execute_result",
          "data": {
            "text/plain": [
              "key                  0\n",
              "fare_amount          0\n",
              "pickup_datetime      0\n",
              "pickup_longitude     0\n",
              "pickup_latitude      0\n",
              "dropoff_longitude    0\n",
              "dropoff_latitude     0\n",
              "passenger_count      0\n",
              "dtype: int64"
            ]
          },
          "metadata": {
            "tags": []
          },
          "execution_count": 18
        }
      ]
    },
    {
      "cell_type": "code",
      "metadata": {
        "id": "YmhCBbWaLy88",
        "colab_type": "code",
        "colab": {
          "base_uri": "https://localhost:8080/",
          "height": 119
        },
        "outputId": "90b666e4-06b8-465e-dec2-8f00f1e3b6b7"
      },
      "source": [
        "df_2014.pickup_datetime.unique(),df_2013.pickup_datetime.unique()"
      ],
      "execution_count": 21,
      "outputs": [
        {
          "output_type": "execute_result",
          "data": {
            "text/plain": [
              "(array(['2014-02-19 07:22:00 UTC', '2014-12-06 20:36:22 UTC',\n",
              "        '2014-02-19 16:03:00 UTC', ..., '2014-07-31 09:06:06 UTC',\n",
              "        '2014-05-02 07:36:20 UTC', '2014-03-04 22:25:01 UTC'], dtype=object),\n",
              " array(['2013-07-02 19:54:00 UTC', '2013-11-23 12:57:00 UTC',\n",
              "        '2013-02-12 12:15:46 UTC', ..., '2013-02-20 08:25:20 UTC',\n",
              "        '2013-01-31 17:51:31 UTC', '2013-07-25 15:51:16 UTC'], dtype=object))"
            ]
          },
          "metadata": {
            "tags": []
          },
          "execution_count": 21
        }
      ]
    },
    {
      "cell_type": "code",
      "metadata": {
        "id": "Iu6emk_hN8bf",
        "colab_type": "code",
        "colab": {}
      },
      "source": [
        "df_2014['date']=pd.to_datetime(df_2014['pickup_datetime'])"
      ],
      "execution_count": 22,
      "outputs": []
    },
    {
      "cell_type": "code",
      "metadata": {
        "id": "SKBCp7h5N8h1",
        "colab_type": "code",
        "colab": {
          "base_uri": "https://localhost:8080/",
          "height": 51
        },
        "outputId": "e62dd6f6-81d4-4fca-d85a-fb1be01cebbd"
      },
      "source": [
        "%%time\n",
        "df_2013['date']=pd.to_datetime(df_2013['pickup_datetime'])"
      ],
      "execution_count": 24,
      "outputs": [
        {
          "output_type": "stream",
          "text": [
            "CPU times: user 16min 35s, sys: 249 ms, total: 16min 35s\n",
            "Wall time: 16min 36s\n"
          ],
          "name": "stdout"
        }
      ]
    },
    {
      "cell_type": "code",
      "metadata": {
        "id": "jvzir61HN8ll",
        "colab_type": "code",
        "colab": {
          "base_uri": "https://localhost:8080/",
          "height": 51
        },
        "outputId": "0358b3e0-b7bc-4305-d608-8ae0aef3ac7c"
      },
      "source": [
        "%%time\n",
        "# Month of year\n",
        "df_2014['month'] = df_2014['date'].dt.month_name()\n",
        "# Week of year\n",
        "df_2014['week_nb'] = df_2014['date'].dt.week\n",
        "# Day of week\n",
        "df_2014['weekday'] = df_2014['date'].dt.day_name()\n",
        "# Day of year (quantieme)\n",
        "df_2014['day_nb'] = df_2014['date'].dt.dayofyear\n",
        "# Hour of the day \n",
        "df_2014['hour'] = df_2014['date'].dt.hour\n",
        "# Day of the month\n",
        "df_2014['Month_day'] = df_2014['date'].dt.day"
      ],
      "execution_count": 25,
      "outputs": [
        {
          "output_type": "stream",
          "text": [
            "CPU times: user 8.27 s, sys: 1.34 s, total: 9.61 s\n",
            "Wall time: 9.61 s\n"
          ],
          "name": "stdout"
        }
      ]
    },
    {
      "cell_type": "code",
      "metadata": {
        "id": "wL5ZvOcEN8o2",
        "colab_type": "code",
        "colab": {
          "base_uri": "https://localhost:8080/",
          "height": 34
        },
        "outputId": "320b9951-b05a-42a3-a232-05728e5ff4eb"
      },
      "source": [
        "df_2014['week_nb'].unique().size"
      ],
      "execution_count": 29,
      "outputs": [
        {
          "output_type": "execute_result",
          "data": {
            "text/plain": [
              "52"
            ]
          },
          "metadata": {
            "tags": []
          },
          "execution_count": 29
        }
      ]
    },
    {
      "cell_type": "code",
      "metadata": {
        "id": "KNrCcu3TN8sr",
        "colab_type": "code",
        "colab": {
          "base_uri": "https://localhost:8080/",
          "height": 51
        },
        "outputId": "697e38f2-c5cf-446a-8e75-b568bb3512a9"
      },
      "source": [
        "df_2014['weekday'].unique()"
      ],
      "execution_count": 27,
      "outputs": [
        {
          "output_type": "execute_result",
          "data": {
            "text/plain": [
              "array(['Wednesday', 'Saturday', 'Thursday', 'Friday', 'Tuesday', 'Monday',\n",
              "       'Sunday'], dtype=object)"
            ]
          },
          "metadata": {
            "tags": []
          },
          "execution_count": 27
        }
      ]
    },
    {
      "cell_type": "code",
      "metadata": {
        "id": "atqjT3dwk9GX",
        "colab_type": "code",
        "colab": {
          "base_uri": "https://localhost:8080/",
          "height": 68
        },
        "outputId": "73f18b33-c81b-4bfb-d9ca-d4e2b9b2536c"
      },
      "source": [
        "df_2014['month'].unique()"
      ],
      "execution_count": 30,
      "outputs": [
        {
          "output_type": "execute_result",
          "data": {
            "text/plain": [
              "array(['February', 'December', 'July', 'May', 'January', 'April', 'June',\n",
              "       'March', 'October', 'November', 'September', 'August'],\n",
              "      dtype=object)"
            ]
          },
          "metadata": {
            "tags": []
          },
          "execution_count": 30
        }
      ]
    },
    {
      "cell_type": "code",
      "metadata": {
        "id": "fGZH_mBik9NA",
        "colab_type": "code",
        "colab": {
          "base_uri": "https://localhost:8080/",
          "height": 34
        },
        "outputId": "c71ebe29-475d-4ee9-fb8f-2bf1ae942c57"
      },
      "source": [
        "df_2014['day_nb'].unique().size"
      ],
      "execution_count": 31,
      "outputs": [
        {
          "output_type": "execute_result",
          "data": {
            "text/plain": [
              "365"
            ]
          },
          "metadata": {
            "tags": []
          },
          "execution_count": 31
        }
      ]
    },
    {
      "cell_type": "code",
      "metadata": {
        "id": "wl9htfiSk9T4",
        "colab_type": "code",
        "colab": {
          "base_uri": "https://localhost:8080/",
          "height": 51
        },
        "outputId": "bac097b7-5be5-4309-afc5-b7657542d6c8"
      },
      "source": [
        "%%time\n",
        "# Month of year\n",
        "df_2013['month'] = df_2013['date'].dt.month_name()\n",
        "# Week of year\n",
        "df_2013['week_nb'] = df_2013['date'].dt.week\n",
        "# Day of week\n",
        "df_2013['weekday'] = df_2013['date'].dt.day_name()\n",
        "# Day of year (quantieme)\n",
        "df_2013['day_nb'] = df_2013['date'].dt.dayofyear\n",
        "# Hour of the day \n",
        "df_2013['hour'] = df_2013['date'].dt.hour\n",
        "# Day of the month\n",
        "df_2013['Month_day'] = df_2013['date'].dt.day"
      ],
      "execution_count": 33,
      "outputs": [
        {
          "output_type": "stream",
          "text": [
            "CPU times: user 8.79 s, sys: 1.41 s, total: 10.2 s\n",
            "Wall time: 10.2 s\n"
          ],
          "name": "stdout"
        }
      ]
    },
    {
      "cell_type": "code",
      "metadata": {
        "id": "EFlqzA_Ek9RE",
        "colab_type": "code",
        "colab": {}
      },
      "source": [
        "df_2014.drop_duplicates(inplace=True)"
      ],
      "execution_count": 34,
      "outputs": []
    },
    {
      "cell_type": "code",
      "metadata": {
        "id": "cDTd7S9Xk9DO",
        "colab_type": "code",
        "colab": {}
      },
      "source": [
        "df_2013.drop_duplicates(inplace=True)"
      ],
      "execution_count": 35,
      "outputs": []
    },
    {
      "cell_type": "code",
      "metadata": {
        "id": "k3y8-Lc-mXSn",
        "colab_type": "code",
        "colab": {
          "base_uri": "https://localhost:8080/",
          "height": 221
        },
        "outputId": "b0ad3b27-cdbb-4a4c-f693-495dad087628"
      },
      "source": [
        "df_2014.passenger_count.value_counts()"
      ],
      "execution_count": 36,
      "outputs": [
        {
          "output_type": "execute_result",
          "data": {
            "text/plain": [
              "1      5811784\n",
              "2      1153689\n",
              "5       463716\n",
              "3       348193\n",
              "6       306037\n",
              "4       168920\n",
              "0          321\n",
              "9            9\n",
              "7            6\n",
              "8            4\n",
              "208          3\n",
              "Name: passenger_count, dtype: int64"
            ]
          },
          "metadata": {
            "tags": []
          },
          "execution_count": 36
        }
      ]
    },
    {
      "cell_type": "code",
      "metadata": {
        "id": "328XzP7emXZv",
        "colab_type": "code",
        "colab": {
          "base_uri": "https://localhost:8080/",
          "height": 213
        },
        "outputId": "ec127142-64fe-4b89-c4ac-6c6cca31ff03"
      },
      "source": [
        "df_2014df_2014[df_2014.passenger_count!=208]"
      ],
      "execution_count": 37,
      "outputs": [
        {
          "output_type": "execute_result",
          "data": {
            "text/html": [
              "<div>\n",
              "<style scoped>\n",
              "    .dataframe tbody tr th:only-of-type {\n",
              "        vertical-align: middle;\n",
              "    }\n",
              "\n",
              "    .dataframe tbody tr th {\n",
              "        vertical-align: top;\n",
              "    }\n",
              "\n",
              "    .dataframe thead th {\n",
              "        text-align: right;\n",
              "    }\n",
              "</style>\n",
              "<table border=\"1\" class=\"dataframe\">\n",
              "  <thead>\n",
              "    <tr style=\"text-align: right;\">\n",
              "      <th></th>\n",
              "      <th>key</th>\n",
              "      <th>fare_amount</th>\n",
              "      <th>pickup_datetime</th>\n",
              "      <th>pickup_longitude</th>\n",
              "      <th>pickup_latitude</th>\n",
              "      <th>dropoff_longitude</th>\n",
              "      <th>dropoff_latitude</th>\n",
              "      <th>passenger_count</th>\n",
              "      <th>date</th>\n",
              "      <th>month</th>\n",
              "      <th>week_nb</th>\n",
              "      <th>weekday</th>\n",
              "      <th>day_nb</th>\n",
              "      <th>hour</th>\n",
              "      <th>Month_day</th>\n",
              "    </tr>\n",
              "  </thead>\n",
              "  <tbody>\n",
              "    <tr>\n",
              "      <th>1895046</th>\n",
              "      <td>2014-01-07 08:49:00.00000027</td>\n",
              "      <td>18.7</td>\n",
              "      <td>2014-01-07 08:49:00 UTC</td>\n",
              "      <td>0.0</td>\n",
              "      <td>0.0</td>\n",
              "      <td>0.0</td>\n",
              "      <td>0.0</td>\n",
              "      <td>208</td>\n",
              "      <td>2014-01-07 08:49:00+00:00</td>\n",
              "      <td>January</td>\n",
              "      <td>2</td>\n",
              "      <td>Tuesday</td>\n",
              "      <td>7</td>\n",
              "      <td>8</td>\n",
              "      <td>7</td>\n",
              "    </tr>\n",
              "    <tr>\n",
              "      <th>5658499</th>\n",
              "      <td>2014-01-27 08:17:00.00000069</td>\n",
              "      <td>3.9</td>\n",
              "      <td>2014-01-27 08:17:00 UTC</td>\n",
              "      <td>0.0</td>\n",
              "      <td>0.0</td>\n",
              "      <td>0.0</td>\n",
              "      <td>0.0</td>\n",
              "      <td>208</td>\n",
              "      <td>2014-01-27 08:17:00+00:00</td>\n",
              "      <td>January</td>\n",
              "      <td>5</td>\n",
              "      <td>Monday</td>\n",
              "      <td>27</td>\n",
              "      <td>8</td>\n",
              "      <td>27</td>\n",
              "    </tr>\n",
              "    <tr>\n",
              "      <th>6595413</th>\n",
              "      <td>2014-02-12 09:28:00.000000155</td>\n",
              "      <td>2.5</td>\n",
              "      <td>2014-02-12 09:28:00 UTC</td>\n",
              "      <td>0.0</td>\n",
              "      <td>0.0</td>\n",
              "      <td>0.0</td>\n",
              "      <td>0.0</td>\n",
              "      <td>208</td>\n",
              "      <td>2014-02-12 09:28:00+00:00</td>\n",
              "      <td>February</td>\n",
              "      <td>7</td>\n",
              "      <td>Wednesday</td>\n",
              "      <td>43</td>\n",
              "      <td>9</td>\n",
              "      <td>12</td>\n",
              "    </tr>\n",
              "  </tbody>\n",
              "</table>\n",
              "</div>"
            ],
            "text/plain": [
              "                                   key  fare_amount  ... hour  Month_day\n",
              "1895046   2014-01-07 08:49:00.00000027         18.7  ...    8          7\n",
              "5658499   2014-01-27 08:17:00.00000069          3.9  ...    8         27\n",
              "6595413  2014-02-12 09:28:00.000000155          2.5  ...    9         12\n",
              "\n",
              "[3 rows x 15 columns]"
            ]
          },
          "metadata": {
            "tags": []
          },
          "execution_count": 37
        }
      ]
    },
    {
      "cell_type": "code",
      "metadata": {
        "id": "Zlcb3iEImXge",
        "colab_type": "code",
        "colab": {}
      },
      "source": [
        ""
      ],
      "execution_count": null,
      "outputs": []
    },
    {
      "cell_type": "code",
      "metadata": {
        "id": "zPOOlNGemXdy",
        "colab_type": "code",
        "colab": {}
      },
      "source": [
        ""
      ],
      "execution_count": null,
      "outputs": []
    },
    {
      "cell_type": "markdown",
      "metadata": {
        "id": "keDYQhOfvpRS",
        "colab_type": "text"
      },
      "source": [
        "# Nouvelle section"
      ]
    },
    {
      "cell_type": "markdown",
      "metadata": {
        "id": "SMPatFIZvrkB",
        "colab_type": "text"
      },
      "source": [
        ""
      ]
    },
    {
      "cell_type": "code",
      "metadata": {
        "id": "lgWdQ-TleAZ-",
        "colab_type": "code",
        "colab": {}
      },
      "source": [
        ""
      ],
      "execution_count": null,
      "outputs": []
    },
    {
      "cell_type": "code",
      "metadata": {
        "id": "Ec-csWgVeAd6",
        "colab_type": "code",
        "colab": {}
      },
      "source": [
        ""
      ],
      "execution_count": null,
      "outputs": []
    }
  ]
}