{
  "nbformat": 4,
  "nbformat_minor": 0,
  "metadata": {
    "colab": {
      "name": "NYC_ride_fare.ipynb",
      "provenance": [],
      "collapsed_sections": [],
      "authorship_tag": "ABX9TyMx9hOWClJQqmt/8YWb0ScA",
      "include_colab_link": true
    },
    "kernelspec": {
      "name": "python3",
      "display_name": "Python 3"
    }
  },
  "cells": [
    {
      "cell_type": "markdown",
      "metadata": {
        "id": "view-in-github",
        "colab_type": "text"
      },
      "source": [
        "<a href=\"https://colab.research.google.com/github/srosamont/Projects_Ironhack/blob/master/NYC_ride_fare.ipynb\" target=\"_parent\"><img src=\"https://colab.research.google.com/assets/colab-badge.svg\" alt=\"Open In Colab\"/></a>"
      ]
    },
    {
      "cell_type": "code",
      "metadata": {
        "id": "-CAKLr1tc9r0",
        "colab_type": "code",
        "colab": {}
      },
      "source": [
        "#Libraries\n",
        "\n",
        "import pandas as pd\n",
        "import numpy as np\n",
        "import seaborn as sns\n",
        "import matplotlib.pyplot as plt\n",
        "%matplotlib inline\n",
        "sns.set_style('dark')\n"
      ],
      "execution_count": 11,
      "outputs": []
    },
    {
      "cell_type": "code",
      "metadata": {
        "id": "s-7RcYd7dVDL",
        "colab_type": "code",
        "colab": {
          "base_uri": "https://localhost:8080/",
          "height": 215
        },
        "outputId": "583bbd9d-dc44-4e53-b439-9c7b6c74d32f"
      },
      "source": [
        "%tensorflow_version 2.x\n",
        "import tensorflow as tf\n",
        "device_name = tf.test.gpu_device_name()\n",
        "if device_name != '/device:GPU:0':\n",
        "  raise SystemError('GPU device not found')\n",
        "print('Found GPU at: {}'.format(device_name))"
      ],
      "execution_count": 2,
      "outputs": [
        {
          "output_type": "error",
          "ename": "SystemError",
          "evalue": "ignored",
          "traceback": [
            "\u001b[0;31m---------------------------------------------------------------------------\u001b[0m",
            "\u001b[0;31mSystemError\u001b[0m                               Traceback (most recent call last)",
            "\u001b[0;32m<ipython-input-2-d1d5f2f639c4>\u001b[0m in \u001b[0;36m<module>\u001b[0;34m()\u001b[0m\n\u001b[1;32m      3\u001b[0m \u001b[0mdevice_name\u001b[0m \u001b[0;34m=\u001b[0m \u001b[0mtf\u001b[0m\u001b[0;34m.\u001b[0m\u001b[0mtest\u001b[0m\u001b[0;34m.\u001b[0m\u001b[0mgpu_device_name\u001b[0m\u001b[0;34m(\u001b[0m\u001b[0;34m)\u001b[0m\u001b[0;34m\u001b[0m\u001b[0;34m\u001b[0m\u001b[0m\n\u001b[1;32m      4\u001b[0m \u001b[0;32mif\u001b[0m \u001b[0mdevice_name\u001b[0m \u001b[0;34m!=\u001b[0m \u001b[0;34m'/device:GPU:0'\u001b[0m\u001b[0;34m:\u001b[0m\u001b[0;34m\u001b[0m\u001b[0;34m\u001b[0m\u001b[0m\n\u001b[0;32m----> 5\u001b[0;31m   \u001b[0;32mraise\u001b[0m \u001b[0mSystemError\u001b[0m\u001b[0;34m(\u001b[0m\u001b[0;34m'GPU device not found'\u001b[0m\u001b[0;34m)\u001b[0m\u001b[0;34m\u001b[0m\u001b[0;34m\u001b[0m\u001b[0m\n\u001b[0m\u001b[1;32m      6\u001b[0m \u001b[0mprint\u001b[0m\u001b[0;34m(\u001b[0m\u001b[0;34m'Found GPU at: {}'\u001b[0m\u001b[0;34m.\u001b[0m\u001b[0mformat\u001b[0m\u001b[0;34m(\u001b[0m\u001b[0mdevice_name\u001b[0m\u001b[0;34m)\u001b[0m\u001b[0;34m)\u001b[0m\u001b[0;34m\u001b[0m\u001b[0;34m\u001b[0m\u001b[0m\n",
            "\u001b[0;31mSystemError\u001b[0m: GPU device not found"
          ]
        }
      ]
    },
    {
      "cell_type": "code",
      "metadata": {
        "id": "Oil1LMCNeuKi",
        "colab_type": "code",
        "colab": {
          "base_uri": "https://localhost:8080/",
          "height": 34
        },
        "outputId": "e8356a5e-ecb7-4c4c-d97a-681c27a4ee41"
      },
      "source": [
        "# Lire fichier\n",
        "from google.colab import drive\n",
        "drive.mount('/content/drive')"
      ],
      "execution_count": 12,
      "outputs": [
        {
          "output_type": "stream",
          "text": [
            "Drive already mounted at /content/drive; to attempt to forcibly remount, call drive.mount(\"/content/drive\", force_remount=True).\n"
          ],
          "name": "stdout"
        }
      ]
    },
    {
      "cell_type": "code",
      "metadata": {
        "id": "vhVPO6FjeuQn",
        "colab_type": "code",
        "colab": {}
      },
      "source": [
        "path=\"/content/drive/My Drive/Data/train_2014.csv\""
      ],
      "execution_count": 13,
      "outputs": []
    },
    {
      "cell_type": "code",
      "metadata": {
        "id": "VG433IuDeAKN",
        "colab_type": "code",
        "colab": {
          "base_uri": "https://localhost:8080/",
          "height": 51
        },
        "outputId": "2661a4e7-321f-4ff4-8ee8-125f15a6f1c4"
      },
      "source": [
        "%%time\n",
        "\n",
        "df_2014=pd.read_csv(path)\n"
      ],
      "execution_count": 14,
      "outputs": [
        {
          "output_type": "stream",
          "text": [
            "CPU times: user 16.6 s, sys: 2.57 s, total: 19.2 s\n",
            "Wall time: 22.1 s\n"
          ],
          "name": "stdout"
        }
      ]
    },
    {
      "cell_type": "code",
      "metadata": {
        "id": "hJTcuvpiK1bT",
        "colab_type": "code",
        "colab": {
          "base_uri": "https://localhost:8080/",
          "height": 51
        },
        "outputId": "da8260b1-f9ae-4821-b817-4abef8d827b4"
      },
      "source": [
        "\n"
      ],
      "execution_count": 7,
      "outputs": [
        {
          "output_type": "stream",
          "text": [
            "CPU times: user 15.2 s, sys: 2.45 s, total: 17.7 s\n",
            "Wall time: 22.1 s\n"
          ],
          "name": "stdout"
        }
      ]
    },
    {
      "cell_type": "code",
      "metadata": {
        "id": "7_1-kUthK1rU",
        "colab_type": "code",
        "colab": {}
      },
      "source": [
        "\n"
      ],
      "execution_count": null,
      "outputs": []
    },
    {
      "cell_type": "code",
      "metadata": {
        "id": "7LJu6aPeeAVZ",
        "colab_type": "code",
        "colab": {
          "base_uri": "https://localhost:8080/",
          "height": 51
        },
        "outputId": "c9f7af2f-8c61-433f-ca9b-a55f2a0a1902"
      },
      "source": [
        "%%time\n",
        "import pickle\n",
        "filename = 'fichier2014lu.sav'\n",
        "pickle.dump(df_2014, open(filename, 'wb'))\n"
      ],
      "execution_count": 15,
      "outputs": [
        {
          "output_type": "stream",
          "text": [
            "CPU times: user 6.52 s, sys: 1.7 s, total: 8.22 s\n",
            "Wall time: 10 s\n"
          ],
          "name": "stdout"
        }
      ]
    },
    {
      "cell_type": "code",
      "metadata": {
        "id": "U4hIDi-ZpLwV",
        "colab_type": "code",
        "colab": {
          "base_uri": "https://localhost:8080/",
          "height": 198
        },
        "outputId": "ad02c095-3fe1-4397-c248-abe27b5fc37e"
      },
      "source": [
        "#Unpickle\n",
        "import pickle\n",
        "df_2014=pickle.load( open('fichier2014lu.sav', \"rb\" ) )\n"
      ],
      "execution_count": 3,
      "outputs": [
        {
          "output_type": "error",
          "ename": "EOFError",
          "evalue": "ignored",
          "traceback": [
            "\u001b[0;31m---------------------------------------------------------------------------\u001b[0m",
            "\u001b[0;31mEOFError\u001b[0m                                  Traceback (most recent call last)",
            "\u001b[0;32m<ipython-input-3-b6731eb4c626>\u001b[0m in \u001b[0;36m<module>\u001b[0;34m()\u001b[0m\n\u001b[1;32m      1\u001b[0m \u001b[0;31m#Unpickle\u001b[0m\u001b[0;34m\u001b[0m\u001b[0;34m\u001b[0m\u001b[0;34m\u001b[0m\u001b[0m\n\u001b[1;32m      2\u001b[0m \u001b[0;32mimport\u001b[0m \u001b[0mpickle\u001b[0m\u001b[0;34m\u001b[0m\u001b[0;34m\u001b[0m\u001b[0m\n\u001b[0;32m----> 3\u001b[0;31m \u001b[0mdf_2014\u001b[0m\u001b[0;34m=\u001b[0m\u001b[0mpickle\u001b[0m\u001b[0;34m.\u001b[0m\u001b[0mload\u001b[0m\u001b[0;34m(\u001b[0m \u001b[0mopen\u001b[0m\u001b[0;34m(\u001b[0m\u001b[0;34m'fichier2014lu.sav'\u001b[0m\u001b[0;34m,\u001b[0m \u001b[0;34m\"rb\"\u001b[0m \u001b[0;34m)\u001b[0m \u001b[0;34m)\u001b[0m\u001b[0;34m\u001b[0m\u001b[0;34m\u001b[0m\u001b[0m\n\u001b[0m",
            "\u001b[0;31mEOFError\u001b[0m: Ran out of input"
          ]
        }
      ]
    },
    {
      "cell_type": "code",
      "metadata": {
        "id": "mIlcXtOSpL4g",
        "colab_type": "code",
        "colab": {}
      },
      "source": [
        ""
      ],
      "execution_count": null,
      "outputs": []
    },
    {
      "cell_type": "code",
      "metadata": {
        "id": "lYDLQaOSpL-u",
        "colab_type": "code",
        "colab": {}
      },
      "source": [
        ""
      ],
      "execution_count": null,
      "outputs": []
    },
    {
      "cell_type": "code",
      "metadata": {
        "id": "vrncHYvULyub",
        "colab_type": "code",
        "colab": {
          "base_uri": "https://localhost:8080/",
          "height": 34
        },
        "outputId": "33dad0d4-1cff-4d5c-f178-8c2fb1fabd93"
      },
      "source": [
        "df_2014.shape\n"
      ],
      "execution_count": 16,
      "outputs": [
        {
          "output_type": "execute_result",
          "data": {
            "text/plain": [
              "(8252682, 8)"
            ]
          },
          "metadata": {
            "tags": []
          },
          "execution_count": 16
        }
      ]
    },
    {
      "cell_type": "code",
      "metadata": {
        "id": "uDU2E5f6Ly2k",
        "colab_type": "code",
        "colab": {
          "base_uri": "https://localhost:8080/",
          "height": 272
        },
        "outputId": "e68d76b3-8360-4291-fc5f-8df09a60a452"
      },
      "source": [
        "df_2014.info()"
      ],
      "execution_count": 17,
      "outputs": [
        {
          "output_type": "stream",
          "text": [
            "<class 'pandas.core.frame.DataFrame'>\n",
            "RangeIndex: 8252682 entries, 0 to 8252681\n",
            "Data columns (total 8 columns):\n",
            " #   Column             Dtype  \n",
            "---  ------             -----  \n",
            " 0   key                object \n",
            " 1   fare_amount        float64\n",
            " 2   pickup_datetime    object \n",
            " 3   pickup_longitude   float64\n",
            " 4   pickup_latitude    float64\n",
            " 5   dropoff_longitude  float64\n",
            " 6   dropoff_latitude   float64\n",
            " 7   passenger_count    int64  \n",
            "dtypes: float64(5), int64(1), object(2)\n",
            "memory usage: 503.7+ MB\n"
          ],
          "name": "stdout"
        }
      ]
    },
    {
      "cell_type": "code",
      "metadata": {
        "id": "POzwp6d0NQiH",
        "colab_type": "code",
        "colab": {
          "base_uri": "https://localhost:8080/",
          "height": 170
        },
        "outputId": "ca3a70b8-e19a-46bb-f3ce-db75125374ab"
      },
      "source": [
        "df_2014.isnull().sum()"
      ],
      "execution_count": 18,
      "outputs": [
        {
          "output_type": "execute_result",
          "data": {
            "text/plain": [
              "key                  0\n",
              "fare_amount          0\n",
              "pickup_datetime      0\n",
              "pickup_longitude     0\n",
              "pickup_latitude      0\n",
              "dropoff_longitude    4\n",
              "dropoff_latitude     4\n",
              "passenger_count      0\n",
              "dtype: int64"
            ]
          },
          "metadata": {
            "tags": []
          },
          "execution_count": 18
        }
      ]
    },
    {
      "cell_type": "code",
      "metadata": {
        "id": "FaO3KzlfLzB9",
        "colab_type": "code",
        "colab": {}
      },
      "source": [
        "#deleting 4 rows with missing values in dropoff columns.\n",
        "df_2014.dropna(axis=0,inplace=True)"
      ],
      "execution_count": 19,
      "outputs": []
    },
    {
      "cell_type": "code",
      "metadata": {
        "id": "lmFNlv5qLy-t",
        "colab_type": "code",
        "colab": {}
      },
      "source": [
        "df_2014.drop_duplicates(inplace=True)"
      ],
      "execution_count": 20,
      "outputs": []
    },
    {
      "cell_type": "code",
      "metadata": {
        "id": "YmhCBbWaLy88",
        "colab_type": "code",
        "colab": {
          "base_uri": "https://localhost:8080/",
          "height": 68
        },
        "outputId": "59c086e0-a0f1-406a-eafd-9f0d4ee0d2b6"
      },
      "source": [
        "df_2014.pickup_datetime.unique() #df_2013.pickup_datetime.unique()"
      ],
      "execution_count": 21,
      "outputs": [
        {
          "output_type": "execute_result",
          "data": {
            "text/plain": [
              "array(['2014-02-19 07:22:00 UTC', '2014-12-06 20:36:22 UTC',\n",
              "       '2014-02-19 16:03:00 UTC', ..., '2014-07-31 09:06:06 UTC',\n",
              "       '2014-05-02 07:36:20 UTC', '2014-03-04 22:25:01 UTC'], dtype=object)"
            ]
          },
          "metadata": {
            "tags": []
          },
          "execution_count": 21
        }
      ]
    },
    {
      "cell_type": "code",
      "metadata": {
        "id": "Iu6emk_hN8bf",
        "colab_type": "code",
        "colab": {
          "base_uri": "https://localhost:8080/",
          "height": 51
        },
        "outputId": "ca88dd3d-046d-40ce-be9f-bcc0e5c1931f"
      },
      "source": [
        "%%time\n",
        "df_2014['date']=pd.to_datetime(df_2014['pickup_datetime'])"
      ],
      "execution_count": 22,
      "outputs": [
        {
          "output_type": "stream",
          "text": [
            "CPU times: user 16min 47s, sys: 154 ms, total: 16min 48s\n",
            "Wall time: 16min 48s\n"
          ],
          "name": "stdout"
        }
      ]
    },
    {
      "cell_type": "code",
      "metadata": {
        "id": "SKBCp7h5N8h1",
        "colab_type": "code",
        "colab": {}
      },
      "source": [
        "#Creer un fichier pickle pour sauver \n",
        "filename1 = 'fichier2014datetransformed.sav'\n",
        "pickle.dump(df_2014, open(filename1, 'wb'))"
      ],
      "execution_count": 23,
      "outputs": []
    },
    {
      "cell_type": "code",
      "metadata": {
        "id": "Sdfu8JdLvFni",
        "colab_type": "code",
        "colab": {}
      },
      "source": [
        "#Unpickle\n",
        "\n",
        "df_2014=pickle.load( open('fichier2014datetransformed.sav', \"rb\" ) )"
      ],
      "execution_count": 31,
      "outputs": []
    },
    {
      "cell_type": "code",
      "metadata": {
        "id": "jvzir61HN8ll",
        "colab_type": "code",
        "colab": {
          "base_uri": "https://localhost:8080/",
          "height": 51
        },
        "outputId": "09908fcd-d495-4dfc-d2ba-eafe9d38bc3f"
      },
      "source": [
        "%%time\n",
        "# Month of year\n",
        "df_2014['month'] = df_2014['date'].dt.month_name()\n",
        "# Week of year\n",
        "df_2014['week_nb'] = df_2014['date'].dt.week\n",
        "# Day of week\n",
        "df_2014['weekday'] = df_2014['date'].dt.day_name()\n",
        "# Day of year (quantieme)\n",
        "df_2014['day_nb'] = df_2014['date'].dt.dayofyear\n",
        "# Hour of the day \n",
        "df_2014['hour'] = df_2014['date'].dt.hour\n",
        "# Day of the month\n",
        "df_2014['Month_day'] = df_2014['date'].dt.day"
      ],
      "execution_count": 32,
      "outputs": [
        {
          "output_type": "stream",
          "text": [
            "CPU times: user 8.9 s, sys: 706 ms, total: 9.61 s\n",
            "Wall time: 9.61 s\n"
          ],
          "name": "stdout"
        }
      ]
    },
    {
      "cell_type": "code",
      "metadata": {
        "id": "wL5ZvOcEN8o2",
        "colab_type": "code",
        "colab": {
          "base_uri": "https://localhost:8080/",
          "height": 34
        },
        "outputId": "29f43e33-edd3-41ee-8703-bf047cb16e2f"
      },
      "source": [
        "df_2014['week_nb'].unique().size"
      ],
      "execution_count": 33,
      "outputs": [
        {
          "output_type": "execute_result",
          "data": {
            "text/plain": [
              "52"
            ]
          },
          "metadata": {
            "tags": []
          },
          "execution_count": 33
        }
      ]
    },
    {
      "cell_type": "code",
      "metadata": {
        "id": "KNrCcu3TN8sr",
        "colab_type": "code",
        "colab": {
          "base_uri": "https://localhost:8080/",
          "height": 51
        },
        "outputId": "a8e83b06-609c-43d3-dd4d-3de0a6f8bcf5"
      },
      "source": [
        "df_2014['weekday'].unique()"
      ],
      "execution_count": 34,
      "outputs": [
        {
          "output_type": "execute_result",
          "data": {
            "text/plain": [
              "array(['Wednesday', 'Saturday', 'Thursday', 'Friday', 'Tuesday', 'Monday',\n",
              "       'Sunday'], dtype=object)"
            ]
          },
          "metadata": {
            "tags": []
          },
          "execution_count": 34
        }
      ]
    },
    {
      "cell_type": "code",
      "metadata": {
        "id": "atqjT3dwk9GX",
        "colab_type": "code",
        "colab": {
          "base_uri": "https://localhost:8080/",
          "height": 68
        },
        "outputId": "46f6617d-795f-461c-cbcf-d3a8d42f104e"
      },
      "source": [
        "df_2014['month'].unique()"
      ],
      "execution_count": 35,
      "outputs": [
        {
          "output_type": "execute_result",
          "data": {
            "text/plain": [
              "array(['February', 'December', 'July', 'May', 'January', 'April', 'June',\n",
              "       'March', 'October', 'November', 'September', 'August'],\n",
              "      dtype=object)"
            ]
          },
          "metadata": {
            "tags": []
          },
          "execution_count": 35
        }
      ]
    },
    {
      "cell_type": "code",
      "metadata": {
        "id": "fGZH_mBik9NA",
        "colab_type": "code",
        "colab": {
          "base_uri": "https://localhost:8080/",
          "height": 34
        },
        "outputId": "378110ae-359e-465f-e69b-acae21cbe76b"
      },
      "source": [
        "df_2014['day_nb'].unique().size"
      ],
      "execution_count": 36,
      "outputs": [
        {
          "output_type": "execute_result",
          "data": {
            "text/plain": [
              "365"
            ]
          },
          "metadata": {
            "tags": []
          },
          "execution_count": 36
        }
      ]
    },
    {
      "cell_type": "code",
      "metadata": {
        "id": "wl9htfiSk9T4",
        "colab_type": "code",
        "colab": {
          "base_uri": "https://localhost:8080/",
          "height": 221
        },
        "outputId": "5e263401-72ea-46d2-a11d-32085292d8e7"
      },
      "source": [
        "df_2014.pickup_longitude.value_counts()\n",
        "#drop longitudes at 0 (greenwich meridians)\n",
        "#drop latitudes at 0 (Eaquateur)"
      ],
      "execution_count": 37,
      "outputs": [
        {
          "output_type": "execute_result",
          "data": {
            "text/plain": [
              " 0.000000     164201\n",
              "-73.982220       917\n",
              "-73.982140       908\n",
              "-73.982310       867\n",
              "-73.982130       866\n",
              "               ...  \n",
              "-73.869446         1\n",
              "-73.935113         1\n",
              "-73.898072         1\n",
              "-73.794746         1\n",
              "-73.930103         1\n",
              "Name: pickup_longitude, Length: 158297, dtype: int64"
            ]
          },
          "metadata": {
            "tags": []
          },
          "execution_count": 37
        }
      ]
    },
    {
      "cell_type": "code",
      "metadata": {
        "id": "oRb62RQEuawH",
        "colab_type": "code",
        "colab": {
          "base_uri": "https://localhost:8080/",
          "height": 221
        },
        "outputId": "a96090b8-96ee-4404-e8b4-f911199ef8dc"
      },
      "source": [
        "#drop latitudes at 0 (Equateur)\n",
        "df_2014.pickup_latitude.value_counts()"
      ],
      "execution_count": 26,
      "outputs": [
        {
          "output_type": "execute_result",
          "data": {
            "text/plain": [
              "0.000000     164201\n",
              "40.759360       942\n",
              "40.758277       892\n",
              "40.758282       878\n",
              "40.758187       851\n",
              "              ...  \n",
              "40.664545         1\n",
              "40.813369         1\n",
              "40.633295         1\n",
              "40.844619         1\n",
              "40.701961         1\n",
              "Name: pickup_latitude, Length: 178806, dtype: int64"
            ]
          },
          "metadata": {
            "tags": []
          },
          "execution_count": 26
        }
      ]
    },
    {
      "cell_type": "code",
      "metadata": {
        "id": "I-ZiU2WwukPQ",
        "colab_type": "code",
        "colab": {}
      },
      "source": [
        "df_2014=df_2014[df_2014.pickup_latitude!=0]"
      ],
      "execution_count": 38,
      "outputs": []
    },
    {
      "cell_type": "code",
      "metadata": {
        "id": "3KPnm3yauzJ9",
        "colab_type": "code",
        "colab": {
          "base_uri": "https://localhost:8080/",
          "height": 221
        },
        "outputId": "b297521f-ff29-43a8-db4f-a9ca4007a00a"
      },
      "source": [
        "df_2014.pickup_longitude.value_counts()"
      ],
      "execution_count": 39,
      "outputs": [
        {
          "output_type": "execute_result",
          "data": {
            "text/plain": [
              "-73.982220    917\n",
              "-73.982140    908\n",
              "-73.982310    867\n",
              "-73.982130    866\n",
              "-73.982320    859\n",
              "             ... \n",
              "-74.078191      1\n",
              "-73.696833      1\n",
              "-73.806208      1\n",
              "-73.792092      1\n",
              "-73.895418      1\n",
              "Name: pickup_longitude, Length: 158296, dtype: int64"
            ]
          },
          "metadata": {
            "tags": []
          },
          "execution_count": 39
        }
      ]
    },
    {
      "cell_type": "code",
      "metadata": {
        "id": "uIOnMRaCvjJH",
        "colab_type": "code",
        "colab": {}
      },
      "source": [
        "df_2014=df_2014[df_2014.dropoff_latitude!=0]"
      ],
      "execution_count": 41,
      "outputs": []
    },
    {
      "cell_type": "code",
      "metadata": {
        "id": "S4rUl3YSvjSZ",
        "colab_type": "code",
        "colab": {
          "base_uri": "https://localhost:8080/",
          "height": 221
        },
        "outputId": "ebf79af1-da68-4d2b-82c2-97454a1cef64"
      },
      "source": [
        "df_2014.pickup_latitude.value_counts()"
      ],
      "execution_count": 45,
      "outputs": [
        {
          "output_type": "execute_result",
          "data": {
            "text/plain": [
              "40.759360    930\n",
              "40.758277    878\n",
              "40.758282    871\n",
              "40.758187    839\n",
              "40.758457    827\n",
              "            ... \n",
              "40.680671      1\n",
              "40.833605      1\n",
              "40.852722      1\n",
              "40.647713      1\n",
              "40.649535      1\n",
              "Name: pickup_latitude, Length: 178585, dtype: int64"
            ]
          },
          "metadata": {
            "tags": []
          },
          "execution_count": 45
        }
      ]
    },
    {
      "cell_type": "code",
      "metadata": {
        "id": "EFlqzA_Ek9RE",
        "colab_type": "code",
        "colab": {
          "base_uri": "https://localhost:8080/",
          "height": 187
        },
        "outputId": "0a250e5a-37bf-4126-b6ae-c498d8617642"
      },
      "source": [
        "df_2014.passenger_count.value_counts()"
      ],
      "execution_count": 48,
      "outputs": [
        {
          "output_type": "execute_result",
          "data": {
            "text/plain": [
              "1    5681525\n",
              "2    1128414\n",
              "5     455691\n",
              "3     340840\n",
              "6     301150\n",
              "4     165332\n",
              "9          9\n",
              "7          6\n",
              "8          3\n",
              "Name: passenger_count, dtype: int64"
            ]
          },
          "metadata": {
            "tags": []
          },
          "execution_count": 48
        }
      ]
    },
    {
      "cell_type": "code",
      "metadata": {
        "id": "cDTd7S9Xk9DO",
        "colab_type": "code",
        "colab": {}
      },
      "source": [
        "#remove rides with 208 passengers . It is certainly an error. removed while rempving the matitude and longitude at 0\n",
        "df_2014=df_2014[df_2014.passenger_count!=208]"
      ],
      "execution_count": 35,
      "outputs": []
    },
    {
      "cell_type": "code",
      "metadata": {
        "id": "M0V1tebqg9pT",
        "colab_type": "code",
        "colab": {}
      },
      "source": [
        "#remove rides with 0 passenger even if they may be rides to transfer parcels or documents\n",
        "df_2014=df_2014[df_2014.passenger_count!=0]"
      ],
      "execution_count": 47,
      "outputs": []
    },
    {
      "cell_type": "code",
      "metadata": {
        "id": "k3y8-Lc-mXSn",
        "colab_type": "code",
        "colab": {
          "base_uri": "https://localhost:8080/",
          "height": 187
        },
        "outputId": "e242e5e8-5cea-4b12-9db5-10a2f4ca8d7a"
      },
      "source": [
        ""
      ],
      "execution_count": 42,
      "outputs": [
        {
          "output_type": "execute_result",
          "data": {
            "text/plain": [
              "1    5811784\n",
              "2    1153689\n",
              "5     463716\n",
              "3     348193\n",
              "6     306037\n",
              "4     168920\n",
              "9          9\n",
              "7          6\n",
              "8          4\n",
              "Name: passenger_count, dtype: int64"
            ]
          },
          "metadata": {
            "tags": []
          },
          "execution_count": 42
        }
      ]
    },
    {
      "cell_type": "code",
      "metadata": {
        "id": "328XzP7emXZv",
        "colab_type": "code",
        "colab": {}
      },
      "source": [
        ""
      ],
      "execution_count": 38,
      "outputs": []
    },
    {
      "cell_type": "code",
      "metadata": {
        "id": "Zlcb3iEImXge",
        "colab_type": "code",
        "colab": {}
      },
      "source": [
        ""
      ],
      "execution_count": 41,
      "outputs": []
    },
    {
      "cell_type": "code",
      "metadata": {
        "id": "sZYJxSCwoZGG",
        "colab_type": "code",
        "colab": {}
      },
      "source": [
        "%%time\n",
        "filename = 'fichier2014lu.sav'\n",
        "pickle.dump(df_2014, open(filename, 'wb'))\n",
        "filename2 = 'fichier2014lu.sav'\n",
        "pickle.dump(df_2013, open(filename2, 'wb'))"
      ],
      "execution_count": null,
      "outputs": []
    },
    {
      "cell_type": "code",
      "metadata": {
        "id": "zPOOlNGemXdy",
        "colab_type": "code",
        "colab": {
          "base_uri": "https://localhost:8080/",
          "height": 102
        },
        "outputId": "2463c0c2-f962-462a-f010-ffd520144152"
      },
      "source": [
        "df_2014.columns"
      ],
      "execution_count": 43,
      "outputs": [
        {
          "output_type": "execute_result",
          "data": {
            "text/plain": [
              "Index(['key', 'fare_amount', 'pickup_datetime', 'pickup_longitude',\n",
              "       'pickup_latitude', 'dropoff_longitude', 'dropoff_latitude',\n",
              "       'passenger_count', 'date', 'month', 'week_nb', 'weekday', 'day_nb',\n",
              "       'hour', 'Month_day'],\n",
              "      dtype='object')"
            ]
          },
          "metadata": {
            "tags": []
          },
          "execution_count": 43
        }
      ]
    },
    {
      "cell_type": "markdown",
      "metadata": {
        "id": "keDYQhOfvpRS",
        "colab_type": "text"
      },
      "source": [
        "# Nouvelle section"
      ]
    },
    {
      "cell_type": "markdown",
      "metadata": {
        "id": "SMPatFIZvrkB",
        "colab_type": "text"
      },
      "source": [
        ""
      ]
    },
    {
      "cell_type": "code",
      "metadata": {
        "id": "lgWdQ-TleAZ-",
        "colab_type": "code",
        "colab": {}
      },
      "source": [
        ""
      ],
      "execution_count": null,
      "outputs": []
    },
    {
      "cell_type": "code",
      "metadata": {
        "id": "Ec-csWgVeAd6",
        "colab_type": "code",
        "colab": {}
      },
      "source": [
        ""
      ],
      "execution_count": null,
      "outputs": []
    }
  ]
}