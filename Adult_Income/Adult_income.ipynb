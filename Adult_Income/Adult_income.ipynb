{
 "cells": [
  {
   "cell_type": "code",
   "execution_count": null,
   "metadata": {},
   "outputs": [],
   "source": [
    "\"\"\"point de vue, on veut augmenter les aides aux personnes ayant un revenu bas\"\"\""
   ]
  },
  {
   "cell_type": "code",
   "execution_count": null,
   "metadata": {},
   "outputs": [],
   "source": []
  },
  {
   "cell_type": "markdown",
   "metadata": {},
   "source": [
    "Description\n",
    "An individual’s annual income results from various factors. Intuitively, it is influenced by the individual’s education level, age, gender, occupation, and etc.\n",
    "\n",
    "This is a widely cited KNN dataset. I encountered it during my course, and I wish to share it here because it is a good starter example for data pre-processing and machine learning practices.\n",
    "\n",
    "Fields\n",
    "The dataset contains 16 columns\n",
    "Target filed: Income\n",
    "-- The income is divide into two classes: 50K\n",
    "Number of attributes: 14\n",
    "-- These are the demographics and other features to describe a person\n",
    "\n",
    "We can explore the possibility in predicting income level based on the individual’s personal information.\n",
    "\n",
    "Acknowledgements\n",
    "This dataset named “adult” is found in the UCI machine learning repository\n",
    "http://www.cs.toronto.edu/~delve/data/adult/desc.html\n",
    "\n",
    "The detailed description on the dataset can be found in the original UCI documentation\n",
    "http://www.cs.toronto.edu/~delve/data/adult/adultDetail.html\n",
    "\n",
    "Attribute Information:\n",
    "\n",
    "Listing of attributes:\n",
    "\n",
    ">50K, <=50K.\n",
    "\n",
    "age: continuous.\n",
    "workclass: Private, Self-emp-not-inc, Self-emp-inc, Federal-gov, Local-gov, State-gov, Without-pay, Never-worked.\n",
    "fnlwgt: continuous.\n",
    "| Description of fnlwgt (final weight)\n",
    "|\n",
    "| The weights on the CPS files are controlled to independent estimates of the\n",
    "| civilian noninstitutional population of the US. These are prepared monthly\n",
    "| for us by Population Division here at the Census Bureau. We use 3 sets of\n",
    "| controls.\n",
    "| These are:\n",
    "| 1. A single cell estimate of the population 16+ for each state.\n",
    "| 2. Controls for Hispanic Origin by age and sex.\n",
    "| 3. Controls by Race, age and sex.\n",
    "|\n",
    "| We use all three sets of controls in our weighting program and \"rake\" through\n",
    "| them 6 times so that by the end we come back to all the controls we used.\n",
    "|\n",
    "| The term estimate refers to population totals derived from CPS by creating\n",
    "| \"weighted tallies\" of any specified socio-economic characteristics of the\n",
    "| population.\n",
    "|\n",
    "| People with similar demographic characteristics should have\n",
    "| similar weights. There is one important caveat to remember\n",
    "| about this statement. That is that since the CPS sample is\n",
    "| actually a collection of 51 state samples, each with its own\n",
    "| probability of selection, the statement only applies within\n",
    "| state.\n",
    "education: Bachelors, Some-college, 11th, HS-grad, Prof-school, Assoc-acdm, Assoc-voc, 9th, 7th-8th, 12th, Masters, 1st-4th, 10th, Doctorate, 5th-6th, Preschool.\n",
    "education-num: continuous.\n",
    "marital-status: Married-civ-spouse, Divorced, Never-married, Separated, Widowed, Married-spouse-absent, Married-AF-spouse.\n",
    "occupation: Tech-support, Craft-repair, Other-service, Sales, Exec-managerial, Prof-specialty, Handlers-cleaners, Machine-op-inspct, Adm-clerical, Farming-fishing, Transport-moving, Priv-house-serv, Protective-serv, Armed-Forces.\n",
    "relationship: Wife, Own-child, Husband, Not-in-family, Other-relative, Unmarried.\n",
    "race: White, Asian-Pac-Islander, Amer-Indian-Eskimo, Other, Black.\n",
    "sex: Female, Male.\n",
    "capital-gain: continuous.\n",
    "capital-loss: continuous.\n",
    "hours-per-week: continuous.\n",
    "native-country: United-States, Cambodia, England, Puerto-Rico, Canada, Germany, Outlying-US(Guam-USVI-etc), India, Japan, Greece, South, China, Cuba, Iran, Honduras, Philippines, Italy, Poland, Jamaica, Vietnam, Mexico, Portugal, Ireland, France, Dominican-Republic, Laos, Ecuador, Taiwan, Haiti, Columbia, Hungary, Guatemala, Nicaragua, Scotland, Thailand, Yugoslavia, El-Salvador, Trinadad&Tobago, Peru, Hong, Holand-Netherlands.\n",
    "\n"
   ]
  },
  {
   "cell_type": "code",
   "execution_count": 161,
   "metadata": {},
   "outputs": [],
   "source": [
    "import pandas as pd\n",
    "import seaborn as sns\n",
    "import matplotlib.pyplot as plt\n",
    "import numpy as np\n",
    "%matplotlib inline\n",
    "sns.set()"
   ]
  },
  {
   "cell_type": "code",
   "execution_count": 2,
   "metadata": {},
   "outputs": [],
   "source": [
    "df=pd.read_csv('adult.csv')"
   ]
  },
  {
   "cell_type": "code",
   "execution_count": 3,
   "metadata": {},
   "outputs": [
    {
     "data": {
      "text/plain": [
       "(48842, 15)"
      ]
     },
     "execution_count": 3,
     "metadata": {},
     "output_type": "execute_result"
    }
   ],
   "source": [
    "df.shape"
   ]
  },
  {
   "cell_type": "code",
   "execution_count": 4,
   "metadata": {},
   "outputs": [
    {
     "data": {
      "text/html": [
       "<div>\n",
       "<style scoped>\n",
       "    .dataframe tbody tr th:only-of-type {\n",
       "        vertical-align: middle;\n",
       "    }\n",
       "\n",
       "    .dataframe tbody tr th {\n",
       "        vertical-align: top;\n",
       "    }\n",
       "\n",
       "    .dataframe thead th {\n",
       "        text-align: right;\n",
       "    }\n",
       "</style>\n",
       "<table border=\"1\" class=\"dataframe\">\n",
       "  <thead>\n",
       "    <tr style=\"text-align: right;\">\n",
       "      <th></th>\n",
       "      <th>age</th>\n",
       "      <th>workclass</th>\n",
       "      <th>fnlwgt</th>\n",
       "      <th>education</th>\n",
       "      <th>educational-num</th>\n",
       "      <th>marital-status</th>\n",
       "      <th>occupation</th>\n",
       "      <th>relationship</th>\n",
       "      <th>race</th>\n",
       "      <th>gender</th>\n",
       "      <th>capital-gain</th>\n",
       "      <th>capital-loss</th>\n",
       "      <th>hours-per-week</th>\n",
       "      <th>native-country</th>\n",
       "      <th>income</th>\n",
       "    </tr>\n",
       "  </thead>\n",
       "  <tbody>\n",
       "    <tr>\n",
       "      <th>0</th>\n",
       "      <td>25</td>\n",
       "      <td>Private</td>\n",
       "      <td>226802</td>\n",
       "      <td>11th</td>\n",
       "      <td>7</td>\n",
       "      <td>Never-married</td>\n",
       "      <td>Machine-op-inspct</td>\n",
       "      <td>Own-child</td>\n",
       "      <td>Black</td>\n",
       "      <td>Male</td>\n",
       "      <td>0</td>\n",
       "      <td>0</td>\n",
       "      <td>40</td>\n",
       "      <td>United-States</td>\n",
       "      <td>&lt;=50K</td>\n",
       "    </tr>\n",
       "    <tr>\n",
       "      <th>1</th>\n",
       "      <td>38</td>\n",
       "      <td>Private</td>\n",
       "      <td>89814</td>\n",
       "      <td>HS-grad</td>\n",
       "      <td>9</td>\n",
       "      <td>Married-civ-spouse</td>\n",
       "      <td>Farming-fishing</td>\n",
       "      <td>Husband</td>\n",
       "      <td>White</td>\n",
       "      <td>Male</td>\n",
       "      <td>0</td>\n",
       "      <td>0</td>\n",
       "      <td>50</td>\n",
       "      <td>United-States</td>\n",
       "      <td>&lt;=50K</td>\n",
       "    </tr>\n",
       "    <tr>\n",
       "      <th>2</th>\n",
       "      <td>28</td>\n",
       "      <td>Local-gov</td>\n",
       "      <td>336951</td>\n",
       "      <td>Assoc-acdm</td>\n",
       "      <td>12</td>\n",
       "      <td>Married-civ-spouse</td>\n",
       "      <td>Protective-serv</td>\n",
       "      <td>Husband</td>\n",
       "      <td>White</td>\n",
       "      <td>Male</td>\n",
       "      <td>0</td>\n",
       "      <td>0</td>\n",
       "      <td>40</td>\n",
       "      <td>United-States</td>\n",
       "      <td>&gt;50K</td>\n",
       "    </tr>\n",
       "    <tr>\n",
       "      <th>3</th>\n",
       "      <td>44</td>\n",
       "      <td>Private</td>\n",
       "      <td>160323</td>\n",
       "      <td>Some-college</td>\n",
       "      <td>10</td>\n",
       "      <td>Married-civ-spouse</td>\n",
       "      <td>Machine-op-inspct</td>\n",
       "      <td>Husband</td>\n",
       "      <td>Black</td>\n",
       "      <td>Male</td>\n",
       "      <td>7688</td>\n",
       "      <td>0</td>\n",
       "      <td>40</td>\n",
       "      <td>United-States</td>\n",
       "      <td>&gt;50K</td>\n",
       "    </tr>\n",
       "    <tr>\n",
       "      <th>4</th>\n",
       "      <td>18</td>\n",
       "      <td>?</td>\n",
       "      <td>103497</td>\n",
       "      <td>Some-college</td>\n",
       "      <td>10</td>\n",
       "      <td>Never-married</td>\n",
       "      <td>?</td>\n",
       "      <td>Own-child</td>\n",
       "      <td>White</td>\n",
       "      <td>Female</td>\n",
       "      <td>0</td>\n",
       "      <td>0</td>\n",
       "      <td>30</td>\n",
       "      <td>United-States</td>\n",
       "      <td>&lt;=50K</td>\n",
       "    </tr>\n",
       "  </tbody>\n",
       "</table>\n",
       "</div>"
      ],
      "text/plain": [
       "   age  workclass  fnlwgt     education  educational-num      marital-status  \\\n",
       "0   25    Private  226802          11th                7       Never-married   \n",
       "1   38    Private   89814       HS-grad                9  Married-civ-spouse   \n",
       "2   28  Local-gov  336951    Assoc-acdm               12  Married-civ-spouse   \n",
       "3   44    Private  160323  Some-college               10  Married-civ-spouse   \n",
       "4   18          ?  103497  Some-college               10       Never-married   \n",
       "\n",
       "          occupation relationship   race  gender  capital-gain  capital-loss  \\\n",
       "0  Machine-op-inspct    Own-child  Black    Male             0             0   \n",
       "1    Farming-fishing      Husband  White    Male             0             0   \n",
       "2    Protective-serv      Husband  White    Male             0             0   \n",
       "3  Machine-op-inspct      Husband  Black    Male          7688             0   \n",
       "4                  ?    Own-child  White  Female             0             0   \n",
       "\n",
       "   hours-per-week native-country income  \n",
       "0              40  United-States  <=50K  \n",
       "1              50  United-States  <=50K  \n",
       "2              40  United-States   >50K  \n",
       "3              40  United-States   >50K  \n",
       "4              30  United-States  <=50K  "
      ]
     },
     "execution_count": 4,
     "metadata": {},
     "output_type": "execute_result"
    }
   ],
   "source": [
    "df.head()"
   ]
  },
  {
   "cell_type": "code",
   "execution_count": 35,
   "metadata": {},
   "outputs": [],
   "source": [
    "to_dummies=[]\n",
    "to_drop=[]"
   ]
  },
  {
   "cell_type": "code",
   "execution_count": 6,
   "metadata": {},
   "outputs": [
    {
     "data": {
      "text/plain": [
       "age                0\n",
       "workclass          0\n",
       "fnlwgt             0\n",
       "education          0\n",
       "educational-num    0\n",
       "marital-status     0\n",
       "occupation         0\n",
       "relationship       0\n",
       "race               0\n",
       "gender             0\n",
       "capital-gain       0\n",
       "capital-loss       0\n",
       "hours-per-week     0\n",
       "native-country     0\n",
       "income             0\n",
       "dtype: int64"
      ]
     },
     "execution_count": 6,
     "metadata": {},
     "output_type": "execute_result"
    }
   ],
   "source": [
    "df.isna().sum()"
   ]
  },
  {
   "cell_type": "markdown",
   "metadata": {},
   "source": [
    "### Column Income"
   ]
  },
  {
   "cell_type": "code",
   "execution_count": 48,
   "metadata": {},
   "outputs": [
    {
     "data": {
      "text/plain": [
       "array(['<=50K', '>50K'], dtype=object)"
      ]
     },
     "execution_count": 48,
     "metadata": {},
     "output_type": "execute_result"
    }
   ],
   "source": [
    "df.income.unique()"
   ]
  },
  {
   "cell_type": "code",
   "execution_count": null,
   "metadata": {},
   "outputs": [],
   "source": [
    "#Income is the target column. We ill try to predict whether the revenue is higher or o"
   ]
  },
  {
   "cell_type": "code",
   "execution_count": 50,
   "metadata": {},
   "outputs": [],
   "source": [
    "# create new column with 1 if income is higher than 50K and 0 if lower or equal to 50K\n",
    "dct={'<=50K':0,'>50K':1}"
   ]
  },
  {
   "cell_type": "code",
   "execution_count": 51,
   "metadata": {},
   "outputs": [],
   "source": [
    "\n",
    "df['Income_new']=df.income.map(dct)"
   ]
  },
  {
   "cell_type": "markdown",
   "metadata": {},
   "source": [
    "### Column Age"
   ]
  },
  {
   "cell_type": "code",
   "execution_count": 5,
   "metadata": {},
   "outputs": [
    {
     "data": {
      "text/plain": [
       "array([25, 38, 28, 44, 18, 34, 29, 63, 24, 55, 65, 36, 26, 58, 48, 43, 20,\n",
       "       37, 40, 72, 45, 22, 23, 54, 32, 46, 56, 17, 39, 52, 21, 42, 33, 30,\n",
       "       47, 41, 19, 69, 50, 31, 59, 49, 51, 27, 57, 61, 64, 79, 73, 53, 77,\n",
       "       80, 62, 35, 68, 66, 75, 60, 67, 71, 70, 90, 81, 74, 78, 82, 83, 85,\n",
       "       76, 84, 89, 88, 87, 86])"
      ]
     },
     "execution_count": 5,
     "metadata": {},
     "output_type": "execute_result"
    }
   ],
   "source": [
    "df.age.unique()"
   ]
  },
  {
   "cell_type": "code",
   "execution_count": 44,
   "metadata": {},
   "outputs": [
    {
     "data": {
      "text/plain": [
       "<matplotlib.axes._subplots.AxesSubplot at 0x1a1ead2e10>"
      ]
     },
     "execution_count": 44,
     "metadata": {},
     "output_type": "execute_result"
    },
    {
     "data": {
      "image/png": "[encoded data removed]",
      "text/plain": [
       "<Figure size 432x288 with 1 Axes>"
      ]
     },
     "metadata": {
      "needs_background": "light"
     },
     "output_type": "display_data"
    }
   ],
   "source": [
    "df.age.value_counts().plot(kind='bar')"
   ]
  },
  {
   "cell_type": "code",
   "execution_count": null,
   "metadata": {},
   "outputs": [],
   "source": [
    "\"\"\"Categories global?\"\"\""
   ]
  },
  {
   "cell_type": "markdown",
   "metadata": {},
   "source": [
    "### Column workclass"
   ]
  },
  {
   "cell_type": "code",
   "execution_count": 10,
   "metadata": {},
   "outputs": [
    {
     "data": {
      "text/plain": [
       "Private             33906\n",
       "Self-emp-not-inc     3862\n",
       "Local-gov            3136\n",
       "?                    2799\n",
       "State-gov            1981\n",
       "Self-emp-inc         1695\n",
       "Federal-gov          1432\n",
       "Without-pay            21\n",
       "Never-worked           10\n",
       "Name: workclass, dtype: int64"
      ]
     },
     "execution_count": 10,
     "metadata": {},
     "output_type": "execute_result"
    }
   ],
   "source": [
    "df.workclass.value_counts()"
   ]
  },
  {
   "cell_type": "code",
   "execution_count": 11,
   "metadata": {},
   "outputs": [],
   "source": [
    "df.workclass=df.workclass.str.replace('?','Unknown')"
   ]
  },
  {
   "cell_type": "code",
   "execution_count": 18,
   "metadata": {},
   "outputs": [
    {
     "data": {
      "text/plain": [
       "<matplotlib.axes._subplots.AxesSubplot at 0x1a1edfb990>"
      ]
     },
     "execution_count": 18,
     "metadata": {},
     "output_type": "execute_result"
    },
    {
     "data": {
      "image/png": "[encoded data removed]",
      "text/plain": [
       "<Figure size 432x288 with 1 Axes>"
      ]
     },
     "metadata": {
      "needs_background": "light"
     },
     "output_type": "display_data"
    }
   ],
   "source": [
    "df.workclass.value_counts().plot(kind='bar')"
   ]
  },
  {
   "cell_type": "code",
   "execution_count": 21,
   "metadata": {},
   "outputs": [
    {
     "data": {
      "text/plain": [
       "array(['Private', 'Local-gov', 'Unknown', 'Self-emp-not-inc',\n",
       "       'Federal-gov', 'State-gov', 'Self-emp-inc', 'Without-pay',\n",
       "       'Never-worked'], dtype=object)"
      ]
     },
     "execution_count": 21,
     "metadata": {},
     "output_type": "execute_result"
    }
   ],
   "source": [
    "df.workclass.unique()"
   ]
  },
  {
   "cell_type": "code",
   "execution_count": 110,
   "metadata": {},
   "outputs": [
    {
     "data": {
      "text/plain": [
       "<matplotlib.axes._subplots.AxesSubplot at 0x1a22160250>"
      ]
     },
     "execution_count": 110,
     "metadata": {},
     "output_type": "execute_result"
    },
    {
     "data": {
      "image/png": "[encoded data removed]",
      "text/plain": [
       "<Figure size 432x288 with 2 Axes>"
      ]
     },
     "metadata": {
      "needs_background": "light"
     },
     "output_type": "display_data"
    }
   ],
   "source": [
    "sns.heatmap(pd.crosstab(df.workclass,df.Income_new,normalize='index'),annot=True)\n",
    "#workclass has an impact on Income. For the model we could keep all values however we will gather government related classes\n",
    "#together, Private, self emp inc and self emp not inc alone, without pay and never worked together."
   ]
  },
  {
   "cell_type": "code",
   "execution_count": 31,
   "metadata": {},
   "outputs": [],
   "source": [
    "dct_workclass={'Without-pay':'No_income','Never-worked':'No_income','State-gov':'gov_related_income','Federal-gov':'gov_related_income','Local-gov':'gov_related_income','Private':'Private','Unknown':'Unknown','Self-emp-not-inc':'Self-emp-not-inc','Self-emp-inc':'Self-emp-inc'}"
   ]
  },
  {
   "cell_type": "code",
   "execution_count": 32,
   "metadata": {},
   "outputs": [],
   "source": [
    "df['New_workclass']=df.workclass.map(dct_workclass)"
   ]
  },
  {
   "cell_type": "code",
   "execution_count": 109,
   "metadata": {},
   "outputs": [
    {
     "data": {
      "text/plain": [
       "<matplotlib.axes._subplots.AxesSubplot at 0x1a220206d0>"
      ]
     },
     "execution_count": 109,
     "metadata": {},
     "output_type": "execute_result"
    },
    {
     "data": {
      "image/png": "[encoded data removed]",
      "text/plain": [
       "<Figure size 432x288 with 2 Axes>"
      ]
     },
     "metadata": {
      "needs_background": "light"
     },
     "output_type": "display_data"
    }
   ],
   "source": [
    "sns.heatmap(pd.crosstab(df.New_workclass,df.Income_new,normalize='index'),annot=True)"
   ]
  },
  {
   "cell_type": "code",
   "execution_count": 36,
   "metadata": {},
   "outputs": [],
   "source": [
    "#put it to dummies. Cannot rank them it as I do not know the d\n",
    "to_dummies.append('New_workclass')"
   ]
  },
  {
   "cell_type": "code",
   "execution_count": 108,
   "metadata": {},
   "outputs": [
    {
     "data": {
      "text/plain": [
       "age                                50\n",
       "workclass                 Without-pay\n",
       "fnlwgt                         123004\n",
       "education                     HS-grad\n",
       "educational-num                     9\n",
       "marital-status     Married-civ-spouse\n",
       "occupation          Machine-op-inspct\n",
       "relationship                Own-child\n",
       "race                            White\n",
       "gender                         Female\n",
       "capital-gain                        0\n",
       "capital-loss                     1887\n",
       "hours-per-week                     40\n",
       "native-country          United-States\n",
       "income                           >50K\n",
       "New_workclass               No_income\n",
       "Income_new                          1\n",
       "Capital                         -1887\n",
       "Name: 10647, dtype: object"
      ]
     },
     "execution_count": 108,
     "metadata": {},
     "output_type": "execute_result"
    }
   ],
   "source": [
    "#strange cases in workclass to study later\n",
    "df[df.workclass=='Without-pay'].Income_new\n",
    "df.iloc[8903]\n",
    "df.iloc[10647]"
   ]
  },
  {
   "cell_type": "markdown",
   "metadata": {},
   "source": [
    "### Column fnlwgt"
   ]
  },
  {
   "cell_type": "code",
   "execution_count": 41,
   "metadata": {},
   "outputs": [
    {
     "data": {
      "text/plain": [
       "28523"
      ]
     },
     "execution_count": 41,
     "metadata": {},
     "output_type": "execute_result"
    }
   ],
   "source": [
    "#Too many unique values to be used as it is for the modeling. May give us an idea of whether the sampling is correct. \n",
    "df.fnlwgt.nunique()"
   ]
  },
  {
   "cell_type": "code",
   "execution_count": 42,
   "metadata": {},
   "outputs": [],
   "source": [
    "# too many unique values\n",
    "to_drop.append('fnlwgt')"
   ]
  },
  {
   "cell_type": "markdown",
   "metadata": {},
   "source": [
    "### Columns Capital"
   ]
  },
  {
   "cell_type": "code",
   "execution_count": 54,
   "metadata": {},
   "outputs": [
    {
     "data": {
      "text/plain": [
       "0        44807\n",
       "15024      513\n",
       "7688       410\n",
       "7298       364\n",
       "99999      244\n",
       "         ...  \n",
       "2387         1\n",
       "22040        1\n",
       "6612         1\n",
       "1111         1\n",
       "1639         1\n",
       "Name: capital-gain, Length: 123, dtype: int64"
      ]
     },
     "execution_count": 54,
     "metadata": {},
     "output_type": "execute_result"
    }
   ],
   "source": [
    "df['capital-gain'].value_counts()"
   ]
  },
  {
   "cell_type": "code",
   "execution_count": 55,
   "metadata": {},
   "outputs": [
    {
     "data": {
      "text/plain": [
       "0       46560\n",
       "1902      304\n",
       "1977      253\n",
       "1887      233\n",
       "2415       72\n",
       "        ...  \n",
       "1539        1\n",
       "2489        1\n",
       "2201        1\n",
       "1421        1\n",
       "1870        1\n",
       "Name: capital-loss, Length: 99, dtype: int64"
      ]
     },
     "execution_count": 55,
     "metadata": {},
     "output_type": "execute_result"
    }
   ],
   "source": [
    "df['capital-loss'].value_counts()"
   ]
  },
  {
   "cell_type": "code",
   "execution_count": 56,
   "metadata": {},
   "outputs": [],
   "source": [
    "#Merge Capital Gain and capital Loss in 1 column.\n",
    "df['Capital']=df['capital-gain']-df['capital-loss']"
   ]
  },
  {
   "cell_type": "markdown",
   "metadata": {},
   "source": [
    "### Columns Native country"
   ]
  },
  {
   "cell_type": "code",
   "execution_count": null,
   "metadata": {},
   "outputs": [],
   "source": [
    "df['native-country'].nunique()"
   ]
  },
  {
   "cell_type": "code",
   "execution_count": 114,
   "metadata": {},
   "outputs": [
    {
     "data": {
      "text/plain": [
       "United-States                 43832\n",
       "Mexico                          951\n",
       "?                               857\n",
       "Philippines                     295\n",
       "Germany                         206\n",
       "Puerto-Rico                     184\n",
       "Canada                          182\n",
       "El-Salvador                     155\n",
       "India                           151\n",
       "Cuba                            138\n",
       "England                         127\n",
       "China                           122\n",
       "South                           115\n",
       "Jamaica                         106\n",
       "Italy                           105\n",
       "Dominican-Republic              103\n",
       "Japan                            92\n",
       "Guatemala                        88\n",
       "Poland                           87\n",
       "Vietnam                          86\n",
       "Columbia                         85\n",
       "Haiti                            75\n",
       "Portugal                         67\n",
       "Taiwan                           65\n",
       "Iran                             59\n",
       "Greece                           49\n",
       "Nicaragua                        49\n",
       "Peru                             46\n",
       "Ecuador                          45\n",
       "France                           38\n",
       "Ireland                          37\n",
       "Thailand                         30\n",
       "Hong                             30\n",
       "Cambodia                         28\n",
       "Trinadad&Tobago                  27\n",
       "Outlying-US(Guam-USVI-etc)       23\n",
       "Laos                             23\n",
       "Yugoslavia                       23\n",
       "Scotland                         21\n",
       "Honduras                         20\n",
       "Hungary                          19\n",
       "Holand-Netherlands                1\n",
       "Name: native-country, dtype: int64"
      ]
     },
     "execution_count": 114,
     "metadata": {},
     "output_type": "execute_result"
    }
   ],
   "source": [
    "df['native-country'].value_counts()\n",
    "\n",
    "\n",
    "#Mainly a US data. The other country data may not be significant vs. US. ==> study on us only"
   ]
  },
  {
   "cell_type": "code",
   "execution_count": null,
   "metadata": {},
   "outputs": [],
   "source": []
  },
  {
   "cell_type": "code",
   "execution_count": 105,
   "metadata": {},
   "outputs": [
    {
     "data": {
      "text/plain": [
       "<matplotlib.axes._subplots.AxesSubplot at 0x1a1ed4de90>"
      ]
     },
     "execution_count": 105,
     "metadata": {},
     "output_type": "execute_result"
    },
    {
     "data": {
      "image/png": "[encoded data removed]",
      "text/plain": [
       "<Figure size 432x288 with 2 Axes>"
      ]
     },
     "metadata": {
      "needs_background": "light"
     },
     "output_type": "display_data"
    }
   ],
   "source": [
    "sns.heatmap(pd.crosstab(df['native-country'],df.Income_new,normalize='index'))\n",
    "#Too many values to conclude"
   ]
  },
  {
   "cell_type": "code",
   "execution_count": 117,
   "metadata": {},
   "outputs": [],
   "source": [
    "df['native-country']=df['native-country'].str.replace('?','Unknown')"
   ]
  },
  {
   "cell_type": "code",
   "execution_count": 118,
   "metadata": {},
   "outputs": [
    {
     "data": {
      "text/html": [
       "<div>\n",
       "<style scoped>\n",
       "    .dataframe tbody tr th:only-of-type {\n",
       "        vertical-align: middle;\n",
       "    }\n",
       "\n",
       "    .dataframe tbody tr th {\n",
       "        vertical-align: top;\n",
       "    }\n",
       "\n",
       "    .dataframe thead th {\n",
       "        text-align: right;\n",
       "    }\n",
       "</style>\n",
       "<table border=\"1\" class=\"dataframe\">\n",
       "  <thead>\n",
       "    <tr style=\"text-align: right;\">\n",
       "      <th>Income_new</th>\n",
       "      <th>0</th>\n",
       "      <th>1</th>\n",
       "    </tr>\n",
       "    <tr>\n",
       "      <th>native-country</th>\n",
       "      <th></th>\n",
       "      <th></th>\n",
       "    </tr>\n",
       "  </thead>\n",
       "  <tbody>\n",
       "    <tr>\n",
       "      <th>Cambodia</th>\n",
       "      <td>0.68</td>\n",
       "      <td>0.32</td>\n",
       "    </tr>\n",
       "    <tr>\n",
       "      <th>Canada</th>\n",
       "      <td>0.65</td>\n",
       "      <td>0.35</td>\n",
       "    </tr>\n",
       "    <tr>\n",
       "      <th>China</th>\n",
       "      <td>0.70</td>\n",
       "      <td>0.30</td>\n",
       "    </tr>\n",
       "    <tr>\n",
       "      <th>Columbia</th>\n",
       "      <td>0.95</td>\n",
       "      <td>0.05</td>\n",
       "    </tr>\n",
       "    <tr>\n",
       "      <th>Cuba</th>\n",
       "      <td>0.75</td>\n",
       "      <td>0.25</td>\n",
       "    </tr>\n",
       "    <tr>\n",
       "      <th>Dominican-Republic</th>\n",
       "      <td>0.95</td>\n",
       "      <td>0.05</td>\n",
       "    </tr>\n",
       "    <tr>\n",
       "      <th>Ecuador</th>\n",
       "      <td>0.87</td>\n",
       "      <td>0.13</td>\n",
       "    </tr>\n",
       "    <tr>\n",
       "      <th>El-Salvador</th>\n",
       "      <td>0.93</td>\n",
       "      <td>0.07</td>\n",
       "    </tr>\n",
       "    <tr>\n",
       "      <th>England</th>\n",
       "      <td>0.63</td>\n",
       "      <td>0.37</td>\n",
       "    </tr>\n",
       "    <tr>\n",
       "      <th>France</th>\n",
       "      <td>0.58</td>\n",
       "      <td>0.42</td>\n",
       "    </tr>\n",
       "    <tr>\n",
       "      <th>Germany</th>\n",
       "      <td>0.72</td>\n",
       "      <td>0.28</td>\n",
       "    </tr>\n",
       "    <tr>\n",
       "      <th>Greece</th>\n",
       "      <td>0.63</td>\n",
       "      <td>0.37</td>\n",
       "    </tr>\n",
       "    <tr>\n",
       "      <th>Guatemala</th>\n",
       "      <td>0.97</td>\n",
       "      <td>0.03</td>\n",
       "    </tr>\n",
       "    <tr>\n",
       "      <th>Haiti</th>\n",
       "      <td>0.88</td>\n",
       "      <td>0.12</td>\n",
       "    </tr>\n",
       "    <tr>\n",
       "      <th>Holand-Netherlands</th>\n",
       "      <td>1.00</td>\n",
       "      <td>0.00</td>\n",
       "    </tr>\n",
       "    <tr>\n",
       "      <th>Honduras</th>\n",
       "      <td>0.90</td>\n",
       "      <td>0.10</td>\n",
       "    </tr>\n",
       "    <tr>\n",
       "      <th>Hong</th>\n",
       "      <td>0.73</td>\n",
       "      <td>0.27</td>\n",
       "    </tr>\n",
       "    <tr>\n",
       "      <th>Hungary</th>\n",
       "      <td>0.68</td>\n",
       "      <td>0.32</td>\n",
       "    </tr>\n",
       "    <tr>\n",
       "      <th>India</th>\n",
       "      <td>0.59</td>\n",
       "      <td>0.41</td>\n",
       "    </tr>\n",
       "    <tr>\n",
       "      <th>Iran</th>\n",
       "      <td>0.63</td>\n",
       "      <td>0.37</td>\n",
       "    </tr>\n",
       "    <tr>\n",
       "      <th>Ireland</th>\n",
       "      <td>0.70</td>\n",
       "      <td>0.30</td>\n",
       "    </tr>\n",
       "    <tr>\n",
       "      <th>Italy</th>\n",
       "      <td>0.68</td>\n",
       "      <td>0.32</td>\n",
       "    </tr>\n",
       "    <tr>\n",
       "      <th>Jamaica</th>\n",
       "      <td>0.86</td>\n",
       "      <td>0.14</td>\n",
       "    </tr>\n",
       "    <tr>\n",
       "      <th>Japan</th>\n",
       "      <td>0.65</td>\n",
       "      <td>0.35</td>\n",
       "    </tr>\n",
       "    <tr>\n",
       "      <th>Laos</th>\n",
       "      <td>0.91</td>\n",
       "      <td>0.09</td>\n",
       "    </tr>\n",
       "    <tr>\n",
       "      <th>Mexico</th>\n",
       "      <td>0.95</td>\n",
       "      <td>0.05</td>\n",
       "    </tr>\n",
       "    <tr>\n",
       "      <th>Nicaragua</th>\n",
       "      <td>0.94</td>\n",
       "      <td>0.06</td>\n",
       "    </tr>\n",
       "    <tr>\n",
       "      <th>Outlying-US(Guam-USVI-etc)</th>\n",
       "      <td>0.96</td>\n",
       "      <td>0.04</td>\n",
       "    </tr>\n",
       "    <tr>\n",
       "      <th>Peru</th>\n",
       "      <td>0.91</td>\n",
       "      <td>0.09</td>\n",
       "    </tr>\n",
       "    <tr>\n",
       "      <th>Philippines</th>\n",
       "      <td>0.71</td>\n",
       "      <td>0.29</td>\n",
       "    </tr>\n",
       "    <tr>\n",
       "      <th>Poland</th>\n",
       "      <td>0.80</td>\n",
       "      <td>0.20</td>\n",
       "    </tr>\n",
       "    <tr>\n",
       "      <th>Portugal</th>\n",
       "      <td>0.82</td>\n",
       "      <td>0.18</td>\n",
       "    </tr>\n",
       "    <tr>\n",
       "      <th>Puerto-Rico</th>\n",
       "      <td>0.89</td>\n",
       "      <td>0.11</td>\n",
       "    </tr>\n",
       "    <tr>\n",
       "      <th>Scotland</th>\n",
       "      <td>0.86</td>\n",
       "      <td>0.14</td>\n",
       "    </tr>\n",
       "    <tr>\n",
       "      <th>South</th>\n",
       "      <td>0.83</td>\n",
       "      <td>0.17</td>\n",
       "    </tr>\n",
       "    <tr>\n",
       "      <th>Taiwan</th>\n",
       "      <td>0.60</td>\n",
       "      <td>0.40</td>\n",
       "    </tr>\n",
       "    <tr>\n",
       "      <th>Thailand</th>\n",
       "      <td>0.83</td>\n",
       "      <td>0.17</td>\n",
       "    </tr>\n",
       "    <tr>\n",
       "      <th>Trinadad&amp;Tobago</th>\n",
       "      <td>0.93</td>\n",
       "      <td>0.07</td>\n",
       "    </tr>\n",
       "    <tr>\n",
       "      <th>United-States</th>\n",
       "      <td>0.76</td>\n",
       "      <td>0.24</td>\n",
       "    </tr>\n",
       "    <tr>\n",
       "      <th>Unknown</th>\n",
       "      <td>0.74</td>\n",
       "      <td>0.26</td>\n",
       "    </tr>\n",
       "    <tr>\n",
       "      <th>Vietnam</th>\n",
       "      <td>0.92</td>\n",
       "      <td>0.08</td>\n",
       "    </tr>\n",
       "    <tr>\n",
       "      <th>Yugoslavia</th>\n",
       "      <td>0.65</td>\n",
       "      <td>0.35</td>\n",
       "    </tr>\n",
       "  </tbody>\n",
       "</table>\n",
       "</div>"
      ],
      "text/plain": [
       "Income_new                     0     1\n",
       "native-country                        \n",
       "Cambodia                    0.68  0.32\n",
       "Canada                      0.65  0.35\n",
       "China                       0.70  0.30\n",
       "Columbia                    0.95  0.05\n",
       "Cuba                        0.75  0.25\n",
       "Dominican-Republic          0.95  0.05\n",
       "Ecuador                     0.87  0.13\n",
       "El-Salvador                 0.93  0.07\n",
       "England                     0.63  0.37\n",
       "France                      0.58  0.42\n",
       "Germany                     0.72  0.28\n",
       "Greece                      0.63  0.37\n",
       "Guatemala                   0.97  0.03\n",
       "Haiti                       0.88  0.12\n",
       "Holand-Netherlands          1.00  0.00\n",
       "Honduras                    0.90  0.10\n",
       "Hong                        0.73  0.27\n",
       "Hungary                     0.68  0.32\n",
       "India                       0.59  0.41\n",
       "Iran                        0.63  0.37\n",
       "Ireland                     0.70  0.30\n",
       "Italy                       0.68  0.32\n",
       "Jamaica                     0.86  0.14\n",
       "Japan                       0.65  0.35\n",
       "Laos                        0.91  0.09\n",
       "Mexico                      0.95  0.05\n",
       "Nicaragua                   0.94  0.06\n",
       "Outlying-US(Guam-USVI-etc)  0.96  0.04\n",
       "Peru                        0.91  0.09\n",
       "Philippines                 0.71  0.29\n",
       "Poland                      0.80  0.20\n",
       "Portugal                    0.82  0.18\n",
       "Puerto-Rico                 0.89  0.11\n",
       "Scotland                    0.86  0.14\n",
       "South                       0.83  0.17\n",
       "Taiwan                      0.60  0.40\n",
       "Thailand                    0.83  0.17\n",
       "Trinadad&Tobago             0.93  0.07\n",
       "United-States               0.76  0.24\n",
       "Unknown                     0.74  0.26\n",
       "Vietnam                     0.92  0.08\n",
       "Yugoslavia                  0.65  0.35"
      ]
     },
     "execution_count": 118,
     "metadata": {},
     "output_type": "execute_result"
    }
   ],
   "source": [
    "pd.crosstab(df['native-country'],df.Income_new,normalize='index').round(2)"
   ]
  },
  {
   "cell_type": "code",
   "execution_count": 122,
   "metadata": {},
   "outputs": [],
   "source": [
    "dct_country={\n",
    "'United-States': 'US',\n",
    "'Mexico':'Mexico',\n",
    "'Unknown':'Unknown',\n",
    "'Philippines':'Philippines',\n",
    "'Germany':'Europe',\n",
    "'Puerto-Rico':'Caraibes',\n",
    "'Canada':'Canada',\n",
    "'El-Salvador':'South-America',\n",
    "'India':'India',\n",
    "'Cuba':'Cuba',\n",
    "'England':'Europe',\n",
    "'China':'China',\n",
    "'South':'Other',\n",
    "'Jamaica':'Caraibes',\n",
    "'Italy' :'Europe',\n",
    "'Dominican-Republic ':'Caraibes',\n",
    "'Japan':'Asia',\n",
    "\"Guatemala\":'South-America',\n",
    "'Poland':'Europe',\n",
    "'Vietnam':'Asia',\n",
    "'Columbia' :'Other',\n",
    "'Haiti':'Caraibes', \n",
    "'Portugal':'Europe',\n",
    "'Taiwan':'Asia',\n",
    "'Iran':'Other',\n",
    "'Greece':'Europe', \n",
    "'Nicaragua':'South-America',\n",
    "'Peru':'South-America',\n",
    "'Ecuador':'South-America',\n",
    "'France':'Europe',\n",
    "'Ireland':'Europe',\n",
    "'Thailand':'Asia',\n",
    "'Hong': 'Asia',\n",
    "'Cambodia':'Asia',\n",
    "'Trinadad&Tobago':'Caraibes',\n",
    "'Outlying-US(Guam-USVI-etc)':'Other',\n",
    "'Laos':'Asia',\n",
    "'Yugoslavia':'Europe',\n",
    "'Scotland':'Europe',\n",
    "'Honduras':'South-America',\n",
    "'Hungary':'Europe', \n",
    "'Holand-Netherlands':'Europe',\n",
    "}"
   ]
  },
  {
   "cell_type": "code",
   "execution_count": 123,
   "metadata": {},
   "outputs": [],
   "source": [
    "# keep only the United states related  rows\n",
    "df['NativeC']=df['native-country'].map(dct_country)"
   ]
  },
  {
   "cell_type": "code",
   "execution_count": 124,
   "metadata": {},
   "outputs": [
    {
     "data": {
      "text/plain": [
       "US               43832\n",
       "Mexico             951\n",
       "Unknown            857\n",
       "Europe             780\n",
       "South-America      403\n",
       "Caraibes           392\n",
       "Asia               354\n",
       "Philippines        295\n",
       "Other              282\n",
       "Canada             182\n",
       "India              151\n",
       "Cuba               138\n",
       "China              122\n",
       "Name: NativeC, dtype: int64"
      ]
     },
     "execution_count": 124,
     "metadata": {},
     "output_type": "execute_result"
    }
   ],
   "source": [
    "df['NativeC'].value_counts()"
   ]
  },
  {
   "cell_type": "code",
   "execution_count": 126,
   "metadata": {},
   "outputs": [
    {
     "data": {
      "text/plain": [
       "<matplotlib.axes._subplots.AxesSubplot at 0x1a2266d710>"
      ]
     },
     "execution_count": 126,
     "metadata": {},
     "output_type": "execute_result"
    },
    {
     "data": {
      "image/png": "[encoded data removed]",
      "text/plain": [
       "<Figure size 432x288 with 2 Axes>"
      ]
     },
     "metadata": {
      "needs_background": "light"
     },
     "output_type": "display_data"
    }
   ],
   "source": [
    "sns.heatmap(pd.crosstab(df['NativeC'],df.Income_new,normalize='index'),annot=True)"
   ]
  },
  {
   "cell_type": "code",
   "execution_count": 127,
   "metadata": {},
   "outputs": [],
   "source": [
    "to_dummies.append('NativeC')"
   ]
  },
  {
   "cell_type": "markdown",
   "metadata": {},
   "source": [
    "### Columns marital-status and relationship"
   ]
  },
  {
   "cell_type": "code",
   "execution_count": 132,
   "metadata": {},
   "outputs": [
    {
     "data": {
      "text/plain": [
       "Married-civ-spouse       22379\n",
       "Never-married            16117\n",
       "Divorced                  6633\n",
       "Separated                 1530\n",
       "Widowed                   1518\n",
       "Married-spouse-absent      628\n",
       "Married-AF-spouse           37\n",
       "Name: marital-status, dtype: int64"
      ]
     },
     "execution_count": 132,
     "metadata": {},
     "output_type": "execute_result"
    }
   ],
   "source": [
    "df['marital-status'].value_counts()\n",
    "#being in a relationship may influence the way you accept or not job evolution/opportunities . May not need details like spouse civ or in the Army Force."
   ]
  },
  {
   "cell_type": "code",
   "execution_count": 79,
   "metadata": {},
   "outputs": [],
   "source": [
    "dct_status={\n",
    "'Married-civ-spouse':'Married',\n",
    "'Never-married': 'Single',\n",
    "'Divorced': 'Divorced',\n",
    "'Separated':'Single',\n",
    "'Widowed'  :'Single',\n",
    "'Married-spouse-absent':'Married',\n",
    "'Married-AF-spouse':'Married'\n",
    "}\n"
   ]
  },
  {
   "cell_type": "code",
   "execution_count": 106,
   "metadata": {},
   "outputs": [
    {
     "data": {
      "text/plain": [
       "<matplotlib.axes._subplots.AxesSubplot at 0x1a21e825d0>"
      ]
     },
     "execution_count": 106,
     "metadata": {},
     "output_type": "execute_result"
    },
    {
     "data": {
      "image/png": "[encoded data removed]",
      "text/plain": [
       "<Figure size 432x288 with 2 Axes>"
      ]
     },
     "metadata": {
      "needs_background": "light"
     },
     "output_type": "display_data"
    }
   ],
   "source": [
    "sns.heatmap(pd.crosstab(df['marital-status'],df.Income_new,normalize='index'),annot=True)\n",
    "#marital status seems to have an impact on the target so I keep it. \n",
    "#I will study two models one with all sub categories and one with Married (same home) and not married or separated home\n",
    "#"
   ]
  },
  {
   "cell_type": "code",
   "execution_count": 137,
   "metadata": {},
   "outputs": [],
   "source": [
    "df['Marital_status_new']=df['marital-status'].map(dct_status)"
   ]
  },
  {
   "cell_type": "code",
   "execution_count": 138,
   "metadata": {},
   "outputs": [
    {
     "data": {
      "text/plain": [
       "<matplotlib.axes._subplots.AxesSubplot at 0x1a22b39a90>"
      ]
     },
     "execution_count": 138,
     "metadata": {},
     "output_type": "execute_result"
    },
    {
     "data": {
      "image/png": "[encoded data removed]",
      "text/plain": [
       "<Figure size 432x288 with 2 Axes>"
      ]
     },
     "metadata": {
      "needs_background": "light"
     },
     "output_type": "display_data"
    }
   ],
   "source": [
    "sns.heatmap(pd.crosstab(df['Marital_status_new'],df.Income_new,normalize='index'),annot=True)"
   ]
  },
  {
   "cell_type": "code",
   "execution_count": 72,
   "metadata": {},
   "outputs": [
    {
     "data": {
      "text/plain": [
       "Husband           19716\n",
       "Not-in-family     12583\n",
       "Own-child          7581\n",
       "Unmarried          5125\n",
       "Wife               2331\n",
       "Other-relative     1506\n",
       "Name: relationship, dtype: int64"
      ]
     },
     "execution_count": 72,
     "metadata": {},
     "output_type": "execute_result"
    }
   ],
   "source": [
    "#relationship to be checked with marital-status\n",
    "df.relationship.value_counts()"
   ]
  },
  {
   "cell_type": "code",
   "execution_count": 141,
   "metadata": {},
   "outputs": [
    {
     "data": {
      "text/plain": [
       "<matplotlib.axes._subplots.AxesSubplot at 0x1a20fde550>"
      ]
     },
     "execution_count": 141,
     "metadata": {},
     "output_type": "execute_result"
    },
    {
     "data": {
      "image/png": "[encoded data removed]",
      "text/plain": [
       "<Figure size 432x288 with 2 Axes>"
      ]
     },
     "metadata": {
      "needs_background": "light"
     },
     "output_type": "display_data"
    }
   ],
   "source": [
    "\"\"\"To do correlation between marital status and  relationship\"\"\""
   ]
  },
  {
   "cell_type": "code",
   "execution_count": 82,
   "metadata": {},
   "outputs": [],
   "source": [
    "#if we keep Marital status , we may not need relationship as it does not bring much more information. TBC\n",
    "to_drop.append('relationship')"
   ]
  },
  {
   "cell_type": "markdown",
   "metadata": {},
   "source": [
    "### Column hours-per-week"
   ]
  },
  {
   "cell_type": "code",
   "execution_count": 63,
   "metadata": {},
   "outputs": [
    {
     "data": {
      "text/plain": [
       "array([40, 50, 30, 32, 10, 39, 35, 48, 25, 20, 45, 47,  6, 43, 90, 54, 60,\n",
       "       38, 36, 18, 24, 44, 56, 28, 16, 41, 22, 55, 14, 33, 37,  8, 12, 70,\n",
       "       15, 75, 52, 84, 42, 80, 68, 99, 65,  5, 17, 72, 53, 29, 96, 21, 46,\n",
       "        3,  1, 23, 49, 67, 76,  7,  2, 58, 26, 34,  4, 51, 78, 63, 31, 92,\n",
       "       77, 27, 85, 13, 19, 98, 62, 66, 57, 11, 86, 59,  9, 64, 73, 61, 88,\n",
       "       79, 89, 74, 69, 87, 97, 94, 82, 91, 81, 95])"
      ]
     },
     "execution_count": 63,
     "metadata": {},
     "output_type": "execute_result"
    }
   ],
   "source": [
    "df['hours-per-week'].unique()\n",
    "#There may be people which have to work. \n",
    "\"\"\"Find how to handle this columns. Range??? Maybe two work\"\"\""
   ]
  },
  {
   "cell_type": "code",
   "execution_count": 130,
   "metadata": {},
   "outputs": [
    {
     "data": {
      "text/plain": [
       "<matplotlib.axes._subplots.AxesSubplot at 0x1a22bb1790>"
      ]
     },
     "execution_count": 130,
     "metadata": {},
     "output_type": "execute_result"
    },
    {
     "data": {
      "image/png": "[encoded data removed]",
      "text/plain": [
       "<Figure size 432x288 with 2 Axes>"
      ]
     },
     "metadata": {
      "needs_background": "light"
     },
     "output_type": "display_data"
    }
   ],
   "source": [
    "sns.heatmap(pd.crosstab(df['hours-per-week'],df.Income_new,normalize='index'))\n"
   ]
  },
  {
   "cell_type": "code",
   "execution_count": null,
   "metadata": {},
   "outputs": [],
   "source": [
    "sns.heatmap(pd.crosstab(df['hours-per-week'],df.Income_new,normalize='index'))"
   ]
  },
  {
   "cell_type": "code",
   "execution_count": 66,
   "metadata": {},
   "outputs": [
    {
     "data": {
      "text/plain": [
       "96"
      ]
     },
     "execution_count": 66,
     "metadata": {},
     "output_type": "execute_result"
    }
   ],
   "source": [
    "df['hours-per-week'].nunique()"
   ]
  },
  {
   "cell_type": "markdown",
   "metadata": {},
   "source": [
    "### Column Gender"
   ]
  },
  {
   "cell_type": "code",
   "execution_count": 136,
   "metadata": {},
   "outputs": [
    {
     "data": {
      "text/plain": [
       "Male      32650\n",
       "Female    16192\n",
       "Name: gender, dtype: int64"
      ]
     },
     "execution_count": 136,
     "metadata": {},
     "output_type": "execute_result"
    }
   ],
   "source": [
    "df.gender.value_counts()\n"
   ]
  },
  {
   "cell_type": "code",
   "execution_count": 143,
   "metadata": {},
   "outputs": [
    {
     "data": {
      "text/plain": [
       "<matplotlib.axes._subplots.AxesSubplot at 0x1a2371a950>"
      ]
     },
     "execution_count": 143,
     "metadata": {},
     "output_type": "execute_result"
    },
    {
     "data": {
      "image/png": "[encoded data removed]",
      "text/plain": [
       "<Figure size 432x288 with 2 Axes>"
      ]
     },
     "metadata": {
      "needs_background": "light"
     },
     "output_type": "display_data"
    }
   ],
   "source": [
    "sns.heatmap(pd.crosstab(df['gender'],df.Income_new,normalize='index'),annot=True)"
   ]
  },
  {
   "cell_type": "code",
   "execution_count": 69,
   "metadata": {},
   "outputs": [],
   "source": [
    "to_dummies.append('gender')"
   ]
  },
  {
   "cell_type": "markdown",
   "metadata": {},
   "source": [
    "### Column Race"
   ]
  },
  {
   "cell_type": "code",
   "execution_count": 70,
   "metadata": {},
   "outputs": [
    {
     "data": {
      "text/plain": [
       "array(['Black', 'White', 'Asian-Pac-Islander', 'Other',\n",
       "       'Amer-Indian-Eskimo'], dtype=object)"
      ]
     },
     "execution_count": 70,
     "metadata": {},
     "output_type": "execute_result"
    }
   ],
   "source": [
    "\n",
    "df.race.unique()"
   ]
  },
  {
   "cell_type": "code",
   "execution_count": 144,
   "metadata": {},
   "outputs": [
    {
     "data": {
      "text/plain": [
       "<matplotlib.axes._subplots.AxesSubplot at 0x1a23773610>"
      ]
     },
     "execution_count": 144,
     "metadata": {},
     "output_type": "execute_result"
    },
    {
     "data": {
      "image/png": "[encoded data removed]",
      "text/plain": [
       "<Figure size 432x288 with 2 Axes>"
      ]
     },
     "metadata": {
      "needs_background": "light"
     },
     "output_type": "display_data"
    }
   ],
   "source": [
    "sns.heatmap(pd.crosstab(df['race'],df.Income_new,normalize='index'),annot=True)"
   ]
  },
  {
   "cell_type": "code",
   "execution_count": 71,
   "metadata": {},
   "outputs": [],
   "source": [
    "to_dummies.append('race')"
   ]
  },
  {
   "cell_type": "markdown",
   "metadata": {},
   "source": [
    "### Columns Education and Education-num"
   ]
  },
  {
   "cell_type": "code",
   "execution_count": 148,
   "metadata": {},
   "outputs": [
    {
     "data": {
      "text/plain": [
       "9     15784\n",
       "10    10878\n",
       "13     8025\n",
       "14     2657\n",
       "11     2061\n",
       "7      1812\n",
       "12     1601\n",
       "6      1389\n",
       "4       955\n",
       "15      834\n",
       "5       756\n",
       "8       657\n",
       "16      594\n",
       "3       509\n",
       "2       247\n",
       "1        83\n",
       "Name: educational-num, dtype: int64"
      ]
     },
     "execution_count": 148,
     "metadata": {},
     "output_type": "execute_result"
    }
   ],
   "source": [
    "df['educational-num'].value_counts()"
   ]
  },
  {
   "cell_type": "code",
   "execution_count": 149,
   "metadata": {},
   "outputs": [
    {
     "data": {
      "text/plain": [
       "HS-grad         15784\n",
       "Some-college    10878\n",
       "Bachelors        8025\n",
       "Masters          2657\n",
       "Assoc-voc        2061\n",
       "11th             1812\n",
       "Assoc-acdm       1601\n",
       "10th             1389\n",
       "7th-8th           955\n",
       "Prof-school       834\n",
       "9th               756\n",
       "12th              657\n",
       "Doctorate         594\n",
       "5th-6th           509\n",
       "1st-4th           247\n",
       "Preschool          83\n",
       "Name: education, dtype: int64"
      ]
     },
     "execution_count": 149,
     "metadata": {},
     "output_type": "execute_result"
    }
   ],
   "source": [
    "df['education'].value_counts()"
   ]
  },
  {
   "cell_type": "code",
   "execution_count": null,
   "metadata": {},
   "outputs": [],
   "source": [
    "# I keep df['educational-num'] which is already ranked\n"
   ]
  },
  {
   "cell_type": "code",
   "execution_count": 155,
   "metadata": {},
   "outputs": [
    {
     "data": {
      "text/plain": [
       "<matplotlib.axes._subplots.AxesSubplot at 0x1a23a00050>"
      ]
     },
     "execution_count": 155,
     "metadata": {},
     "output_type": "execute_result"
    },
    {
     "data": {
      "image/png": "[encoded data removed]",
      "text/plain": [
       "<Figure size 432x288 with 2 Axes>"
      ]
     },
     "metadata": {
      "needs_background": "light"
     },
     "output_type": "display_data"
    }
   ],
   "source": [
    "sns.heatmap(pd.crosstab(df['educational-num'],df.Income_new,normalize='index'),annot=True)\n",
    "# Clearly the higher level of education reach the higher you are likely to have an income higher than 50%\n",
    "\n"
   ]
  },
  {
   "cell_type": "markdown",
   "metadata": {},
   "source": [
    "### Column Occupation"
   ]
  },
  {
   "cell_type": "code",
   "execution_count": 153,
   "metadata": {},
   "outputs": [
    {
     "data": {
      "text/plain": [
       "Prof-specialty       6172\n",
       "Craft-repair         6112\n",
       "Exec-managerial      6086\n",
       "Adm-clerical         5611\n",
       "Sales                5504\n",
       "Other-service        4923\n",
       "Machine-op-inspct    3022\n",
       "?                    2809\n",
       "Transport-moving     2355\n",
       "Handlers-cleaners    2072\n",
       "Farming-fishing      1490\n",
       "Tech-support         1446\n",
       "Protective-serv       983\n",
       "Priv-house-serv       242\n",
       "Armed-Forces           15\n",
       "Name: occupation, dtype: int64"
      ]
     },
     "execution_count": 153,
     "metadata": {},
     "output_type": "execute_result"
    }
   ],
   "source": [
    "df.occupation.value_counts()"
   ]
  },
  {
   "cell_type": "code",
   "execution_count": 157,
   "metadata": {},
   "outputs": [],
   "source": [
    "df['occupation']=df['occupation'].str.replace('?','Unknown')"
   ]
  },
  {
   "cell_type": "code",
   "execution_count": 158,
   "metadata": {},
   "outputs": [
    {
     "data": {
      "text/plain": [
       "Prof-specialty       6172\n",
       "Craft-repair         6112\n",
       "Exec-managerial      6086\n",
       "Adm-clerical         5611\n",
       "Sales                5504\n",
       "Other-service        4923\n",
       "Machine-op-inspct    3022\n",
       "Unknown              2809\n",
       "Transport-moving     2355\n",
       "Handlers-cleaners    2072\n",
       "Farming-fishing      1490\n",
       "Tech-support         1446\n",
       "Protective-serv       983\n",
       "Priv-house-serv       242\n",
       "Armed-Forces           15\n",
       "Name: occupation, dtype: int64"
      ]
     },
     "execution_count": 158,
     "metadata": {},
     "output_type": "execute_result"
    }
   ],
   "source": [
    "df.occupation.value_counts()"
   ]
  },
  {
   "cell_type": "code",
   "execution_count": 159,
   "metadata": {},
   "outputs": [
    {
     "data": {
      "text/plain": [
       "<matplotlib.axes._subplots.AxesSubplot at 0x1a23d97610>"
      ]
     },
     "execution_count": 159,
     "metadata": {},
     "output_type": "execute_result"
    },
    {
     "data": {
      "image/png": "[encoded data removed]",
      "text/plain": [
       "<Figure size 432x288 with 2 Axes>"
      ]
     },
     "metadata": {
      "needs_background": "light"
     },
     "output_type": "display_data"
    }
   ],
   "source": [
    "sns.heatmap(pd.crosstab(df['occupation'],df.Income_new,normalize='index'),annot=True)"
   ]
  },
  {
   "cell_type": "code",
   "execution_count": 160,
   "metadata": {},
   "outputs": [],
   "source": [
    "to_dummies.append('occupation')"
   ]
  },
  {
   "cell_type": "code",
   "execution_count": 166,
   "metadata": {},
   "outputs": [
    {
     "data": {
      "text/plain": [
       "<matplotlib.axes._subplots.AxesSubplot at 0x1a24b14fd0>"
      ]
     },
     "execution_count": 166,
     "metadata": {},
     "output_type": "execute_result"
    },
    {
     "data": {
      "image/png": "[encoded data removed]",
      "text/plain": [
       "<Figure size 432x288 with 1 Axes>"
      ]
     },
     "metadata": {},
     "output_type": "display_data"
    }
   ],
   "source": [
    "sns.countplot(df.Income_new)\n",
    "#binomial distribution"
   ]
  },
  {
   "cell_type": "code",
   "execution_count": 171,
   "metadata": {},
   "outputs": [
    {
     "data": {
      "text/plain": [
       "['relationship', 'fnlwgt']"
      ]
     },
     "execution_count": 171,
     "metadata": {},
     "output_type": "execute_result"
    }
   ],
   "source": [
    "to_drop=list(set(to_drop))\n",
    "to_drop"
   ]
  },
  {
   "cell_type": "code",
   "execution_count": 173,
   "metadata": {},
   "outputs": [],
   "source": [
    "df1=df.drop(to_drop,axis=1)"
   ]
  },
  {
   "cell_type": "code",
   "execution_count": 175,
   "metadata": {},
   "outputs": [
    {
     "data": {
      "text/plain": [
       "Index(['age', 'workclass', 'education', 'educational-num', 'marital-status',\n",
       "       'occupation', 'race', 'gender', 'capital-gain', 'capital-loss',\n",
       "       'hours-per-week', 'native-country', 'income', 'New_workclass',\n",
       "       'Income_new', 'Capital', 'NativeC', 'Marital_status_new'],\n",
       "      dtype='object')"
      ]
     },
     "execution_count": 175,
     "metadata": {},
     "output_type": "execute_result"
    }
   ],
   "source": [
    "df1.columns"
   ]
  },
  {
   "cell_type": "code",
   "execution_count": 200,
   "metadata": {},
   "outputs": [
    {
     "data": {
      "text/html": [
       "<div>\n",
       "<style scoped>\n",
       "    .dataframe tbody tr th:only-of-type {\n",
       "        vertical-align: middle;\n",
       "    }\n",
       "\n",
       "    .dataframe tbody tr th {\n",
       "        vertical-align: top;\n",
       "    }\n",
       "\n",
       "    .dataframe thead th {\n",
       "        text-align: right;\n",
       "    }\n",
       "</style>\n",
       "<table border=\"1\" class=\"dataframe\">\n",
       "  <thead>\n",
       "    <tr style=\"text-align: right;\">\n",
       "      <th></th>\n",
       "      <th>age</th>\n",
       "      <th>educational-num</th>\n",
       "      <th>occupation</th>\n",
       "      <th>race</th>\n",
       "      <th>gender</th>\n",
       "      <th>hours-per-week</th>\n",
       "      <th>New_workclass</th>\n",
       "      <th>Income_new</th>\n",
       "      <th>Capital</th>\n",
       "      <th>NativeC</th>\n",
       "      <th>Marital_status_new</th>\n",
       "    </tr>\n",
       "  </thead>\n",
       "  <tbody>\n",
       "    <tr>\n",
       "      <th>0</th>\n",
       "      <td>25</td>\n",
       "      <td>7</td>\n",
       "      <td>Machine-op-inspct</td>\n",
       "      <td>Black</td>\n",
       "      <td>Male</td>\n",
       "      <td>40</td>\n",
       "      <td>Private</td>\n",
       "      <td>0</td>\n",
       "      <td>0</td>\n",
       "      <td>US</td>\n",
       "      <td>Single</td>\n",
       "    </tr>\n",
       "    <tr>\n",
       "      <th>1</th>\n",
       "      <td>38</td>\n",
       "      <td>9</td>\n",
       "      <td>Farming-fishing</td>\n",
       "      <td>White</td>\n",
       "      <td>Male</td>\n",
       "      <td>50</td>\n",
       "      <td>Private</td>\n",
       "      <td>0</td>\n",
       "      <td>0</td>\n",
       "      <td>US</td>\n",
       "      <td>Married</td>\n",
       "    </tr>\n",
       "    <tr>\n",
       "      <th>2</th>\n",
       "      <td>28</td>\n",
       "      <td>12</td>\n",
       "      <td>Protective-serv</td>\n",
       "      <td>White</td>\n",
       "      <td>Male</td>\n",
       "      <td>40</td>\n",
       "      <td>gov_related_income</td>\n",
       "      <td>1</td>\n",
       "      <td>0</td>\n",
       "      <td>US</td>\n",
       "      <td>Married</td>\n",
       "    </tr>\n",
       "    <tr>\n",
       "      <th>3</th>\n",
       "      <td>44</td>\n",
       "      <td>10</td>\n",
       "      <td>Machine-op-inspct</td>\n",
       "      <td>Black</td>\n",
       "      <td>Male</td>\n",
       "      <td>40</td>\n",
       "      <td>Private</td>\n",
       "      <td>1</td>\n",
       "      <td>7688</td>\n",
       "      <td>US</td>\n",
       "      <td>Married</td>\n",
       "    </tr>\n",
       "    <tr>\n",
       "      <th>4</th>\n",
       "      <td>18</td>\n",
       "      <td>10</td>\n",
       "      <td>Unknown</td>\n",
       "      <td>White</td>\n",
       "      <td>Female</td>\n",
       "      <td>30</td>\n",
       "      <td>Unknown</td>\n",
       "      <td>0</td>\n",
       "      <td>0</td>\n",
       "      <td>US</td>\n",
       "      <td>Single</td>\n",
       "    </tr>\n",
       "    <tr>\n",
       "      <th>...</th>\n",
       "      <td>...</td>\n",
       "      <td>...</td>\n",
       "      <td>...</td>\n",
       "      <td>...</td>\n",
       "      <td>...</td>\n",
       "      <td>...</td>\n",
       "      <td>...</td>\n",
       "      <td>...</td>\n",
       "      <td>...</td>\n",
       "      <td>...</td>\n",
       "      <td>...</td>\n",
       "    </tr>\n",
       "    <tr>\n",
       "      <th>48837</th>\n",
       "      <td>27</td>\n",
       "      <td>12</td>\n",
       "      <td>Tech-support</td>\n",
       "      <td>White</td>\n",
       "      <td>Female</td>\n",
       "      <td>38</td>\n",
       "      <td>Private</td>\n",
       "      <td>0</td>\n",
       "      <td>0</td>\n",
       "      <td>US</td>\n",
       "      <td>Married</td>\n",
       "    </tr>\n",
       "    <tr>\n",
       "      <th>48838</th>\n",
       "      <td>40</td>\n",
       "      <td>9</td>\n",
       "      <td>Machine-op-inspct</td>\n",
       "      <td>White</td>\n",
       "      <td>Male</td>\n",
       "      <td>40</td>\n",
       "      <td>Private</td>\n",
       "      <td>1</td>\n",
       "      <td>0</td>\n",
       "      <td>US</td>\n",
       "      <td>Married</td>\n",
       "    </tr>\n",
       "    <tr>\n",
       "      <th>48839</th>\n",
       "      <td>58</td>\n",
       "      <td>9</td>\n",
       "      <td>Adm-clerical</td>\n",
       "      <td>White</td>\n",
       "      <td>Female</td>\n",
       "      <td>40</td>\n",
       "      <td>Private</td>\n",
       "      <td>0</td>\n",
       "      <td>0</td>\n",
       "      <td>US</td>\n",
       "      <td>Single</td>\n",
       "    </tr>\n",
       "    <tr>\n",
       "      <th>48840</th>\n",
       "      <td>22</td>\n",
       "      <td>9</td>\n",
       "      <td>Adm-clerical</td>\n",
       "      <td>White</td>\n",
       "      <td>Male</td>\n",
       "      <td>20</td>\n",
       "      <td>Private</td>\n",
       "      <td>0</td>\n",
       "      <td>0</td>\n",
       "      <td>US</td>\n",
       "      <td>Single</td>\n",
       "    </tr>\n",
       "    <tr>\n",
       "      <th>48841</th>\n",
       "      <td>52</td>\n",
       "      <td>9</td>\n",
       "      <td>Exec-managerial</td>\n",
       "      <td>White</td>\n",
       "      <td>Female</td>\n",
       "      <td>40</td>\n",
       "      <td>Self-emp-inc</td>\n",
       "      <td>1</td>\n",
       "      <td>15024</td>\n",
       "      <td>US</td>\n",
       "      <td>Married</td>\n",
       "    </tr>\n",
       "  </tbody>\n",
       "</table>\n",
       "<p>48842 rows × 11 columns</p>\n",
       "</div>"
      ],
      "text/plain": [
       "       age  educational-num         occupation   race  gender  hours-per-week  \\\n",
       "0       25                7  Machine-op-inspct  Black    Male              40   \n",
       "1       38                9    Farming-fishing  White    Male              50   \n",
       "2       28               12    Protective-serv  White    Male              40   \n",
       "3       44               10  Machine-op-inspct  Black    Male              40   \n",
       "4       18               10            Unknown  White  Female              30   \n",
       "...    ...              ...                ...    ...     ...             ...   \n",
       "48837   27               12       Tech-support  White  Female              38   \n",
       "48838   40                9  Machine-op-inspct  White    Male              40   \n",
       "48839   58                9       Adm-clerical  White  Female              40   \n",
       "48840   22                9       Adm-clerical  White    Male              20   \n",
       "48841   52                9    Exec-managerial  White  Female              40   \n",
       "\n",
       "            New_workclass  Income_new  Capital NativeC Marital_status_new  \n",
       "0                 Private           0        0      US             Single  \n",
       "1                 Private           0        0      US            Married  \n",
       "2      gov_related_income           1        0      US            Married  \n",
       "3                 Private           1     7688      US            Married  \n",
       "4                 Unknown           0        0      US             Single  \n",
       "...                   ...         ...      ...     ...                ...  \n",
       "48837             Private           0        0      US            Married  \n",
       "48838             Private           1        0      US            Married  \n",
       "48839             Private           0        0      US             Single  \n",
       "48840             Private           0        0      US             Single  \n",
       "48841        Self-emp-inc           1    15024      US            Married  \n",
       "\n",
       "[48842 rows x 11 columns]"
      ]
     },
     "execution_count": 200,
     "metadata": {},
     "output_type": "execute_result"
    }
   ],
   "source": [
    "df2=df1[['age', 'educational-num','occupation', 'race', 'gender','hours-per-week','New_workclass',\n",
    "       'Income_new','Capital', 'NativeC', 'Marital_status_new']]\n",
    "df2"
   ]
  },
  {
   "cell_type": "code",
   "execution_count": 201,
   "metadata": {},
   "outputs": [
    {
     "data": {
      "text/plain": [
       "['New_workclass',\n",
       " 'gender',\n",
       " 'race',\n",
       " 'NativeC',\n",
       " 'occupation',\n",
       " 'age',\n",
       " 'hours-per-week',\n",
       " 'Marital_status_new',\n",
       " 'age',\n",
       " 'hours-per-week',\n",
       " 'Marital_status_new',\n",
       " 'age',\n",
       " 'hours-per-week',\n",
       " 'Marital_status_new']"
      ]
     },
     "execution_count": 201,
     "metadata": {},
     "output_type": "execute_result"
    }
   ],
   "source": [
    "to_dummies.extend(['age','hours-per-week','Marital_status_new'])\n"
   ]
  },
  {
   "cell_type": "code",
   "execution_count": 205,
   "metadata": {},
   "outputs": [
    {
     "data": {
      "text/plain": [
       "['occupation',\n",
       " 'New_workclass',\n",
       " 'gender',\n",
       " 'age',\n",
       " 'NativeC',\n",
       " 'race',\n",
       " 'hours-per-week',\n",
       " 'Marital_status_new']"
      ]
     },
     "execution_count": 205,
     "metadata": {},
     "output_type": "execute_result"
    }
   ],
   "source": [
    "to_dummies=list(set(to_dummies))\n",
    "to_dummies"
   ]
  },
  {
   "cell_type": "code",
   "execution_count": 206,
   "metadata": {},
   "outputs": [],
   "source": [
    "df3=pd.get_dummies(data=df2, columns=to_dummies,drop_first=True)"
   ]
  },
  {
   "cell_type": "code",
   "execution_count": 207,
   "metadata": {},
   "outputs": [
    {
     "data": {
      "text/plain": [
       "(48842, 208)"
      ]
     },
     "execution_count": 207,
     "metadata": {},
     "output_type": "execute_result"
    }
   ],
   "source": [
    "df3.shape"
   ]
  },
  {
   "cell_type": "code",
   "execution_count": 208,
   "metadata": {},
   "outputs": [
    {
     "data": {
      "text/html": [
       "<div>\n",
       "<style scoped>\n",
       "    .dataframe tbody tr th:only-of-type {\n",
       "        vertical-align: middle;\n",
       "    }\n",
       "\n",
       "    .dataframe tbody tr th {\n",
       "        vertical-align: top;\n",
       "    }\n",
       "\n",
       "    .dataframe thead th {\n",
       "        text-align: right;\n",
       "    }\n",
       "</style>\n",
       "<table border=\"1\" class=\"dataframe\">\n",
       "  <thead>\n",
       "    <tr style=\"text-align: right;\">\n",
       "      <th></th>\n",
       "      <th>educational-num</th>\n",
       "      <th>Income_new</th>\n",
       "      <th>Capital</th>\n",
       "      <th>occupation_Armed-Forces</th>\n",
       "      <th>occupation_Craft-repair</th>\n",
       "      <th>occupation_Exec-managerial</th>\n",
       "      <th>occupation_Farming-fishing</th>\n",
       "      <th>occupation_Handlers-cleaners</th>\n",
       "      <th>occupation_Machine-op-inspct</th>\n",
       "      <th>occupation_Other-service</th>\n",
       "      <th>...</th>\n",
       "      <th>hours-per-week_90</th>\n",
       "      <th>hours-per-week_91</th>\n",
       "      <th>hours-per-week_92</th>\n",
       "      <th>hours-per-week_94</th>\n",
       "      <th>hours-per-week_95</th>\n",
       "      <th>hours-per-week_96</th>\n",
       "      <th>hours-per-week_97</th>\n",
       "      <th>hours-per-week_98</th>\n",
       "      <th>hours-per-week_99</th>\n",
       "      <th>Marital_status_new_Single</th>\n",
       "    </tr>\n",
       "  </thead>\n",
       "  <tbody>\n",
       "    <tr>\n",
       "      <th>0</th>\n",
       "      <td>7</td>\n",
       "      <td>0</td>\n",
       "      <td>0</td>\n",
       "      <td>0</td>\n",
       "      <td>0</td>\n",
       "      <td>0</td>\n",
       "      <td>0</td>\n",
       "      <td>0</td>\n",
       "      <td>1</td>\n",
       "      <td>0</td>\n",
       "      <td>...</td>\n",
       "      <td>0</td>\n",
       "      <td>0</td>\n",
       "      <td>0</td>\n",
       "      <td>0</td>\n",
       "      <td>0</td>\n",
       "      <td>0</td>\n",
       "      <td>0</td>\n",
       "      <td>0</td>\n",
       "      <td>0</td>\n",
       "      <td>1</td>\n",
       "    </tr>\n",
       "    <tr>\n",
       "      <th>1</th>\n",
       "      <td>9</td>\n",
       "      <td>0</td>\n",
       "      <td>0</td>\n",
       "      <td>0</td>\n",
       "      <td>0</td>\n",
       "      <td>0</td>\n",
       "      <td>1</td>\n",
       "      <td>0</td>\n",
       "      <td>0</td>\n",
       "      <td>0</td>\n",
       "      <td>...</td>\n",
       "      <td>0</td>\n",
       "      <td>0</td>\n",
       "      <td>0</td>\n",
       "      <td>0</td>\n",
       "      <td>0</td>\n",
       "      <td>0</td>\n",
       "      <td>0</td>\n",
       "      <td>0</td>\n",
       "      <td>0</td>\n",
       "      <td>0</td>\n",
       "    </tr>\n",
       "    <tr>\n",
       "      <th>2</th>\n",
       "      <td>12</td>\n",
       "      <td>1</td>\n",
       "      <td>0</td>\n",
       "      <td>0</td>\n",
       "      <td>0</td>\n",
       "      <td>0</td>\n",
       "      <td>0</td>\n",
       "      <td>0</td>\n",
       "      <td>0</td>\n",
       "      <td>0</td>\n",
       "      <td>...</td>\n",
       "      <td>0</td>\n",
       "      <td>0</td>\n",
       "      <td>0</td>\n",
       "      <td>0</td>\n",
       "      <td>0</td>\n",
       "      <td>0</td>\n",
       "      <td>0</td>\n",
       "      <td>0</td>\n",
       "      <td>0</td>\n",
       "      <td>0</td>\n",
       "    </tr>\n",
       "    <tr>\n",
       "      <th>3</th>\n",
       "      <td>10</td>\n",
       "      <td>1</td>\n",
       "      <td>7688</td>\n",
       "      <td>0</td>\n",
       "      <td>0</td>\n",
       "      <td>0</td>\n",
       "      <td>0</td>\n",
       "      <td>0</td>\n",
       "      <td>1</td>\n",
       "      <td>0</td>\n",
       "      <td>...</td>\n",
       "      <td>0</td>\n",
       "      <td>0</td>\n",
       "      <td>0</td>\n",
       "      <td>0</td>\n",
       "      <td>0</td>\n",
       "      <td>0</td>\n",
       "      <td>0</td>\n",
       "      <td>0</td>\n",
       "      <td>0</td>\n",
       "      <td>0</td>\n",
       "    </tr>\n",
       "    <tr>\n",
       "      <th>4</th>\n",
       "      <td>10</td>\n",
       "      <td>0</td>\n",
       "      <td>0</td>\n",
       "      <td>0</td>\n",
       "      <td>0</td>\n",
       "      <td>0</td>\n",
       "      <td>0</td>\n",
       "      <td>0</td>\n",
       "      <td>0</td>\n",
       "      <td>0</td>\n",
       "      <td>...</td>\n",
       "      <td>0</td>\n",
       "      <td>0</td>\n",
       "      <td>0</td>\n",
       "      <td>0</td>\n",
       "      <td>0</td>\n",
       "      <td>0</td>\n",
       "      <td>0</td>\n",
       "      <td>0</td>\n",
       "      <td>0</td>\n",
       "      <td>1</td>\n",
       "    </tr>\n",
       "  </tbody>\n",
       "</table>\n",
       "<p>5 rows × 208 columns</p>\n",
       "</div>"
      ],
      "text/plain": [
       "   educational-num  Income_new  Capital  occupation_Armed-Forces  \\\n",
       "0                7           0        0                        0   \n",
       "1                9           0        0                        0   \n",
       "2               12           1        0                        0   \n",
       "3               10           1     7688                        0   \n",
       "4               10           0        0                        0   \n",
       "\n",
       "   occupation_Craft-repair  occupation_Exec-managerial  \\\n",
       "0                        0                           0   \n",
       "1                        0                           0   \n",
       "2                        0                           0   \n",
       "3                        0                           0   \n",
       "4                        0                           0   \n",
       "\n",
       "   occupation_Farming-fishing  occupation_Handlers-cleaners  \\\n",
       "0                           0                             0   \n",
       "1                           1                             0   \n",
       "2                           0                             0   \n",
       "3                           0                             0   \n",
       "4                           0                             0   \n",
       "\n",
       "   occupation_Machine-op-inspct  occupation_Other-service  ...  \\\n",
       "0                             1                         0  ...   \n",
       "1                             0                         0  ...   \n",
       "2                             0                         0  ...   \n",
       "3                             1                         0  ...   \n",
       "4                             0                         0  ...   \n",
       "\n",
       "   hours-per-week_90  hours-per-week_91  hours-per-week_92  hours-per-week_94  \\\n",
       "0                  0                  0                  0                  0   \n",
       "1                  0                  0                  0                  0   \n",
       "2                  0                  0                  0                  0   \n",
       "3                  0                  0                  0                  0   \n",
       "4                  0                  0                  0                  0   \n",
       "\n",
       "   hours-per-week_95  hours-per-week_96  hours-per-week_97  hours-per-week_98  \\\n",
       "0                  0                  0                  0                  0   \n",
       "1                  0                  0                  0                  0   \n",
       "2                  0                  0                  0                  0   \n",
       "3                  0                  0                  0                  0   \n",
       "4                  0                  0                  0                  0   \n",
       "\n",
       "   hours-per-week_99  Marital_status_new_Single  \n",
       "0                  0                          1  \n",
       "1                  0                          0  \n",
       "2                  0                          0  \n",
       "3                  0                          0  \n",
       "4                  0                          1  \n",
       "\n",
       "[5 rows x 208 columns]"
      ]
     },
     "execution_count": 208,
     "metadata": {},
     "output_type": "execute_result"
    }
   ],
   "source": [
    "df3.head()"
   ]
  },
  {
   "cell_type": "markdown",
   "metadata": {},
   "source": [
    "# Modelling"
   ]
  },
  {
   "cell_type": "code",
   "execution_count": 222,
   "metadata": {},
   "outputs": [],
   "source": [
    "from sklearn.model_selection import train_test_split\n",
    "\n",
    "from sklearn.linear_model import LogisticRegression\n",
    "from sklearn.neighbors import KNeighborsClassifier\n",
    "from sklearn.naive_bayes import GaussianNB\n",
    "from sklearn.tree import DecisionTreeClassifier\n",
    "from sklearn.ensemble import RandomForestClassifier\n",
    "from sklearn.svm import SVC\n",
    "from sklearn.svm import NuSVC\n",
    "from sklearn.ensemble import AdaBoostClassifier\n",
    "from catboost import CatBoostClassifier\n",
    "\n",
    "from sklearn.metrics import confusion_matrix, accuracy_score, recall_score, precision_score, f1_score\n",
    "\n",
    "from statsmodels.formula.api import ols\n",
    "from statsmodels.api import OLS\n",
    "from statsmodels.api import add_constant"
   ]
  },
  {
   "cell_type": "code",
   "execution_count": 244,
   "metadata": {},
   "outputs": [],
   "source": [
    "# Lanceur de models\n",
    "model_list=[LogisticRegression,GaussianNB,DecisionTreeClassifier,RandomForestClassifier,SVC,AdaBoostClassifier,CatBoostClassifier]\n",
    "\n",
    "#Ecrire uen classe abvec les modeles\n",
    "def LaunchAllModels(model_list):\n",
    "    results=[]\n",
    "    for i in model_list:\n",
    "        model=eval(f'{i}()')\n",
    "        model.fit(X_train,y_train)\n",
    "        y_pred=model.predict(X_test)\n",
    "        conf=confusion_matrix(y_test,y_pred)\n",
    "        print(f'Model{i}')\n",
    "        display(conf)\n",
    "        acc=accuracy_score(y_test,y_pred)\n",
    "        rec=recall_score(y_test,y_pred)\n",
    "        pr=precision_score(y_test,y_pred)\n",
    "        f1=f1_score(y_test,y_pred)\n",
    "        print(f'acc: {acc},pr:{pr},rec:{rec},f1:{f1}')\n",
    "        results.append([i,acc,rec,pr,f1])\n",
    "    return results\n",
    "                    "
   ]
  },
  {
   "cell_type": "code",
   "execution_count": null,
   "metadata": {},
   "outputs": [],
   "source": []
  },
  {
   "cell_type": "code",
   "execution_count": null,
   "metadata": {},
   "outputs": [],
   "source": [
    "#from xgboost import XGBClassifier\n",
    "#could not be loaded\n",
    "\"\"\" verifier comment faire pour mac\"\"\""
   ]
  },
  {
   "cell_type": "code",
   "execution_count": 209,
   "metadata": {},
   "outputs": [],
   "source": [
    "# splitting  dataset into train and test for all models except Logistic regression and SVM and Gaussian Naive Bayes\n",
    "X_train, X_test,y_train,y_test = train_test_split(df2.drop('Income_new',axis=1), \\\n",
    "                                                  df.Income_new, \\\n",
    "                                                  test_size=1/3, \\\n",
    "                                                  random_state=42, \\\n",
    "                                                  stratify=df.Income_new)"
   ]
  },
  {
   "cell_type": "code",
   "execution_count": 210,
   "metadata": {},
   "outputs": [],
   "source": [
    "# splitting  dataset into train and test for Logistic regression and SVM (no categorical) and Gaussian Naive Bayes\n",
    "X1_train, X1_test,y1_train,y1_test = train_test_split(df3.drop('Income_new',axis=1), \\\n",
    "                                                  df3.Income_new, \\\n",
    "                                                  test_size=1/3, \\\n",
    "                                                  random_state=42, \\\n",
    "                                                  stratify=df3.Income_new)"
   ]
  },
  {
   "cell_type": "markdown",
   "metadata": {},
   "source": [
    "### Logistic Regression"
   ]
  },
  {
   "cell_type": "code",
   "execution_count": 216,
   "metadata": {},
   "outputs": [
    {
     "data": {
      "text/plain": [
       "array([[11544,   841],\n",
       "       [ 1615,  2281]])"
      ]
     },
     "metadata": {},
     "output_type": "display_data"
    },
    {
     "name": "stdout",
     "output_type": "stream",
     "text": [
      "acc1: 0.8491493151526319,pr1:0.730621396540679,rec1:0.5854722792607803,f11:0.6500427472214306\n"
     ]
    }
   ],
   "source": [
    "# need numeric data 'calcul of distance'\n",
    "model1=LogisticRegression(max_iter=1e8)\n",
    "model1.fit(X1_train,y1_train)\n",
    "y_pred1=model1.predict(X1_test)\n",
    "conf1=confusion_matrix(y1_test,y_pred1)\n",
    "display(conf1)\n",
    "acc1=accuracy_score(y1_test,y_pred1)\n",
    "rec1=recall_score(y1_test,y_pred1)\n",
    "pr1=precision_score(y1_test,y_pred1)\n",
    "f11=f1_score(y1_test,y_pred1)\n",
    "print(f'acc1: {acc1},pr1:{pr1},rec1:{rec1},f11:{f11}')"
   ]
  },
  {
   "cell_type": "markdown",
   "metadata": {},
   "source": [
    "Confusion Matrix\n",
    "\n",
    "\n",
    "$$\\begin{bmatrix} True Positive & False Negative \\\\ False Positive & True Negative \\end{bmatrix}$$\n",
    "\n",
    "Definition of the Terms:\n",
    "\n",
    "##### Positive (P) : Observation is positive (for example: is an apple).\n",
    "##### Negative (N) : Observation is not positive (for example: is not an apple).\n",
    "##### True Positive (TP) : Observation is positive, and is predicted to be positive.\n",
    "##### False Negative (FN) : Observation is positive, but is predicted negative.\n",
    "##### True Negative (TN) : Observation is negative, and is predicted to be negative.\n",
    "##### False Positive (FP) : Observation is negative, but is predicted positive.\n",
    "\n",
    "$$accuracy = \\frac{TN+TP}{TN+TP+FN+FP}$$\n",
    "\n",
    "However, there are problems with accuracy. It assumes equal costs for both kinds of errors. A 99% accuracy can be excellent, good, mediocre, poor or terrible depending upon the problem.\n",
    "\n",
    "$$recall= \\frac{TP}{TP+FN}$$\n",
    "Recall can be defined as the ratio of the total number of correctly classified positive examples divide to the total number of positive examples. High Recall indicates the class is correctly recognized (a small number of FN).\n",
    "\n",
    "$$precision = \\frac{TP}{TP+FP}$$\n",
    "To get the value of precision we divide the total number of correctly classified positive examples by the total number of predicted positive examples. High Precision indicates an example labelled as positive is indeed positive (a small number of FP).\n",
    "\n",
    "High recall, low precision: This means that most of the positive examples are correctly recognized (low FN) but there are a lot of false positives.\n",
    "\n",
    "Low recall, high precision: This shows that we miss a lot of positive examples (high FN) but those we predict as positive are indeed positive (low FP)\n",
    "\n",
    "\n",
    "$$f-measure = \\frac{2*recall*precision}{recall+precision}$$\n",
    "F-measure:\n",
    "Since we have two measures (Precision and Recall) it helps to have a measurement that represents both of them. We calculate an F-measure which uses Harmonic Mean in place of Arithmetic Mean as it punishes the extreme values more.\n",
    "The F-Measure will always be nearer to the smaller value of Precision or Recall."
   ]
  },
  {
   "cell_type": "markdown",
   "metadata": {},
   "source": [
    "##### Test assumption for this model"
   ]
  },
  {
   "cell_type": "markdown",
   "metadata": {},
   "source": [
    "### Logistic Regression balanced"
   ]
  },
  {
   "cell_type": "code",
   "execution_count": 219,
   "metadata": {},
   "outputs": [
    {
     "data": {
      "text/plain": [
       "array([[9797, 2588],\n",
       "       [ 624, 3272]])"
      ]
     },
     "metadata": {},
     "output_type": "display_data"
    },
    {
     "name": "stdout",
     "output_type": "stream",
     "text": [
      "acc2: 0.8027148209569437,pr2:0.5583617747440273,rec2:0.839835728952772,f12:0.6707667076670766\n"
     ]
    }
   ],
   "source": [
    "# need numeric data 'calcul of distance'\n",
    "model2=LogisticRegression(max_iter=1e8,class_weight='balanced')\n",
    "model2.fit(X1_train,y1_train)\n",
    "y_pred2=model2.predict(X1_test)\n",
    "conf2=confusion_matrix(y1_test,y_pred2)\n",
    "display(conf2)\n",
    "acc2=accuracy_score(y1_test,y_pred2)\n",
    "rec2=recall_score(y1_test,y_pred2)\n",
    "pr2=precision_score(y1_test,y_pred2)\n",
    "f12=f1_score(y1_test,y_pred2)\n",
    "print(f'acc2: {acc2},pr2:{pr2},rec2:{rec2},f12:{f12}')"
   ]
  },
  {
   "cell_type": "code",
   "execution_count": null,
   "metadata": {},
   "outputs": [],
   "source": []
  },
  {
   "cell_type": "markdown",
   "metadata": {},
   "source": [
    "##### Test assumption for this model"
   ]
  },
  {
   "cell_type": "markdown",
   "metadata": {},
   "source": [
    "###  Support Vector Machine"
   ]
  },
  {
   "cell_type": "code",
   "execution_count": 221,
   "metadata": {},
   "outputs": [
    {
     "data": {
      "text/plain": [
       "array([[12003,   382],\n",
       "       [ 2834,  1062]])"
      ]
     },
     "metadata": {},
     "output_type": "display_data"
    },
    {
     "name": "stdout",
     "output_type": "stream",
     "text": [
      "acc3: 0.8024691358024691,pr3:0.7354570637119113,rec3:0.27258726899383984,f13:0.39775280898876403\n"
     ]
    }
   ],
   "source": [
    "# need numeric data 'calcul of distance'\n",
    "model3=SVC()\n",
    "model3.fit(X1_train,y1_train)\n",
    "y_pred3=model3.predict(X1_test)\n",
    "conf3=confusion_matrix(y1_test,y_pred3)\n",
    "display(conf3)\n",
    "acc3=accuracy_score(y1_test,y_pred3)\n",
    "rec3=recall_score(y1_test,y_pred3)\n",
    "pr3=precision_score(y1_test,y_pred3)\n",
    "f13=f1_score(y1_test,y_pred3)\n",
    "print(f'acc3: {acc3},pr3:{pr3},rec3:{rec3},f13:{f13}')"
   ]
  },
  {
   "cell_type": "code",
   "execution_count": null,
   "metadata": {},
   "outputs": [],
   "source": [
    "##tester les kernel"
   ]
  },
  {
   "cell_type": "markdown",
   "metadata": {},
   "source": [
    "##### Test assumption for this model"
   ]
  },
  {
   "cell_type": "markdown",
   "metadata": {},
   "source": [
    "### Nu-Support Vector Machine"
   ]
  },
  {
   "cell_type": "code",
   "execution_count": 224,
   "metadata": {},
   "outputs": [
    {
     "data": {
      "text/plain": [
       "array([[  424, 11961],\n",
       "       [  894,  3002]])"
      ]
     },
     "metadata": {},
     "output_type": "display_data"
    },
    {
     "name": "stdout",
     "output_type": "stream",
     "text": [
      "acc4: 0.21042933480744427,pr4:0.20062821626679142,rec4:0.7705338809034907,f14:0.3183625855029429\n"
     ]
    }
   ],
   "source": [
    "model4=NuSVC(nu=0.1)\n",
    "model4.fit(X1_train,y1_train)\n",
    "y_pred4=model4.predict(X1_test)\n",
    "conf4=confusion_matrix(y1_test,y_pred4)\n",
    "display(conf4)\n",
    "acc4=accuracy_score(y1_test,y_pred4)\n",
    "rec4=recall_score(y1_test,y_pred4)\n",
    "pr4=precision_score(y1_test,y_pred4)\n",
    "f14=f1_score(y1_test,y_pred4)\n",
    "print(f'acc4: {acc4},pr4:{pr4},rec4:{rec4},f14:{f14}')"
   ]
  },
  {
   "cell_type": "code",
   "execution_count": null,
   "metadata": {},
   "outputs": [],
   "source": []
  },
  {
   "cell_type": "markdown",
   "metadata": {},
   "source": [
    "##### Test assumption for this model"
   ]
  },
  {
   "cell_type": "code",
   "execution_count": null,
   "metadata": {},
   "outputs": [],
   "source": []
  },
  {
   "cell_type": "markdown",
   "metadata": {},
   "source": [
    "## Gaussian Naive Bayes"
   ]
  },
  {
   "cell_type": "code",
   "execution_count": 226,
   "metadata": {},
   "outputs": [
    {
     "data": {
      "text/plain": [
       "array([[10590,  1795],\n",
       "       [ 1113,  2783]])"
      ]
     },
     "metadata": {},
     "output_type": "display_data"
    },
    {
     "name": "stdout",
     "output_type": "stream",
     "text": [
      "acc5: 0.8213868926970088,pr5:0.607907383136741,rec5:0.7143223819301848,f15:0.6568326646211942\n"
     ]
    }
   ],
   "source": [
    "model5=GaussianNB()\n",
    "model5.fit(X1_train,y1_train)\n",
    "y_pred5=model5.predict(X1_test)\n",
    "conf5=confusion_matrix(y1_test,y_pred5)\n",
    "display(conf5)\n",
    "acc5=accuracy_score(y1_test,y_pred5)\n",
    "rec5=recall_score(y1_test,y_pred5)\n",
    "pr5=precision_score(y1_test,y_pred5)\n",
    "f15=f1_score(y1_test,y_pred5)\n",
    "print(f'acc5: {acc5},pr5:{pr5},rec5:{rec5},f15:{f15}')"
   ]
  },
  {
   "cell_type": "markdown",
   "metadata": {},
   "source": [
    "## Decision Trees"
   ]
  },
  {
   "cell_type": "code",
   "execution_count": 228,
   "metadata": {},
   "outputs": [
    {
     "data": {
      "text/plain": [
       "array([[10590,  1795],\n",
       "       [ 1113,  2783]])"
      ]
     },
     "metadata": {},
     "output_type": "display_data"
    },
    {
     "name": "stdout",
     "output_type": "stream",
     "text": [
      "acc6: 0.8213868926970088,pr6:0.607907383136741,rec6:0.7143223819301848,f16:0.6568326646211942\n"
     ]
    }
   ],
   "source": [
    "model6=DecisionTreeClassifier()\n",
    "model6.fit(X1_train,y1_train)\n",
    "y_pred6=model5.predict(X1_test)\n",
    "conf6=confusion_matrix(y1_test,y_pred6)\n",
    "display(conf6)\n",
    "acc6=accuracy_score(y1_test,y_pred6)\n",
    "rec6=recall_score(y1_test,y_pred6)\n",
    "pr6=precision_score(y1_test,y_pred6)\n",
    "f16=f1_score(y1_test,y_pred6)\n",
    "print(f'acc6: {acc6},pr6:{pr6},rec6:{rec6},f16:{f16}')"
   ]
  },
  {
   "cell_type": "code",
   "execution_count": null,
   "metadata": {},
   "outputs": [],
   "source": []
  },
  {
   "cell_type": "markdown",
   "metadata": {},
   "source": [
    "##### Test assumption for this model"
   ]
  },
  {
   "cell_type": "code",
   "execution_count": null,
   "metadata": {},
   "outputs": [],
   "source": []
  },
  {
   "cell_type": "markdown",
   "metadata": {},
   "source": [
    "## Random Forest"
   ]
  },
  {
   "cell_type": "code",
   "execution_count": 230,
   "metadata": {},
   "outputs": [
    {
     "data": {
      "text/plain": [
       "array([[11474,   911],\n",
       "       [ 1559,  2337]])"
      ]
     },
     "metadata": {},
     "output_type": "display_data"
    },
    {
     "name": "stdout",
     "output_type": "stream",
     "text": [
      "acc7: 0.848289417111971,pr7:0.7195197044334976,rec7:0.5998459958932238,f17:0.6542553191489362\n"
     ]
    }
   ],
   "source": [
    "model7=RandomForestClassifier()\n",
    "model7.fit(X1_train,y_train)\n",
    "y_pred7=model7.predict(X1_test)\n",
    "conf7=confusion_matrix(y1_test,y_pred7)\n",
    "display(conf7)\n",
    "acc7=accuracy_score(y1_test,y_pred7)\n",
    "rec7=recall_score(y1_test,y_pred7)\n",
    "pr7=precision_score(y1_test,y_pred7)\n",
    "f17=f1_score(y1_test,y_pred7)\n",
    "print(f'acc7: {acc7},pr7:{pr7},rec7:{rec7},f17:{f17}')"
   ]
  },
  {
   "cell_type": "code",
   "execution_count": null,
   "metadata": {},
   "outputs": [],
   "source": []
  },
  {
   "cell_type": "markdown",
   "metadata": {},
   "source": [
    "##### Test assumption for this model"
   ]
  },
  {
   "cell_type": "code",
   "execution_count": null,
   "metadata": {},
   "outputs": [],
   "source": []
  },
  {
   "cell_type": "markdown",
   "metadata": {},
   "source": [
    "## Random Forest balanced"
   ]
  },
  {
   "cell_type": "code",
   "execution_count": 232,
   "metadata": {},
   "outputs": [
    {
     "data": {
      "text/plain": [
       "array([[11262,  1123],\n",
       "       [ 1422,  2474]])"
      ]
     },
     "metadata": {},
     "output_type": "display_data"
    },
    {
     "name": "stdout",
     "output_type": "stream",
     "text": [
      "acc8: 0.8436828204655734,pr8:0.6877953850430915,rec8:0.6350102669404517,f18:0.6603496596823702\n"
     ]
    }
   ],
   "source": [
    "model8=RandomForestClassifier(class_weight='balanced')\n",
    "model8.fit(X1_train,y_train)\n",
    "y_pred8=model8.predict(X1_test)\n",
    "conf8=confusion_matrix(y1_test,y_pred8)\n",
    "display(conf8)\n",
    "acc8=accuracy_score(y1_test,y_pred8)\n",
    "rec8=recall_score(y1_test,y_pred8)\n",
    "pr8=precision_score(y1_test,y_pred8)\n",
    "f18=f1_score(y1_test,y_pred8)\n",
    "print(f'acc8: {acc8},pr8:{pr8},rec8:{rec8},f18:{f18}')"
   ]
  },
  {
   "cell_type": "code",
   "execution_count": null,
   "metadata": {},
   "outputs": [],
   "source": []
  },
  {
   "cell_type": "markdown",
   "metadata": {},
   "source": [
    "##### Test assumption for this model"
   ]
  },
  {
   "cell_type": "code",
   "execution_count": null,
   "metadata": {},
   "outputs": [],
   "source": []
  },
  {
   "cell_type": "markdown",
   "metadata": {},
   "source": [
    "## ADABOOST"
   ]
  },
  {
   "cell_type": "code",
   "execution_count": 234,
   "metadata": {},
   "outputs": [
    {
     "data": {
      "text/plain": [
       "array([[11262,  1123],\n",
       "       [ 1422,  2474]])"
      ]
     },
     "metadata": {},
     "output_type": "display_data"
    },
    {
     "name": "stdout",
     "output_type": "stream",
     "text": [
      "acc9: 0.8583625084454272,pr9:0.7567829457364341,rec9:0.6013860369609856,f18:0.6701945080091533\n"
     ]
    }
   ],
   "source": [
    "model9=AdaBoostClassifier()\n",
    "model9.fit(X1_train,y_train)\n",
    "y_pred9=model9.predict(X1_test)\n",
    "conf9=confusion_matrix(y1_test,y_pred9)\n",
    "display(conf8)\n",
    "acc9=accuracy_score(y1_test,y_pred9)\n",
    "rec9=recall_score(y1_test,y_pred9)\n",
    "pr9=precision_score(y1_test,y_pred9)\n",
    "f19=f1_score(y1_test,y_pred9)\n",
    "print(f'acc9: {acc9},pr9:{pr9},rec9:{rec9},f18:{f19}')"
   ]
  },
  {
   "cell_type": "code",
   "execution_count": null,
   "metadata": {},
   "outputs": [],
   "source": []
  },
  {
   "cell_type": "markdown",
   "metadata": {},
   "source": [
    "##### Test assumption for this model"
   ]
  },
  {
   "cell_type": "code",
   "execution_count": null,
   "metadata": {},
   "outputs": [],
   "source": []
  },
  {
   "cell_type": "markdown",
   "metadata": {},
   "source": [
    "## XGBOOST"
   ]
  },
  {
   "cell_type": "code",
   "execution_count": null,
   "metadata": {},
   "outputs": [],
   "source": [
    "#model10=XGBClassifier()"
   ]
  },
  {
   "cell_type": "code",
   "execution_count": null,
   "metadata": {},
   "outputs": [],
   "source": []
  },
  {
   "cell_type": "markdown",
   "metadata": {},
   "source": [
    "##### Test assumption for this model"
   ]
  },
  {
   "cell_type": "code",
   "execution_count": null,
   "metadata": {},
   "outputs": [],
   "source": []
  },
  {
   "cell_type": "markdown",
   "metadata": {},
   "source": [
    "## K-Nearest Neighbors"
   ]
  },
  {
   "cell_type": "code",
   "execution_count": 235,
   "metadata": {},
   "outputs": [
    {
     "data": {
      "text/plain": [
       "array([[11465,   920],\n",
       "       [ 1478,  2418]])"
      ]
     },
     "metadata": {},
     "output_type": "display_data"
    },
    {
     "name": "stdout",
     "output_type": "stream",
     "text": [
      "acc11: 0.8527117498925127,pr11:0.7243858597962852,rec11:0.6206365503080082,f18:0.6685098147636164\n"
     ]
    }
   ],
   "source": [
    "model11=KNeighborsClassifier(n_neighbors=7)\n",
    "model11.fit(X1_train,y_train)\n",
    "y_pred11=model11.predict(X1_test)\n",
    "conf11=confusion_matrix(y1_test,y_pred11)\n",
    "display(conf11)\n",
    "acc11=accuracy_score(y1_test,y_pred11)\n",
    "rec11=recall_score(y1_test,y_pred11)\n",
    "pr11=precision_score(y1_test,y_pred11)\n",
    "f111=f1_score(y1_test,y_pred11)\n",
    "print(f'acc11: {acc11},pr11:{pr11},rec11:{rec11},f18:{f111}')"
   ]
  },
  {
   "cell_type": "code",
   "execution_count": null,
   "metadata": {},
   "outputs": [],
   "source": []
  },
  {
   "cell_type": "code",
   "execution_count": 240,
   "metadata": {},
   "outputs": [
    {
     "data": {
      "text/plain": [
       "array([[11346,  1039],\n",
       "       [ 1494,  2402]])"
      ]
     },
     "metadata": {},
     "output_type": "display_data"
    },
    {
     "name": "stdout",
     "output_type": "stream",
     "text": [
      "acc12: 0.844419875928997,pr12:0.6980528916012787,rec11:0.61652977412731,f18:0.6547635273272454\n"
     ]
    }
   ],
   "source": [
    "model12=KNeighborsClassifier(weights='distance')\n",
    "model12.fit(X1_train,y_train)\n",
    "y_pred12=model12.predict(X1_test)\n",
    "conf12=confusion_matrix(y1_test,y_pred12)\n",
    "display(conf12)\n",
    "acc12=accuracy_score(y1_test,y_pred12)\n",
    "rec12=recall_score(y1_test,y_pred12)\n",
    "pr12=precision_score(y1_test,y_pred12)\n",
    "f112=f1_score(y1_test,y_pred12)\n",
    "print(f'acc12: {acc12},pr12:{pr12},rec11:{rec12},f18:{f112}')"
   ]
  },
  {
   "cell_type": "markdown",
   "metadata": {},
   "source": [
    "##### Test assumption for this model"
   ]
  },
  {
   "cell_type": "code",
   "execution_count": null,
   "metadata": {},
   "outputs": [],
   "source": []
  },
  {
   "cell_type": "markdown",
   "metadata": {},
   "source": [
    "## Catboost"
   ]
  },
  {
   "cell_type": "code",
   "execution_count": 241,
   "metadata": {},
   "outputs": [
    {
     "name": "stdout",
     "output_type": "stream",
     "text": [
      "Learning rate set to 0.045589\n",
      "0:\tlearn: 0.6484813\ttotal: 123ms\tremaining: 2m 3s\n",
      "1:\tlearn: 0.6093168\ttotal: 153ms\tremaining: 1m 16s\n",
      "2:\tlearn: 0.5746441\ttotal: 194ms\tremaining: 1m 4s\n",
      "3:\tlearn: 0.5468121\ttotal: 233ms\tremaining: 58s\n",
      "4:\tlearn: 0.5221926\ttotal: 257ms\tremaining: 51.1s\n",
      "5:\tlearn: 0.5007160\ttotal: 290ms\tremaining: 48.1s\n",
      "6:\tlearn: 0.4820976\ttotal: 324ms\tremaining: 45.9s\n",
      "7:\tlearn: 0.4657281\ttotal: 357ms\tremaining: 44.3s\n",
      "8:\tlearn: 0.4503488\ttotal: 396ms\tremaining: 43.6s\n",
      "9:\tlearn: 0.4364144\ttotal: 433ms\tremaining: 42.9s\n",
      "10:\tlearn: 0.4256822\ttotal: 468ms\tremaining: 42.1s\n",
      "11:\tlearn: 0.4151650\ttotal: 501ms\tremaining: 41.2s\n",
      "12:\tlearn: 0.4062651\ttotal: 532ms\tremaining: 40.4s\n",
      "13:\tlearn: 0.3988068\ttotal: 560ms\tremaining: 39.5s\n",
      "14:\tlearn: 0.3914389\ttotal: 586ms\tremaining: 38.5s\n",
      "15:\tlearn: 0.3859292\ttotal: 616ms\tremaining: 37.9s\n",
      "16:\tlearn: 0.3799221\ttotal: 655ms\tremaining: 37.8s\n",
      "17:\tlearn: 0.3751730\ttotal: 691ms\tremaining: 37.7s\n",
      "18:\tlearn: 0.3707214\ttotal: 749ms\tremaining: 38.7s\n",
      "19:\tlearn: 0.3668392\ttotal: 785ms\tremaining: 38.4s\n",
      "20:\tlearn: 0.3643110\ttotal: 827ms\tremaining: 38.6s\n",
      "21:\tlearn: 0.3613963\ttotal: 876ms\tremaining: 38.9s\n",
      "22:\tlearn: 0.3584697\ttotal: 911ms\tremaining: 38.7s\n",
      "23:\tlearn: 0.3558490\ttotal: 954ms\tremaining: 38.8s\n",
      "24:\tlearn: 0.3535265\ttotal: 995ms\tremaining: 38.8s\n",
      "25:\tlearn: 0.3506400\ttotal: 1.08s\tremaining: 40.3s\n",
      "26:\tlearn: 0.3493129\ttotal: 1.12s\tremaining: 40.3s\n",
      "27:\tlearn: 0.3469313\ttotal: 1.16s\tremaining: 40.1s\n",
      "28:\tlearn: 0.3451849\ttotal: 1.19s\tremaining: 39.9s\n",
      "29:\tlearn: 0.3437181\ttotal: 1.23s\tremaining: 39.8s\n",
      "30:\tlearn: 0.3421239\ttotal: 1.26s\tremaining: 39.3s\n",
      "31:\tlearn: 0.3408318\ttotal: 1.28s\tremaining: 38.8s\n",
      "32:\tlearn: 0.3396005\ttotal: 1.31s\tremaining: 38.5s\n",
      "33:\tlearn: 0.3385503\ttotal: 1.34s\tremaining: 38.2s\n",
      "34:\tlearn: 0.3371380\ttotal: 1.38s\tremaining: 38s\n",
      "35:\tlearn: 0.3364133\ttotal: 1.42s\tremaining: 38s\n",
      "36:\tlearn: 0.3355008\ttotal: 1.46s\tremaining: 38s\n",
      "37:\tlearn: 0.3348262\ttotal: 1.5s\tremaining: 38s\n",
      "38:\tlearn: 0.3340222\ttotal: 1.56s\tremaining: 38.6s\n",
      "39:\tlearn: 0.3328692\ttotal: 1.65s\tremaining: 39.5s\n",
      "40:\tlearn: 0.3317857\ttotal: 1.69s\tremaining: 39.6s\n",
      "41:\tlearn: 0.3308788\ttotal: 1.73s\tremaining: 39.5s\n",
      "42:\tlearn: 0.3302126\ttotal: 1.79s\tremaining: 39.8s\n",
      "43:\tlearn: 0.3295454\ttotal: 1.83s\tremaining: 39.8s\n",
      "44:\tlearn: 0.3288337\ttotal: 1.88s\tremaining: 39.9s\n",
      "45:\tlearn: 0.3279161\ttotal: 1.93s\tremaining: 40s\n",
      "46:\tlearn: 0.3272819\ttotal: 1.98s\tremaining: 40.2s\n",
      "47:\tlearn: 0.3267990\ttotal: 2.02s\tremaining: 40.2s\n",
      "48:\tlearn: 0.3263872\ttotal: 2.06s\tremaining: 40.1s\n",
      "49:\tlearn: 0.3255244\ttotal: 2.1s\tremaining: 40s\n",
      "50:\tlearn: 0.3249409\ttotal: 2.15s\tremaining: 39.9s\n",
      "51:\tlearn: 0.3243745\ttotal: 2.18s\tremaining: 39.8s\n",
      "52:\tlearn: 0.3238985\ttotal: 2.22s\tremaining: 39.6s\n",
      "53:\tlearn: 0.3234618\ttotal: 2.25s\tremaining: 39.5s\n",
      "54:\tlearn: 0.3230657\ttotal: 2.3s\tremaining: 39.5s\n",
      "55:\tlearn: 0.3227313\ttotal: 2.33s\tremaining: 39.3s\n",
      "56:\tlearn: 0.3221173\ttotal: 2.38s\tremaining: 39.3s\n",
      "57:\tlearn: 0.3215873\ttotal: 2.42s\tremaining: 39.3s\n",
      "58:\tlearn: 0.3211866\ttotal: 2.46s\tremaining: 39.2s\n",
      "59:\tlearn: 0.3209011\ttotal: 2.49s\tremaining: 39.1s\n",
      "60:\tlearn: 0.3203498\ttotal: 2.52s\tremaining: 38.8s\n",
      "61:\tlearn: 0.3197943\ttotal: 2.55s\tremaining: 38.5s\n",
      "62:\tlearn: 0.3195154\ttotal: 2.57s\tremaining: 38.3s\n",
      "63:\tlearn: 0.3190859\ttotal: 2.61s\tremaining: 38.2s\n",
      "64:\tlearn: 0.3188207\ttotal: 2.64s\tremaining: 38s\n",
      "65:\tlearn: 0.3185228\ttotal: 2.69s\tremaining: 38s\n",
      "66:\tlearn: 0.3182196\ttotal: 2.72s\tremaining: 37.9s\n",
      "67:\tlearn: 0.3179662\ttotal: 2.75s\tremaining: 37.7s\n",
      "68:\tlearn: 0.3177140\ttotal: 2.77s\tremaining: 37.4s\n",
      "69:\tlearn: 0.3174508\ttotal: 2.8s\tremaining: 37.2s\n",
      "70:\tlearn: 0.3171470\ttotal: 2.84s\tremaining: 37.1s\n",
      "71:\tlearn: 0.3168312\ttotal: 2.87s\tremaining: 36.9s\n",
      "72:\tlearn: 0.3164696\ttotal: 2.89s\tremaining: 36.7s\n",
      "73:\tlearn: 0.3162019\ttotal: 2.91s\tremaining: 36.4s\n",
      "74:\tlearn: 0.3158081\ttotal: 2.93s\tremaining: 36.2s\n",
      "75:\tlearn: 0.3155352\ttotal: 2.95s\tremaining: 35.9s\n",
      "76:\tlearn: 0.3153417\ttotal: 2.97s\tremaining: 35.6s\n",
      "77:\tlearn: 0.3149981\ttotal: 2.99s\tremaining: 35.4s\n",
      "78:\tlearn: 0.3147701\ttotal: 3.03s\tremaining: 35.3s\n",
      "79:\tlearn: 0.3145544\ttotal: 3.06s\tremaining: 35.2s\n",
      "80:\tlearn: 0.3142915\ttotal: 3.09s\tremaining: 35s\n",
      "81:\tlearn: 0.3138450\ttotal: 3.11s\tremaining: 34.8s\n",
      "82:\tlearn: 0.3136433\ttotal: 3.13s\tremaining: 34.6s\n",
      "83:\tlearn: 0.3133280\ttotal: 3.15s\tremaining: 34.4s\n",
      "84:\tlearn: 0.3130068\ttotal: 3.17s\tremaining: 34.2s\n",
      "85:\tlearn: 0.3125476\ttotal: 3.2s\tremaining: 34s\n",
      "86:\tlearn: 0.3122779\ttotal: 3.22s\tremaining: 33.8s\n",
      "87:\tlearn: 0.3120439\ttotal: 3.25s\tremaining: 33.7s\n",
      "88:\tlearn: 0.3118474\ttotal: 3.28s\tremaining: 33.6s\n",
      "89:\tlearn: 0.3113510\ttotal: 3.31s\tremaining: 33.5s\n",
      "90:\tlearn: 0.3111171\ttotal: 3.34s\tremaining: 33.4s\n",
      "91:\tlearn: 0.3108618\ttotal: 3.37s\tremaining: 33.3s\n",
      "92:\tlearn: 0.3106969\ttotal: 3.39s\tremaining: 33.1s\n",
      "93:\tlearn: 0.3105319\ttotal: 3.42s\tremaining: 33s\n",
      "94:\tlearn: 0.3102765\ttotal: 3.44s\tremaining: 32.8s\n",
      "95:\tlearn: 0.3100787\ttotal: 3.47s\tremaining: 32.7s\n",
      "96:\tlearn: 0.3098700\ttotal: 3.51s\tremaining: 32.7s\n",
      "97:\tlearn: 0.3095642\ttotal: 3.54s\tremaining: 32.6s\n",
      "98:\tlearn: 0.3092231\ttotal: 3.56s\tremaining: 32.4s\n",
      "99:\tlearn: 0.3090710\ttotal: 3.59s\tremaining: 32.3s\n",
      "100:\tlearn: 0.3088588\ttotal: 3.61s\tremaining: 32.2s\n",
      "101:\tlearn: 0.3087424\ttotal: 3.64s\tremaining: 32.1s\n",
      "102:\tlearn: 0.3083229\ttotal: 3.66s\tremaining: 31.9s\n",
      "103:\tlearn: 0.3080131\ttotal: 3.69s\tremaining: 31.8s\n",
      "104:\tlearn: 0.3077863\ttotal: 3.71s\tremaining: 31.7s\n",
      "105:\tlearn: 0.3076630\ttotal: 3.75s\tremaining: 31.7s\n",
      "106:\tlearn: 0.3074802\ttotal: 3.78s\tremaining: 31.6s\n",
      "107:\tlearn: 0.3072671\ttotal: 3.81s\tremaining: 31.5s\n",
      "108:\tlearn: 0.3070272\ttotal: 3.84s\tremaining: 31.4s\n",
      "109:\tlearn: 0.3067723\ttotal: 3.86s\tremaining: 31.3s\n",
      "110:\tlearn: 0.3065926\ttotal: 3.89s\tremaining: 31.2s\n",
      "111:\tlearn: 0.3063070\ttotal: 3.92s\tremaining: 31.1s\n",
      "112:\tlearn: 0.3061380\ttotal: 3.96s\tremaining: 31.1s\n",
      "113:\tlearn: 0.3060117\ttotal: 3.99s\tremaining: 31s\n",
      "114:\tlearn: 0.3059122\ttotal: 4.01s\tremaining: 30.9s\n",
      "115:\tlearn: 0.3057868\ttotal: 4.03s\tremaining: 30.7s\n",
      "116:\tlearn: 0.3056054\ttotal: 4.06s\tremaining: 30.6s\n",
      "117:\tlearn: 0.3054642\ttotal: 4.08s\tremaining: 30.5s\n",
      "118:\tlearn: 0.3053416\ttotal: 4.11s\tremaining: 30.4s\n",
      "119:\tlearn: 0.3052238\ttotal: 4.14s\tremaining: 30.4s\n",
      "120:\tlearn: 0.3051117\ttotal: 4.17s\tremaining: 30.3s\n",
      "121:\tlearn: 0.3048422\ttotal: 4.2s\tremaining: 30.2s\n",
      "122:\tlearn: 0.3046344\ttotal: 4.22s\tremaining: 30.1s\n",
      "123:\tlearn: 0.3045052\ttotal: 4.25s\tremaining: 30.1s\n",
      "124:\tlearn: 0.3043372\ttotal: 4.28s\tremaining: 30s\n",
      "125:\tlearn: 0.3042252\ttotal: 4.31s\tremaining: 29.9s\n",
      "126:\tlearn: 0.3040913\ttotal: 4.34s\tremaining: 29.8s\n",
      "127:\tlearn: 0.3039233\ttotal: 4.39s\tremaining: 29.9s\n",
      "128:\tlearn: 0.3038302\ttotal: 4.43s\tremaining: 29.9s\n",
      "129:\tlearn: 0.3035740\ttotal: 4.47s\tremaining: 29.9s\n",
      "130:\tlearn: 0.3034673\ttotal: 4.51s\tremaining: 29.9s\n",
      "131:\tlearn: 0.3033256\ttotal: 4.53s\tremaining: 29.8s\n",
      "132:\tlearn: 0.3032007\ttotal: 4.56s\tremaining: 29.7s\n",
      "133:\tlearn: 0.3030740\ttotal: 4.58s\tremaining: 29.6s\n",
      "134:\tlearn: 0.3029411\ttotal: 4.62s\tremaining: 29.6s\n",
      "135:\tlearn: 0.3026684\ttotal: 4.65s\tremaining: 29.5s\n",
      "136:\tlearn: 0.3025748\ttotal: 4.67s\tremaining: 29.4s\n",
      "137:\tlearn: 0.3024224\ttotal: 4.7s\tremaining: 29.3s\n",
      "138:\tlearn: 0.3023108\ttotal: 4.72s\tremaining: 29.3s\n",
      "139:\tlearn: 0.3019693\ttotal: 4.75s\tremaining: 29.2s\n",
      "140:\tlearn: 0.3018120\ttotal: 4.78s\tremaining: 29.1s\n",
      "141:\tlearn: 0.3016865\ttotal: 4.84s\tremaining: 29.3s\n",
      "142:\tlearn: 0.3015345\ttotal: 4.88s\tremaining: 29.3s\n",
      "143:\tlearn: 0.3014582\ttotal: 4.92s\tremaining: 29.3s\n",
      "144:\tlearn: 0.3013364\ttotal: 4.96s\tremaining: 29.2s\n",
      "145:\tlearn: 0.3011223\ttotal: 5s\tremaining: 29.2s\n",
      "146:\tlearn: 0.3010026\ttotal: 5.03s\tremaining: 29.2s\n",
      "147:\tlearn: 0.3008370\ttotal: 5.08s\tremaining: 29.2s\n",
      "148:\tlearn: 0.3007022\ttotal: 5.13s\tremaining: 29.3s\n",
      "149:\tlearn: 0.3006131\ttotal: 5.16s\tremaining: 29.3s\n",
      "150:\tlearn: 0.3005311\ttotal: 5.2s\tremaining: 29.2s\n",
      "151:\tlearn: 0.3002875\ttotal: 5.24s\tremaining: 29.2s\n",
      "152:\tlearn: 0.3002072\ttotal: 5.32s\tremaining: 29.4s\n",
      "153:\tlearn: 0.3000523\ttotal: 5.36s\tremaining: 29.4s\n",
      "154:\tlearn: 0.2998895\ttotal: 5.38s\tremaining: 29.3s\n",
      "155:\tlearn: 0.2997723\ttotal: 5.41s\tremaining: 29.3s\n",
      "156:\tlearn: 0.2996517\ttotal: 5.44s\tremaining: 29.2s\n",
      "157:\tlearn: 0.2995502\ttotal: 5.47s\tremaining: 29.1s\n",
      "158:\tlearn: 0.2994528\ttotal: 5.49s\tremaining: 29s\n",
      "159:\tlearn: 0.2993092\ttotal: 5.52s\tremaining: 29s\n",
      "160:\tlearn: 0.2992388\ttotal: 5.56s\tremaining: 29s\n",
      "161:\tlearn: 0.2991498\ttotal: 5.59s\tremaining: 28.9s\n",
      "162:\tlearn: 0.2990412\ttotal: 5.63s\tremaining: 28.9s\n",
      "163:\tlearn: 0.2989233\ttotal: 5.65s\tremaining: 28.8s\n",
      "164:\tlearn: 0.2988243\ttotal: 5.68s\tremaining: 28.8s\n"
     ]
    },
    {
     "name": "stdout",
     "output_type": "stream",
     "text": [
      "165:\tlearn: 0.2987204\ttotal: 5.73s\tremaining: 28.8s\n",
      "166:\tlearn: 0.2986209\ttotal: 5.78s\tremaining: 28.8s\n",
      "167:\tlearn: 0.2985195\ttotal: 5.81s\tremaining: 28.8s\n",
      "168:\tlearn: 0.2983090\ttotal: 5.85s\tremaining: 28.8s\n",
      "169:\tlearn: 0.2981627\ttotal: 5.88s\tremaining: 28.7s\n",
      "170:\tlearn: 0.2981093\ttotal: 5.92s\tremaining: 28.7s\n",
      "171:\tlearn: 0.2980392\ttotal: 5.97s\tremaining: 28.8s\n",
      "172:\tlearn: 0.2979456\ttotal: 6.01s\tremaining: 28.7s\n",
      "173:\tlearn: 0.2978675\ttotal: 6.05s\tremaining: 28.7s\n",
      "174:\tlearn: 0.2977702\ttotal: 6.09s\tremaining: 28.7s\n",
      "175:\tlearn: 0.2976739\ttotal: 6.13s\tremaining: 28.7s\n",
      "176:\tlearn: 0.2975653\ttotal: 6.16s\tremaining: 28.7s\n",
      "177:\tlearn: 0.2974718\ttotal: 6.21s\tremaining: 28.7s\n",
      "178:\tlearn: 0.2973293\ttotal: 6.23s\tremaining: 28.6s\n",
      "179:\tlearn: 0.2971574\ttotal: 6.26s\tremaining: 28.5s\n",
      "180:\tlearn: 0.2966839\ttotal: 6.28s\tremaining: 28.4s\n",
      "181:\tlearn: 0.2965832\ttotal: 6.31s\tremaining: 28.4s\n",
      "182:\tlearn: 0.2964628\ttotal: 6.33s\tremaining: 28.3s\n",
      "183:\tlearn: 0.2963782\ttotal: 6.36s\tremaining: 28.2s\n",
      "184:\tlearn: 0.2960859\ttotal: 6.39s\tremaining: 28.2s\n",
      "185:\tlearn: 0.2959671\ttotal: 6.44s\tremaining: 28.2s\n",
      "186:\tlearn: 0.2958638\ttotal: 6.48s\tremaining: 28.2s\n",
      "187:\tlearn: 0.2957874\ttotal: 6.52s\tremaining: 28.2s\n",
      "188:\tlearn: 0.2956966\ttotal: 6.56s\tremaining: 28.2s\n",
      "189:\tlearn: 0.2956194\ttotal: 6.61s\tremaining: 28.2s\n",
      "190:\tlearn: 0.2955535\ttotal: 6.66s\tremaining: 28.2s\n",
      "191:\tlearn: 0.2954913\ttotal: 6.69s\tremaining: 28.2s\n",
      "192:\tlearn: 0.2954299\ttotal: 6.73s\tremaining: 28.1s\n",
      "193:\tlearn: 0.2953322\ttotal: 6.76s\tremaining: 28.1s\n",
      "194:\tlearn: 0.2952413\ttotal: 6.81s\tremaining: 28.1s\n",
      "195:\tlearn: 0.2951587\ttotal: 6.84s\tremaining: 28.1s\n",
      "196:\tlearn: 0.2950376\ttotal: 6.87s\tremaining: 28s\n",
      "197:\tlearn: 0.2949551\ttotal: 6.91s\tremaining: 28s\n",
      "198:\tlearn: 0.2948610\ttotal: 6.95s\tremaining: 28s\n",
      "199:\tlearn: 0.2946163\ttotal: 6.99s\tremaining: 27.9s\n",
      "200:\tlearn: 0.2945147\ttotal: 7.04s\tremaining: 28s\n",
      "201:\tlearn: 0.2944328\ttotal: 7.07s\tremaining: 27.9s\n",
      "202:\tlearn: 0.2942711\ttotal: 7.12s\tremaining: 27.9s\n",
      "203:\tlearn: 0.2941854\ttotal: 7.16s\tremaining: 27.9s\n",
      "204:\tlearn: 0.2941106\ttotal: 7.21s\tremaining: 28s\n",
      "205:\tlearn: 0.2940119\ttotal: 7.26s\tremaining: 28s\n",
      "206:\tlearn: 0.2938457\ttotal: 7.31s\tremaining: 28s\n",
      "207:\tlearn: 0.2937466\ttotal: 7.34s\tremaining: 28s\n",
      "208:\tlearn: 0.2936681\ttotal: 7.38s\tremaining: 27.9s\n",
      "209:\tlearn: 0.2936051\ttotal: 7.42s\tremaining: 27.9s\n",
      "210:\tlearn: 0.2932873\ttotal: 7.45s\tremaining: 27.9s\n",
      "211:\tlearn: 0.2931683\ttotal: 7.48s\tremaining: 27.8s\n",
      "212:\tlearn: 0.2930736\ttotal: 7.51s\tremaining: 27.8s\n",
      "213:\tlearn: 0.2929770\ttotal: 7.55s\tremaining: 27.7s\n",
      "214:\tlearn: 0.2929193\ttotal: 7.57s\tremaining: 27.7s\n",
      "215:\tlearn: 0.2928093\ttotal: 7.6s\tremaining: 27.6s\n",
      "216:\tlearn: 0.2925862\ttotal: 7.63s\tremaining: 27.5s\n",
      "217:\tlearn: 0.2924340\ttotal: 7.66s\tremaining: 27.5s\n",
      "218:\tlearn: 0.2923449\ttotal: 7.7s\tremaining: 27.4s\n",
      "219:\tlearn: 0.2922264\ttotal: 7.73s\tremaining: 27.4s\n",
      "220:\tlearn: 0.2921597\ttotal: 7.76s\tremaining: 27.4s\n",
      "221:\tlearn: 0.2920607\ttotal: 7.83s\tremaining: 27.5s\n",
      "222:\tlearn: 0.2920018\ttotal: 7.88s\tremaining: 27.5s\n",
      "223:\tlearn: 0.2919319\ttotal: 7.91s\tremaining: 27.4s\n",
      "224:\tlearn: 0.2918517\ttotal: 7.98s\tremaining: 27.5s\n",
      "225:\tlearn: 0.2917781\ttotal: 8.03s\tremaining: 27.5s\n",
      "226:\tlearn: 0.2916718\ttotal: 8.06s\tremaining: 27.5s\n",
      "227:\tlearn: 0.2915962\ttotal: 8.1s\tremaining: 27.4s\n",
      "228:\tlearn: 0.2915410\ttotal: 8.13s\tremaining: 27.4s\n",
      "229:\tlearn: 0.2914139\ttotal: 8.18s\tremaining: 27.4s\n",
      "230:\tlearn: 0.2913454\ttotal: 8.21s\tremaining: 27.3s\n",
      "231:\tlearn: 0.2912654\ttotal: 8.24s\tremaining: 27.3s\n",
      "232:\tlearn: 0.2911718\ttotal: 8.28s\tremaining: 27.2s\n",
      "233:\tlearn: 0.2911109\ttotal: 8.3s\tremaining: 27.2s\n",
      "234:\tlearn: 0.2910316\ttotal: 8.35s\tremaining: 27.2s\n",
      "235:\tlearn: 0.2907341\ttotal: 8.38s\tremaining: 27.1s\n",
      "236:\tlearn: 0.2906295\ttotal: 8.41s\tremaining: 27.1s\n",
      "237:\tlearn: 0.2905396\ttotal: 8.44s\tremaining: 27s\n",
      "238:\tlearn: 0.2904484\ttotal: 8.48s\tremaining: 27s\n",
      "239:\tlearn: 0.2901762\ttotal: 8.51s\tremaining: 27s\n",
      "240:\tlearn: 0.2900480\ttotal: 8.54s\tremaining: 26.9s\n",
      "241:\tlearn: 0.2899278\ttotal: 8.57s\tremaining: 26.9s\n",
      "242:\tlearn: 0.2898485\ttotal: 8.6s\tremaining: 26.8s\n",
      "243:\tlearn: 0.2897266\ttotal: 8.63s\tremaining: 26.7s\n",
      "244:\tlearn: 0.2896331\ttotal: 8.66s\tremaining: 26.7s\n",
      "245:\tlearn: 0.2895507\ttotal: 8.69s\tremaining: 26.6s\n",
      "246:\tlearn: 0.2894794\ttotal: 8.72s\tremaining: 26.6s\n",
      "247:\tlearn: 0.2893874\ttotal: 8.75s\tremaining: 26.5s\n",
      "248:\tlearn: 0.2893135\ttotal: 8.77s\tremaining: 26.5s\n",
      "249:\tlearn: 0.2892518\ttotal: 8.8s\tremaining: 26.4s\n",
      "250:\tlearn: 0.2891951\ttotal: 8.82s\tremaining: 26.3s\n",
      "251:\tlearn: 0.2890985\ttotal: 8.85s\tremaining: 26.3s\n",
      "252:\tlearn: 0.2889882\ttotal: 8.87s\tremaining: 26.2s\n",
      "253:\tlearn: 0.2889131\ttotal: 8.9s\tremaining: 26.1s\n",
      "254:\tlearn: 0.2888282\ttotal: 8.92s\tremaining: 26.1s\n",
      "255:\tlearn: 0.2887134\ttotal: 8.94s\tremaining: 26s\n",
      "256:\tlearn: 0.2886231\ttotal: 9.02s\tremaining: 26.1s\n",
      "257:\tlearn: 0.2885458\ttotal: 9.04s\tremaining: 26s\n",
      "258:\tlearn: 0.2884896\ttotal: 9.06s\tremaining: 25.9s\n",
      "259:\tlearn: 0.2884282\ttotal: 9.08s\tremaining: 25.9s\n",
      "260:\tlearn: 0.2883751\ttotal: 9.11s\tremaining: 25.8s\n",
      "261:\tlearn: 0.2881315\ttotal: 9.19s\tremaining: 25.9s\n",
      "262:\tlearn: 0.2880532\ttotal: 9.22s\tremaining: 25.8s\n",
      "263:\tlearn: 0.2879636\ttotal: 9.24s\tremaining: 25.8s\n",
      "264:\tlearn: 0.2878893\ttotal: 9.27s\tremaining: 25.7s\n",
      "265:\tlearn: 0.2877527\ttotal: 9.29s\tremaining: 25.6s\n",
      "266:\tlearn: 0.2876606\ttotal: 9.37s\tremaining: 25.7s\n",
      "267:\tlearn: 0.2875848\ttotal: 9.39s\tremaining: 25.7s\n",
      "268:\tlearn: 0.2874530\ttotal: 9.43s\tremaining: 25.6s\n",
      "269:\tlearn: 0.2873772\ttotal: 9.45s\tremaining: 25.5s\n",
      "270:\tlearn: 0.2873074\ttotal: 9.47s\tremaining: 25.5s\n",
      "271:\tlearn: 0.2872465\ttotal: 9.49s\tremaining: 25.4s\n",
      "272:\tlearn: 0.2871786\ttotal: 9.52s\tremaining: 25.4s\n",
      "273:\tlearn: 0.2871046\ttotal: 9.54s\tremaining: 25.3s\n",
      "274:\tlearn: 0.2870077\ttotal: 9.59s\tremaining: 25.3s\n",
      "275:\tlearn: 0.2869235\ttotal: 9.61s\tremaining: 25.2s\n",
      "276:\tlearn: 0.2868514\ttotal: 9.63s\tremaining: 25.1s\n",
      "277:\tlearn: 0.2867793\ttotal: 9.66s\tremaining: 25.1s\n",
      "278:\tlearn: 0.2866943\ttotal: 9.7s\tremaining: 25.1s\n",
      "279:\tlearn: 0.2866202\ttotal: 9.73s\tremaining: 25s\n",
      "280:\tlearn: 0.2865649\ttotal: 9.76s\tremaining: 25s\n",
      "281:\tlearn: 0.2864806\ttotal: 9.79s\tremaining: 24.9s\n",
      "282:\tlearn: 0.2864226\ttotal: 9.84s\tremaining: 24.9s\n",
      "283:\tlearn: 0.2863325\ttotal: 9.87s\tremaining: 24.9s\n",
      "284:\tlearn: 0.2861698\ttotal: 9.9s\tremaining: 24.8s\n",
      "285:\tlearn: 0.2861047\ttotal: 9.93s\tremaining: 24.8s\n",
      "286:\tlearn: 0.2860102\ttotal: 9.97s\tremaining: 24.8s\n",
      "287:\tlearn: 0.2859284\ttotal: 10s\tremaining: 24.7s\n",
      "288:\tlearn: 0.2858673\ttotal: 10s\tremaining: 24.7s\n",
      "289:\tlearn: 0.2857906\ttotal: 10.1s\tremaining: 24.6s\n",
      "290:\tlearn: 0.2857355\ttotal: 10.1s\tremaining: 24.6s\n",
      "291:\tlearn: 0.2856543\ttotal: 10.1s\tremaining: 24.5s\n",
      "292:\tlearn: 0.2855727\ttotal: 10.1s\tremaining: 24.4s\n",
      "293:\tlearn: 0.2854918\ttotal: 10.2s\tremaining: 24.4s\n",
      "294:\tlearn: 0.2853788\ttotal: 10.3s\tremaining: 24.6s\n",
      "295:\tlearn: 0.2853382\ttotal: 10.3s\tremaining: 24.5s\n",
      "296:\tlearn: 0.2852690\ttotal: 10.3s\tremaining: 24.4s\n",
      "297:\tlearn: 0.2852080\ttotal: 10.4s\tremaining: 24.4s\n",
      "298:\tlearn: 0.2851367\ttotal: 10.4s\tremaining: 24.4s\n",
      "299:\tlearn: 0.2850638\ttotal: 10.4s\tremaining: 24.4s\n",
      "300:\tlearn: 0.2850076\ttotal: 10.5s\tremaining: 24.4s\n",
      "301:\tlearn: 0.2849262\ttotal: 10.5s\tremaining: 24.4s\n",
      "302:\tlearn: 0.2848712\ttotal: 10.6s\tremaining: 24.3s\n",
      "303:\tlearn: 0.2848083\ttotal: 10.6s\tremaining: 24.3s\n",
      "304:\tlearn: 0.2847416\ttotal: 10.6s\tremaining: 24.2s\n",
      "305:\tlearn: 0.2846656\ttotal: 10.7s\tremaining: 24.2s\n",
      "306:\tlearn: 0.2845830\ttotal: 10.8s\tremaining: 24.3s\n",
      "307:\tlearn: 0.2845351\ttotal: 10.9s\tremaining: 24.4s\n",
      "308:\tlearn: 0.2844925\ttotal: 10.9s\tremaining: 24.4s\n",
      "309:\tlearn: 0.2844219\ttotal: 10.9s\tremaining: 24.3s\n",
      "310:\tlearn: 0.2844086\ttotal: 11s\tremaining: 24.3s\n",
      "311:\tlearn: 0.2843528\ttotal: 11s\tremaining: 24.2s\n",
      "312:\tlearn: 0.2842792\ttotal: 11s\tremaining: 24.2s\n",
      "313:\tlearn: 0.2840472\ttotal: 11.1s\tremaining: 24.2s\n",
      "314:\tlearn: 0.2839467\ttotal: 11.1s\tremaining: 24.2s\n",
      "315:\tlearn: 0.2838412\ttotal: 11.1s\tremaining: 24.1s\n",
      "316:\tlearn: 0.2837043\ttotal: 11.2s\tremaining: 24.1s\n",
      "317:\tlearn: 0.2836333\ttotal: 11.2s\tremaining: 24s\n",
      "318:\tlearn: 0.2835477\ttotal: 11.3s\tremaining: 24s\n",
      "319:\tlearn: 0.2834636\ttotal: 11.3s\tremaining: 24s\n",
      "320:\tlearn: 0.2834006\ttotal: 11.3s\tremaining: 23.9s\n",
      "321:\tlearn: 0.2833329\ttotal: 11.3s\tremaining: 23.9s\n",
      "322:\tlearn: 0.2832702\ttotal: 11.4s\tremaining: 23.8s\n",
      "323:\tlearn: 0.2832576\ttotal: 11.4s\tremaining: 23.8s\n",
      "324:\tlearn: 0.2831539\ttotal: 11.4s\tremaining: 23.7s\n",
      "325:\tlearn: 0.2830820\ttotal: 11.5s\tremaining: 23.7s\n",
      "326:\tlearn: 0.2829788\ttotal: 11.5s\tremaining: 23.6s\n"
     ]
    },
    {
     "name": "stdout",
     "output_type": "stream",
     "text": [
      "327:\tlearn: 0.2828797\ttotal: 11.5s\tremaining: 23.6s\n",
      "328:\tlearn: 0.2828254\ttotal: 11.6s\tremaining: 23.6s\n",
      "329:\tlearn: 0.2827500\ttotal: 11.6s\tremaining: 23.5s\n",
      "330:\tlearn: 0.2824871\ttotal: 11.6s\tremaining: 23.5s\n",
      "331:\tlearn: 0.2824244\ttotal: 11.7s\tremaining: 23.5s\n",
      "332:\tlearn: 0.2823539\ttotal: 11.7s\tremaining: 23.4s\n",
      "333:\tlearn: 0.2822849\ttotal: 11.7s\tremaining: 23.4s\n",
      "334:\tlearn: 0.2822272\ttotal: 11.8s\tremaining: 23.4s\n",
      "335:\tlearn: 0.2821767\ttotal: 11.8s\tremaining: 23.4s\n",
      "336:\tlearn: 0.2821198\ttotal: 11.9s\tremaining: 23.5s\n",
      "337:\tlearn: 0.2820552\ttotal: 12.1s\tremaining: 23.8s\n",
      "338:\tlearn: 0.2819837\ttotal: 12.2s\tremaining: 23.8s\n",
      "339:\tlearn: 0.2817685\ttotal: 12.2s\tremaining: 23.7s\n",
      "340:\tlearn: 0.2817204\ttotal: 12.3s\tremaining: 23.7s\n",
      "341:\tlearn: 0.2816590\ttotal: 12.3s\tremaining: 23.7s\n",
      "342:\tlearn: 0.2815877\ttotal: 12.4s\tremaining: 23.7s\n",
      "343:\tlearn: 0.2813344\ttotal: 12.4s\tremaining: 23.7s\n",
      "344:\tlearn: 0.2813262\ttotal: 12.5s\tremaining: 23.7s\n",
      "345:\tlearn: 0.2812574\ttotal: 12.5s\tremaining: 23.6s\n",
      "346:\tlearn: 0.2812498\ttotal: 12.6s\tremaining: 23.6s\n",
      "347:\tlearn: 0.2811853\ttotal: 12.6s\tremaining: 23.6s\n",
      "348:\tlearn: 0.2811242\ttotal: 12.6s\tremaining: 23.6s\n",
      "349:\tlearn: 0.2810706\ttotal: 12.7s\tremaining: 23.5s\n",
      "350:\tlearn: 0.2808350\ttotal: 12.7s\tremaining: 23.5s\n",
      "351:\tlearn: 0.2807624\ttotal: 12.7s\tremaining: 23.4s\n",
      "352:\tlearn: 0.2807110\ttotal: 12.8s\tremaining: 23.4s\n",
      "353:\tlearn: 0.2806289\ttotal: 12.8s\tremaining: 23.4s\n",
      "354:\tlearn: 0.2804046\ttotal: 12.8s\tremaining: 23.3s\n",
      "355:\tlearn: 0.2803546\ttotal: 12.9s\tremaining: 23.3s\n",
      "356:\tlearn: 0.2802994\ttotal: 12.9s\tremaining: 23.3s\n",
      "357:\tlearn: 0.2802424\ttotal: 13s\tremaining: 23.2s\n",
      "358:\tlearn: 0.2801808\ttotal: 13s\tremaining: 23.2s\n",
      "359:\tlearn: 0.2801160\ttotal: 13s\tremaining: 23.2s\n",
      "360:\tlearn: 0.2800288\ttotal: 13.1s\tremaining: 23.2s\n",
      "361:\tlearn: 0.2799562\ttotal: 13.1s\tremaining: 23.1s\n",
      "362:\tlearn: 0.2798943\ttotal: 13.1s\tremaining: 23.1s\n",
      "363:\tlearn: 0.2797031\ttotal: 13.2s\tremaining: 23s\n",
      "364:\tlearn: 0.2796517\ttotal: 13.2s\tremaining: 23s\n",
      "365:\tlearn: 0.2795813\ttotal: 13.2s\tremaining: 22.9s\n",
      "366:\tlearn: 0.2794433\ttotal: 13.3s\tremaining: 22.9s\n",
      "367:\tlearn: 0.2794006\ttotal: 13.3s\tremaining: 22.9s\n",
      "368:\tlearn: 0.2793239\ttotal: 13.4s\tremaining: 22.9s\n",
      "369:\tlearn: 0.2792525\ttotal: 13.4s\tremaining: 22.8s\n",
      "370:\tlearn: 0.2791957\ttotal: 13.4s\tremaining: 22.8s\n",
      "371:\tlearn: 0.2791502\ttotal: 13.5s\tremaining: 22.8s\n",
      "372:\tlearn: 0.2790941\ttotal: 13.5s\tremaining: 22.8s\n",
      "373:\tlearn: 0.2788981\ttotal: 13.6s\tremaining: 22.8s\n",
      "374:\tlearn: 0.2788355\ttotal: 13.6s\tremaining: 22.7s\n",
      "375:\tlearn: 0.2786415\ttotal: 13.7s\tremaining: 22.7s\n",
      "376:\tlearn: 0.2785830\ttotal: 13.7s\tremaining: 22.7s\n",
      "377:\tlearn: 0.2785220\ttotal: 13.7s\tremaining: 22.6s\n",
      "378:\tlearn: 0.2784619\ttotal: 13.8s\tremaining: 22.6s\n",
      "379:\tlearn: 0.2783867\ttotal: 13.8s\tremaining: 22.5s\n",
      "380:\tlearn: 0.2783236\ttotal: 13.8s\tremaining: 22.5s\n",
      "381:\tlearn: 0.2782613\ttotal: 13.9s\tremaining: 22.5s\n",
      "382:\tlearn: 0.2782157\ttotal: 13.9s\tremaining: 22.4s\n",
      "383:\tlearn: 0.2781589\ttotal: 13.9s\tremaining: 22.4s\n",
      "384:\tlearn: 0.2780672\ttotal: 14s\tremaining: 22.3s\n",
      "385:\tlearn: 0.2778465\ttotal: 14s\tremaining: 22.3s\n",
      "386:\tlearn: 0.2777902\ttotal: 14s\tremaining: 22.2s\n",
      "387:\tlearn: 0.2777347\ttotal: 14.1s\tremaining: 22.2s\n",
      "388:\tlearn: 0.2776883\ttotal: 14.1s\tremaining: 22.1s\n",
      "389:\tlearn: 0.2775785\ttotal: 14.1s\tremaining: 22.1s\n",
      "390:\tlearn: 0.2775382\ttotal: 14.1s\tremaining: 22s\n",
      "391:\tlearn: 0.2774268\ttotal: 14.2s\tremaining: 22s\n",
      "392:\tlearn: 0.2773110\ttotal: 14.2s\tremaining: 21.9s\n",
      "393:\tlearn: 0.2772318\ttotal: 14.2s\tremaining: 21.9s\n",
      "394:\tlearn: 0.2771770\ttotal: 14.3s\tremaining: 21.8s\n",
      "395:\tlearn: 0.2771484\ttotal: 14.3s\tremaining: 21.8s\n",
      "396:\tlearn: 0.2770906\ttotal: 14.3s\tremaining: 21.7s\n",
      "397:\tlearn: 0.2770115\ttotal: 14.3s\tremaining: 21.7s\n",
      "398:\tlearn: 0.2769341\ttotal: 14.4s\tremaining: 21.7s\n",
      "399:\tlearn: 0.2768668\ttotal: 14.4s\tremaining: 21.6s\n",
      "400:\tlearn: 0.2767958\ttotal: 14.4s\tremaining: 21.6s\n",
      "401:\tlearn: 0.2767333\ttotal: 14.5s\tremaining: 21.5s\n",
      "402:\tlearn: 0.2766548\ttotal: 14.5s\tremaining: 21.5s\n",
      "403:\tlearn: 0.2766441\ttotal: 14.5s\tremaining: 21.4s\n",
      "404:\tlearn: 0.2765976\ttotal: 14.6s\tremaining: 21.4s\n",
      "405:\tlearn: 0.2765415\ttotal: 14.6s\tremaining: 21.3s\n",
      "406:\tlearn: 0.2763418\ttotal: 14.6s\tremaining: 21.3s\n",
      "407:\tlearn: 0.2762740\ttotal: 14.6s\tremaining: 21.2s\n",
      "408:\tlearn: 0.2762225\ttotal: 14.6s\tremaining: 21.2s\n",
      "409:\tlearn: 0.2761156\ttotal: 14.7s\tremaining: 21.1s\n",
      "410:\tlearn: 0.2760788\ttotal: 14.7s\tremaining: 21.1s\n",
      "411:\tlearn: 0.2759980\ttotal: 14.7s\tremaining: 21s\n",
      "412:\tlearn: 0.2759350\ttotal: 14.8s\tremaining: 21s\n",
      "413:\tlearn: 0.2758778\ttotal: 14.8s\tremaining: 21s\n",
      "414:\tlearn: 0.2758104\ttotal: 14.9s\tremaining: 21s\n",
      "415:\tlearn: 0.2757639\ttotal: 14.9s\tremaining: 20.9s\n",
      "416:\tlearn: 0.2757039\ttotal: 15s\tremaining: 20.9s\n",
      "417:\tlearn: 0.2756412\ttotal: 15s\tremaining: 20.9s\n",
      "418:\tlearn: 0.2755955\ttotal: 15s\tremaining: 20.8s\n",
      "419:\tlearn: 0.2755479\ttotal: 15s\tremaining: 20.8s\n",
      "420:\tlearn: 0.2755005\ttotal: 15s\tremaining: 20.7s\n",
      "421:\tlearn: 0.2754506\ttotal: 15.1s\tremaining: 20.6s\n",
      "422:\tlearn: 0.2753974\ttotal: 15.1s\tremaining: 20.6s\n",
      "423:\tlearn: 0.2753331\ttotal: 15.2s\tremaining: 20.6s\n",
      "424:\tlearn: 0.2752838\ttotal: 15.2s\tremaining: 20.6s\n",
      "425:\tlearn: 0.2752378\ttotal: 15.2s\tremaining: 20.5s\n",
      "426:\tlearn: 0.2749151\ttotal: 15.3s\tremaining: 20.5s\n",
      "427:\tlearn: 0.2748699\ttotal: 15.3s\tremaining: 20.4s\n",
      "428:\tlearn: 0.2747985\ttotal: 15.3s\tremaining: 20.4s\n",
      "429:\tlearn: 0.2747552\ttotal: 15.3s\tremaining: 20.3s\n",
      "430:\tlearn: 0.2747126\ttotal: 15.4s\tremaining: 20.3s\n",
      "431:\tlearn: 0.2746629\ttotal: 15.4s\tremaining: 20.2s\n",
      "432:\tlearn: 0.2745927\ttotal: 15.4s\tremaining: 20.2s\n",
      "433:\tlearn: 0.2745285\ttotal: 15.4s\tremaining: 20.1s\n",
      "434:\tlearn: 0.2744993\ttotal: 15.5s\tremaining: 20.1s\n",
      "435:\tlearn: 0.2743317\ttotal: 15.5s\tremaining: 20s\n",
      "436:\tlearn: 0.2742954\ttotal: 15.5s\tremaining: 20s\n",
      "437:\tlearn: 0.2741663\ttotal: 15.5s\tremaining: 19.9s\n",
      "438:\tlearn: 0.2741132\ttotal: 15.5s\tremaining: 19.9s\n",
      "439:\tlearn: 0.2740336\ttotal: 15.6s\tremaining: 19.8s\n",
      "440:\tlearn: 0.2740278\ttotal: 15.6s\tremaining: 19.8s\n",
      "441:\tlearn: 0.2739775\ttotal: 15.6s\tremaining: 19.7s\n",
      "442:\tlearn: 0.2739307\ttotal: 15.6s\tremaining: 19.7s\n",
      "443:\tlearn: 0.2736628\ttotal: 15.7s\tremaining: 19.6s\n",
      "444:\tlearn: 0.2736257\ttotal: 15.7s\tremaining: 19.6s\n",
      "445:\tlearn: 0.2735625\ttotal: 15.7s\tremaining: 19.5s\n",
      "446:\tlearn: 0.2734966\ttotal: 15.7s\tremaining: 19.4s\n",
      "447:\tlearn: 0.2734242\ttotal: 15.7s\tremaining: 19.4s\n",
      "448:\tlearn: 0.2733637\ttotal: 15.8s\tremaining: 19.3s\n",
      "449:\tlearn: 0.2732982\ttotal: 15.8s\tremaining: 19.3s\n",
      "450:\tlearn: 0.2732327\ttotal: 15.8s\tremaining: 19.3s\n",
      "451:\tlearn: 0.2731815\ttotal: 15.8s\tremaining: 19.2s\n",
      "452:\tlearn: 0.2731178\ttotal: 15.9s\tremaining: 19.1s\n",
      "453:\tlearn: 0.2730548\ttotal: 15.9s\tremaining: 19.1s\n",
      "454:\tlearn: 0.2729963\ttotal: 15.9s\tremaining: 19s\n",
      "455:\tlearn: 0.2729908\ttotal: 15.9s\tremaining: 19s\n",
      "456:\tlearn: 0.2729516\ttotal: 15.9s\tremaining: 18.9s\n",
      "457:\tlearn: 0.2729014\ttotal: 16s\tremaining: 18.9s\n",
      "458:\tlearn: 0.2728291\ttotal: 16s\tremaining: 18.8s\n",
      "459:\tlearn: 0.2727670\ttotal: 16s\tremaining: 18.8s\n",
      "460:\tlearn: 0.2727090\ttotal: 16s\tremaining: 18.8s\n",
      "461:\tlearn: 0.2726293\ttotal: 16.1s\tremaining: 18.7s\n",
      "462:\tlearn: 0.2725598\ttotal: 16.1s\tremaining: 18.7s\n",
      "463:\tlearn: 0.2725138\ttotal: 16.1s\tremaining: 18.6s\n",
      "464:\tlearn: 0.2724767\ttotal: 16.1s\tremaining: 18.6s\n",
      "465:\tlearn: 0.2723462\ttotal: 16.1s\tremaining: 18.5s\n",
      "466:\tlearn: 0.2722827\ttotal: 16.2s\tremaining: 18.5s\n",
      "467:\tlearn: 0.2722211\ttotal: 16.2s\tremaining: 18.4s\n",
      "468:\tlearn: 0.2721651\ttotal: 16.2s\tremaining: 18.4s\n",
      "469:\tlearn: 0.2721110\ttotal: 16.2s\tremaining: 18.3s\n",
      "470:\tlearn: 0.2720497\ttotal: 16.3s\tremaining: 18.3s\n",
      "471:\tlearn: 0.2720145\ttotal: 16.3s\tremaining: 18.2s\n",
      "472:\tlearn: 0.2719551\ttotal: 16.3s\tremaining: 18.2s\n",
      "473:\tlearn: 0.2718912\ttotal: 16.3s\tremaining: 18.1s\n",
      "474:\tlearn: 0.2718634\ttotal: 16.3s\tremaining: 18.1s\n",
      "475:\tlearn: 0.2718186\ttotal: 16.4s\tremaining: 18s\n",
      "476:\tlearn: 0.2717769\ttotal: 16.4s\tremaining: 18s\n",
      "477:\tlearn: 0.2717281\ttotal: 16.5s\tremaining: 18s\n",
      "478:\tlearn: 0.2716710\ttotal: 16.5s\tremaining: 18s\n",
      "479:\tlearn: 0.2716209\ttotal: 16.6s\tremaining: 17.9s\n",
      "480:\tlearn: 0.2715740\ttotal: 16.6s\tremaining: 17.9s\n",
      "481:\tlearn: 0.2715556\ttotal: 16.6s\tremaining: 17.9s\n",
      "482:\tlearn: 0.2715264\ttotal: 16.7s\tremaining: 17.9s\n",
      "483:\tlearn: 0.2713741\ttotal: 16.7s\tremaining: 17.8s\n",
      "484:\tlearn: 0.2713245\ttotal: 16.8s\tremaining: 17.8s\n",
      "485:\tlearn: 0.2712962\ttotal: 16.8s\tremaining: 17.8s\n",
      "486:\tlearn: 0.2712479\ttotal: 16.8s\tremaining: 17.7s\n",
      "487:\tlearn: 0.2712008\ttotal: 16.9s\tremaining: 17.7s\n",
      "488:\tlearn: 0.2711605\ttotal: 16.9s\tremaining: 17.6s\n"
     ]
    },
    {
     "name": "stdout",
     "output_type": "stream",
     "text": [
      "489:\tlearn: 0.2711566\ttotal: 16.9s\tremaining: 17.6s\n",
      "490:\tlearn: 0.2711193\ttotal: 16.9s\tremaining: 17.6s\n",
      "491:\tlearn: 0.2710591\ttotal: 17s\tremaining: 17.5s\n",
      "492:\tlearn: 0.2708265\ttotal: 17s\tremaining: 17.5s\n",
      "493:\tlearn: 0.2707832\ttotal: 17s\tremaining: 17.5s\n",
      "494:\tlearn: 0.2707141\ttotal: 17.1s\tremaining: 17.4s\n",
      "495:\tlearn: 0.2706544\ttotal: 17.1s\tremaining: 17.4s\n",
      "496:\tlearn: 0.2706120\ttotal: 17.1s\tremaining: 17.3s\n",
      "497:\tlearn: 0.2705681\ttotal: 17.2s\tremaining: 17.3s\n",
      "498:\tlearn: 0.2705237\ttotal: 17.2s\tremaining: 17.3s\n",
      "499:\tlearn: 0.2704193\ttotal: 17.2s\tremaining: 17.2s\n",
      "500:\tlearn: 0.2704055\ttotal: 17.3s\tremaining: 17.2s\n",
      "501:\tlearn: 0.2703346\ttotal: 17.3s\tremaining: 17.1s\n",
      "502:\tlearn: 0.2703019\ttotal: 17.3s\tremaining: 17.1s\n",
      "503:\tlearn: 0.2702941\ttotal: 17.3s\tremaining: 17.1s\n",
      "504:\tlearn: 0.2702590\ttotal: 17.4s\tremaining: 17s\n",
      "505:\tlearn: 0.2702231\ttotal: 17.4s\tremaining: 17s\n",
      "506:\tlearn: 0.2701750\ttotal: 17.4s\tremaining: 16.9s\n",
      "507:\tlearn: 0.2701113\ttotal: 17.5s\tremaining: 16.9s\n",
      "508:\tlearn: 0.2700744\ttotal: 17.5s\tremaining: 16.9s\n",
      "509:\tlearn: 0.2699939\ttotal: 17.5s\tremaining: 16.8s\n",
      "510:\tlearn: 0.2699317\ttotal: 17.5s\tremaining: 16.8s\n",
      "511:\tlearn: 0.2698913\ttotal: 17.6s\tremaining: 16.7s\n",
      "512:\tlearn: 0.2698372\ttotal: 17.6s\tremaining: 16.7s\n",
      "513:\tlearn: 0.2697981\ttotal: 17.6s\tremaining: 16.7s\n",
      "514:\tlearn: 0.2697458\ttotal: 17.7s\tremaining: 16.6s\n",
      "515:\tlearn: 0.2697422\ttotal: 17.7s\tremaining: 16.6s\n",
      "516:\tlearn: 0.2696500\ttotal: 17.7s\tremaining: 16.6s\n",
      "517:\tlearn: 0.2695949\ttotal: 17.8s\tremaining: 16.5s\n",
      "518:\tlearn: 0.2695265\ttotal: 17.8s\tremaining: 16.5s\n",
      "519:\tlearn: 0.2694788\ttotal: 17.8s\tremaining: 16.4s\n",
      "520:\tlearn: 0.2694359\ttotal: 17.8s\tremaining: 16.4s\n",
      "521:\tlearn: 0.2693821\ttotal: 17.9s\tremaining: 16.3s\n",
      "522:\tlearn: 0.2693160\ttotal: 17.9s\tremaining: 16.3s\n",
      "523:\tlearn: 0.2692333\ttotal: 17.9s\tremaining: 16.3s\n",
      "524:\tlearn: 0.2692035\ttotal: 17.9s\tremaining: 16.2s\n",
      "525:\tlearn: 0.2691996\ttotal: 17.9s\tremaining: 16.2s\n",
      "526:\tlearn: 0.2691556\ttotal: 18s\tremaining: 16.1s\n",
      "527:\tlearn: 0.2690965\ttotal: 18s\tremaining: 16.1s\n",
      "528:\tlearn: 0.2690397\ttotal: 18s\tremaining: 16s\n",
      "529:\tlearn: 0.2690358\ttotal: 18s\tremaining: 16s\n",
      "530:\tlearn: 0.2689960\ttotal: 18.1s\tremaining: 16s\n",
      "531:\tlearn: 0.2689264\ttotal: 18.1s\tremaining: 15.9s\n",
      "532:\tlearn: 0.2688109\ttotal: 18.1s\tremaining: 15.9s\n",
      "533:\tlearn: 0.2687759\ttotal: 18.1s\tremaining: 15.8s\n",
      "534:\tlearn: 0.2687245\ttotal: 18.1s\tremaining: 15.8s\n",
      "535:\tlearn: 0.2686761\ttotal: 18.2s\tremaining: 15.7s\n",
      "536:\tlearn: 0.2686303\ttotal: 18.2s\tremaining: 15.7s\n",
      "537:\tlearn: 0.2685944\ttotal: 18.2s\tremaining: 15.7s\n",
      "538:\tlearn: 0.2685330\ttotal: 18.3s\tremaining: 15.6s\n",
      "539:\tlearn: 0.2684928\ttotal: 18.3s\tremaining: 15.6s\n",
      "540:\tlearn: 0.2684596\ttotal: 18.3s\tremaining: 15.6s\n",
      "541:\tlearn: 0.2684196\ttotal: 18.4s\tremaining: 15.5s\n",
      "542:\tlearn: 0.2683889\ttotal: 18.4s\tremaining: 15.5s\n",
      "543:\tlearn: 0.2682925\ttotal: 18.4s\tremaining: 15.4s\n",
      "544:\tlearn: 0.2682399\ttotal: 18.4s\tremaining: 15.4s\n",
      "545:\tlearn: 0.2682015\ttotal: 18.4s\tremaining: 15.3s\n",
      "546:\tlearn: 0.2681459\ttotal: 18.5s\tremaining: 15.3s\n",
      "547:\tlearn: 0.2680822\ttotal: 18.5s\tremaining: 15.3s\n",
      "548:\tlearn: 0.2680324\ttotal: 18.5s\tremaining: 15.2s\n",
      "549:\tlearn: 0.2679698\ttotal: 18.6s\tremaining: 15.2s\n",
      "550:\tlearn: 0.2679286\ttotal: 18.6s\tremaining: 15.2s\n",
      "551:\tlearn: 0.2678436\ttotal: 18.6s\tremaining: 15.1s\n",
      "552:\tlearn: 0.2678041\ttotal: 18.7s\tremaining: 15.1s\n",
      "553:\tlearn: 0.2677606\ttotal: 18.7s\tremaining: 15s\n",
      "554:\tlearn: 0.2676712\ttotal: 18.7s\tremaining: 15s\n",
      "555:\tlearn: 0.2676148\ttotal: 18.7s\tremaining: 15s\n",
      "556:\tlearn: 0.2675579\ttotal: 18.8s\tremaining: 14.9s\n",
      "557:\tlearn: 0.2675064\ttotal: 18.8s\tremaining: 14.9s\n",
      "558:\tlearn: 0.2674509\ttotal: 18.8s\tremaining: 14.8s\n",
      "559:\tlearn: 0.2674285\ttotal: 18.8s\tremaining: 14.8s\n",
      "560:\tlearn: 0.2673978\ttotal: 18.8s\tremaining: 14.7s\n",
      "561:\tlearn: 0.2673446\ttotal: 19s\tremaining: 14.8s\n",
      "562:\tlearn: 0.2673415\ttotal: 19s\tremaining: 14.7s\n",
      "563:\tlearn: 0.2673017\ttotal: 19s\tremaining: 14.7s\n",
      "564:\tlearn: 0.2672580\ttotal: 19.1s\tremaining: 14.7s\n",
      "565:\tlearn: 0.2672213\ttotal: 19.1s\tremaining: 14.6s\n",
      "566:\tlearn: 0.2671889\ttotal: 19.1s\tremaining: 14.6s\n",
      "567:\tlearn: 0.2671504\ttotal: 19.1s\tremaining: 14.5s\n",
      "568:\tlearn: 0.2671092\ttotal: 19.1s\tremaining: 14.5s\n",
      "569:\tlearn: 0.2670766\ttotal: 19.2s\tremaining: 14.5s\n",
      "570:\tlearn: 0.2670227\ttotal: 19.2s\tremaining: 14.4s\n",
      "571:\tlearn: 0.2670191\ttotal: 19.2s\tremaining: 14.4s\n",
      "572:\tlearn: 0.2669506\ttotal: 19.3s\tremaining: 14.4s\n",
      "573:\tlearn: 0.2668891\ttotal: 19.3s\tremaining: 14.3s\n",
      "574:\tlearn: 0.2668476\ttotal: 19.3s\tremaining: 14.3s\n",
      "575:\tlearn: 0.2667113\ttotal: 19.4s\tremaining: 14.2s\n",
      "576:\tlearn: 0.2666627\ttotal: 19.4s\tremaining: 14.2s\n",
      "577:\tlearn: 0.2666036\ttotal: 19.4s\tremaining: 14.2s\n",
      "578:\tlearn: 0.2665709\ttotal: 19.4s\tremaining: 14.1s\n",
      "579:\tlearn: 0.2665545\ttotal: 19.5s\tremaining: 14.1s\n",
      "580:\tlearn: 0.2664855\ttotal: 19.5s\tremaining: 14.1s\n",
      "581:\tlearn: 0.2664821\ttotal: 19.5s\tremaining: 14s\n",
      "582:\tlearn: 0.2664350\ttotal: 19.5s\tremaining: 14s\n",
      "583:\tlearn: 0.2663896\ttotal: 19.6s\tremaining: 13.9s\n",
      "584:\tlearn: 0.2663591\ttotal: 19.6s\tremaining: 13.9s\n",
      "585:\tlearn: 0.2663236\ttotal: 19.6s\tremaining: 13.8s\n",
      "586:\tlearn: 0.2662663\ttotal: 19.6s\tremaining: 13.8s\n",
      "587:\tlearn: 0.2662223\ttotal: 19.7s\tremaining: 13.8s\n",
      "588:\tlearn: 0.2661460\ttotal: 19.7s\tremaining: 13.7s\n",
      "589:\tlearn: 0.2660941\ttotal: 19.7s\tremaining: 13.7s\n",
      "590:\tlearn: 0.2660543\ttotal: 19.7s\tremaining: 13.7s\n",
      "591:\tlearn: 0.2660069\ttotal: 19.8s\tremaining: 13.6s\n",
      "592:\tlearn: 0.2659790\ttotal: 19.8s\tremaining: 13.6s\n",
      "593:\tlearn: 0.2659423\ttotal: 19.8s\tremaining: 13.5s\n",
      "594:\tlearn: 0.2659035\ttotal: 19.8s\tremaining: 13.5s\n",
      "595:\tlearn: 0.2658295\ttotal: 19.9s\tremaining: 13.5s\n",
      "596:\tlearn: 0.2655988\ttotal: 19.9s\tremaining: 13.4s\n",
      "597:\tlearn: 0.2655683\ttotal: 19.9s\tremaining: 13.4s\n",
      "598:\tlearn: 0.2655406\ttotal: 20s\tremaining: 13.4s\n",
      "599:\tlearn: 0.2654963\ttotal: 20s\tremaining: 13.3s\n",
      "600:\tlearn: 0.2654338\ttotal: 20s\tremaining: 13.3s\n",
      "601:\tlearn: 0.2653831\ttotal: 20.1s\tremaining: 13.3s\n",
      "602:\tlearn: 0.2653246\ttotal: 20.1s\tremaining: 13.2s\n",
      "603:\tlearn: 0.2652895\ttotal: 20.1s\tremaining: 13.2s\n",
      "604:\tlearn: 0.2651861\ttotal: 20.2s\tremaining: 13.2s\n",
      "605:\tlearn: 0.2651512\ttotal: 20.2s\tremaining: 13.1s\n",
      "606:\tlearn: 0.2651104\ttotal: 20.2s\tremaining: 13.1s\n",
      "607:\tlearn: 0.2650691\ttotal: 20.3s\tremaining: 13.1s\n",
      "608:\tlearn: 0.2650320\ttotal: 20.3s\tremaining: 13s\n",
      "609:\tlearn: 0.2649668\ttotal: 20.3s\tremaining: 13s\n",
      "610:\tlearn: 0.2649210\ttotal: 20.3s\tremaining: 13s\n",
      "611:\tlearn: 0.2648914\ttotal: 20.4s\tremaining: 12.9s\n",
      "612:\tlearn: 0.2648481\ttotal: 20.4s\tremaining: 12.9s\n",
      "613:\tlearn: 0.2648453\ttotal: 20.4s\tremaining: 12.8s\n",
      "614:\tlearn: 0.2648060\ttotal: 20.4s\tremaining: 12.8s\n",
      "615:\tlearn: 0.2647761\ttotal: 20.5s\tremaining: 12.7s\n",
      "616:\tlearn: 0.2647444\ttotal: 20.5s\tremaining: 12.7s\n",
      "617:\tlearn: 0.2647183\ttotal: 20.5s\tremaining: 12.7s\n",
      "618:\tlearn: 0.2646634\ttotal: 20.6s\tremaining: 12.7s\n",
      "619:\tlearn: 0.2646328\ttotal: 20.6s\tremaining: 12.6s\n",
      "620:\tlearn: 0.2646179\ttotal: 20.6s\tremaining: 12.6s\n",
      "621:\tlearn: 0.2645224\ttotal: 20.7s\tremaining: 12.6s\n",
      "622:\tlearn: 0.2644898\ttotal: 20.7s\tremaining: 12.5s\n",
      "623:\tlearn: 0.2644504\ttotal: 20.7s\tremaining: 12.5s\n",
      "624:\tlearn: 0.2644203\ttotal: 20.7s\tremaining: 12.4s\n",
      "625:\tlearn: 0.2643796\ttotal: 20.8s\tremaining: 12.4s\n",
      "626:\tlearn: 0.2643380\ttotal: 20.8s\tremaining: 12.4s\n",
      "627:\tlearn: 0.2643349\ttotal: 20.8s\tremaining: 12.3s\n",
      "628:\tlearn: 0.2642960\ttotal: 20.8s\tremaining: 12.3s\n",
      "629:\tlearn: 0.2642358\ttotal: 20.9s\tremaining: 12.2s\n",
      "630:\tlearn: 0.2641948\ttotal: 20.9s\tremaining: 12.2s\n",
      "631:\tlearn: 0.2641569\ttotal: 20.9s\tremaining: 12.2s\n",
      "632:\tlearn: 0.2641015\ttotal: 20.9s\tremaining: 12.1s\n",
      "633:\tlearn: 0.2640651\ttotal: 21s\tremaining: 12.1s\n",
      "634:\tlearn: 0.2640442\ttotal: 21s\tremaining: 12.1s\n",
      "635:\tlearn: 0.2639940\ttotal: 21s\tremaining: 12s\n",
      "636:\tlearn: 0.2639573\ttotal: 21s\tremaining: 12s\n",
      "637:\tlearn: 0.2639329\ttotal: 21.1s\tremaining: 12s\n",
      "638:\tlearn: 0.2638839\ttotal: 21.1s\tremaining: 11.9s\n",
      "639:\tlearn: 0.2638809\ttotal: 21.1s\tremaining: 11.9s\n",
      "640:\tlearn: 0.2638338\ttotal: 21.1s\tremaining: 11.8s\n",
      "641:\tlearn: 0.2638037\ttotal: 21.2s\tremaining: 11.8s\n",
      "642:\tlearn: 0.2637500\ttotal: 21.2s\tremaining: 11.8s\n",
      "643:\tlearn: 0.2637026\ttotal: 21.2s\tremaining: 11.7s\n",
      "644:\tlearn: 0.2636510\ttotal: 21.2s\tremaining: 11.7s\n",
      "645:\tlearn: 0.2635779\ttotal: 21.3s\tremaining: 11.7s\n",
      "646:\tlearn: 0.2635285\ttotal: 21.3s\tremaining: 11.6s\n",
      "647:\tlearn: 0.2635015\ttotal: 21.3s\tremaining: 11.6s\n"
     ]
    },
    {
     "name": "stdout",
     "output_type": "stream",
     "text": [
      "648:\tlearn: 0.2634630\ttotal: 21.3s\tremaining: 11.5s\n",
      "649:\tlearn: 0.2633976\ttotal: 21.4s\tremaining: 11.5s\n",
      "650:\tlearn: 0.2633545\ttotal: 21.4s\tremaining: 11.5s\n",
      "651:\tlearn: 0.2633061\ttotal: 21.4s\tremaining: 11.4s\n",
      "652:\tlearn: 0.2632389\ttotal: 21.4s\tremaining: 11.4s\n",
      "653:\tlearn: 0.2631979\ttotal: 21.4s\tremaining: 11.3s\n",
      "654:\tlearn: 0.2631544\ttotal: 21.5s\tremaining: 11.3s\n",
      "655:\tlearn: 0.2631203\ttotal: 21.5s\tremaining: 11.3s\n",
      "656:\tlearn: 0.2630953\ttotal: 21.5s\tremaining: 11.2s\n",
      "657:\tlearn: 0.2630573\ttotal: 21.5s\tremaining: 11.2s\n",
      "658:\tlearn: 0.2630144\ttotal: 21.5s\tremaining: 11.1s\n",
      "659:\tlearn: 0.2629774\ttotal: 21.6s\tremaining: 11.1s\n",
      "660:\tlearn: 0.2629402\ttotal: 21.6s\tremaining: 11.1s\n",
      "661:\tlearn: 0.2628936\ttotal: 21.6s\tremaining: 11s\n",
      "662:\tlearn: 0.2628568\ttotal: 21.6s\tremaining: 11s\n",
      "663:\tlearn: 0.2627994\ttotal: 21.6s\tremaining: 11s\n",
      "664:\tlearn: 0.2627555\ttotal: 21.7s\tremaining: 10.9s\n",
      "665:\tlearn: 0.2627526\ttotal: 21.7s\tremaining: 10.9s\n",
      "666:\tlearn: 0.2627189\ttotal: 21.7s\tremaining: 10.8s\n",
      "667:\tlearn: 0.2627077\ttotal: 21.7s\tremaining: 10.8s\n",
      "668:\tlearn: 0.2626722\ttotal: 21.7s\tremaining: 10.8s\n",
      "669:\tlearn: 0.2625721\ttotal: 21.8s\tremaining: 10.7s\n",
      "670:\tlearn: 0.2625240\ttotal: 21.8s\tremaining: 10.7s\n",
      "671:\tlearn: 0.2624989\ttotal: 21.8s\tremaining: 10.7s\n",
      "672:\tlearn: 0.2624523\ttotal: 21.8s\tremaining: 10.6s\n",
      "673:\tlearn: 0.2624061\ttotal: 21.9s\tremaining: 10.6s\n",
      "674:\tlearn: 0.2623604\ttotal: 21.9s\tremaining: 10.5s\n",
      "675:\tlearn: 0.2621620\ttotal: 21.9s\tremaining: 10.5s\n",
      "676:\tlearn: 0.2621372\ttotal: 21.9s\tremaining: 10.5s\n",
      "677:\tlearn: 0.2620810\ttotal: 21.9s\tremaining: 10.4s\n",
      "678:\tlearn: 0.2620283\ttotal: 22s\tremaining: 10.4s\n",
      "679:\tlearn: 0.2620043\ttotal: 22s\tremaining: 10.4s\n",
      "680:\tlearn: 0.2620019\ttotal: 22s\tremaining: 10.3s\n",
      "681:\tlearn: 0.2619508\ttotal: 22s\tremaining: 10.3s\n",
      "682:\tlearn: 0.2618887\ttotal: 22.1s\tremaining: 10.2s\n",
      "683:\tlearn: 0.2618679\ttotal: 22.1s\tremaining: 10.2s\n",
      "684:\tlearn: 0.2618399\ttotal: 22.1s\tremaining: 10.2s\n",
      "685:\tlearn: 0.2618031\ttotal: 22.1s\tremaining: 10.1s\n",
      "686:\tlearn: 0.2617660\ttotal: 22.2s\tremaining: 10.1s\n",
      "687:\tlearn: 0.2617039\ttotal: 22.2s\tremaining: 10.1s\n",
      "688:\tlearn: 0.2616677\ttotal: 22.2s\tremaining: 10s\n",
      "689:\tlearn: 0.2616386\ttotal: 22.2s\tremaining: 9.98s\n",
      "690:\tlearn: 0.2615773\ttotal: 22.2s\tremaining: 9.94s\n",
      "691:\tlearn: 0.2615376\ttotal: 22.3s\tremaining: 9.91s\n",
      "692:\tlearn: 0.2615045\ttotal: 22.3s\tremaining: 9.87s\n",
      "693:\tlearn: 0.2614897\ttotal: 22.3s\tremaining: 9.83s\n",
      "694:\tlearn: 0.2614613\ttotal: 22.3s\tremaining: 9.8s\n",
      "695:\tlearn: 0.2613980\ttotal: 22.4s\tremaining: 9.77s\n",
      "696:\tlearn: 0.2613605\ttotal: 22.4s\tremaining: 9.73s\n",
      "697:\tlearn: 0.2613157\ttotal: 22.4s\tremaining: 9.7s\n",
      "698:\tlearn: 0.2612949\ttotal: 22.5s\tremaining: 9.67s\n",
      "699:\tlearn: 0.2612487\ttotal: 22.5s\tremaining: 9.63s\n",
      "700:\tlearn: 0.2612143\ttotal: 22.5s\tremaining: 9.6s\n",
      "701:\tlearn: 0.2611811\ttotal: 22.5s\tremaining: 9.56s\n",
      "702:\tlearn: 0.2611456\ttotal: 22.5s\tremaining: 9.52s\n",
      "703:\tlearn: 0.2611248\ttotal: 22.6s\tremaining: 9.49s\n",
      "704:\tlearn: 0.2610762\ttotal: 22.6s\tremaining: 9.45s\n",
      "705:\tlearn: 0.2610145\ttotal: 22.6s\tremaining: 9.41s\n",
      "706:\tlearn: 0.2609771\ttotal: 22.6s\tremaining: 9.38s\n",
      "707:\tlearn: 0.2609514\ttotal: 22.7s\tremaining: 9.34s\n",
      "708:\tlearn: 0.2609098\ttotal: 22.7s\tremaining: 9.3s\n",
      "709:\tlearn: 0.2608716\ttotal: 22.7s\tremaining: 9.27s\n",
      "710:\tlearn: 0.2608241\ttotal: 22.7s\tremaining: 9.23s\n",
      "711:\tlearn: 0.2607391\ttotal: 22.7s\tremaining: 9.2s\n",
      "712:\tlearn: 0.2607009\ttotal: 22.8s\tremaining: 9.17s\n",
      "713:\tlearn: 0.2606693\ttotal: 22.8s\tremaining: 9.14s\n",
      "714:\tlearn: 0.2606069\ttotal: 22.8s\tremaining: 9.1s\n",
      "715:\tlearn: 0.2605991\ttotal: 22.9s\tremaining: 9.06s\n",
      "716:\tlearn: 0.2605560\ttotal: 22.9s\tremaining: 9.03s\n",
      "717:\tlearn: 0.2605524\ttotal: 22.9s\tremaining: 9s\n",
      "718:\tlearn: 0.2605161\ttotal: 22.9s\tremaining: 8.96s\n",
      "719:\tlearn: 0.2604776\ttotal: 23s\tremaining: 8.93s\n",
      "720:\tlearn: 0.2604244\ttotal: 23s\tremaining: 8.89s\n",
      "721:\tlearn: 0.2603893\ttotal: 23s\tremaining: 8.86s\n",
      "722:\tlearn: 0.2603258\ttotal: 23s\tremaining: 8.82s\n",
      "723:\tlearn: 0.2602813\ttotal: 23s\tremaining: 8.79s\n",
      "724:\tlearn: 0.2602740\ttotal: 23.1s\tremaining: 8.75s\n",
      "725:\tlearn: 0.2602439\ttotal: 23.1s\tremaining: 8.72s\n",
      "726:\tlearn: 0.2602161\ttotal: 23.1s\tremaining: 8.68s\n",
      "727:\tlearn: 0.2601721\ttotal: 23.1s\tremaining: 8.64s\n",
      "728:\tlearn: 0.2601416\ttotal: 23.2s\tremaining: 8.61s\n",
      "729:\tlearn: 0.2600968\ttotal: 23.2s\tremaining: 8.57s\n",
      "730:\tlearn: 0.2600405\ttotal: 23.2s\tremaining: 8.54s\n",
      "731:\tlearn: 0.2600088\ttotal: 23.2s\tremaining: 8.51s\n",
      "732:\tlearn: 0.2599646\ttotal: 23.3s\tremaining: 8.47s\n",
      "733:\tlearn: 0.2599268\ttotal: 23.3s\tremaining: 8.44s\n",
      "734:\tlearn: 0.2598832\ttotal: 23.3s\tremaining: 8.41s\n",
      "735:\tlearn: 0.2598655\ttotal: 23.3s\tremaining: 8.37s\n",
      "736:\tlearn: 0.2598291\ttotal: 23.4s\tremaining: 8.34s\n",
      "737:\tlearn: 0.2598043\ttotal: 23.4s\tremaining: 8.31s\n",
      "738:\tlearn: 0.2597627\ttotal: 23.4s\tremaining: 8.27s\n",
      "739:\tlearn: 0.2597445\ttotal: 23.4s\tremaining: 8.23s\n",
      "740:\tlearn: 0.2597172\ttotal: 23.5s\tremaining: 8.2s\n",
      "741:\tlearn: 0.2597147\ttotal: 23.5s\tremaining: 8.17s\n",
      "742:\tlearn: 0.2596608\ttotal: 23.6s\tremaining: 8.14s\n",
      "743:\tlearn: 0.2596163\ttotal: 23.6s\tremaining: 8.11s\n",
      "744:\tlearn: 0.2595651\ttotal: 23.6s\tremaining: 8.08s\n",
      "745:\tlearn: 0.2595443\ttotal: 23.6s\tremaining: 8.04s\n",
      "746:\tlearn: 0.2595063\ttotal: 23.7s\tremaining: 8.01s\n",
      "747:\tlearn: 0.2593508\ttotal: 23.7s\tremaining: 7.98s\n",
      "748:\tlearn: 0.2591917\ttotal: 23.7s\tremaining: 7.95s\n",
      "749:\tlearn: 0.2591621\ttotal: 23.8s\tremaining: 7.92s\n",
      "750:\tlearn: 0.2591269\ttotal: 23.8s\tremaining: 7.89s\n",
      "751:\tlearn: 0.2590902\ttotal: 23.8s\tremaining: 7.86s\n",
      "752:\tlearn: 0.2590476\ttotal: 23.9s\tremaining: 7.82s\n",
      "753:\tlearn: 0.2590099\ttotal: 23.9s\tremaining: 7.79s\n",
      "754:\tlearn: 0.2589728\ttotal: 23.9s\tremaining: 7.75s\n",
      "755:\tlearn: 0.2589646\ttotal: 23.9s\tremaining: 7.72s\n",
      "756:\tlearn: 0.2589409\ttotal: 23.9s\tremaining: 7.69s\n",
      "757:\tlearn: 0.2588941\ttotal: 24s\tremaining: 7.65s\n",
      "758:\tlearn: 0.2588431\ttotal: 24s\tremaining: 7.63s\n",
      "759:\tlearn: 0.2588119\ttotal: 24.1s\tremaining: 7.6s\n",
      "760:\tlearn: 0.2587727\ttotal: 24.1s\tremaining: 7.57s\n",
      "761:\tlearn: 0.2587397\ttotal: 24.1s\tremaining: 7.54s\n",
      "762:\tlearn: 0.2586536\ttotal: 24.2s\tremaining: 7.51s\n",
      "763:\tlearn: 0.2586483\ttotal: 24.2s\tremaining: 7.48s\n",
      "764:\tlearn: 0.2585988\ttotal: 24.2s\tremaining: 7.45s\n",
      "765:\tlearn: 0.2585582\ttotal: 24.3s\tremaining: 7.41s\n",
      "766:\tlearn: 0.2585040\ttotal: 24.3s\tremaining: 7.38s\n",
      "767:\tlearn: 0.2584659\ttotal: 24.3s\tremaining: 7.34s\n",
      "768:\tlearn: 0.2583899\ttotal: 24.3s\tremaining: 7.31s\n",
      "769:\tlearn: 0.2583747\ttotal: 24.4s\tremaining: 7.27s\n",
      "770:\tlearn: 0.2583441\ttotal: 24.4s\tremaining: 7.24s\n",
      "771:\tlearn: 0.2583089\ttotal: 24.4s\tremaining: 7.21s\n",
      "772:\tlearn: 0.2582692\ttotal: 24.4s\tremaining: 7.17s\n",
      "773:\tlearn: 0.2582230\ttotal: 24.4s\tremaining: 7.14s\n",
      "774:\tlearn: 0.2581978\ttotal: 24.5s\tremaining: 7.1s\n",
      "775:\tlearn: 0.2581568\ttotal: 24.5s\tremaining: 7.07s\n",
      "776:\tlearn: 0.2581070\ttotal: 24.5s\tremaining: 7.03s\n",
      "777:\tlearn: 0.2580614\ttotal: 24.5s\tremaining: 7s\n",
      "778:\tlearn: 0.2580134\ttotal: 24.6s\tremaining: 6.97s\n",
      "779:\tlearn: 0.2579030\ttotal: 24.6s\tremaining: 6.93s\n",
      "780:\tlearn: 0.2578667\ttotal: 24.6s\tremaining: 6.9s\n",
      "781:\tlearn: 0.2578364\ttotal: 24.6s\tremaining: 6.86s\n",
      "782:\tlearn: 0.2578047\ttotal: 24.6s\tremaining: 6.83s\n",
      "783:\tlearn: 0.2577621\ttotal: 24.7s\tremaining: 6.79s\n",
      "784:\tlearn: 0.2577492\ttotal: 24.7s\tremaining: 6.76s\n",
      "785:\tlearn: 0.2576871\ttotal: 24.7s\tremaining: 6.73s\n",
      "786:\tlearn: 0.2576392\ttotal: 24.7s\tremaining: 6.69s\n",
      "787:\tlearn: 0.2575879\ttotal: 24.7s\tremaining: 6.66s\n",
      "788:\tlearn: 0.2575474\ttotal: 24.8s\tremaining: 6.62s\n",
      "789:\tlearn: 0.2575112\ttotal: 24.8s\tremaining: 6.59s\n",
      "790:\tlearn: 0.2574917\ttotal: 24.8s\tremaining: 6.55s\n",
      "791:\tlearn: 0.2574675\ttotal: 24.8s\tremaining: 6.52s\n",
      "792:\tlearn: 0.2574337\ttotal: 24.9s\tremaining: 6.49s\n",
      "793:\tlearn: 0.2573955\ttotal: 24.9s\tremaining: 6.46s\n",
      "794:\tlearn: 0.2573914\ttotal: 24.9s\tremaining: 6.42s\n",
      "795:\tlearn: 0.2573606\ttotal: 24.9s\tremaining: 6.39s\n",
      "796:\tlearn: 0.2573226\ttotal: 24.9s\tremaining: 6.35s\n",
      "797:\tlearn: 0.2571329\ttotal: 25s\tremaining: 6.32s\n",
      "798:\tlearn: 0.2571085\ttotal: 25s\tremaining: 6.29s\n",
      "799:\tlearn: 0.2570572\ttotal: 25s\tremaining: 6.25s\n",
      "800:\tlearn: 0.2569271\ttotal: 25s\tremaining: 6.22s\n",
      "801:\tlearn: 0.2568939\ttotal: 25.1s\tremaining: 6.18s\n",
      "802:\tlearn: 0.2568660\ttotal: 25.1s\tremaining: 6.15s\n",
      "803:\tlearn: 0.2568247\ttotal: 25.1s\tremaining: 6.12s\n",
      "804:\tlearn: 0.2567911\ttotal: 25.1s\tremaining: 6.08s\n",
      "805:\tlearn: 0.2567680\ttotal: 25.1s\tremaining: 6.05s\n",
      "806:\tlearn: 0.2567313\ttotal: 25.2s\tremaining: 6.02s\n",
      "807:\tlearn: 0.2566910\ttotal: 25.2s\tremaining: 5.98s\n",
      "808:\tlearn: 0.2566634\ttotal: 25.2s\tremaining: 5.95s\n",
      "809:\tlearn: 0.2566164\ttotal: 25.2s\tremaining: 5.92s\n",
      "810:\tlearn: 0.2565935\ttotal: 25.2s\tremaining: 5.88s\n"
     ]
    },
    {
     "name": "stdout",
     "output_type": "stream",
     "text": [
      "811:\tlearn: 0.2565571\ttotal: 25.3s\tremaining: 5.85s\n",
      "812:\tlearn: 0.2565139\ttotal: 25.3s\tremaining: 5.82s\n",
      "813:\tlearn: 0.2564645\ttotal: 25.3s\tremaining: 5.78s\n",
      "814:\tlearn: 0.2564564\ttotal: 25.3s\tremaining: 5.75s\n",
      "815:\tlearn: 0.2564365\ttotal: 25.4s\tremaining: 5.72s\n",
      "816:\tlearn: 0.2564042\ttotal: 25.4s\tremaining: 5.68s\n",
      "817:\tlearn: 0.2563727\ttotal: 25.4s\tremaining: 5.65s\n",
      "818:\tlearn: 0.2563653\ttotal: 25.4s\tremaining: 5.62s\n",
      "819:\tlearn: 0.2563429\ttotal: 25.4s\tremaining: 5.58s\n",
      "820:\tlearn: 0.2563194\ttotal: 25.5s\tremaining: 5.55s\n",
      "821:\tlearn: 0.2563171\ttotal: 25.5s\tremaining: 5.52s\n",
      "822:\tlearn: 0.2562916\ttotal: 25.5s\tremaining: 5.49s\n",
      "823:\tlearn: 0.2562701\ttotal: 25.5s\tremaining: 5.45s\n",
      "824:\tlearn: 0.2562334\ttotal: 25.6s\tremaining: 5.42s\n",
      "825:\tlearn: 0.2562072\ttotal: 25.6s\tremaining: 5.39s\n",
      "826:\tlearn: 0.2561636\ttotal: 25.6s\tremaining: 5.36s\n",
      "827:\tlearn: 0.2561324\ttotal: 25.6s\tremaining: 5.32s\n",
      "828:\tlearn: 0.2560816\ttotal: 25.6s\tremaining: 5.29s\n",
      "829:\tlearn: 0.2560557\ttotal: 25.7s\tremaining: 5.26s\n",
      "830:\tlearn: 0.2560249\ttotal: 25.7s\tremaining: 5.22s\n",
      "831:\tlearn: 0.2560017\ttotal: 25.7s\tremaining: 5.19s\n",
      "832:\tlearn: 0.2559682\ttotal: 25.7s\tremaining: 5.16s\n",
      "833:\tlearn: 0.2559318\ttotal: 25.8s\tremaining: 5.13s\n",
      "834:\tlearn: 0.2559012\ttotal: 25.8s\tremaining: 5.1s\n",
      "835:\tlearn: 0.2558704\ttotal: 25.8s\tremaining: 5.06s\n",
      "836:\tlearn: 0.2558682\ttotal: 25.8s\tremaining: 5.03s\n",
      "837:\tlearn: 0.2558373\ttotal: 25.9s\tremaining: 5s\n",
      "838:\tlearn: 0.2557935\ttotal: 25.9s\tremaining: 4.97s\n",
      "839:\tlearn: 0.2557492\ttotal: 25.9s\tremaining: 4.93s\n",
      "840:\tlearn: 0.2556465\ttotal: 25.9s\tremaining: 4.9s\n",
      "841:\tlearn: 0.2556333\ttotal: 25.9s\tremaining: 4.87s\n",
      "842:\tlearn: 0.2556060\ttotal: 26s\tremaining: 4.84s\n",
      "843:\tlearn: 0.2555942\ttotal: 26s\tremaining: 4.81s\n",
      "844:\tlearn: 0.2555681\ttotal: 26s\tremaining: 4.77s\n",
      "845:\tlearn: 0.2555127\ttotal: 26.1s\tremaining: 4.74s\n",
      "846:\tlearn: 0.2555028\ttotal: 26.1s\tremaining: 4.71s\n",
      "847:\tlearn: 0.2554722\ttotal: 26.1s\tremaining: 4.68s\n",
      "848:\tlearn: 0.2554549\ttotal: 26.1s\tremaining: 4.65s\n",
      "849:\tlearn: 0.2554269\ttotal: 26.2s\tremaining: 4.62s\n",
      "850:\tlearn: 0.2554023\ttotal: 26.2s\tremaining: 4.59s\n",
      "851:\tlearn: 0.2553885\ttotal: 26.2s\tremaining: 4.55s\n",
      "852:\tlearn: 0.2553573\ttotal: 26.2s\tremaining: 4.52s\n",
      "853:\tlearn: 0.2553284\ttotal: 26.3s\tremaining: 4.49s\n",
      "854:\tlearn: 0.2553127\ttotal: 26.3s\tremaining: 4.46s\n",
      "855:\tlearn: 0.2552000\ttotal: 26.3s\tremaining: 4.43s\n",
      "856:\tlearn: 0.2551663\ttotal: 26.3s\tremaining: 4.4s\n",
      "857:\tlearn: 0.2551328\ttotal: 26.4s\tremaining: 4.36s\n",
      "858:\tlearn: 0.2550872\ttotal: 26.4s\tremaining: 4.33s\n",
      "859:\tlearn: 0.2550638\ttotal: 26.4s\tremaining: 4.3s\n",
      "860:\tlearn: 0.2550306\ttotal: 26.4s\tremaining: 4.27s\n",
      "861:\tlearn: 0.2549830\ttotal: 26.5s\tremaining: 4.23s\n",
      "862:\tlearn: 0.2549559\ttotal: 26.5s\tremaining: 4.2s\n",
      "863:\tlearn: 0.2549237\ttotal: 26.5s\tremaining: 4.17s\n",
      "864:\tlearn: 0.2548630\ttotal: 26.5s\tremaining: 4.14s\n",
      "865:\tlearn: 0.2548595\ttotal: 26.5s\tremaining: 4.11s\n",
      "866:\tlearn: 0.2548145\ttotal: 26.6s\tremaining: 4.07s\n",
      "867:\tlearn: 0.2547852\ttotal: 26.6s\tremaining: 4.04s\n",
      "868:\tlearn: 0.2547512\ttotal: 26.6s\tremaining: 4.01s\n",
      "869:\tlearn: 0.2547023\ttotal: 26.6s\tremaining: 3.98s\n",
      "870:\tlearn: 0.2546862\ttotal: 26.6s\tremaining: 3.94s\n",
      "871:\tlearn: 0.2546606\ttotal: 26.7s\tremaining: 3.91s\n",
      "872:\tlearn: 0.2546410\ttotal: 26.7s\tremaining: 3.88s\n",
      "873:\tlearn: 0.2545998\ttotal: 26.7s\tremaining: 3.85s\n",
      "874:\tlearn: 0.2545841\ttotal: 26.7s\tremaining: 3.82s\n",
      "875:\tlearn: 0.2545578\ttotal: 26.7s\tremaining: 3.78s\n",
      "876:\tlearn: 0.2545327\ttotal: 26.8s\tremaining: 3.75s\n",
      "877:\tlearn: 0.2544784\ttotal: 26.8s\tremaining: 3.72s\n",
      "878:\tlearn: 0.2544460\ttotal: 26.8s\tremaining: 3.69s\n",
      "879:\tlearn: 0.2544129\ttotal: 26.8s\tremaining: 3.66s\n",
      "880:\tlearn: 0.2543729\ttotal: 26.8s\tremaining: 3.63s\n",
      "881:\tlearn: 0.2543592\ttotal: 26.9s\tremaining: 3.59s\n",
      "882:\tlearn: 0.2543155\ttotal: 26.9s\tremaining: 3.56s\n",
      "883:\tlearn: 0.2542804\ttotal: 26.9s\tremaining: 3.53s\n",
      "884:\tlearn: 0.2542281\ttotal: 26.9s\tremaining: 3.5s\n",
      "885:\tlearn: 0.2542261\ttotal: 26.9s\tremaining: 3.47s\n",
      "886:\tlearn: 0.2541829\ttotal: 27s\tremaining: 3.44s\n",
      "887:\tlearn: 0.2541595\ttotal: 27s\tremaining: 3.4s\n",
      "888:\tlearn: 0.2541423\ttotal: 27s\tremaining: 3.37s\n",
      "889:\tlearn: 0.2540869\ttotal: 27s\tremaining: 3.34s\n",
      "890:\tlearn: 0.2540532\ttotal: 27.1s\tremaining: 3.31s\n",
      "891:\tlearn: 0.2540314\ttotal: 27.1s\tremaining: 3.28s\n",
      "892:\tlearn: 0.2540026\ttotal: 27.1s\tremaining: 3.25s\n",
      "893:\tlearn: 0.2539679\ttotal: 27.1s\tremaining: 3.21s\n",
      "894:\tlearn: 0.2539529\ttotal: 27.1s\tremaining: 3.18s\n",
      "895:\tlearn: 0.2539264\ttotal: 27.2s\tremaining: 3.15s\n",
      "896:\tlearn: 0.2538871\ttotal: 27.2s\tremaining: 3.12s\n",
      "897:\tlearn: 0.2538548\ttotal: 27.2s\tremaining: 3.09s\n",
      "898:\tlearn: 0.2538315\ttotal: 27.3s\tremaining: 3.06s\n",
      "899:\tlearn: 0.2538111\ttotal: 27.3s\tremaining: 3.03s\n",
      "900:\tlearn: 0.2537330\ttotal: 27.3s\tremaining: 3s\n",
      "901:\tlearn: 0.2536977\ttotal: 27.4s\tremaining: 2.97s\n",
      "902:\tlearn: 0.2536604\ttotal: 27.4s\tremaining: 2.94s\n",
      "903:\tlearn: 0.2536272\ttotal: 27.4s\tremaining: 2.91s\n",
      "904:\tlearn: 0.2535995\ttotal: 27.4s\tremaining: 2.88s\n",
      "905:\tlearn: 0.2535890\ttotal: 27.5s\tremaining: 2.85s\n",
      "906:\tlearn: 0.2535566\ttotal: 27.5s\tremaining: 2.82s\n",
      "907:\tlearn: 0.2535266\ttotal: 27.5s\tremaining: 2.79s\n",
      "908:\tlearn: 0.2534993\ttotal: 27.5s\tremaining: 2.75s\n",
      "909:\tlearn: 0.2534778\ttotal: 27.5s\tremaining: 2.72s\n",
      "910:\tlearn: 0.2534353\ttotal: 27.6s\tremaining: 2.69s\n",
      "911:\tlearn: 0.2534025\ttotal: 27.6s\tremaining: 2.66s\n",
      "912:\tlearn: 0.2533690\ttotal: 27.6s\tremaining: 2.63s\n",
      "913:\tlearn: 0.2533313\ttotal: 27.6s\tremaining: 2.6s\n",
      "914:\tlearn: 0.2532831\ttotal: 27.7s\tremaining: 2.57s\n",
      "915:\tlearn: 0.2532495\ttotal: 27.7s\tremaining: 2.54s\n",
      "916:\tlearn: 0.2531589\ttotal: 27.7s\tremaining: 2.51s\n",
      "917:\tlearn: 0.2531466\ttotal: 27.7s\tremaining: 2.48s\n",
      "918:\tlearn: 0.2531249\ttotal: 27.8s\tremaining: 2.45s\n",
      "919:\tlearn: 0.2531196\ttotal: 27.8s\tremaining: 2.42s\n",
      "920:\tlearn: 0.2531065\ttotal: 27.8s\tremaining: 2.38s\n",
      "921:\tlearn: 0.2531047\ttotal: 27.8s\tremaining: 2.35s\n",
      "922:\tlearn: 0.2531031\ttotal: 27.8s\tremaining: 2.32s\n",
      "923:\tlearn: 0.2530815\ttotal: 27.9s\tremaining: 2.29s\n",
      "924:\tlearn: 0.2530572\ttotal: 27.9s\tremaining: 2.26s\n",
      "925:\tlearn: 0.2530212\ttotal: 27.9s\tremaining: 2.23s\n",
      "926:\tlearn: 0.2529947\ttotal: 27.9s\tremaining: 2.2s\n",
      "927:\tlearn: 0.2529741\ttotal: 27.9s\tremaining: 2.17s\n",
      "928:\tlearn: 0.2529486\ttotal: 28s\tremaining: 2.14s\n",
      "929:\tlearn: 0.2529220\ttotal: 28s\tremaining: 2.11s\n",
      "930:\tlearn: 0.2528693\ttotal: 28s\tremaining: 2.08s\n",
      "931:\tlearn: 0.2528489\ttotal: 28s\tremaining: 2.05s\n",
      "932:\tlearn: 0.2528245\ttotal: 28.1s\tremaining: 2.02s\n",
      "933:\tlearn: 0.2527989\ttotal: 28.1s\tremaining: 1.98s\n",
      "934:\tlearn: 0.2527776\ttotal: 28.1s\tremaining: 1.95s\n",
      "935:\tlearn: 0.2527534\ttotal: 28.1s\tremaining: 1.92s\n",
      "936:\tlearn: 0.2527309\ttotal: 28.1s\tremaining: 1.89s\n",
      "937:\tlearn: 0.2526945\ttotal: 28.2s\tremaining: 1.86s\n",
      "938:\tlearn: 0.2526724\ttotal: 28.2s\tremaining: 1.83s\n",
      "939:\tlearn: 0.2526172\ttotal: 28.2s\tremaining: 1.8s\n",
      "940:\tlearn: 0.2525871\ttotal: 28.2s\tremaining: 1.77s\n",
      "941:\tlearn: 0.2525543\ttotal: 28.3s\tremaining: 1.74s\n",
      "942:\tlearn: 0.2525111\ttotal: 28.3s\tremaining: 1.71s\n",
      "943:\tlearn: 0.2525043\ttotal: 28.3s\tremaining: 1.68s\n",
      "944:\tlearn: 0.2524910\ttotal: 28.3s\tremaining: 1.65s\n",
      "945:\tlearn: 0.2524709\ttotal: 28.3s\tremaining: 1.62s\n",
      "946:\tlearn: 0.2524674\ttotal: 28.4s\tremaining: 1.59s\n",
      "947:\tlearn: 0.2524624\ttotal: 28.4s\tremaining: 1.56s\n",
      "948:\tlearn: 0.2524359\ttotal: 28.4s\tremaining: 1.52s\n",
      "949:\tlearn: 0.2524328\ttotal: 28.4s\tremaining: 1.5s\n",
      "950:\tlearn: 0.2523798\ttotal: 28.4s\tremaining: 1.47s\n",
      "951:\tlearn: 0.2523621\ttotal: 28.5s\tremaining: 1.44s\n",
      "952:\tlearn: 0.2523325\ttotal: 28.5s\tremaining: 1.41s\n",
      "953:\tlearn: 0.2523064\ttotal: 28.5s\tremaining: 1.37s\n",
      "954:\tlearn: 0.2522813\ttotal: 28.5s\tremaining: 1.34s\n",
      "955:\tlearn: 0.2522496\ttotal: 28.6s\tremaining: 1.31s\n",
      "956:\tlearn: 0.2522005\ttotal: 28.6s\tremaining: 1.28s\n",
      "957:\tlearn: 0.2520691\ttotal: 28.6s\tremaining: 1.25s\n",
      "958:\tlearn: 0.2520305\ttotal: 28.6s\tremaining: 1.22s\n",
      "959:\tlearn: 0.2519288\ttotal: 28.6s\tremaining: 1.19s\n",
      "960:\tlearn: 0.2518879\ttotal: 28.7s\tremaining: 1.16s\n",
      "961:\tlearn: 0.2518558\ttotal: 28.7s\tremaining: 1.13s\n",
      "962:\tlearn: 0.2518170\ttotal: 28.7s\tremaining: 1.1s\n",
      "963:\tlearn: 0.2517799\ttotal: 28.7s\tremaining: 1.07s\n",
      "964:\tlearn: 0.2517355\ttotal: 28.8s\tremaining: 1.04s\n",
      "965:\tlearn: 0.2517109\ttotal: 28.8s\tremaining: 1.01s\n",
      "966:\tlearn: 0.2516774\ttotal: 28.8s\tremaining: 983ms\n",
      "967:\tlearn: 0.2516478\ttotal: 28.8s\tremaining: 953ms\n",
      "968:\tlearn: 0.2516185\ttotal: 28.9s\tremaining: 923ms\n",
      "969:\tlearn: 0.2515993\ttotal: 28.9s\tremaining: 893ms\n"
     ]
    },
    {
     "name": "stdout",
     "output_type": "stream",
     "text": [
      "970:\tlearn: 0.2515663\ttotal: 28.9s\tremaining: 863ms\n",
      "971:\tlearn: 0.2515282\ttotal: 28.9s\tremaining: 833ms\n",
      "972:\tlearn: 0.2514782\ttotal: 29s\tremaining: 803ms\n",
      "973:\tlearn: 0.2514394\ttotal: 29s\tremaining: 773ms\n",
      "974:\tlearn: 0.2514125\ttotal: 29s\tremaining: 743ms\n",
      "975:\tlearn: 0.2514019\ttotal: 29s\tremaining: 713ms\n",
      "976:\tlearn: 0.2513787\ttotal: 29s\tremaining: 684ms\n",
      "977:\tlearn: 0.2513491\ttotal: 29.1s\tremaining: 654ms\n",
      "978:\tlearn: 0.2513244\ttotal: 29.1s\tremaining: 624ms\n",
      "979:\tlearn: 0.2512812\ttotal: 29.1s\tremaining: 594ms\n",
      "980:\tlearn: 0.2512511\ttotal: 29.1s\tremaining: 564ms\n",
      "981:\tlearn: 0.2512380\ttotal: 29.1s\tremaining: 534ms\n",
      "982:\tlearn: 0.2512141\ttotal: 29.2s\tremaining: 504ms\n",
      "983:\tlearn: 0.2511992\ttotal: 29.2s\tremaining: 475ms\n",
      "984:\tlearn: 0.2511620\ttotal: 29.2s\tremaining: 445ms\n",
      "985:\tlearn: 0.2511503\ttotal: 29.2s\tremaining: 415ms\n",
      "986:\tlearn: 0.2511438\ttotal: 29.2s\tremaining: 385ms\n",
      "987:\tlearn: 0.2511164\ttotal: 29.3s\tremaining: 355ms\n",
      "988:\tlearn: 0.2510921\ttotal: 29.3s\tremaining: 326ms\n",
      "989:\tlearn: 0.2510523\ttotal: 29.3s\tremaining: 296ms\n",
      "990:\tlearn: 0.2510229\ttotal: 29.3s\tremaining: 266ms\n",
      "991:\tlearn: 0.2509975\ttotal: 29.4s\tremaining: 237ms\n",
      "992:\tlearn: 0.2509863\ttotal: 29.4s\tremaining: 207ms\n",
      "993:\tlearn: 0.2509381\ttotal: 29.4s\tremaining: 177ms\n",
      "994:\tlearn: 0.2508947\ttotal: 29.4s\tremaining: 148ms\n",
      "995:\tlearn: 0.2508731\ttotal: 29.4s\tremaining: 118ms\n",
      "996:\tlearn: 0.2508424\ttotal: 29.5s\tremaining: 88.6ms\n",
      "997:\tlearn: 0.2508287\ttotal: 29.5s\tremaining: 59.1ms\n",
      "998:\tlearn: 0.2507983\ttotal: 29.5s\tremaining: 29.5ms\n",
      "999:\tlearn: 0.2507606\ttotal: 29.5s\tremaining: 0us\n"
     ]
    },
    {
     "data": {
      "text/plain": [
       "array([[11725,   660],\n",
       "       [ 1420,  2476]])"
      ]
     },
     "metadata": {},
     "output_type": "display_data"
    },
    {
     "name": "stdout",
     "output_type": "stream",
     "text": [
      "acc13: 0.8722437196732388,pr13:0.7895408163265306,rec13:0.635523613963039,f18:0.7042093287827076\n"
     ]
    }
   ],
   "source": [
    "model13=CatBoostClassifier()\n",
    "model13.fit(X1_train,y_train)\n",
    "y_pred13=model13.predict(X1_test)\n",
    "conf13=confusion_matrix(y1_test,y_pred13)\n",
    "display(conf13)\n",
    "acc13=accuracy_score(y1_test,y_pred13)\n",
    "rec13=recall_score(y1_test,y_pred13)\n",
    "pr13=precision_score(y1_test,y_pred13)\n",
    "f113=f1_score(y1_test,y_pred13)\n",
    "print(f'acc13: {acc13},pr13:{pr13},rec13:{rec13},f18:{f113}')"
   ]
  },
  {
   "cell_type": "code",
   "execution_count": null,
   "metadata": {},
   "outputs": [],
   "source": []
  },
  {
   "cell_type": "markdown",
   "metadata": {},
   "source": [
    "##### Test assumption for this model"
   ]
  },
  {
   "cell_type": "code",
   "execution_count": null,
   "metadata": {},
   "outputs": [],
   "source": []
  },
  {
   "cell_type": "markdown",
   "metadata": {},
   "source": [
    "# MODEL COMPARISON"
   ]
  },
  {
   "cell_type": "code",
   "execution_count": 242,
   "metadata": {},
   "outputs": [],
   "source": [
    "from sklearn.metrics import auc, roc_auc_score, roc_curve"
   ]
  },
  {
   "cell_type": "code",
   "execution_count": null,
   "metadata": {},
   "outputs": [],
   "source": [
    "model_roc1=roc_auc_score(y_test, y_pred7)\n",
    "fpr1,tpr1,thresholds1=roc_curve(y_test, model7.predict_proba(X_test)[:,1])\n",
    "\n",
    "model_roc2=roc_auc_score(y_test, y_pred10)\n",
    "fpr2,tpr2,thresholds2=roc_curve(y_test, model10.predict_proba(X_test)[:,1])\n",
    "\n",
    "model_roc3=roc_auc_score(y_test, y_pred11)\n",
    "fpr3,tpr3,thresholds3=roc_curve(y_test, model11.predict_proba(X_test)[:,1])\n",
    "\n",
    "model_roc4=roc_auc_score(y_test, [eval(i) for i in y_pred13])\n",
    "fpr4,tpr4,thresholds4=roc_curve(y_test, model13.predict_proba(X_test)[:,1])\n",
    "\n",
    "plt.figure()\n",
    "plt.plot(fpr1,tpr1, label=f'Random Forest with area={model_roc1.round(2)}')\n",
    "plt.plot(fpr2,tpr2, label=f'XGBoost with area={model_roc2.round(2)}')\n",
    "plt.plot(fpr3,tpr3, label=f'KNeighbors with area={model_roc3.round(2)}')\n",
    "plt.plot(fpr4,tpr4, label=f'CatBoost with area={model_roc4.round(2)}')\n",
    "\n",
    "plt.plot([0,1],[0,1])\n",
    "plt.legend()\n",
    "plt.show()"
   ]
  }
 ],
 "metadata": {
  "kernelspec": {
   "display_name": "Python 3",
   "language": "python",
   "name": "python3"
  },
  "language_info": {
   "codemirror_mode": {
    "name": "ipython",
    "version": 3
   },
   "file_extension": ".py",
   "mimetype": "text/x-python",
   "name": "python",
   "nbconvert_exporter": "python",
   "pygments_lexer": "ipython3",
   "version": "3.7.6"
  }
 },
 "nbformat": 4,
 "nbformat_minor": 4
}
