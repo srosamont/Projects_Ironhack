{
 "cells": [
  {
   "cell_type": "code",
   "execution_count": 1,
   "metadata": {},
   "outputs": [],
   "source": [
    "import pandas as pd\n",
    "import re\n",
    "import numpy as np"
   ]
  },
  {
   "cell_type": "code",
   "execution_count": 2,
   "metadata": {},
   "outputs": [
    {
     "name": "stderr",
     "output_type": "stream",
     "text": [
      "/opt/anaconda3/lib/python3.7/site-packages/IPython/core/interactiveshell.py:3063: DtypeWarning: Columns (25) have mixed types.Specify dtype option on import or set low_memory=False.\n",
      "  interactivity=interactivity, compiler=compiler, result=result)\n"
     ]
    }
   ],
   "source": [
    "dataBook=pd.read_csv('/Users/sandrine//Desktop/Prework/Projects_Ironhack/Book_loan/docprets.csv',sep=';')"
   ]
  },
  {
   "cell_type": "markdown",
   "metadata": {},
   "source": [
    "### Objectif : Analyse Book loan trends of Parisian people and predict number of Loan per books"
   ]
  },
  {
   "cell_type": "code",
   "execution_count": null,
   "metadata": {},
   "outputs": [],
   "source": [
    "\"\"\" Loan may depend on:\n",
    "Book \"Age\"(accessible via Year column), \n",
    "the librairie and its stock,\n",
    "the author,\n",
    "the publisher (column Editeur)\n",
    "the format"
   ]
  },
  {
   "cell_type": "code",
   "execution_count": 3,
   "metadata": {},
   "outputs": [
    {
     "data": {
      "text/html": [
       "<div>\n",
       "<style scoped>\n",
       "    .dataframe tbody tr th:only-of-type {\n",
       "        vertical-align: middle;\n",
       "    }\n",
       "\n",
       "    .dataframe tbody tr th {\n",
       "        vertical-align: top;\n",
       "    }\n",
       "\n",
       "    .dataframe thead th {\n",
       "        text-align: right;\n",
       "    }\n",
       "</style>\n",
       "<table border=\"1\" class=\"dataframe\">\n",
       "  <thead>\n",
       "    <tr style=\"text-align: right;\">\n",
       "      <th></th>\n",
       "      <th>N° de notice</th>\n",
       "      <th>ISBN</th>\n",
       "      <th>ISSN</th>\n",
       "      <th>EAN</th>\n",
       "      <th>Langue</th>\n",
       "      <th>Titre</th>\n",
       "      <th>Edition</th>\n",
       "      <th>Editeur</th>\n",
       "      <th>Date</th>\n",
       "      <th>Format</th>\n",
       "      <th>...</th>\n",
       "      <th>Vaclav Havel</th>\n",
       "      <th>Valeyre</th>\n",
       "      <th>Vandamme</th>\n",
       "      <th>Vaugirard</th>\n",
       "      <th>Auteur</th>\n",
       "      <th>Co-auteur</th>\n",
       "      <th>Auteur secondaire</th>\n",
       "      <th>Collectivité auteur</th>\n",
       "      <th>Collectivité auteur secondaire</th>\n",
       "      <th>Collectivité co-auteur</th>\n",
       "    </tr>\n",
       "  </thead>\n",
       "  <tbody>\n",
       "    <tr>\n",
       "      <th>0</th>\n",
       "      <td>176870</td>\n",
       "      <td>NaN</td>\n",
       "      <td>NaN</td>\n",
       "      <td>NaN</td>\n",
       "      <td>français</td>\n",
       "      <td>La Politique étrangère en France | Texte impri...</td>\n",
       "      <td>NaN</td>\n",
       "      <td>Documentation française ;Ministère des affaire...</td>\n",
       "      <td>2003</td>\n",
       "      <td>386 p. | 28 cm</td>\n",
       "      <td>...</td>\n",
       "      <td>NaN</td>\n",
       "      <td>NaN</td>\n",
       "      <td>NaN</td>\n",
       "      <td>NaN</td>\n",
       "      <td>NaN</td>\n",
       "      <td>NaN</td>\n",
       "      <td>NaN</td>\n",
       "      <td>FRANCE. Direction de la documentation française</td>\n",
       "      <td>France. Ministère des relations extérieures;Di...</td>\n",
       "      <td>NaN</td>\n",
       "    </tr>\n",
       "    <tr>\n",
       "      <th>1</th>\n",
       "      <td>176733</td>\n",
       "      <td>2-8435-2107-6</td>\n",
       "      <td>NaN</td>\n",
       "      <td>NaN</td>\n",
       "      <td>français</td>\n",
       "      <td>Voyages en Sicile | Texte imprimé | Dominique ...</td>\n",
       "      <td>NaN</td>\n",
       "      <td>Diderot éditeur, arts et sciences</td>\n",
       "      <td>1998</td>\n",
       "      <td>1 vol. (299 p.) | 18 cm</td>\n",
       "      <td>...</td>\n",
       "      <td>NaN</td>\n",
       "      <td>NaN</td>\n",
       "      <td>NaN</td>\n",
       "      <td>NaN</td>\n",
       "      <td>Denon, Dominique Vivant</td>\n",
       "      <td>NaN</td>\n",
       "      <td>NaN</td>\n",
       "      <td>NaN</td>\n",
       "      <td>NaN</td>\n",
       "      <td>NaN</td>\n",
       "    </tr>\n",
       "    <tr>\n",
       "      <th>2</th>\n",
       "      <td>176766</td>\n",
       "      <td>2-259-00278-1</td>\n",
       "      <td>NaN</td>\n",
       "      <td>NaN</td>\n",
       "      <td>français</td>\n",
       "      <td>0Voyages | [2] | Russie | Texte imprimé | Niko...</td>\n",
       "      <td>NaN</td>\n",
       "      <td>Plon</td>\n",
       "      <td>1977</td>\n",
       "      <td>322 p.-[1] f. de pl. | 20 cm</td>\n",
       "      <td>...</td>\n",
       "      <td>NaN</td>\n",
       "      <td>NaN</td>\n",
       "      <td>NaN</td>\n",
       "      <td>NaN</td>\n",
       "      <td>Kazantzákīs, Níkos</td>\n",
       "      <td>NaN</td>\n",
       "      <td>Princet, Liliane</td>\n",
       "      <td>NaN</td>\n",
       "      <td>NaN</td>\n",
       "      <td>NaN</td>\n",
       "    </tr>\n",
       "    <tr>\n",
       "      <th>3</th>\n",
       "      <td>176779</td>\n",
       "      <td>NaN</td>\n",
       "      <td>NaN</td>\n",
       "      <td>NaN</td>\n",
       "      <td>français</td>\n",
       "      <td>L'harmonica blues pour débutants | Texte imprimé</td>\n",
       "      <td>NaN</td>\n",
       "      <td>Emf</td>\n",
       "      <td>1997</td>\n",
       "      <td>1 méthode musicale (62 p.) | 30 cm | éventuell...</td>\n",
       "      <td>...</td>\n",
       "      <td>NaN</td>\n",
       "      <td>NaN</td>\n",
       "      <td>NaN</td>\n",
       "      <td>NaN</td>\n",
       "      <td>Kinsella, Mick</td>\n",
       "      <td>NaN</td>\n",
       "      <td>NaN</td>\n",
       "      <td>NaN</td>\n",
       "      <td>NaN</td>\n",
       "      <td>NaN</td>\n",
       "    </tr>\n",
       "    <tr>\n",
       "      <th>4</th>\n",
       "      <td>176892</td>\n",
       "      <td>0-06-443063-4</td>\n",
       "      <td>NaN</td>\n",
       "      <td>NaN</td>\n",
       "      <td>anglais</td>\n",
       "      <td>A letter to Amy | Texte imprimé | Ezra Jack Keats</td>\n",
       "      <td>NaN</td>\n",
       "      <td>Harper Trophy</td>\n",
       "      <td>1984</td>\n",
       "      <td>30 p. | ill. en coul. | 21 cm</td>\n",
       "      <td>...</td>\n",
       "      <td>NaN</td>\n",
       "      <td>NaN</td>\n",
       "      <td>NaN</td>\n",
       "      <td>NaN</td>\n",
       "      <td>Keats, Ezra Jack</td>\n",
       "      <td>NaN</td>\n",
       "      <td>NaN</td>\n",
       "      <td>NaN</td>\n",
       "      <td>NaN</td>\n",
       "      <td>NaN</td>\n",
       "    </tr>\n",
       "  </tbody>\n",
       "</table>\n",
       "<p>5 rows × 103 columns</p>\n",
       "</div>"
      ],
      "text/plain": [
       "   N° de notice           ISBN ISSN  EAN    Langue  \\\n",
       "0        176870            NaN  NaN  NaN  français   \n",
       "1        176733  2-8435-2107-6  NaN  NaN  français   \n",
       "2        176766  2-259-00278-1  NaN  NaN  français   \n",
       "3        176779            NaN  NaN  NaN  français   \n",
       "4        176892  0-06-443063-4  NaN  NaN   anglais   \n",
       "\n",
       "                                               Titre Edition  \\\n",
       "0  La Politique étrangère en France | Texte impri...     NaN   \n",
       "1  Voyages en Sicile | Texte imprimé | Dominique ...     NaN   \n",
       "2  0Voyages | [2] | Russie | Texte imprimé | Niko...     NaN   \n",
       "3   L'harmonica blues pour débutants | Texte imprimé     NaN   \n",
       "4  A letter to Amy | Texte imprimé | Ezra Jack Keats     NaN   \n",
       "\n",
       "                                             Editeur  Date  \\\n",
       "0  Documentation française ;Ministère des affaire...  2003   \n",
       "1                  Diderot éditeur, arts et sciences  1998   \n",
       "2                                               Plon  1977   \n",
       "3                                                Emf  1997   \n",
       "4                                      Harper Trophy  1984   \n",
       "\n",
       "                                              Format  ... Vaclav Havel  \\\n",
       "0                                     386 p. | 28 cm  ...          NaN   \n",
       "1                            1 vol. (299 p.) | 18 cm  ...          NaN   \n",
       "2                       322 p.-[1] f. de pl. | 20 cm  ...          NaN   \n",
       "3  1 méthode musicale (62 p.) | 30 cm | éventuell...  ...          NaN   \n",
       "4                      30 p. | ill. en coul. | 21 cm  ...          NaN   \n",
       "\n",
       "  Valeyre Vandamme Vaugirard                   Auteur Co-auteur  \\\n",
       "0     NaN      NaN       NaN                      NaN       NaN   \n",
       "1     NaN      NaN       NaN  Denon, Dominique Vivant       NaN   \n",
       "2     NaN      NaN       NaN       Kazantzákīs, Níkos       NaN   \n",
       "3     NaN      NaN       NaN           Kinsella, Mick       NaN   \n",
       "4     NaN      NaN       NaN         Keats, Ezra Jack       NaN   \n",
       "\n",
       "  Auteur secondaire                              Collectivité auteur  \\\n",
       "0               NaN  FRANCE. Direction de la documentation française   \n",
       "1               NaN                                              NaN   \n",
       "2  Princet, Liliane                                              NaN   \n",
       "3               NaN                                              NaN   \n",
       "4               NaN                                              NaN   \n",
       "\n",
       "                     Collectivité auteur secondaire  Collectivité co-auteur   \n",
       "0  France. Ministère des relations extérieures;Di...                     NaN  \n",
       "1                                                NaN                     NaN  \n",
       "2                                                NaN                     NaN  \n",
       "3                                                NaN                     NaN  \n",
       "4                                                NaN                     NaN  \n",
       "\n",
       "[5 rows x 103 columns]"
      ]
     },
     "execution_count": 3,
     "metadata": {},
     "output_type": "execute_result"
    }
   ],
   "source": [
    "dataBook.head()"
   ]
  },
  {
   "cell_type": "code",
   "execution_count": 4,
   "metadata": {
    "scrolled": true
   },
   "outputs": [
    {
     "data": {
      "text/plain": [
       "((815534, 103),\n",
       " N° de notice                        int64\n",
       " ISBN                               object\n",
       " ISSN                               object\n",
       " EAN                                object\n",
       " Langue                             object\n",
       "                                     ...  \n",
       " Co-auteur                          object\n",
       " Auteur secondaire                  object\n",
       " Collectivité auteur                object\n",
       " Collectivité auteur secondaire     object\n",
       " Collectivité co-auteur             object\n",
       " Length: 103, dtype: object)"
      ]
     },
     "execution_count": 4,
     "metadata": {},
     "output_type": "execute_result"
    }
   ],
   "source": [
    "#Check general info from DataFrame\n",
    "dataBook.shape,dataBook.dtypes"
   ]
  },
  {
   "cell_type": "code",
   "execution_count": 97,
   "metadata": {},
   "outputs": [
    {
     "data": {
      "text/plain": [
       "True"
      ]
     },
     "execution_count": 97,
     "metadata": {},
     "output_type": "execute_result"
    }
   ],
   "source": [
    "dataBook['N°_de_notice'].unique().size==dataBook.shape[0]\n",
    "#N°_de_notice could be an index for the dataset"
   ]
  },
  {
   "cell_type": "code",
   "execution_count": 5,
   "metadata": {},
   "outputs": [
    {
     "data": {
      "text/plain": [
       "['N°_de_notice',\n",
       " 'ISBN',\n",
       " 'ISSN',\n",
       " 'EAN',\n",
       " 'Langue',\n",
       " 'Titre',\n",
       " 'Edition',\n",
       " 'Editeur',\n",
       " 'Date',\n",
       " 'Format',\n",
       " 'Collection',\n",
       " 'Titre_de_série',\n",
       " 'N°',\n",
       " 'Auteur_Nom',\n",
       " 'Auteur_Prénom',\n",
       " 'Auteur_Dates',\n",
       " 'Co-auteur_Nom',\n",
       " 'Co-auteur_Prénom',\n",
       " 'Dates',\n",
       " 'Auteur_secondaire_Nom',\n",
       " 'Auteur_secondaire_Prénom',\n",
       " 'Auteur_secondaire_Dates',\n",
       " 'Auteur_collectivité',\n",
       " 'Subdivision_auteur_collectivité',\n",
       " 'Co-auteur_collectivité',\n",
       " 'Subdivision_co-auteur_collectivité',\n",
       " 'Auteur_secondaire_collectivité',\n",
       " 'Subdivision_auteur_secondaire_collectivité',\n",
       " 'Indice',\n",
       " 'Cote_majoritaire',\n",
       " 'Type_de_document',\n",
       " 'Nombre_de_localisations',\n",
       " 'Nombre_de_prêt_total',\n",
       " 'Nombre_de_prêts_2017',\n",
       " 'Nombre_de_prêt_année_2018_au_26_juillet_2018',\n",
       " \"Nombre_d'exemplaires\",\n",
       " 'Catégorie_statistique_1',\n",
       " 'Catégorie_statistique_2',\n",
       " 'Aimé_Césaire',\n",
       " 'Amélie',\n",
       " 'André_Malraux',\n",
       " 'Andrée_Chedid',\n",
       " 'Arthur_Rimbaud',\n",
       " 'Assia_Djebar',\n",
       " 'Batignolles',\n",
       " 'Benjamin_Rabier',\n",
       " 'Buffon',\n",
       " 'Canopée_-_la_fontaine',\n",
       " 'Chaptal',\n",
       " 'Charlotte_Delbo',\n",
       " 'Claude_Lévi-Strauss',\n",
       " 'Colette_Vivier',\n",
       " 'Courcelles',\n",
       " 'Couronnes_-_Naguib_Mahfouz',\n",
       " 'Crimée',\n",
       " 'Diderot',\n",
       " 'Drouot',\n",
       " 'Edmond_Rostand',\n",
       " 'Europe',\n",
       " 'Faidherbe',\n",
       " 'Fessart',\n",
       " 'François_Villon',\n",
       " 'Françoise_Sagan',\n",
       " 'Georges_Brassens',\n",
       " 'Germaine_Tillion',\n",
       " 'Glacière',\n",
       " \"Goutte_d'Or\",\n",
       " 'Gutenberg',\n",
       " 'Hélène_Berr',\n",
       " 'Hergé',\n",
       " 'Heure_Joyeuse',\n",
       " 'Italie',\n",
       " 'Jacqueline_de_Romilly',\n",
       " 'Jean-Pierre_Melville',\n",
       " 'Lancry',\n",
       " 'Louise_Michel',\n",
       " 'Marguerite_Audoux',\n",
       " 'Marguerite_Duras',\n",
       " 'Marguerite_Yourcenar',\n",
       " 'Maurice_Genevoix',\n",
       " 'MMP',\n",
       " 'Mohammed_Arkoun',\n",
       " 'Mortier',\n",
       " 'Musset',\n",
       " 'Oscar_Wilde',\n",
       " 'Parmentier',\n",
       " 'Place_des_Fêtes',\n",
       " 'Rainer_Maria_Rilke',\n",
       " 'Réserve_Centrale',\n",
       " 'Robert_Sabatier',\n",
       " 'Saint-Eloi',\n",
       " 'Saint-Simon',\n",
       " 'Sorbier',\n",
       " 'Vaclav_Havel',\n",
       " 'Valeyre',\n",
       " 'Vandamme',\n",
       " 'Vaugirard',\n",
       " 'Auteur',\n",
       " 'Co-auteur',\n",
       " 'Auteur_secondaire',\n",
       " 'Collectivité_auteur',\n",
       " 'Collectivité_auteur_secondaire_',\n",
       " 'Collectivité_co-auteur_']"
      ]
     },
     "execution_count": 5,
     "metadata": {},
     "output_type": "execute_result"
    }
   ],
   "source": [
    "#Replace ' ' by '_in column names'\n",
    "dataBook.columns=dataBook.columns.str.replace(' ','_')\n",
    "dataBook.columns.to_list()"
   ]
  },
  {
   "cell_type": "code",
   "execution_count": 6,
   "metadata": {},
   "outputs": [],
   "source": [
    "# Prepare list of columns to drop due to missing values\n",
    "to_drop=[]\n",
    "to_drop.extend(dataBook.iloc[:,100:103].columns.to_list())\n",
    "#Prepare list of columns for which we want to get dummies\n",
    "Dummies_NA=[]\n"
   ]
  },
  {
   "cell_type": "markdown",
   "metadata": {},
   "source": [
    "# NULL VALUES TREATMENT"
   ]
  },
  {
   "cell_type": "code",
   "execution_count": 7,
   "metadata": {},
   "outputs": [
    {
     "data": {
      "text/plain": [
       "{'N°_de_notice': 0,\n",
       " 'ISBN': 323243,\n",
       " 'ISSN': 813046,\n",
       " 'EAN': 416532,\n",
       " 'Langue': 81024,\n",
       " 'Titre': 0,\n",
       " 'Edition': 753989,\n",
       " 'Editeur': 5012,\n",
       " 'Date': 4727,\n",
       " 'Format': 9126,\n",
       " 'Collection': 452201,\n",
       " 'Titre_de_série': 731570,\n",
       " 'N°': 747164,\n",
       " 'Auteur_Nom': 195970,\n",
       " 'Auteur_Prénom': 226043,\n",
       " 'Auteur_Dates': 479400,\n",
       " 'Co-auteur_Nom': 742303,\n",
       " 'Co-auteur_Prénom': 745706,\n",
       " 'Dates': 780798,\n",
       " 'Auteur_secondaire_Nom': 434722,\n",
       " 'Auteur_secondaire_Prénom': 445681,\n",
       " 'Auteur_secondaire_Dates': 643727,\n",
       " 'Auteur_collectivité': 778776,\n",
       " 'Subdivision_auteur_collectivité': 814619,\n",
       " 'Co-auteur_collectivité': 812310,\n",
       " 'Subdivision_co-auteur_collectivité': 815398,\n",
       " 'Auteur_secondaire_collectivité': 734528,\n",
       " 'Subdivision_auteur_secondaire_collectivité': 812303,\n",
       " 'Indice': 382046,\n",
       " 'Cote_majoritaire': 3,\n",
       " 'Type_de_document': 2,\n",
       " 'Nombre_de_localisations': 1,\n",
       " 'Nombre_de_prêt_total': 36674,\n",
       " 'Nombre_de_prêts_2017': 3,\n",
       " 'Nombre_de_prêt_année_2018_au_26_juillet_2018': 44298,\n",
       " \"Nombre_d'exemplaires\": 3,\n",
       " 'Catégorie_statistique_1': 3,\n",
       " 'Catégorie_statistique_2': 3,\n",
       " 'Aimé_Césaire': 785139,\n",
       " 'Amélie': 789228,\n",
       " 'André_Malraux': 707513,\n",
       " 'Andrée_Chedid': 692035,\n",
       " 'Arthur_Rimbaud': 792450,\n",
       " 'Assia_Djebar': 790319,\n",
       " 'Batignolles': 792425,\n",
       " 'Benjamin_Rabier': 792344,\n",
       " 'Buffon': 722579,\n",
       " 'Canopée_-_la_fontaine': 777560,\n",
       " 'Chaptal': 771872,\n",
       " 'Charlotte_Delbo': 795397,\n",
       " 'Claude_Lévi-Strauss': 773102,\n",
       " 'Colette_Vivier': 790006,\n",
       " 'Courcelles': 796141,\n",
       " 'Couronnes_-_Naguib_Mahfouz': 766878,\n",
       " 'Crimée': 794916,\n",
       " 'Diderot': 802478,\n",
       " 'Drouot': 798677,\n",
       " 'Edmond_Rostand': 736896,\n",
       " 'Europe': 805209,\n",
       " 'Faidherbe': 732316,\n",
       " 'Fessart': 786413,\n",
       " 'François_Villon': 745345,\n",
       " 'Françoise_Sagan': 715570,\n",
       " 'Georges_Brassens': 750605,\n",
       " 'Germaine_Tillion': 722539,\n",
       " 'Glacière': 777940,\n",
       " \"Goutte_d'Or\": 758606,\n",
       " 'Gutenberg': 783798,\n",
       " 'Hélène_Berr': 701568,\n",
       " 'Hergé': 779460,\n",
       " 'Heure_Joyeuse': 775653,\n",
       " 'Italie': 755828,\n",
       " 'Jacqueline_de_Romilly': 782714,\n",
       " 'Jean-Pierre_Melville': 686436,\n",
       " 'Lancry': 781210,\n",
       " 'Louise_Michel': 787533,\n",
       " 'Marguerite_Audoux': 756269,\n",
       " 'Marguerite_Duras': 676637,\n",
       " 'Marguerite_Yourcenar': 671034,\n",
       " 'Maurice_Genevoix': 793224,\n",
       " 'MMP': 707044,\n",
       " 'Mohammed_Arkoun': 745144,\n",
       " 'Mortier': 803205,\n",
       " 'Musset': 801856,\n",
       " 'Oscar_Wilde': 773437,\n",
       " 'Parmentier': 731491,\n",
       " 'Place_des_Fêtes': 786907,\n",
       " 'Rainer_Maria_Rilke': 749845,\n",
       " 'Réserve_Centrale': 584567,\n",
       " 'Robert_Sabatier': 702241,\n",
       " 'Saint-Eloi': 775421,\n",
       " 'Saint-Simon': 789435,\n",
       " 'Sorbier': 793911,\n",
       " 'Vaclav_Havel': 776720,\n",
       " 'Valeyre': 773761,\n",
       " 'Vandamme': 782872,\n",
       " 'Vaugirard': 770680,\n",
       " 'Auteur': 195957,\n",
       " 'Co-auteur': 742302,\n",
       " 'Auteur_secondaire': 434716,\n",
       " 'Collectivité_auteur': 778773,\n",
       " 'Collectivité_auteur_secondaire_': 734515,\n",
       " 'Collectivité_co-auteur_': 812309}"
      ]
     },
     "execution_count": 7,
     "metadata": {},
     "output_type": "execute_result"
    }
   ],
   "source": [
    "#Check Number of Null values per columns\n",
    "dataBook.isna().sum().to_dict()"
   ]
  },
  {
   "cell_type": "code",
   "execution_count": 8,
   "metadata": {},
   "outputs": [],
   "source": [
    "#dataBook[\"Auteur_Dates\"].value_counts()\n",
    "#Column not necessary for the model so I drop it.\n",
    "to_drop.append('Auteur_Dates')"
   ]
  },
  {
   "cell_type": "code",
   "execution_count": 9,
   "metadata": {},
   "outputs": [
    {
     "data": {
      "text/plain": [
       "True"
      ]
     },
     "execution_count": 9,
     "metadata": {},
     "output_type": "execute_result"
    }
   ],
   "source": [
    "#check whether I can drop or replace 'Auteur', 'Auteur Prenom' and 'Auteur Nom' columns\n",
    "dftest=dataBook[(dataBook['Auteur_Nom']+', '+dataBook['Auteur_Prénom'])!=dataBook['Auteur']]\n",
    "df=dftest[(dftest['Auteur_Nom']==dftest['Auteur'])|(dftest['Auteur_Prénom']==dftest['Auteur'])]\n",
    "df[['Auteur_Nom','Auteur_Prénom','Auteur']]\n",
    "\n",
    "df1=dftest[(dftest['Auteur_Nom']!=dftest['Auteur'])&(dftest['Auteur_Prénom']!=dftest['Auteur'])]\n",
    "df1[['Auteur_Nom','Auteur_Prénom','Auteur']]\n",
    "df1['Auteur_Prénom'].isna().sum()==df1['Auteur_Nom'].isna().sum()==df1['Auteur'].isna().sum()\n",
    "#Author column is a mix of columns 'Auteur_Nom' and 'Auteur_Prénom' . However the format of Author does not\n",
    "#suit me.\n"
   ]
  },
  {
   "cell_type": "code",
   "execution_count": 43,
   "metadata": {},
   "outputs": [],
   "source": [
    "# I will create a  new column for Author.\n",
    "dataBook['Author']=dataBook['Auteur_Prénom']+'|'+dataBook['Auteur_Nom']\n",
    "dataBook['Author'].fillna('UnknownAuthor',inplace=True)\n",
    "dataBook['Author']=dataBook['Author'].map(lambda x : merge_authors(x))\n",
    "#dataBook[dataBook['Author'].isna()]\n"
   ]
  },
  {
   "cell_type": "code",
   "execution_count": 11,
   "metadata": {},
   "outputs": [],
   "source": [
    "to_drop.extend(['Auteur_Prénom','Auteur_Nom','Auteur'])"
   ]
  },
  {
   "cell_type": "code",
   "execution_count": 13,
   "metadata": {},
   "outputs": [],
   "source": [
    "#check whether I can drop or replace 'Auteur_secondaire_Nom', 'Auteur_secondaire_Prénom' \n",
    "#and 'Auteur_secondaire' columns. Auteur secondaire include translaters.\n",
    "#df3=dataBook[(dataBook['Auteur_secondaire_Nom']+', '+dataBook['Auteur_secondaire_Prénom'])!=dataBook['Auteur_secondaire']]\n",
    "#df3[['Auteur_secondaire_Nom','Auteur_secondaire_Prénom','Auteur_secondaire']]\n",
    "# same conclusions as for Author."
   ]
  },
  {
   "cell_type": "code",
   "execution_count": 40,
   "metadata": {},
   "outputs": [
    {
     "data": {
      "text/plain": [
       "'Liliane Princet'"
      ]
     },
     "execution_count": 40,
     "metadata": {},
     "output_type": "execute_result"
    }
   ],
   "source": [
    "def merge_authors(x):\n",
    "    if ';' in x:\n",
    "        y=x.split('|')\n",
    "        z=[i for i in zip(y[0].split(';'),y[1].split(';'))]\n",
    "        w=[' '.join(i) for i in z]\n",
    "        return w\n",
    "    else:\n",
    "        w=x.replace(\"|\", \" \")\n",
    "        return w\n",
    "    \n",
    "authors=\"Watson;Stephen;Padmore;Varcoe;Hickox,|Janice;Pamela Helen;Mark;Stephen;Richard\"\n",
    "test='Liliane|Princet'\n",
    "y=merge_authors(test)\n",
    "y"
   ]
  },
  {
   "cell_type": "code",
   "execution_count": 45,
   "metadata": {},
   "outputs": [],
   "source": [
    "# I will create a  new column for Secondary Author.\n",
    "\n",
    "dataBook['Author_secondary']=dataBook['Auteur_secondaire_Prénom']+'|'+dataBook['Auteur_secondaire_Nom']\n",
    "dataBook['Author_secondary'].fillna('UnknownAuthor',inplace=True)\n",
    "dataBook['Author_secondary']=dataBook['Author_secondary'].map(lambda x : merge_authors(x))"
   ]
  },
  {
   "cell_type": "code",
   "execution_count": 16,
   "metadata": {},
   "outputs": [],
   "source": [
    "to_drop.extend(['Auteur_secondaire_Prénom','Auteur_secondaire_Nom','Auteur_secondaire'])"
   ]
  },
  {
   "cell_type": "code",
   "execution_count": 20,
   "metadata": {},
   "outputs": [],
   "source": [
    "#dataBook[\"Co-auteur_Nom\"].value_counts()"
   ]
  },
  {
   "cell_type": "code",
   "execution_count": 47,
   "metadata": {},
   "outputs": [],
   "source": [
    "# I will create a  new column for Co Author Author.\n",
    "\n",
    "dataBook['Co_Author']=dataBook['Co-auteur_Prénom']+'|'+dataBook['Co-auteur_Nom']\n",
    "dataBook['Co_Author'].fillna('UnknownAuthor',inplace=True)\n",
    "dataBook['Co_Author']=dataBook['Co_Author'].map(lambda x : merge_authors(x))"
   ]
  },
  {
   "cell_type": "code",
   "execution_count": 49,
   "metadata": {},
   "outputs": [],
   "source": [
    "#dataBook[dataBook['N°_de_notice']==176958].to_dict()"
   ]
  },
  {
   "cell_type": "code",
   "execution_count": 53,
   "metadata": {},
   "outputs": [],
   "source": [
    "#dataBook[\"Auteur_secondaire_Dates\"].value_counts()\n",
    "to_drop.append('Auteur_secondaire_Dates')"
   ]
  },
  {
   "cell_type": "code",
   "execution_count": null,
   "metadata": {},
   "outputs": [],
   "source": [
    "# Avoir si je droppeou si cela a un intérêt plus tard.\n",
    "\n",
    "#to_drop2=(['Auteur_collectivité','Subdivision_auteur_collectivité','Co-auteur_collectivité','Subdivision_co-auteur_collectivité','Auteur_secondaire_collectivité','Subdivision_auteur_secondaire_collectivité'])\n",
    "\n",
    "\"\"\"'Auteur_collectivité'])\n",
    " 'Subdivision_auteur_collectivité': 814619,\n",
    " 'Co-auteur_collectivité': 812310,\n",
    " 'Subdivision_co-auteur_collectivité': 815398,\n",
    " 'Auteur_secondaire_collectivité': 734528,\n",
    " 'Subdivision_auteur_secondaire_collectivité': 812303,\"\"\""
   ]
  },
  {
   "cell_type": "code",
   "execution_count": 62,
   "metadata": {},
   "outputs": [],
   "source": [
    "#dataBook[\"Subdivision_auteur_secondaire_collectivité\"].value_counts()"
   ]
  },
  {
   "cell_type": "code",
   "execution_count": 72,
   "metadata": {},
   "outputs": [],
   "source": [
    "#dataBook[\"Indice\"].value_counts()"
   ]
  },
  {
   "cell_type": "code",
   "execution_count": 73,
   "metadata": {},
   "outputs": [],
   "source": [
    "#dataBook[dataBook[\"Indice\"]=='914.3;320.943;330.943']"
   ]
  },
  {
   "cell_type": "code",
   "execution_count": 74,
   "metadata": {},
   "outputs": [],
   "source": [
    "to_drop.append('Indice')"
   ]
  },
  {
   "cell_type": "code",
   "execution_count": 84,
   "metadata": {},
   "outputs": [
    {
     "data": {
      "text/html": [
       "<div>\n",
       "<style scoped>\n",
       "    .dataframe tbody tr th:only-of-type {\n",
       "        vertical-align: middle;\n",
       "    }\n",
       "\n",
       "    .dataframe tbody tr th {\n",
       "        vertical-align: top;\n",
       "    }\n",
       "\n",
       "    .dataframe thead th {\n",
       "        text-align: right;\n",
       "    }\n",
       "</style>\n",
       "<table border=\"1\" class=\"dataframe\">\n",
       "  <thead>\n",
       "    <tr style=\"text-align: right;\">\n",
       "      <th></th>\n",
       "      <th>N°_de_notice</th>\n",
       "      <th>ISBN</th>\n",
       "      <th>ISSN</th>\n",
       "      <th>EAN</th>\n",
       "      <th>Langue</th>\n",
       "      <th>Titre</th>\n",
       "      <th>Edition</th>\n",
       "      <th>Editeur</th>\n",
       "      <th>Date</th>\n",
       "      <th>Format</th>\n",
       "      <th>...</th>\n",
       "      <th>Vaugirard</th>\n",
       "      <th>Auteur</th>\n",
       "      <th>Co-auteur</th>\n",
       "      <th>Auteur_secondaire</th>\n",
       "      <th>Collectivité_auteur</th>\n",
       "      <th>Collectivité_auteur_secondaire_</th>\n",
       "      <th>Collectivité_co-auteur_</th>\n",
       "      <th>Author</th>\n",
       "      <th>Author_secondary</th>\n",
       "      <th>Co_Author</th>\n",
       "    </tr>\n",
       "  </thead>\n",
       "  <tbody>\n",
       "    <tr>\n",
       "      <th>283847</th>\n",
       "      <td>891370</td>\n",
       "      <td>NaN</td>\n",
       "      <td>NaN</td>\n",
       "      <td>743217828028</td>\n",
       "      <td>allemand</td>\n",
       "      <td>Bis an alle Sterne'' | Enregistrement sonore |...</td>\n",
       "      <td>NaN</td>\n",
       "      <td>NaN</td>\n",
       "      <td>NaN</td>\n",
       "      <td>NaN</td>\n",
       "      <td>...</td>\n",
       "      <td>0.0</td>\n",
       "      <td>NaN</td>\n",
       "      <td>NaN</td>\n",
       "      <td>NaN</td>\n",
       "      <td>NaN</td>\n",
       "      <td>NaN</td>\n",
       "      <td>NaN</td>\n",
       "      <td>UnknownAuthor</td>\n",
       "      <td>UnknownAuthor</td>\n",
       "      <td>UnknownAuthor</td>\n",
       "    </tr>\n",
       "  </tbody>\n",
       "</table>\n",
       "<p>1 rows × 106 columns</p>\n",
       "</div>"
      ],
      "text/plain": [
       "        N°_de_notice ISBN ISSN           EAN    Langue  \\\n",
       "283847        891370  NaN  NaN  743217828028  allemand   \n",
       "\n",
       "                                                    Titre Edition Editeur  \\\n",
       "283847  Bis an alle Sterne'' | Enregistrement sonore |...     NaN     NaN   \n",
       "\n",
       "       Date Format  ... Vaugirard Auteur Co-auteur Auteur_secondaire  \\\n",
       "283847  NaN    NaN  ...       0.0    NaN       NaN               NaN   \n",
       "\n",
       "       Collectivité_auteur Collectivité_auteur_secondaire_  \\\n",
       "283847                 NaN                             NaN   \n",
       "\n",
       "       Collectivité_co-auteur_         Author Author_secondary      Co_Author  \n",
       "283847                     NaN  UnknownAuthor    UnknownAuthor  UnknownAuthor  \n",
       "\n",
       "[1 rows x 106 columns]"
      ]
     },
     "execution_count": 84,
     "metadata": {},
     "output_type": "execute_result"
    }
   ],
   "source": [
    "#dataBook['Nombre_de_localisations'].value_counts()\n",
    "dataBook[dataBook['Nombre_de_localisations'].isna()]\n",
    "dataBook.loc[283847]\n",
    "#after dropping row loc[283847]. this column should not have missing values anymore."
   ]
  },
  {
   "cell_type": "code",
   "execution_count": 114,
   "metadata": {},
   "outputs": [],
   "source": [
    "#dataBook['Nombre_de_prêt_total'].value_counts()\n",
    "#dataBook[dataBook['Nombre_de_prêt_total']==6930.0].T.to_dict()\n",
    "#dataBook[dataBook['Nombre_de_prêt_total'].isna()]['Nombre_de_prêt_année_2018_au_26_juillet_2018'].sum()\n",
    "# put 0 wjen missing value for \"Nombre de pret total after checking 2017 and 2018 values which are at 0\"\n",
    "dataBook['Nombre_de_prêt_total'].fillna('0',inplace=True)"
   ]
  },
  {
   "cell_type": "code",
   "execution_count": 116,
   "metadata": {},
   "outputs": [
    {
     "data": {
      "text/plain": [
       "0"
      ]
     },
     "execution_count": 116,
     "metadata": {},
     "output_type": "execute_result"
    }
   ],
   "source": [
    "# check if change is ok.\n",
    "dataBook['Nombre_de_prêt_total'].isna().sum()"
   ]
  },
  {
   "cell_type": "code",
   "execution_count": 124,
   "metadata": {},
   "outputs": [],
   "source": [
    "#dataBook['Nombre_de_prêts_2017'].value_counts()\n",
    "#dataBook[dataBook['Nombre_de_prêts_2017']==1114.0].T.to_dict()\n",
    "dataBook[dataBook['Nombre_de_prêts_2017'].isna()]['Nombre_de_prêt_année_2018_au_26_juillet_2018']\n",
    "# put 0 when missing value for \"Nombre de pret total after checking and 2018 values which are at 0\"\n",
    "dataBook['Nombre_de_prêts_2017'].fillna('0',inplace=True)"
   ]
  },
  {
   "cell_type": "code",
   "execution_count": 125,
   "metadata": {},
   "outputs": [
    {
     "data": {
      "text/plain": [
       "0"
      ]
     },
     "execution_count": 125,
     "metadata": {},
     "output_type": "execute_result"
    }
   ],
   "source": [
    "# check if change is ok.\n",
    "dataBook['Nombre_de_prêts_2017'].isna().sum()"
   ]
  },
  {
   "cell_type": "code",
   "execution_count": 133,
   "metadata": {},
   "outputs": [],
   "source": [
    "#dataBook[\"Nombre_d'exemplaires\"].value_counts()\n",
    "#dataBook[dataBook[\"Nombre_d'exemplaires\"]==1149.0 ].T.to_dict()\n",
    "dataBook[dataBook[\"Nombre_d'exemplaires\"].isna()]\n",
    "# put 0 when missing value for \n",
    "dataBook[\"Nombre_d'exemplaires\"].fillna('0',inplace=True)"
   ]
  },
  {
   "cell_type": "code",
   "execution_count": 134,
   "metadata": {},
   "outputs": [
    {
     "data": {
      "text/plain": [
       "0"
      ]
     },
     "execution_count": 134,
     "metadata": {},
     "output_type": "execute_result"
    }
   ],
   "source": [
    "# check if change is ok.\n",
    "dataBook[\"Nombre_d'exemplaires\"].isna().sum()"
   ]
  },
  {
   "cell_type": "code",
   "execution_count": 143,
   "metadata": {},
   "outputs": [
    {
     "data": {
      "text/html": [
       "<div>\n",
       "<style scoped>\n",
       "    .dataframe tbody tr th:only-of-type {\n",
       "        vertical-align: middle;\n",
       "    }\n",
       "\n",
       "    .dataframe tbody tr th {\n",
       "        vertical-align: top;\n",
       "    }\n",
       "\n",
       "    .dataframe thead th {\n",
       "        text-align: right;\n",
       "    }\n",
       "</style>\n",
       "<table border=\"1\" class=\"dataframe\">\n",
       "  <thead>\n",
       "    <tr style=\"text-align: right;\">\n",
       "      <th></th>\n",
       "      <th>N°_de_notice</th>\n",
       "      <th>ISBN</th>\n",
       "      <th>ISSN</th>\n",
       "      <th>EAN</th>\n",
       "      <th>Langue</th>\n",
       "      <th>Titre</th>\n",
       "      <th>Edition</th>\n",
       "      <th>Editeur</th>\n",
       "      <th>Date</th>\n",
       "      <th>Format</th>\n",
       "      <th>...</th>\n",
       "      <th>Vaugirard</th>\n",
       "      <th>Auteur</th>\n",
       "      <th>Co-auteur</th>\n",
       "      <th>Auteur_secondaire</th>\n",
       "      <th>Collectivité_auteur</th>\n",
       "      <th>Collectivité_auteur_secondaire_</th>\n",
       "      <th>Collectivité_co-auteur_</th>\n",
       "      <th>Author</th>\n",
       "      <th>Author_secondary</th>\n",
       "      <th>Co_Author</th>\n",
       "    </tr>\n",
       "  </thead>\n",
       "  <tbody>\n",
       "    <tr>\n",
       "      <th>252063</th>\n",
       "      <td>325759</td>\n",
       "      <td>2-226-08797-4</td>\n",
       "      <td>NaN</td>\n",
       "      <td>NaN</td>\n",
       "      <td>français</td>\n",
       "      <td>Amen ! | Texte imprimé | Liberatore, Tamburini...</td>\n",
       "      <td>NaN</td>\n",
       "      <td>L'Écho des savanes;A. Michel\\t1996\\t51 p. | il...</td>\n",
       "      <td>pas de code stat 2</td>\n",
       "      <td>NaN</td>\n",
       "      <td>...</td>\n",
       "      <td>0.0</td>\n",
       "      <td>NaN</td>\n",
       "      <td>NaN</td>\n",
       "      <td>NaN</td>\n",
       "      <td>NaN</td>\n",
       "      <td>NaN</td>\n",
       "      <td>NaN</td>\n",
       "      <td>UnknownAuthor</td>\n",
       "      <td>UnknownAuthor</td>\n",
       "      <td>UnknownAuthor</td>\n",
       "    </tr>\n",
       "    <tr>\n",
       "      <th>283847</th>\n",
       "      <td>891370</td>\n",
       "      <td>NaN</td>\n",
       "      <td>NaN</td>\n",
       "      <td>743217828028</td>\n",
       "      <td>allemand</td>\n",
       "      <td>Bis an alle Sterne'' | Enregistrement sonore |...</td>\n",
       "      <td>NaN</td>\n",
       "      <td>NaN</td>\n",
       "      <td>NaN</td>\n",
       "      <td>NaN</td>\n",
       "      <td>...</td>\n",
       "      <td>0.0</td>\n",
       "      <td>NaN</td>\n",
       "      <td>NaN</td>\n",
       "      <td>NaN</td>\n",
       "      <td>NaN</td>\n",
       "      <td>NaN</td>\n",
       "      <td>NaN</td>\n",
       "      <td>UnknownAuthor</td>\n",
       "      <td>UnknownAuthor</td>\n",
       "      <td>UnknownAuthor</td>\n",
       "    </tr>\n",
       "    <tr>\n",
       "      <th>722429</th>\n",
       "      <td>128091</td>\n",
       "      <td>2-900130-97-2</td>\n",
       "      <td>NaN</td>\n",
       "      <td>NaN</td>\n",
       "      <td>français</td>\n",
       "      <td>La savetiere prodigieuse | mise en scène de St...</td>\n",
       "      <td>NaN</td>\n",
       "      <td>L'avant-scène\\t2005\\t92 p. | ill., couv. ill. ...</td>\n",
       "      <td>NaN</td>\n",
       "      <td>NaN</td>\n",
       "      <td>...</td>\n",
       "      <td>0.0</td>\n",
       "      <td>NaN</td>\n",
       "      <td>NaN</td>\n",
       "      <td>NaN</td>\n",
       "      <td>NaN</td>\n",
       "      <td>128150. '320.97 CUB</td>\n",
       "      <td>320.972</td>\n",
       "      <td>UnknownAuthor</td>\n",
       "      <td>UnknownAuthor</td>\n",
       "      <td>UnknownAuthor</td>\n",
       "    </tr>\n",
       "  </tbody>\n",
       "</table>\n",
       "<p>3 rows × 106 columns</p>\n",
       "</div>"
      ],
      "text/plain": [
       "        N°_de_notice           ISBN ISSN           EAN    Langue  \\\n",
       "252063        325759  2-226-08797-4  NaN           NaN  français   \n",
       "283847        891370            NaN  NaN  743217828028  allemand   \n",
       "722429        128091  2-900130-97-2  NaN           NaN  français   \n",
       "\n",
       "                                                    Titre Edition  \\\n",
       "252063  Amen ! | Texte imprimé | Liberatore, Tamburini...     NaN   \n",
       "283847  Bis an alle Sterne'' | Enregistrement sonore |...     NaN   \n",
       "722429  La savetiere prodigieuse | mise en scène de St...     NaN   \n",
       "\n",
       "                                                  Editeur                Date  \\\n",
       "252063  L'Écho des savanes;A. Michel\\t1996\\t51 p. | il...  pas de code stat 2   \n",
       "283847                                                NaN                 NaN   \n",
       "722429  L'avant-scène\\t2005\\t92 p. | ill., couv. ill. ...                 NaN   \n",
       "\n",
       "       Format  ... Vaugirard Auteur Co-auteur Auteur_secondaire  \\\n",
       "252063    NaN  ...       0.0    NaN       NaN               NaN   \n",
       "283847    NaN  ...       0.0    NaN       NaN               NaN   \n",
       "722429    NaN  ...       0.0    NaN       NaN               NaN   \n",
       "\n",
       "       Collectivité_auteur Collectivité_auteur_secondaire_  \\\n",
       "252063                 NaN                             NaN   \n",
       "283847                 NaN                             NaN   \n",
       "722429                 NaN             128150. '320.97 CUB   \n",
       "\n",
       "       Collectivité_co-auteur_         Author Author_secondary      Co_Author  \n",
       "252063                     NaN  UnknownAuthor    UnknownAuthor  UnknownAuthor  \n",
       "283847                     NaN  UnknownAuthor    UnknownAuthor  UnknownAuthor  \n",
       "722429                 320.972  UnknownAuthor    UnknownAuthor  UnknownAuthor  \n",
       "\n",
       "[3 rows x 106 columns]"
      ]
     },
     "execution_count": 143,
     "metadata": {},
     "output_type": "execute_result"
    }
   ],
   "source": [
    "#dataBook[\"Catégorie_statistique_1\"].value_counts().sum()\n",
    "#dataBook[dataBook[\"Catégorie_statistique_1\"].isna()][\"Nombre_d'exemplaires\"]\n",
    "# no stock available==> drop the row\n",
    "dataBook[dataBook[\"Catégorie_statistique_1\"].isna()]"
   ]
  },
  {
   "cell_type": "code",
   "execution_count": 98,
   "metadata": {},
   "outputs": [],
   "source": [
    "#Row to drop by N°_de_notice\n",
    "row_to_drop=[]\n",
    "row_to_drop.append(891370)"
   ]
  },
  {
   "cell_type": "code",
   "execution_count": 146,
   "metadata": {},
   "outputs": [],
   "source": [
    "row_to_drop.extend([325759,128091])"
   ]
  },
  {
   "cell_type": "code",
   "execution_count": 154,
   "metadata": {
    "scrolled": true
   },
   "outputs": [
    {
     "data": {
      "text/html": [
       "<div>\n",
       "<style scoped>\n",
       "    .dataframe tbody tr th:only-of-type {\n",
       "        vertical-align: middle;\n",
       "    }\n",
       "\n",
       "    .dataframe tbody tr th {\n",
       "        vertical-align: top;\n",
       "    }\n",
       "\n",
       "    .dataframe thead th {\n",
       "        text-align: right;\n",
       "    }\n",
       "</style>\n",
       "<table border=\"1\" class=\"dataframe\">\n",
       "  <thead>\n",
       "    <tr style=\"text-align: right;\">\n",
       "      <th></th>\n",
       "      <th>N°_de_notice</th>\n",
       "      <th>ISBN</th>\n",
       "      <th>ISSN</th>\n",
       "      <th>EAN</th>\n",
       "      <th>Langue</th>\n",
       "      <th>Titre</th>\n",
       "      <th>Edition</th>\n",
       "      <th>Editeur</th>\n",
       "      <th>Date</th>\n",
       "      <th>Format</th>\n",
       "      <th>...</th>\n",
       "      <th>Vaugirard</th>\n",
       "      <th>Auteur</th>\n",
       "      <th>Co-auteur</th>\n",
       "      <th>Auteur_secondaire</th>\n",
       "      <th>Collectivité_auteur</th>\n",
       "      <th>Collectivité_auteur_secondaire_</th>\n",
       "      <th>Collectivité_co-auteur_</th>\n",
       "      <th>Author</th>\n",
       "      <th>Author_secondary</th>\n",
       "      <th>Co_Author</th>\n",
       "    </tr>\n",
       "  </thead>\n",
       "  <tbody>\n",
       "    <tr>\n",
       "      <th>252063</th>\n",
       "      <td>325759</td>\n",
       "      <td>2-226-08797-4</td>\n",
       "      <td>NaN</td>\n",
       "      <td>NaN</td>\n",
       "      <td>français</td>\n",
       "      <td>Amen ! | Texte imprimé | Liberatore, Tamburini...</td>\n",
       "      <td>NaN</td>\n",
       "      <td>L'Écho des savanes;A. Michel\\t1996\\t51 p. | il...</td>\n",
       "      <td>pas de code stat 2</td>\n",
       "      <td>NaN</td>\n",
       "      <td>...</td>\n",
       "      <td>0.0</td>\n",
       "      <td>NaN</td>\n",
       "      <td>NaN</td>\n",
       "      <td>NaN</td>\n",
       "      <td>NaN</td>\n",
       "      <td>NaN</td>\n",
       "      <td>NaN</td>\n",
       "      <td>UnknownAuthor</td>\n",
       "      <td>UnknownAuthor</td>\n",
       "      <td>UnknownAuthor</td>\n",
       "    </tr>\n",
       "    <tr>\n",
       "      <th>283847</th>\n",
       "      <td>891370</td>\n",
       "      <td>NaN</td>\n",
       "      <td>NaN</td>\n",
       "      <td>743217828028</td>\n",
       "      <td>allemand</td>\n",
       "      <td>Bis an alle Sterne'' | Enregistrement sonore |...</td>\n",
       "      <td>NaN</td>\n",
       "      <td>NaN</td>\n",
       "      <td>NaN</td>\n",
       "      <td>NaN</td>\n",
       "      <td>...</td>\n",
       "      <td>0.0</td>\n",
       "      <td>NaN</td>\n",
       "      <td>NaN</td>\n",
       "      <td>NaN</td>\n",
       "      <td>NaN</td>\n",
       "      <td>NaN</td>\n",
       "      <td>NaN</td>\n",
       "      <td>UnknownAuthor</td>\n",
       "      <td>UnknownAuthor</td>\n",
       "      <td>UnknownAuthor</td>\n",
       "    </tr>\n",
       "    <tr>\n",
       "      <th>722429</th>\n",
       "      <td>128091</td>\n",
       "      <td>2-900130-97-2</td>\n",
       "      <td>NaN</td>\n",
       "      <td>NaN</td>\n",
       "      <td>français</td>\n",
       "      <td>La savetiere prodigieuse | mise en scène de St...</td>\n",
       "      <td>NaN</td>\n",
       "      <td>L'avant-scène\\t2005\\t92 p. | ill., couv. ill. ...</td>\n",
       "      <td>NaN</td>\n",
       "      <td>NaN</td>\n",
       "      <td>...</td>\n",
       "      <td>0.0</td>\n",
       "      <td>NaN</td>\n",
       "      <td>NaN</td>\n",
       "      <td>NaN</td>\n",
       "      <td>NaN</td>\n",
       "      <td>128150. '320.97 CUB</td>\n",
       "      <td>320.972</td>\n",
       "      <td>UnknownAuthor</td>\n",
       "      <td>UnknownAuthor</td>\n",
       "      <td>UnknownAuthor</td>\n",
       "    </tr>\n",
       "  </tbody>\n",
       "</table>\n",
       "<p>3 rows × 106 columns</p>\n",
       "</div>"
      ],
      "text/plain": [
       "        N°_de_notice           ISBN ISSN           EAN    Langue  \\\n",
       "252063        325759  2-226-08797-4  NaN           NaN  français   \n",
       "283847        891370            NaN  NaN  743217828028  allemand   \n",
       "722429        128091  2-900130-97-2  NaN           NaN  français   \n",
       "\n",
       "                                                    Titre Edition  \\\n",
       "252063  Amen ! | Texte imprimé | Liberatore, Tamburini...     NaN   \n",
       "283847  Bis an alle Sterne'' | Enregistrement sonore |...     NaN   \n",
       "722429  La savetiere prodigieuse | mise en scène de St...     NaN   \n",
       "\n",
       "                                                  Editeur                Date  \\\n",
       "252063  L'Écho des savanes;A. Michel\\t1996\\t51 p. | il...  pas de code stat 2   \n",
       "283847                                                NaN                 NaN   \n",
       "722429  L'avant-scène\\t2005\\t92 p. | ill., couv. ill. ...                 NaN   \n",
       "\n",
       "       Format  ... Vaugirard Auteur Co-auteur Auteur_secondaire  \\\n",
       "252063    NaN  ...       0.0    NaN       NaN               NaN   \n",
       "283847    NaN  ...       0.0    NaN       NaN               NaN   \n",
       "722429    NaN  ...       0.0    NaN       NaN               NaN   \n",
       "\n",
       "       Collectivité_auteur Collectivité_auteur_secondaire_  \\\n",
       "252063                 NaN                             NaN   \n",
       "283847                 NaN                             NaN   \n",
       "722429                 NaN             128150. '320.97 CUB   \n",
       "\n",
       "       Collectivité_co-auteur_         Author Author_secondary      Co_Author  \n",
       "252063                     NaN  UnknownAuthor    UnknownAuthor  UnknownAuthor  \n",
       "283847                     NaN  UnknownAuthor    UnknownAuthor  UnknownAuthor  \n",
       "722429                 320.972  UnknownAuthor    UnknownAuthor  UnknownAuthor  \n",
       "\n",
       "[3 rows x 106 columns]"
      ]
     },
     "execution_count": 154,
     "metadata": {},
     "output_type": "execute_result"
    }
   ],
   "source": [
    "dataBook[\"Catégorie_statistique_2\"].value_counts()\n",
    "# 688882 records withour any specifique code stat 2.\n",
    "# But  column can help to fill in missing values or error in other column\n",
    "dataBook[dataBook[\"Catégorie_statistique_2\"].isna()] \n",
    "# same 3 rows to drop."
   ]
  },
  {
   "cell_type": "code",
   "execution_count": 158,
   "metadata": {},
   "outputs": [
    {
     "data": {
      "text/html": [
       "<div>\n",
       "<style scoped>\n",
       "    .dataframe tbody tr th:only-of-type {\n",
       "        vertical-align: middle;\n",
       "    }\n",
       "\n",
       "    .dataframe tbody tr th {\n",
       "        vertical-align: top;\n",
       "    }\n",
       "\n",
       "    .dataframe thead th {\n",
       "        text-align: right;\n",
       "    }\n",
       "</style>\n",
       "<table border=\"1\" class=\"dataframe\">\n",
       "  <thead>\n",
       "    <tr style=\"text-align: right;\">\n",
       "      <th></th>\n",
       "      <th>N°_de_notice</th>\n",
       "      <th>ISBN</th>\n",
       "      <th>ISSN</th>\n",
       "      <th>EAN</th>\n",
       "      <th>Langue</th>\n",
       "      <th>Titre</th>\n",
       "      <th>Edition</th>\n",
       "      <th>Editeur</th>\n",
       "      <th>Date</th>\n",
       "      <th>Format</th>\n",
       "      <th>...</th>\n",
       "      <th>Vaugirard</th>\n",
       "      <th>Auteur</th>\n",
       "      <th>Co-auteur</th>\n",
       "      <th>Auteur_secondaire</th>\n",
       "      <th>Collectivité_auteur</th>\n",
       "      <th>Collectivité_auteur_secondaire_</th>\n",
       "      <th>Collectivité_co-auteur_</th>\n",
       "      <th>Author</th>\n",
       "      <th>Author_secondary</th>\n",
       "      <th>Co_Author</th>\n",
       "    </tr>\n",
       "  </thead>\n",
       "  <tbody>\n",
       "    <tr>\n",
       "      <th>252063</th>\n",
       "      <td>325759</td>\n",
       "      <td>2-226-08797-4</td>\n",
       "      <td>NaN</td>\n",
       "      <td>NaN</td>\n",
       "      <td>français</td>\n",
       "      <td>Amen ! | Texte imprimé | Liberatore, Tamburini...</td>\n",
       "      <td>NaN</td>\n",
       "      <td>L'Écho des savanes;A. Michel\\t1996\\t51 p. | il...</td>\n",
       "      <td>pas de code stat 2</td>\n",
       "      <td>NaN</td>\n",
       "      <td>...</td>\n",
       "      <td>0.0</td>\n",
       "      <td>NaN</td>\n",
       "      <td>NaN</td>\n",
       "      <td>NaN</td>\n",
       "      <td>NaN</td>\n",
       "      <td>NaN</td>\n",
       "      <td>NaN</td>\n",
       "      <td>UnknownAuthor</td>\n",
       "      <td>UnknownAuthor</td>\n",
       "      <td>UnknownAuthor</td>\n",
       "    </tr>\n",
       "    <tr>\n",
       "      <th>283847</th>\n",
       "      <td>891370</td>\n",
       "      <td>NaN</td>\n",
       "      <td>NaN</td>\n",
       "      <td>743217828028</td>\n",
       "      <td>allemand</td>\n",
       "      <td>Bis an alle Sterne'' | Enregistrement sonore |...</td>\n",
       "      <td>NaN</td>\n",
       "      <td>NaN</td>\n",
       "      <td>NaN</td>\n",
       "      <td>NaN</td>\n",
       "      <td>...</td>\n",
       "      <td>0.0</td>\n",
       "      <td>NaN</td>\n",
       "      <td>NaN</td>\n",
       "      <td>NaN</td>\n",
       "      <td>NaN</td>\n",
       "      <td>NaN</td>\n",
       "      <td>NaN</td>\n",
       "      <td>UnknownAuthor</td>\n",
       "      <td>UnknownAuthor</td>\n",
       "      <td>UnknownAuthor</td>\n",
       "    </tr>\n",
       "  </tbody>\n",
       "</table>\n",
       "<p>2 rows × 106 columns</p>\n",
       "</div>"
      ],
      "text/plain": [
       "        N°_de_notice           ISBN ISSN           EAN    Langue  \\\n",
       "252063        325759  2-226-08797-4  NaN           NaN  français   \n",
       "283847        891370            NaN  NaN  743217828028  allemand   \n",
       "\n",
       "                                                    Titre Edition  \\\n",
       "252063  Amen ! | Texte imprimé | Liberatore, Tamburini...     NaN   \n",
       "283847  Bis an alle Sterne'' | Enregistrement sonore |...     NaN   \n",
       "\n",
       "                                                  Editeur                Date  \\\n",
       "252063  L'Écho des savanes;A. Michel\\t1996\\t51 p. | il...  pas de code stat 2   \n",
       "283847                                                NaN                 NaN   \n",
       "\n",
       "       Format  ... Vaugirard Auteur Co-auteur Auteur_secondaire  \\\n",
       "252063    NaN  ...       0.0    NaN       NaN               NaN   \n",
       "283847    NaN  ...       0.0    NaN       NaN               NaN   \n",
       "\n",
       "       Collectivité_auteur Collectivité_auteur_secondaire_  \\\n",
       "252063                 NaN                             NaN   \n",
       "283847                 NaN                             NaN   \n",
       "\n",
       "       Collectivité_co-auteur_         Author Author_secondary      Co_Author  \n",
       "252063                     NaN  UnknownAuthor    UnknownAuthor  UnknownAuthor  \n",
       "283847                     NaN  UnknownAuthor    UnknownAuthor  UnknownAuthor  \n",
       "\n",
       "[2 rows x 106 columns]"
      ]
     },
     "execution_count": 158,
     "metadata": {},
     "output_type": "execute_result"
    }
   ],
   "source": [
    "dataBook[dataBook[\"Type_de_document\"].isna()]\n",
    "# same rows to drop."
   ]
  },
  {
   "cell_type": "code",
   "execution_count": 159,
   "metadata": {},
   "outputs": [
    {
     "data": {
      "text/plain": [
       "{'Livre pour adulte': 339488,\n",
       " 'Disque compact': 189910,\n",
       " 'Livre jeunesse': 86091,\n",
       " 'DVD-vidéo tous publics': 43654,\n",
       " 'Bande dessinée pour adulte': 27462,\n",
       " 'Livre en langue étrangère': 22714,\n",
       " 'Partition': 19178,\n",
       " 'Bande dessinée jeunesse': 15219,\n",
       " 'Livre de Fonds spécialisés': 15001,\n",
       " 'DVD jeunesse': 8788,\n",
       " 'Livre sonore pour adulte': 7119,\n",
       " 'Méthode de langue': 5751,\n",
       " 'Enregistrement musical pour la jeunesse': 5095,\n",
       " 'Méthode musicale': 3947,\n",
       " 'Usuels': 3802,\n",
       " 'Livre en gros caractères': 3519,\n",
       " 'DVD- vidéo > 12 ans': 3256,\n",
       " 'Livre sonore jeunesse': 2943,\n",
       " 'Livre de section jeunesse > 12 ans': 2045,\n",
       " 'Vinyle': 1620,\n",
       " 'Carte ou plan': 1286,\n",
       " 'Revue pour adulte': 1156,\n",
       " 'Non empruntable': 1045,\n",
       " 'DVD-vidéo > 16 ans': 1001,\n",
       " 'Livres et périodiques DAISY': 729,\n",
       " 'Revue jeunesse': 700,\n",
       " 'Diapositives jeunesse': 537,\n",
       " 'Jeux Vidéos tous publics': 510,\n",
       " 'Jeux de société': 419,\n",
       " 'Bande dessinée jeunesse >12 ans': 404,\n",
       " 'Revue de Fonds spécialisés': 211,\n",
       " 'Nouveauté': 154,\n",
       " 'Nouveauté disque compact': 122,\n",
       " 'Documents numériques et multimédia adulte': 119,\n",
       " 'BD adulte non réservable': 110,\n",
       " 'DVD- vidéo > 18 ans': 89,\n",
       " 'Jeux vidéos > 18 ans': 70,\n",
       " 'Image, fiche cuisine …': 49,\n",
       " 'Documents numériques et multimédia jeunesse': 48,\n",
       " 'Adaptation en Langue des Signes Française': 45,\n",
       " 'DVD nouveautés tous publics': 38,\n",
       " 'BD jeunesse non réservable': 30,\n",
       " 'Instrument de musique': 20,\n",
       " 'CD Rom revue': 18,\n",
       " 'Nouveauté jeunesse': 8,\n",
       " 'Revue pour ado': 4,\n",
       " 'Cassette vidéo VHS tous publics': 4,\n",
       " 'Dossier': 2,\n",
       " 'Cassette vidéo VHS > 12 ans': 1,\n",
       " '2,00': 1}"
      ]
     },
     "execution_count": 159,
     "metadata": {},
     "output_type": "execute_result"
    }
   ],
   "source": [
    "dataBook[\"Type_de_document\"].value_counts().to_dict()"
   ]
  },
  {
   "cell_type": "code",
   "execution_count": 88,
   "metadata": {},
   "outputs": [],
   "source": [
    "dict_map={'Livre pour adulte': 'Book',\n",
    " 'Disque compact': 'CD',\n",
    " 'Livre jeunesse': 'Book',\n",
    " 'DVD-vidéo tous publics': 'DVD',\n",
    " 'Bande dessinée pour adulte': 'BD',\n",
    " 'Livre en langue étrangère': 'Book',\n",
    " 'Partition': 'Partition',\n",
    " 'Bande dessinée jeunesse': 'BD',\n",
    " 'Livre de Fonds spécialisés': 'Book',\n",
    " 'DVD jeunesse': 'DVD',\n",
    " 'Livre sonore pour adulte': 'Book',\n",
    " 'Méthode de langue': 'Other',\n",
    " 'Enregistrement musical pour la jeunesse': 'TOCHECK',\n",
    " 'Méthode musicale': 'partition',\n",
    " 'Usuels': 'TOCHECK',\n",
    " 'Livre en gros caractères': 'Book',\n",
    " 'DVD- vidéo > 12 ans': 'DVD',\n",
    " 'Livre sonore jeunesse': 'Book',\n",
    " 'Livre de section jeunesse > 12 ans': 'Book',\n",
    " 'Vinyle': 'Vynile',\n",
    " 'Carte ou plan': 'Map',\n",
    " 'Revue pour adulte': 'Magazine',\n",
    " 'Non empruntable': 'Cannot_be_borrowed',\n",
    " 'DVD-vidéo > 16 ans':'DVD',\n",
    " 'Livres et périodiques DAISY': 'Daisy',\n",
    " 'Revue jeunesse': 'Magazine',\n",
    " 'Diapositives jeunesse': 'Diapo',\n",
    " 'Jeux Vidéos tous publics': 'Videogames',\n",
    " 'Jeux de société': 'BoardGames',\n",
    " 'Bande dessinée jeunesse >12 ans': 'Magazine',\n",
    " 'Revue de Fonds spécialisés': 'Magazine',\n",
    " 'Nouveauté': 'TOCHECK',\n",
    " 'Nouveauté disque compact': 'CD',\n",
    " 'Documents numériques et multimédia adulte': 'TOCHECK',\n",
    " 'BD adulte non réservable': 'BD',\n",
    " 'DVD- vidéo > 18 ans': 'DVD',\n",
    " 'Jeux vidéos > 18 ans': 'Videogames',\n",
    " 'Image, fiche cuisine …': 'Other',\n",
    " 'Documents numériques et multimédia jeunesse': 48,\n",
    " 'Adaptation en Langue des Signes Française': 45,\n",
    " 'DVD nouveautés tous publics': 'DVD',\n",
    " 'BD jeunesse non réservable': 'BD',\n",
    " 'Instrument de musique': 'Musical instruments',\n",
    " 'CD Rom revue': 'CD',\n",
    " 'Nouveauté jeunesse': 8,\n",
    " 'Revue pour ado': 'Magazine',\n",
    " 'Cassette vidéo VHS tous publics': 'VHS',\n",
    " 'Dossier': 2,\n",
    " 'Cassette vidéo VHS > 12 ans': 'VHS',\n",
    " '2,00': 1}"
   ]
  },
  {
   "cell_type": "code",
   "execution_count": 100,
   "metadata": {},
   "outputs": [
    {
     "data": {
      "text/html": [
       "<div>\n",
       "<style scoped>\n",
       "    .dataframe tbody tr th:only-of-type {\n",
       "        vertical-align: middle;\n",
       "    }\n",
       "\n",
       "    .dataframe tbody tr th {\n",
       "        vertical-align: top;\n",
       "    }\n",
       "\n",
       "    .dataframe thead th {\n",
       "        text-align: right;\n",
       "    }\n",
       "</style>\n",
       "<table border=\"1\" class=\"dataframe\">\n",
       "  <thead>\n",
       "    <tr style=\"text-align: right;\">\n",
       "      <th></th>\n",
       "      <th>N°_de_notice</th>\n",
       "      <th>ISBN</th>\n",
       "      <th>ISSN</th>\n",
       "      <th>EAN</th>\n",
       "      <th>Langue</th>\n",
       "      <th>Titre</th>\n",
       "      <th>Edition</th>\n",
       "      <th>Editeur</th>\n",
       "      <th>Date</th>\n",
       "      <th>Format</th>\n",
       "      <th>...</th>\n",
       "      <th>Vaugirard</th>\n",
       "      <th>Auteur</th>\n",
       "      <th>Co-auteur</th>\n",
       "      <th>Auteur_secondaire</th>\n",
       "      <th>Collectivité_auteur</th>\n",
       "      <th>Collectivité_auteur_secondaire_</th>\n",
       "      <th>Collectivité_co-auteur_</th>\n",
       "      <th>Author</th>\n",
       "      <th>Author_secondary</th>\n",
       "      <th>Co_Author</th>\n",
       "    </tr>\n",
       "  </thead>\n",
       "  <tbody>\n",
       "    <tr>\n",
       "      <th>283847</th>\n",
       "      <td>891370</td>\n",
       "      <td>NaN</td>\n",
       "      <td>NaN</td>\n",
       "      <td>743217828028</td>\n",
       "      <td>allemand</td>\n",
       "      <td>Bis an alle Sterne'' | Enregistrement sonore |...</td>\n",
       "      <td>NaN</td>\n",
       "      <td>NaN</td>\n",
       "      <td>NaN</td>\n",
       "      <td>NaN</td>\n",
       "      <td>...</td>\n",
       "      <td>0.0</td>\n",
       "      <td>NaN</td>\n",
       "      <td>NaN</td>\n",
       "      <td>NaN</td>\n",
       "      <td>NaN</td>\n",
       "      <td>NaN</td>\n",
       "      <td>NaN</td>\n",
       "      <td>UnknownAuthor</td>\n",
       "      <td>UnknownAuthor</td>\n",
       "      <td>UnknownAuthor</td>\n",
       "    </tr>\n",
       "  </tbody>\n",
       "</table>\n",
       "<p>1 rows × 106 columns</p>\n",
       "</div>"
      ],
      "text/plain": [
       "        N°_de_notice ISBN ISSN           EAN    Langue  \\\n",
       "283847        891370  NaN  NaN  743217828028  allemand   \n",
       "\n",
       "                                                    Titre Edition Editeur  \\\n",
       "283847  Bis an alle Sterne'' | Enregistrement sonore |...     NaN     NaN   \n",
       "\n",
       "       Date Format  ... Vaugirard Auteur Co-auteur Auteur_secondaire  \\\n",
       "283847  NaN    NaN  ...       0.0    NaN       NaN               NaN   \n",
       "\n",
       "       Collectivité_auteur Collectivité_auteur_secondaire_  \\\n",
       "283847                 NaN                             NaN   \n",
       "\n",
       "       Collectivité_co-auteur_         Author Author_secondary      Co_Author  \n",
       "283847                     NaN  UnknownAuthor    UnknownAuthor  UnknownAuthor  \n",
       "\n",
       "[1 rows x 106 columns]"
      ]
     },
     "execution_count": 100,
     "metadata": {},
     "output_type": "execute_result"
    }
   ],
   "source": []
  },
  {
   "cell_type": "code",
   "execution_count": null,
   "metadata": {},
   "outputs": [],
   "source": []
  },
  {
   "cell_type": "code",
   "execution_count": null,
   "metadata": {},
   "outputs": [],
   "source": []
  },
  {
   "cell_type": "code",
   "execution_count": null,
   "metadata": {},
   "outputs": [],
   "source": []
  },
  {
   "cell_type": "code",
   "execution_count": null,
   "metadata": {},
   "outputs": [],
   "source": []
  },
  {
   "cell_type": "code",
   "execution_count": null,
   "metadata": {},
   "outputs": [],
   "source": []
  },
  {
   "cell_type": "code",
   "execution_count": null,
   "metadata": {},
   "outputs": [],
   "source": []
  },
  {
   "cell_type": "code",
   "execution_count": null,
   "metadata": {},
   "outputs": [],
   "source": []
  },
  {
   "cell_type": "code",
   "execution_count": null,
   "metadata": {},
   "outputs": [],
   "source": []
  },
  {
   "cell_type": "code",
   "execution_count": null,
   "metadata": {},
   "outputs": [],
   "source": []
  },
  {
   "cell_type": "code",
   "execution_count": null,
   "metadata": {},
   "outputs": [],
   "source": [
    "\"\"\"Columns nb 38 to 97 are the stock of book available for each librairies \n",
    "Null values will be replaced by 0\"\"\""
   ]
  },
  {
   "cell_type": "code",
   "execution_count": 17,
   "metadata": {},
   "outputs": [],
   "source": [
    "# Replace null values in Librairies colums by 0 since Nan<=>'book title not in this librairy'\n",
    "dataBook.iloc[:,38:97]=dataBook.iloc[:,38:97].fillna(0)"
   ]
  },
  {
   "cell_type": "code",
   "execution_count": null,
   "metadata": {},
   "outputs": [],
   "source": [
    "#dataBook[\"Nombre_d'exemplaires\"].value_counts()"
   ]
  },
  {
   "cell_type": "code",
   "execution_count": null,
   "metadata": {},
   "outputs": [],
   "source": [
    "#dataBook[dataBook[\"Nombre_d'exemplaires\"]==1149.0].T.to_dict()"
   ]
  },
  {
   "cell_type": "code",
   "execution_count": null,
   "metadata": {},
   "outputs": [],
   "source": [
    "#dataBook[dataBook['Nombre_de_localisations']==57.0].T.to_dict()"
   ]
  },
  {
   "cell_type": "code",
   "execution_count": null,
   "metadata": {},
   "outputs": [],
   "source": [
    "#dataBook['ISBN'].value_counts() # Should not be use for the moment except for looking for info"
   ]
  },
  {
   "cell_type": "code",
   "execution_count": null,
   "metadata": {},
   "outputs": [],
   "source": [
    "#dataBook[dataBook['ISBN']=='9787530450123'] # Same ISBN for al the \"tomes\" ex: Encyclopedie"
   ]
  },
  {
   "cell_type": "code",
   "execution_count": null,
   "metadata": {},
   "outputs": [],
   "source": [
    "#Look at the diffrent types/format of info in Date columns\n",
    "# Date give us more or less the age of the book (printing, edition,)\n",
    "dataBook['Date'].value_counts().to_dict()"
   ]
  },
  {
   "cell_type": "code",
   "execution_count": null,
   "metadata": {},
   "outputs": [],
   "source": [
    "# Format of Date are pretty different. Some values are not complete or not data\n",
    "#Action:correct date to Year only\n",
    "[re.findall(r'.*\\d{4}.*',i) for i in list(dataBook['Date'].values)]\n",
    "\n"
   ]
  },
  {
   "cell_type": "code",
   "execution_count": null,
   "metadata": {},
   "outputs": [],
   "source": [
    "list(dataBook['Date'].values)"
   ]
  },
  {
   "cell_type": "code",
   "execution_count": null,
   "metadata": {},
   "outputs": [],
   "source": [
    "list('Auto,mobile')"
   ]
  },
  {
   "cell_type": "code",
   "execution_count": null,
   "metadata": {},
   "outputs": [],
   "source": [
    "x='Auto,mobile'\n",
    "y=x.split(',')"
   ]
  },
  {
   "cell_type": "code",
   "execution_count": null,
   "metadata": {},
   "outputs": [],
   "source": [
    "type(y)"
   ]
  },
  {
   "cell_type": "code",
   "execution_count": null,
   "metadata": {},
   "outputs": [],
   "source": []
  }
 ],
 "metadata": {
  "kernelspec": {
   "display_name": "Python 3",
   "language": "python",
   "name": "python3"
  },
  "language_info": {
   "codemirror_mode": {
    "name": "ipython",
    "version": 3
   },
   "file_extension": ".py",
   "mimetype": "text/x-python",
   "name": "python",
   "nbconvert_exporter": "python",
   "pygments_lexer": "ipython3",
   "version": "3.7.6"
  }
 },
 "nbformat": 4,
 "nbformat_minor": 4
}
